{
 "cells": [
  {
   "cell_type": "code",
   "execution_count": 3,
   "metadata": {},
   "outputs": [
    {
     "ename": "ModuleNotFoundError",
     "evalue": "No module named 'pandas'",
     "output_type": "error",
     "traceback": [
      "\u001b[1;31m---------------------------------------------------------------------------\u001b[0m",
      "\u001b[1;31mModuleNotFoundError\u001b[0m                       Traceback (most recent call last)",
      "\u001b[1;32m<ipython-input-3-376670e249a7>\u001b[0m in \u001b[0;36m<module>\u001b[1;34m\u001b[0m\n\u001b[0;32m      1\u001b[0m \u001b[1;32mimport\u001b[0m \u001b[0msqlite3\u001b[0m\u001b[1;33m\u001b[0m\u001b[1;33m\u001b[0m\u001b[0m\n\u001b[1;32m----> 2\u001b[1;33m \u001b[1;32mimport\u001b[0m \u001b[0mpandas\u001b[0m \u001b[1;32mas\u001b[0m \u001b[0mpd\u001b[0m\u001b[1;33m\u001b[0m\u001b[1;33m\u001b[0m\u001b[0m\n\u001b[0m",
      "\u001b[1;31mModuleNotFoundError\u001b[0m: No module named 'pandas'"
     ]
    }
   ],
   "source": [
    "import sqlite3\n",
    "import pandas as pd\n"
   ]
  },
  {
   "cell_type": "code",
   "execution_count": null,
   "metadata": {},
   "outputs": [],
   "source": []
  },
  {
   "cell_type": "code",
   "execution_count": null,
   "metadata": {},
   "outputs": [],
   "source": [
    "conn = sqlite3.connect('MusicPlayer.db') "
   ]
  },
  {
   "cell_type": "code",
   "execution_count": null,
   "metadata": {},
   "outputs": [],
   "source": [
    "sql_query = pd.read_sql_query ('''\n",
    "                               SELECT\n",
    "                               *\n",
    "                               FROM Interactions\n",
    "                               ''', conn)"
   ]
  },
  {
   "cell_type": "code",
   "execution_count": null,
   "metadata": {},
   "outputs": [],
   "source": [
    "df = pd.DataFrame(sql_query, columns = ['id', 'user_id', 'song_id' , 'like' , 'listen_count'])"
   ]
  },
  {
   "cell_type": "code",
   "execution_count": null,
   "metadata": {},
   "outputs": [
    {
     "name": "stdout",
     "output_type": "stream",
     "text": [
      "        id  user_id  song_id  like  listen_count\n",
      "0        1        1       63     1           933\n",
      "1        2        1       70     1           830\n",
      "2        3        1       18     1           241\n",
      "3        4        1       37     1           803\n",
      "4        5        1       56     1           778\n",
      "...    ...      ...      ...   ...           ...\n",
      "3115  3116      156      378     1            38\n",
      "3116  3117      156      516     1           438\n",
      "3117  3118      156      403     1           817\n",
      "3118  3119      156      539     1           778\n",
      "3119  3120      156      435     1           989\n",
      "\n",
      "[3120 rows x 5 columns]\n"
     ]
    }
   ],
   "source": [
    "print (df)\n"
   ]
  },
  {
   "cell_type": "code",
   "execution_count": 5,
   "metadata": {},
   "outputs": [
    {
     "ename": "ModuleNotFoundError",
     "evalue": "No module named 'pandas'",
     "output_type": "error",
     "traceback": [
      "\u001b[1;31m---------------------------------------------------------------------------\u001b[0m",
      "\u001b[1;31mModuleNotFoundError\u001b[0m                       Traceback (most recent call last)",
      "\u001b[1;32m<ipython-input-5-c57d96ce8e73>\u001b[0m in \u001b[0;36m<module>\u001b[1;34m\u001b[0m\n\u001b[1;32m----> 1\u001b[1;33m \u001b[1;32mimport\u001b[0m \u001b[0mpandas\u001b[0m \u001b[1;32mas\u001b[0m \u001b[0mpd\u001b[0m\u001b[1;33m\u001b[0m\u001b[1;33m\u001b[0m\u001b[0m\n\u001b[0m\u001b[0;32m      2\u001b[0m \u001b[1;32mfrom\u001b[0m \u001b[0msklearn\u001b[0m\u001b[1;33m.\u001b[0m\u001b[0mmodel_selection\u001b[0m \u001b[1;32mimport\u001b[0m \u001b[0mtrain_test_split\u001b[0m\u001b[1;33m\u001b[0m\u001b[1;33m\u001b[0m\u001b[0m\n\u001b[0;32m      3\u001b[0m \u001b[1;32mimport\u001b[0m \u001b[0mnumpy\u001b[0m \u001b[1;32mas\u001b[0m \u001b[0mnp\u001b[0m\u001b[1;33m\u001b[0m\u001b[1;33m\u001b[0m\u001b[0m\n\u001b[0;32m      4\u001b[0m \u001b[1;32mimport\u001b[0m \u001b[0mtime\u001b[0m\u001b[1;33m\u001b[0m\u001b[1;33m\u001b[0m\u001b[0m\n\u001b[0;32m      5\u001b[0m \u001b[1;32mimport\u001b[0m \u001b[0mjoblib\u001b[0m\u001b[1;33m\u001b[0m\u001b[1;33m\u001b[0m\u001b[0m\n",
      "\u001b[1;31mModuleNotFoundError\u001b[0m: No module named 'pandas'"
     ]
    }
   ],
   "source": [
    "import pandas as pd\n",
    "from sklearn.model_selection import train_test_split\n",
    "import numpy as np\n",
    "import time \n",
    "import joblib\n",
    "import app\n",
    "from app import Interactions, db\n",
    "from sqlalchemy import create_engine\n",
    "import models.Recommenders as Recommenders\n",
    "import models.Evaluation as Evaluation\n"
   ]
  },
  {
   "cell_type": "code",
   "execution_count": null,
   "metadata": {},
   "outputs": [],
   "source": [
    "sql_query = pd.read_sql_query ('''\n",
    "                               SELECT\n",
    "                               *\n",
    "                               FROM Songs\n",
    "                               ''', conn)"
   ]
  },
  {
   "cell_type": "code",
   "execution_count": null,
   "metadata": {},
   "outputs": [],
   "source": [
    "song_df = pd.DataFrame(sql_query, columns = ['id', 'name', 'path' , 'artist' , 'genre' , 'cover_photo' , 'duration' , 'total_likes' , 'total_listen_count'])"
   ]
  },
  {
   "cell_type": "code",
   "execution_count": null,
   "metadata": {},
   "outputs": [],
   "source": [
    "song_df.drop(labels=['path', 'cover_photo','duration','total_likes','total_listen_count'], axis=1,inplace = True)"
   ]
  },
  {
   "cell_type": "code",
   "execution_count": null,
   "metadata": {},
   "outputs": [
    {
     "data": {
      "text/html": [
       "<div>\n",
       "<style scoped>\n",
       "    .dataframe tbody tr th:only-of-type {\n",
       "        vertical-align: middle;\n",
       "    }\n",
       "\n",
       "    .dataframe tbody tr th {\n",
       "        vertical-align: top;\n",
       "    }\n",
       "\n",
       "    .dataframe thead th {\n",
       "        text-align: right;\n",
       "    }\n",
       "</style>\n",
       "<table border=\"1\" class=\"dataframe\">\n",
       "  <thead>\n",
       "    <tr style=\"text-align: right;\">\n",
       "      <th></th>\n",
       "      <th>song_id</th>\n",
       "      <th>name</th>\n",
       "      <th>artist</th>\n",
       "      <th>genre</th>\n",
       "    </tr>\n",
       "  </thead>\n",
       "  <tbody>\n",
       "    <tr>\n",
       "      <th>0</th>\n",
       "      <td>1</td>\n",
       "      <td>Bikhoti Ka Mela.mp3</td>\n",
       "      <td>Anil</td>\n",
       "      <td>garhwali</td>\n",
       "    </tr>\n",
       "    <tr>\n",
       "      <th>1</th>\n",
       "      <td>2</td>\n",
       "      <td>Chakdait Chhora.mp3</td>\n",
       "      <td>Anil</td>\n",
       "      <td>garhwali</td>\n",
       "    </tr>\n",
       "    <tr>\n",
       "      <th>2</th>\n",
       "      <td>3</td>\n",
       "      <td>Jawa Pardesh.mp3</td>\n",
       "      <td>Anil</td>\n",
       "      <td>garhwali</td>\n",
       "    </tr>\n",
       "    <tr>\n",
       "      <th>3</th>\n",
       "      <td>4</td>\n",
       "      <td>Kan Full Khilana.mp3</td>\n",
       "      <td>Anil</td>\n",
       "      <td>garhwali</td>\n",
       "    </tr>\n",
       "    <tr>\n",
       "      <th>4</th>\n",
       "      <td>5</td>\n",
       "      <td>Latuli Teri Mukhdi.mp3</td>\n",
       "      <td>Anil</td>\n",
       "      <td>garhwali</td>\n",
       "    </tr>\n",
       "  </tbody>\n",
       "</table>\n",
       "</div>"
      ],
      "text/plain": [
       "   song_id                    name artist     genre\n",
       "0        1     Bikhoti Ka Mela.mp3   Anil  garhwali\n",
       "1        2     Chakdait Chhora.mp3   Anil  garhwali\n",
       "2        3        Jawa Pardesh.mp3   Anil  garhwali\n",
       "3        4    Kan Full Khilana.mp3   Anil  garhwali\n",
       "4        5  Latuli Teri Mukhdi.mp3   Anil  garhwali"
      ]
     },
     "execution_count": 63,
     "metadata": {},
     "output_type": "execute_result"
    }
   ],
   "source": [
    "song_df.head()"
   ]
  },
  {
   "cell_type": "code",
   "execution_count": null,
   "metadata": {},
   "outputs": [
    {
     "data": {
      "text/html": [
       "<div>\n",
       "<style scoped>\n",
       "    .dataframe tbody tr th:only-of-type {\n",
       "        vertical-align: middle;\n",
       "    }\n",
       "\n",
       "    .dataframe tbody tr th {\n",
       "        vertical-align: top;\n",
       "    }\n",
       "\n",
       "    .dataframe thead th {\n",
       "        text-align: right;\n",
       "    }\n",
       "</style>\n",
       "<table border=\"1\" class=\"dataframe\">\n",
       "  <thead>\n",
       "    <tr style=\"text-align: right;\">\n",
       "      <th></th>\n",
       "      <th>song_id</th>\n",
       "      <th>name</th>\n",
       "      <th>artist</th>\n",
       "      <th>genre</th>\n",
       "    </tr>\n",
       "  </thead>\n",
       "  <tbody>\n",
       "    <tr>\n",
       "      <th>0</th>\n",
       "      <td>1</td>\n",
       "      <td>Bikhoti Ka Mela.mp3</td>\n",
       "      <td>Anil</td>\n",
       "      <td>garhwali</td>\n",
       "    </tr>\n",
       "    <tr>\n",
       "      <th>1</th>\n",
       "      <td>2</td>\n",
       "      <td>Chakdait Chhora.mp3</td>\n",
       "      <td>Anil</td>\n",
       "      <td>garhwali</td>\n",
       "    </tr>\n",
       "    <tr>\n",
       "      <th>2</th>\n",
       "      <td>3</td>\n",
       "      <td>Jawa Pardesh.mp3</td>\n",
       "      <td>Anil</td>\n",
       "      <td>garhwali</td>\n",
       "    </tr>\n",
       "    <tr>\n",
       "      <th>3</th>\n",
       "      <td>4</td>\n",
       "      <td>Kan Full Khilana.mp3</td>\n",
       "      <td>Anil</td>\n",
       "      <td>garhwali</td>\n",
       "    </tr>\n",
       "    <tr>\n",
       "      <th>4</th>\n",
       "      <td>5</td>\n",
       "      <td>Latuli Teri Mukhdi.mp3</td>\n",
       "      <td>Anil</td>\n",
       "      <td>garhwali</td>\n",
       "    </tr>\n",
       "  </tbody>\n",
       "</table>\n",
       "</div>"
      ],
      "text/plain": [
       "   song_id                    name artist     genre\n",
       "0        1     Bikhoti Ka Mela.mp3   Anil  garhwali\n",
       "1        2     Chakdait Chhora.mp3   Anil  garhwali\n",
       "2        3        Jawa Pardesh.mp3   Anil  garhwali\n",
       "3        4    Kan Full Khilana.mp3   Anil  garhwali\n",
       "4        5  Latuli Teri Mukhdi.mp3   Anil  garhwali"
      ]
     },
     "execution_count": 64,
     "metadata": {},
     "output_type": "execute_result"
    }
   ],
   "source": [
    "song_df.rename(columns = {'id':'song_id'}, inplace = True)\n",
    "song_df.head()"
   ]
  },
  {
   "cell_type": "code",
   "execution_count": null,
   "metadata": {},
   "outputs": [],
   "source": [
    "merged_song_df = pd.merge(df, song_df.drop_duplicates(['song_id']), on=\"song_id\", how=\"left\")"
   ]
  },
  {
   "cell_type": "code",
   "execution_count": null,
   "metadata": {},
   "outputs": [
    {
     "data": {
      "text/html": [
       "<div>\n",
       "<style scoped>\n",
       "    .dataframe tbody tr th:only-of-type {\n",
       "        vertical-align: middle;\n",
       "    }\n",
       "\n",
       "    .dataframe tbody tr th {\n",
       "        vertical-align: top;\n",
       "    }\n",
       "\n",
       "    .dataframe thead th {\n",
       "        text-align: right;\n",
       "    }\n",
       "</style>\n",
       "<table border=\"1\" class=\"dataframe\">\n",
       "  <thead>\n",
       "    <tr style=\"text-align: right;\">\n",
       "      <th></th>\n",
       "      <th>id</th>\n",
       "      <th>user_id</th>\n",
       "      <th>song_id</th>\n",
       "      <th>like</th>\n",
       "      <th>listen_count</th>\n",
       "      <th>name</th>\n",
       "      <th>artist</th>\n",
       "      <th>genre</th>\n",
       "    </tr>\n",
       "  </thead>\n",
       "  <tbody>\n",
       "    <tr>\n",
       "      <th>0</th>\n",
       "      <td>1</td>\n",
       "      <td>1</td>\n",
       "      <td>63</td>\n",
       "      <td>1</td>\n",
       "      <td>933</td>\n",
       "      <td>Mor Moriki Maand Pelya.mp3</td>\n",
       "      <td>Narendra Singh Negi</td>\n",
       "      <td>garhwali</td>\n",
       "    </tr>\n",
       "    <tr>\n",
       "      <th>1</th>\n",
       "      <td>2</td>\n",
       "      <td>1</td>\n",
       "      <td>70</td>\n",
       "      <td>1</td>\n",
       "      <td>830</td>\n",
       "      <td>Rai Maasi Ko Phool.mp3</td>\n",
       "      <td>Narendra Singh Negi</td>\n",
       "      <td>garhwali</td>\n",
       "    </tr>\n",
       "    <tr>\n",
       "      <th>2</th>\n",
       "      <td>3</td>\n",
       "      <td>1</td>\n",
       "      <td>18</td>\n",
       "      <td>1</td>\n",
       "      <td>241</td>\n",
       "      <td>Kya Dan Lagdi Tu.mp3</td>\n",
       "      <td>Gajendra Rana</td>\n",
       "      <td>garhwali</td>\n",
       "    </tr>\n",
       "    <tr>\n",
       "      <th>3</th>\n",
       "      <td>4</td>\n",
       "      <td>1</td>\n",
       "      <td>37</td>\n",
       "      <td>1</td>\n",
       "      <td>803</td>\n",
       "      <td>Bavada Re Bavada Re.mp3</td>\n",
       "      <td>Narender Singh Negi</td>\n",
       "      <td>garhwali</td>\n",
       "    </tr>\n",
       "    <tr>\n",
       "      <th>4</th>\n",
       "      <td>5</td>\n",
       "      <td>1</td>\n",
       "      <td>56</td>\n",
       "      <td>1</td>\n",
       "      <td>778</td>\n",
       "      <td>Ghar Bati Chitthi Aegyayee.mp3</td>\n",
       "      <td>Narendra Singh Negi</td>\n",
       "      <td>garhwali</td>\n",
       "    </tr>\n",
       "  </tbody>\n",
       "</table>\n",
       "</div>"
      ],
      "text/plain": [
       "   id  user_id  song_id  like  listen_count                            name  \\\n",
       "0   1        1       63     1           933      Mor Moriki Maand Pelya.mp3   \n",
       "1   2        1       70     1           830          Rai Maasi Ko Phool.mp3   \n",
       "2   3        1       18     1           241            Kya Dan Lagdi Tu.mp3   \n",
       "3   4        1       37     1           803         Bavada Re Bavada Re.mp3   \n",
       "4   5        1       56     1           778  Ghar Bati Chitthi Aegyayee.mp3   \n",
       "\n",
       "                artist     genre  \n",
       "0  Narendra Singh Negi  garhwali  \n",
       "1  Narendra Singh Negi  garhwali  \n",
       "2        Gajendra Rana  garhwali  \n",
       "3  Narender Singh Negi  garhwali  \n",
       "4  Narendra Singh Negi  garhwali  "
      ]
     },
     "execution_count": 66,
     "metadata": {},
     "output_type": "execute_result"
    }
   ],
   "source": [
    "merged_song_df.head()"
   ]
  },
  {
   "cell_type": "code",
   "execution_count": null,
   "metadata": {},
   "outputs": [
    {
     "data": {
      "text/html": [
       "<div>\n",
       "<style scoped>\n",
       "    .dataframe tbody tr th:only-of-type {\n",
       "        vertical-align: middle;\n",
       "    }\n",
       "\n",
       "    .dataframe tbody tr th {\n",
       "        vertical-align: top;\n",
       "    }\n",
       "\n",
       "    .dataframe thead th {\n",
       "        text-align: right;\n",
       "    }\n",
       "</style>\n",
       "<table border=\"1\" class=\"dataframe\">\n",
       "  <thead>\n",
       "    <tr style=\"text-align: right;\">\n",
       "      <th></th>\n",
       "      <th>id</th>\n",
       "      <th>user_id</th>\n",
       "      <th>song_id</th>\n",
       "      <th>like</th>\n",
       "      <th>listen_count</th>\n",
       "      <th>name</th>\n",
       "      <th>artist</th>\n",
       "      <th>genre</th>\n",
       "    </tr>\n",
       "  </thead>\n",
       "  <tbody>\n",
       "    <tr>\n",
       "      <th>1520</th>\n",
       "      <td>1521</td>\n",
       "      <td>77</td>\n",
       "      <td>1</td>\n",
       "      <td>1</td>\n",
       "      <td>625</td>\n",
       "      <td>Bikhoti Ka Mela.mp3</td>\n",
       "      <td>Anil</td>\n",
       "      <td>garhwali</td>\n",
       "    </tr>\n",
       "    <tr>\n",
       "      <th>62</th>\n",
       "      <td>63</td>\n",
       "      <td>4</td>\n",
       "      <td>1</td>\n",
       "      <td>1</td>\n",
       "      <td>790</td>\n",
       "      <td>Bikhoti Ka Mela.mp3</td>\n",
       "      <td>Anil</td>\n",
       "      <td>garhwali</td>\n",
       "    </tr>\n",
       "    <tr>\n",
       "      <th>61</th>\n",
       "      <td>62</td>\n",
       "      <td>4</td>\n",
       "      <td>1</td>\n",
       "      <td>1</td>\n",
       "      <td>154</td>\n",
       "      <td>Bikhoti Ka Mela.mp3</td>\n",
       "      <td>Anil</td>\n",
       "      <td>garhwali</td>\n",
       "    </tr>\n",
       "    <tr>\n",
       "      <th>2256</th>\n",
       "      <td>2257</td>\n",
       "      <td>113</td>\n",
       "      <td>1</td>\n",
       "      <td>1</td>\n",
       "      <td>770</td>\n",
       "      <td>Bikhoti Ka Mela.mp3</td>\n",
       "      <td>Anil</td>\n",
       "      <td>garhwali</td>\n",
       "    </tr>\n",
       "    <tr>\n",
       "      <th>1541</th>\n",
       "      <td>1542</td>\n",
       "      <td>78</td>\n",
       "      <td>2</td>\n",
       "      <td>1</td>\n",
       "      <td>557</td>\n",
       "      <td>Chakdait Chhora.mp3</td>\n",
       "      <td>Anil</td>\n",
       "      <td>garhwali</td>\n",
       "    </tr>\n",
       "    <tr>\n",
       "      <th>...</th>\n",
       "      <td>...</td>\n",
       "      <td>...</td>\n",
       "      <td>...</td>\n",
       "      <td>...</td>\n",
       "      <td>...</td>\n",
       "      <td>...</td>\n",
       "      <td>...</td>\n",
       "      <td>...</td>\n",
       "    </tr>\n",
       "    <tr>\n",
       "      <th>768</th>\n",
       "      <td>769</td>\n",
       "      <td>39</td>\n",
       "      <td>562</td>\n",
       "      <td>1</td>\n",
       "      <td>729</td>\n",
       "      <td>Jai Shiv Shankar Jai Mahadeva.mp3</td>\n",
       "      <td>Ravindra Jain</td>\n",
       "      <td>bhajan</td>\n",
       "    </tr>\n",
       "    <tr>\n",
       "      <th>400</th>\n",
       "      <td>401</td>\n",
       "      <td>21</td>\n",
       "      <td>562</td>\n",
       "      <td>1</td>\n",
       "      <td>853</td>\n",
       "      <td>Jai Shiv Shankar Jai Mahadeva.mp3</td>\n",
       "      <td>Ravindra Jain</td>\n",
       "      <td>bhajan</td>\n",
       "    </tr>\n",
       "    <tr>\n",
       "      <th>3084</th>\n",
       "      <td>3085</td>\n",
       "      <td>155</td>\n",
       "      <td>562</td>\n",
       "      <td>1</td>\n",
       "      <td>300</td>\n",
       "      <td>Jai Shiv Shankar Jai Mahadeva.mp3</td>\n",
       "      <td>Ravindra Jain</td>\n",
       "      <td>bhajan</td>\n",
       "    </tr>\n",
       "    <tr>\n",
       "      <th>401</th>\n",
       "      <td>402</td>\n",
       "      <td>21</td>\n",
       "      <td>562</td>\n",
       "      <td>1</td>\n",
       "      <td>481</td>\n",
       "      <td>Jai Shiv Shankar Jai Mahadeva.mp3</td>\n",
       "      <td>Ravindra Jain</td>\n",
       "      <td>bhajan</td>\n",
       "    </tr>\n",
       "    <tr>\n",
       "      <th>1319</th>\n",
       "      <td>1320</td>\n",
       "      <td>66</td>\n",
       "      <td>562</td>\n",
       "      <td>1</td>\n",
       "      <td>538</td>\n",
       "      <td>Jai Shiv Shankar Jai Mahadeva.mp3</td>\n",
       "      <td>Ravindra Jain</td>\n",
       "      <td>bhajan</td>\n",
       "    </tr>\n",
       "  </tbody>\n",
       "</table>\n",
       "<p>3120 rows × 8 columns</p>\n",
       "</div>"
      ],
      "text/plain": [
       "        id  user_id  song_id  like  listen_count  \\\n",
       "1520  1521       77        1     1           625   \n",
       "62      63        4        1     1           790   \n",
       "61      62        4        1     1           154   \n",
       "2256  2257      113        1     1           770   \n",
       "1541  1542       78        2     1           557   \n",
       "...    ...      ...      ...   ...           ...   \n",
       "768    769       39      562     1           729   \n",
       "400    401       21      562     1           853   \n",
       "3084  3085      155      562     1           300   \n",
       "401    402       21      562     1           481   \n",
       "1319  1320       66      562     1           538   \n",
       "\n",
       "                                   name         artist     genre  \n",
       "1520                Bikhoti Ka Mela.mp3           Anil  garhwali  \n",
       "62                  Bikhoti Ka Mela.mp3           Anil  garhwali  \n",
       "61                  Bikhoti Ka Mela.mp3           Anil  garhwali  \n",
       "2256                Bikhoti Ka Mela.mp3           Anil  garhwali  \n",
       "1541                Chakdait Chhora.mp3           Anil  garhwali  \n",
       "...                                 ...            ...       ...  \n",
       "768   Jai Shiv Shankar Jai Mahadeva.mp3  Ravindra Jain    bhajan  \n",
       "400   Jai Shiv Shankar Jai Mahadeva.mp3  Ravindra Jain    bhajan  \n",
       "3084  Jai Shiv Shankar Jai Mahadeva.mp3  Ravindra Jain    bhajan  \n",
       "401   Jai Shiv Shankar Jai Mahadeva.mp3  Ravindra Jain    bhajan  \n",
       "1319  Jai Shiv Shankar Jai Mahadeva.mp3  Ravindra Jain    bhajan  \n",
       "\n",
       "[3120 rows x 8 columns]"
      ]
     },
     "execution_count": 67,
     "metadata": {},
     "output_type": "execute_result"
    }
   ],
   "source": [
    "merged_song_df.sort_values(by='song_id')"
   ]
  },
  {
   "cell_type": "code",
   "execution_count": null,
   "metadata": {},
   "outputs": [
    {
     "data": {
      "text/plain": [
       "3120"
      ]
     },
     "execution_count": 68,
     "metadata": {},
     "output_type": "execute_result"
    }
   ],
   "source": [
    "len(merged_song_df)"
   ]
  },
  {
   "cell_type": "code",
   "execution_count": null,
   "metadata": {},
   "outputs": [],
   "source": [
    "#Creating a subset of our dataset"
   ]
  },
  {
   "cell_type": "code",
   "execution_count": null,
   "metadata": {},
   "outputs": [],
   "source": [
    "ong_df =ong_df = merged_song_df.head(100)"
   ]
  },
  {
   "cell_type": "code",
   "execution_count": null,
   "metadata": {},
   "outputs": [
    {
     "name": "stdout",
     "output_type": "stream",
     "text": [
      "     id  user_id  song_id  like  listen_count                            name  \\\n",
      "0     1        1       63     1           933      Mor Moriki Maand Pelya.mp3   \n",
      "1     2        1       70     1           830          Rai Maasi Ko Phool.mp3   \n",
      "2     3        1       18     1           241            Kya Dan Lagdi Tu.mp3   \n",
      "3     4        1       37     1           803         Bavada Re Bavada Re.mp3   \n",
      "4     5        1       56     1           778  Ghar Bati Chitthi Aegyayee.mp3   \n",
      "..  ...      ...      ...   ...           ...                             ...   \n",
      "95   96        5      334     1           803              Swag Mera Desi.mp3   \n",
      "96   97        5      444     1            21                  Joban Duno.mp3   \n",
      "97   98        5       55     1           336        Bhandi Dinu Ma Dikhe.mp3   \n",
      "98   99        5      206     1           433          Latthay Di Chaadar.mp3   \n",
      "99  100        5       21     1           606                Pushpa Chori.mp3   \n",
      "\n",
      "                 artist          genre  \n",
      "0   Narendra Singh Negi       garhwali  \n",
      "1   Narendra Singh Negi       garhwali  \n",
      "2         Gajendra Rana       garhwali  \n",
      "3   Narender Singh Negi       garhwali  \n",
      "4   Narendra Singh Negi       garhwali  \n",
      "..                  ...            ...  \n",
      "95              Raftaar  bollywood_rap  \n",
      "96          Ankur Singh       bhojpuri  \n",
      "97  Narendra Singh Negi       garhwali  \n",
      "98         Farhan Saeed           sufi  \n",
      "99        Gajendra Rana       garhwali  \n",
      "\n",
      "[100 rows x 8 columns]\n"
     ]
    }
   ],
   "source": [
    "print(ong_df)"
   ]
  },
  {
   "cell_type": "code",
   "execution_count": null,
   "metadata": {},
   "outputs": [],
   "source": [
    "# song_grouped = merged_song_df.groupby([‘song’]).agg({‘listen_count’: ‘count’}).reset_index()"
   ]
  },
  {
   "cell_type": "code",
   "execution_count": null,
   "metadata": {},
   "outputs": [],
   "source": [
    "train_data, test_data = train_test_split(merged_song_df, test_size = 0.20, random_state=0)"
   ]
  },
  {
   "cell_type": "code",
   "execution_count": null,
   "metadata": {},
   "outputs": [
    {
     "name": "stdout",
     "output_type": "stream",
     "text": [
      "        id  user_id  song_id  like  listen_count  \\\n",
      "867    868       44      170     1           429   \n",
      "2838  2839      142      478     1           632   \n",
      "1756  1757       88      218     1           579   \n",
      "2842  2843      143      261     1           661   \n",
      "682    683       35       59     1           392   \n",
      "\n",
      "                                    name               artist          genre  \n",
      "867                 Kabhi Yun Bhi Aa.mp3           Talat Aziz         ghazal  \n",
      "2838                 Kamkarat Naikhe.mp3           Pradum Lal       bhojpuri  \n",
      "1756  Uddi Ja (Coke Studio Season 9).mp3  Mohsin Abbas Haider           sufi  \n",
      "2842               Pori Pathi Vizhum.mp3  Anirudh Ravichander  bollywood_rap  \n",
      "682                Hari Tori Kakhari.mp3  Narendra Singh Negi       garhwali  \n"
     ]
    }
   ],
   "source": [
    "print(train_data.head(5))"
   ]
  },
  {
   "cell_type": "code",
   "execution_count": 4,
   "metadata": {},
   "outputs": [
    {
     "ename": "NameError",
     "evalue": "name 'Recommenders' is not defined",
     "output_type": "error",
     "traceback": [
      "\u001b[1;31m---------------------------------------------------------------------------\u001b[0m",
      "\u001b[1;31mNameError\u001b[0m                                 Traceback (most recent call last)",
      "\u001b[1;32m<ipython-input-4-208df81b8562>\u001b[0m in \u001b[0;36m<module>\u001b[1;34m\u001b[0m\n\u001b[1;32m----> 1\u001b[1;33m \u001b[0mpm\u001b[0m \u001b[1;33m=\u001b[0m \u001b[0mRecommenders\u001b[0m\u001b[1;33m.\u001b[0m\u001b[0mpopularity_recommender_py\u001b[0m\u001b[1;33m(\u001b[0m\u001b[1;33m)\u001b[0m\u001b[1;33m\u001b[0m\u001b[1;33m\u001b[0m\u001b[0m\n\u001b[0m",
      "\u001b[1;31mNameError\u001b[0m: name 'Recommenders' is not defined"
     ]
    }
   ],
   "source": [
    "pm = Recommenders.popularity_recommender_py()"
   ]
  },
  {
   "cell_type": "code",
   "execution_count": null,
   "metadata": {},
   "outputs": [
    {
     "ename": "NameError",
     "evalue": "name 'pm' is not defined",
     "output_type": "error",
     "traceback": [
      "\u001b[1;31m---------------------------------------------------------------------------\u001b[0m",
      "\u001b[1;31mNameError\u001b[0m                                 Traceback (most recent call last)",
      "\u001b[1;32m<ipython-input-1-c17909c6ff0c>\u001b[0m in \u001b[0;36m<module>\u001b[1;34m\u001b[0m\n\u001b[1;32m----> 1\u001b[1;33m \u001b[0mpm\u001b[0m\u001b[1;33m.\u001b[0m\u001b[0mcreate\u001b[0m\u001b[1;33m(\u001b[0m\u001b[0mtrain_data\u001b[0m\u001b[1;33m,\u001b[0m \u001b[1;34m'user_id'\u001b[0m\u001b[1;33m,\u001b[0m \u001b[1;34m'name'\u001b[0m\u001b[1;33m,\u001b[0m\u001b[1;34m'song_id'\u001b[0m\u001b[1;33m)\u001b[0m\u001b[1;33m\u001b[0m\u001b[1;33m\u001b[0m\u001b[0m\n\u001b[0m",
      "\u001b[1;31mNameError\u001b[0m: name 'pm' is not defined"
     ]
    }
   ],
   "source": [
    "pm.create(train_data, 'user_id', 'name','song_id')"
   ]
  },
  {
   "cell_type": "code",
   "execution_count": null,
   "metadata": {},
   "outputs": [],
   "source": [
    "user_id = 1"
   ]
  },
  {
   "cell_type": "code",
   "execution_count": null,
   "metadata": {},
   "outputs": [
    {
     "data": {
      "text/html": [
       "<div>\n",
       "<style scoped>\n",
       "    .dataframe tbody tr th:only-of-type {\n",
       "        vertical-align: middle;\n",
       "    }\n",
       "\n",
       "    .dataframe tbody tr th {\n",
       "        vertical-align: top;\n",
       "    }\n",
       "\n",
       "    .dataframe thead th {\n",
       "        text-align: right;\n",
       "    }\n",
       "</style>\n",
       "<table border=\"1\" class=\"dataframe\">\n",
       "  <thead>\n",
       "    <tr style=\"text-align: right;\">\n",
       "      <th></th>\n",
       "      <th>user_id</th>\n",
       "      <th>name</th>\n",
       "      <th>score</th>\n",
       "      <th>Rank</th>\n",
       "    </tr>\n",
       "  </thead>\n",
       "  <tbody>\n",
       "    <tr>\n",
       "      <th>174</th>\n",
       "      <td>1</td>\n",
       "      <td>Hara Hu Sath Nibhao Na Baba Haare Haare 3.mp3</td>\n",
       "      <td>14</td>\n",
       "      <td>1.0</td>\n",
       "    </tr>\n",
       "    <tr>\n",
       "      <th>348</th>\n",
       "      <td>1</td>\n",
       "      <td>O Paalanhaare.mp3</td>\n",
       "      <td>14</td>\n",
       "      <td>2.0</td>\n",
       "    </tr>\n",
       "    <tr>\n",
       "      <th>213</th>\n",
       "      <td>1</td>\n",
       "      <td>Jai Shiv Omkara.mp3</td>\n",
       "      <td>13</td>\n",
       "      <td>3.0</td>\n",
       "    </tr>\n",
       "    <tr>\n",
       "      <th>244</th>\n",
       "      <td>1</td>\n",
       "      <td>Kanha Teri Murli Ki.mp3</td>\n",
       "      <td>13</td>\n",
       "      <td>4.0</td>\n",
       "    </tr>\n",
       "    <tr>\n",
       "      <th>16</th>\n",
       "      <td>1</td>\n",
       "      <td>Ae Malik Tere Bande Hum.mp3</td>\n",
       "      <td>12</td>\n",
       "      <td>5.0</td>\n",
       "    </tr>\n",
       "    <tr>\n",
       "      <th>97</th>\n",
       "      <td>1</td>\n",
       "      <td>Dam Mast Qalandar.mp3</td>\n",
       "      <td>12</td>\n",
       "      <td>6.0</td>\n",
       "    </tr>\n",
       "    <tr>\n",
       "      <th>122</th>\n",
       "      <td>1</td>\n",
       "      <td>Dost.mp3</td>\n",
       "      <td>12</td>\n",
       "      <td>7.0</td>\n",
       "    </tr>\n",
       "    <tr>\n",
       "      <th>319</th>\n",
       "      <td>1</td>\n",
       "      <td>Meri Maiya Ne.mp3</td>\n",
       "      <td>12</td>\n",
       "      <td>8.0</td>\n",
       "    </tr>\n",
       "    <tr>\n",
       "      <th>429</th>\n",
       "      <td>1</td>\n",
       "      <td>Sancha Naam Tera</td>\n",
       "      <td>12</td>\n",
       "      <td>9.0</td>\n",
       "    </tr>\n",
       "    <tr>\n",
       "      <th>78</th>\n",
       "      <td>1</td>\n",
       "      <td>Chakdait Chhora.mp3</td>\n",
       "      <td>11</td>\n",
       "      <td>10.0</td>\n",
       "    </tr>\n",
       "  </tbody>\n",
       "</table>\n",
       "</div>"
      ],
      "text/plain": [
       "     user_id                                           name  score  Rank\n",
       "174        1  Hara Hu Sath Nibhao Na Baba Haare Haare 3.mp3     14   1.0\n",
       "348        1                              O Paalanhaare.mp3     14   2.0\n",
       "213        1                            Jai Shiv Omkara.mp3     13   3.0\n",
       "244        1                        Kanha Teri Murli Ki.mp3     13   4.0\n",
       "16         1                    Ae Malik Tere Bande Hum.mp3     12   5.0\n",
       "97         1                          Dam Mast Qalandar.mp3     12   6.0\n",
       "122        1                                       Dost.mp3     12   7.0\n",
       "319        1                              Meri Maiya Ne.mp3     12   8.0\n",
       "429        1                               Sancha Naam Tera     12   9.0\n",
       "78         1                            Chakdait Chhora.mp3     11  10.0"
      ]
     },
     "execution_count": 78,
     "metadata": {},
     "output_type": "execute_result"
    }
   ],
   "source": [
    "pm.recommend(user_id)"
   ]
  },
  {
   "cell_type": "code",
   "execution_count": null,
   "metadata": {},
   "outputs": [
    {
     "data": {
      "text/html": [
       "<div>\n",
       "<style scoped>\n",
       "    .dataframe tbody tr th:only-of-type {\n",
       "        vertical-align: middle;\n",
       "    }\n",
       "\n",
       "    .dataframe tbody tr th {\n",
       "        vertical-align: top;\n",
       "    }\n",
       "\n",
       "    .dataframe thead th {\n",
       "        text-align: right;\n",
       "    }\n",
       "</style>\n",
       "<table border=\"1\" class=\"dataframe\">\n",
       "  <thead>\n",
       "    <tr style=\"text-align: right;\">\n",
       "      <th></th>\n",
       "      <th>user_id</th>\n",
       "      <th>name</th>\n",
       "      <th>score</th>\n",
       "      <th>Rank</th>\n",
       "    </tr>\n",
       "  </thead>\n",
       "  <tbody>\n",
       "    <tr>\n",
       "      <th>174</th>\n",
       "      <td>9</td>\n",
       "      <td>Hara Hu Sath Nibhao Na Baba Haare Haare 3.mp3</td>\n",
       "      <td>14</td>\n",
       "      <td>1.0</td>\n",
       "    </tr>\n",
       "    <tr>\n",
       "      <th>348</th>\n",
       "      <td>9</td>\n",
       "      <td>O Paalanhaare.mp3</td>\n",
       "      <td>14</td>\n",
       "      <td>2.0</td>\n",
       "    </tr>\n",
       "    <tr>\n",
       "      <th>213</th>\n",
       "      <td>9</td>\n",
       "      <td>Jai Shiv Omkara.mp3</td>\n",
       "      <td>13</td>\n",
       "      <td>3.0</td>\n",
       "    </tr>\n",
       "    <tr>\n",
       "      <th>244</th>\n",
       "      <td>9</td>\n",
       "      <td>Kanha Teri Murli Ki.mp3</td>\n",
       "      <td>13</td>\n",
       "      <td>4.0</td>\n",
       "    </tr>\n",
       "    <tr>\n",
       "      <th>16</th>\n",
       "      <td>9</td>\n",
       "      <td>Ae Malik Tere Bande Hum.mp3</td>\n",
       "      <td>12</td>\n",
       "      <td>5.0</td>\n",
       "    </tr>\n",
       "    <tr>\n",
       "      <th>97</th>\n",
       "      <td>9</td>\n",
       "      <td>Dam Mast Qalandar.mp3</td>\n",
       "      <td>12</td>\n",
       "      <td>6.0</td>\n",
       "    </tr>\n",
       "    <tr>\n",
       "      <th>122</th>\n",
       "      <td>9</td>\n",
       "      <td>Dost.mp3</td>\n",
       "      <td>12</td>\n",
       "      <td>7.0</td>\n",
       "    </tr>\n",
       "    <tr>\n",
       "      <th>319</th>\n",
       "      <td>9</td>\n",
       "      <td>Meri Maiya Ne.mp3</td>\n",
       "      <td>12</td>\n",
       "      <td>8.0</td>\n",
       "    </tr>\n",
       "    <tr>\n",
       "      <th>429</th>\n",
       "      <td>9</td>\n",
       "      <td>Sancha Naam Tera</td>\n",
       "      <td>12</td>\n",
       "      <td>9.0</td>\n",
       "    </tr>\n",
       "    <tr>\n",
       "      <th>78</th>\n",
       "      <td>9</td>\n",
       "      <td>Chakdait Chhora.mp3</td>\n",
       "      <td>11</td>\n",
       "      <td>10.0</td>\n",
       "    </tr>\n",
       "  </tbody>\n",
       "</table>\n",
       "</div>"
      ],
      "text/plain": [
       "     user_id                                           name  score  Rank\n",
       "174        9  Hara Hu Sath Nibhao Na Baba Haare Haare 3.mp3     14   1.0\n",
       "348        9                              O Paalanhaare.mp3     14   2.0\n",
       "213        9                            Jai Shiv Omkara.mp3     13   3.0\n",
       "244        9                        Kanha Teri Murli Ki.mp3     13   4.0\n",
       "16         9                    Ae Malik Tere Bande Hum.mp3     12   5.0\n",
       "97         9                          Dam Mast Qalandar.mp3     12   6.0\n",
       "122        9                                       Dost.mp3     12   7.0\n",
       "319        9                              Meri Maiya Ne.mp3     12   8.0\n",
       "429        9                               Sancha Naam Tera     12   9.0\n",
       "78         9                            Chakdait Chhora.mp3     11  10.0"
      ]
     },
     "execution_count": 79,
     "metadata": {},
     "output_type": "execute_result"
    }
   ],
   "source": [
    "pm.recommend(9)"
   ]
  },
  {
   "cell_type": "code",
   "execution_count": null,
   "metadata": {},
   "outputs": [],
   "source": [
    "is_model = Recommenders.item_similarity_recommender_py()"
   ]
  },
  {
   "cell_type": "code",
   "execution_count": null,
   "metadata": {},
   "outputs": [],
   "source": [
    "is_model.create(train_data, 'user_id', 'name')"
   ]
  },
  {
   "cell_type": "code",
   "execution_count": null,
   "metadata": {},
   "outputs": [],
   "source": [
    "user_id=7"
   ]
  },
  {
   "cell_type": "code",
   "execution_count": null,
   "metadata": {},
   "outputs": [],
   "source": [
    "user_items = is_model.get_user_items(user_id)"
   ]
  },
  {
   "cell_type": "code",
   "execution_count": null,
   "metadata": {},
   "outputs": [
    {
     "name": "stdout",
     "output_type": "stream",
     "text": [
      "Gaon Ku Baatu.mp3\n",
      "Hai Teri Rumaala.mp3\n",
      "Babu Fasali.mp3\n",
      "Jab Jab Bhatar Kare.mp3\n",
      "Meri Maiya Ne.mp3\n",
      "Akhilesh Bhaiya.mp3\n",
      "Ae Malik Tere Bande Hum.mp3\n",
      "Death Route.mp3\n",
      "Mela Ki Chori.mp3\n",
      "Ramji Ke Naam Ne To Pathar Bhi Tare.mp3\n",
      "Milal Bate Mauga Bhatar.mp3\n",
      "Pushpa Chori.mp3\n",
      "Sukh Ke Sab Sathi.mp3\n",
      "Kajrani Aakhi Teri.mp3\n",
      "Khatu Ji Jaane Ko Jee Lalchata Hai.mp3\n",
      "Mor Moriki Maand Pelya.mp3\n",
      "Chumma Chapkauwa.mp3\n"
     ]
    }
   ],
   "source": [
    "for user_item in user_items:\n",
    "    print(user_item)"
   ]
  },
  {
   "cell_type": "code",
   "execution_count": null,
   "metadata": {},
   "outputs": [
    {
     "name": "stdout",
     "output_type": "stream",
     "text": [
      "No. of unique songs for the user: 17\n",
      "no. of unique songs in the training set: 545\n",
      "Non zero values in cooccurence_matrix :1522\n"
     ]
    },
    {
     "data": {
      "text/html": [
       "<div>\n",
       "<style scoped>\n",
       "    .dataframe tbody tr th:only-of-type {\n",
       "        vertical-align: middle;\n",
       "    }\n",
       "\n",
       "    .dataframe tbody tr th {\n",
       "        vertical-align: top;\n",
       "    }\n",
       "\n",
       "    .dataframe thead th {\n",
       "        text-align: right;\n",
       "    }\n",
       "</style>\n",
       "<table border=\"1\" class=\"dataframe\">\n",
       "  <thead>\n",
       "    <tr style=\"text-align: right;\">\n",
       "      <th></th>\n",
       "      <th>user_id</th>\n",
       "      <th>song</th>\n",
       "      <th>score</th>\n",
       "      <th>rank</th>\n",
       "    </tr>\n",
       "  </thead>\n",
       "  <tbody>\n",
       "    <tr>\n",
       "      <th>0</th>\n",
       "      <td>7</td>\n",
       "      <td>O Paalanhaare.mp3</td>\n",
       "      <td>0.044899</td>\n",
       "      <td>1</td>\n",
       "    </tr>\n",
       "    <tr>\n",
       "      <th>1</th>\n",
       "      <td>7</td>\n",
       "      <td>Shaam Se Aankh Mein Nami Si Hai.mp3</td>\n",
       "      <td>0.043665</td>\n",
       "      <td>2</td>\n",
       "    </tr>\n",
       "    <tr>\n",
       "      <th>2</th>\n",
       "      <td>7</td>\n",
       "      <td>Kanha Teri Murli Ki (1).mp3</td>\n",
       "      <td>0.042931</td>\n",
       "      <td>3</td>\n",
       "    </tr>\n",
       "    <tr>\n",
       "      <th>3</th>\n",
       "      <td>7</td>\n",
       "      <td>Rangli Rangli Chunariya Tere Naam Balaji.mp3</td>\n",
       "      <td>0.040804</td>\n",
       "      <td>4</td>\n",
       "    </tr>\n",
       "    <tr>\n",
       "      <th>4</th>\n",
       "      <td>7</td>\n",
       "      <td>Jai Shiv Omkara.mp3</td>\n",
       "      <td>0.040637</td>\n",
       "      <td>5</td>\n",
       "    </tr>\n",
       "    <tr>\n",
       "      <th>5</th>\n",
       "      <td>7</td>\n",
       "      <td>Khubsurat Hai Aankhen.mp3</td>\n",
       "      <td>0.040107</td>\n",
       "      <td>6</td>\n",
       "    </tr>\n",
       "    <tr>\n",
       "      <th>6</th>\n",
       "      <td>7</td>\n",
       "      <td>Mila Mujhe Teri Kripa Se (1).mp3</td>\n",
       "      <td>0.039816</td>\n",
       "      <td>7</td>\n",
       "    </tr>\n",
       "    <tr>\n",
       "      <th>7</th>\n",
       "      <td>7</td>\n",
       "      <td>Shayad (From Love Aaj Kal).mp3</td>\n",
       "      <td>0.038971</td>\n",
       "      <td>8</td>\n",
       "    </tr>\n",
       "    <tr>\n",
       "      <th>8</th>\n",
       "      <td>7</td>\n",
       "      <td>Parsi Dekhi Chhajjam Chhai.mp3</td>\n",
       "      <td>0.038348</td>\n",
       "      <td>9</td>\n",
       "    </tr>\n",
       "    <tr>\n",
       "      <th>9</th>\n",
       "      <td>7</td>\n",
       "      <td>Jag Soona Soona Lage.mp3</td>\n",
       "      <td>0.037656</td>\n",
       "      <td>10</td>\n",
       "    </tr>\n",
       "  </tbody>\n",
       "</table>\n",
       "</div>"
      ],
      "text/plain": [
       "  user_id                                          song     score rank\n",
       "0       7                             O Paalanhaare.mp3  0.044899    1\n",
       "1       7           Shaam Se Aankh Mein Nami Si Hai.mp3  0.043665    2\n",
       "2       7                   Kanha Teri Murli Ki (1).mp3  0.042931    3\n",
       "3       7  Rangli Rangli Chunariya Tere Naam Balaji.mp3  0.040804    4\n",
       "4       7                           Jai Shiv Omkara.mp3  0.040637    5\n",
       "5       7                     Khubsurat Hai Aankhen.mp3  0.040107    6\n",
       "6       7              Mila Mujhe Teri Kripa Se (1).mp3  0.039816    7\n",
       "7       7                Shayad (From Love Aaj Kal).mp3  0.038971    8\n",
       "8       7                Parsi Dekhi Chhajjam Chhai.mp3  0.038348    9\n",
       "9       7                      Jag Soona Soona Lage.mp3  0.037656   10"
      ]
     },
     "execution_count": 85,
     "metadata": {},
     "output_type": "execute_result"
    }
   ],
   "source": [
    "is_model.recommend(user_id)"
   ]
  },
  {
   "cell_type": "code",
   "execution_count": null,
   "metadata": {},
   "outputs": [
    {
     "name": "stdout",
     "output_type": "stream",
     "text": [
      "no. of unique songs in the training set: 545\n",
      "Non zero values in cooccurence_matrix :0\n"
     ]
    },
    {
     "data": {
      "text/html": [
       "<div>\n",
       "<style scoped>\n",
       "    .dataframe tbody tr th:only-of-type {\n",
       "        vertical-align: middle;\n",
       "    }\n",
       "\n",
       "    .dataframe tbody tr th {\n",
       "        vertical-align: top;\n",
       "    }\n",
       "\n",
       "    .dataframe thead th {\n",
       "        text-align: right;\n",
       "    }\n",
       "</style>\n",
       "<table border=\"1\" class=\"dataframe\">\n",
       "  <thead>\n",
       "    <tr style=\"text-align: right;\">\n",
       "      <th></th>\n",
       "      <th>user_id</th>\n",
       "      <th>song</th>\n",
       "      <th>score</th>\n",
       "      <th>rank</th>\n",
       "    </tr>\n",
       "  </thead>\n",
       "  <tbody>\n",
       "    <tr>\n",
       "      <th>0</th>\n",
       "      <td></td>\n",
       "      <td>Pana Piremi.mp3</td>\n",
       "      <td>0.0</td>\n",
       "      <td>1</td>\n",
       "    </tr>\n",
       "    <tr>\n",
       "      <th>1</th>\n",
       "      <td></td>\n",
       "      <td>Photo.mp3</td>\n",
       "      <td>0.0</td>\n",
       "      <td>2</td>\n",
       "    </tr>\n",
       "    <tr>\n",
       "      <th>2</th>\n",
       "      <td></td>\n",
       "      <td>She Move It Like.mp3</td>\n",
       "      <td>0.0</td>\n",
       "      <td>3</td>\n",
       "    </tr>\n",
       "    <tr>\n",
       "      <th>3</th>\n",
       "      <td></td>\n",
       "      <td>Aap Agar In Dinon Yahan Hote.mp3</td>\n",
       "      <td>0.0</td>\n",
       "      <td>4</td>\n",
       "    </tr>\n",
       "    <tr>\n",
       "      <th>4</th>\n",
       "      <td></td>\n",
       "      <td>Kakh Harchi Hey Deedo.mp3</td>\n",
       "      <td>0.0</td>\n",
       "      <td>5</td>\n",
       "    </tr>\n",
       "    <tr>\n",
       "      <th>5</th>\n",
       "      <td></td>\n",
       "      <td>Aao Milo Chalo.mp3</td>\n",
       "      <td>0.0</td>\n",
       "      <td>6</td>\n",
       "    </tr>\n",
       "    <tr>\n",
       "      <th>6</th>\n",
       "      <td></td>\n",
       "      <td>Tu Ambar Ki Aankh Ka Tara.mp3</td>\n",
       "      <td>0.0</td>\n",
       "      <td>7</td>\n",
       "    </tr>\n",
       "    <tr>\n",
       "      <th>7</th>\n",
       "      <td></td>\n",
       "      <td>Rai Maasi Ko Phool.mp3</td>\n",
       "      <td>0.0</td>\n",
       "      <td>8</td>\n",
       "    </tr>\n",
       "    <tr>\n",
       "      <th>8</th>\n",
       "      <td></td>\n",
       "      <td>Mere Liye Tum Kaafi Ho (From Shubh Mangal Zyad...</td>\n",
       "      <td>0.0</td>\n",
       "      <td>9</td>\n",
       "    </tr>\n",
       "    <tr>\n",
       "      <th>9</th>\n",
       "      <td></td>\n",
       "      <td>Tujhe Kitna Chahne Lage (From Kabir Singh) (1)...</td>\n",
       "      <td>0.0</td>\n",
       "      <td>10</td>\n",
       "    </tr>\n",
       "  </tbody>\n",
       "</table>\n",
       "</div>"
      ],
      "text/plain": [
       "  user_id                                               song  score rank\n",
       "0                                            Pana Piremi.mp3    0.0    1\n",
       "1                                                  Photo.mp3    0.0    2\n",
       "2                                       She Move It Like.mp3    0.0    3\n",
       "3                           Aap Agar In Dinon Yahan Hote.mp3    0.0    4\n",
       "4                                  Kakh Harchi Hey Deedo.mp3    0.0    5\n",
       "5                                         Aao Milo Chalo.mp3    0.0    6\n",
       "6                              Tu Ambar Ki Aankh Ka Tara.mp3    0.0    7\n",
       "7                                     Rai Maasi Ko Phool.mp3    0.0    8\n",
       "8          Mere Liye Tum Kaafi Ho (From Shubh Mangal Zyad...    0.0    9\n",
       "9          Tujhe Kitna Chahne Lage (From Kabir Singh) (1)...    0.0   10"
      ]
     },
     "execution_count": 86,
     "metadata": {},
     "output_type": "execute_result"
    }
   ],
   "source": [
    "is_model.get_similar_items(['Saiyaan'])"
   ]
  },
  {
   "cell_type": "code",
   "execution_count": null,
   "metadata": {},
   "outputs": [
    {
     "name": "stdout",
     "output_type": "stream",
     "text": [
      "no. of unique songs in the training set: 545\n",
      "Non zero values in cooccurence_matrix :0\n"
     ]
    },
    {
     "data": {
      "text/html": [
       "<div>\n",
       "<style scoped>\n",
       "    .dataframe tbody tr th:only-of-type {\n",
       "        vertical-align: middle;\n",
       "    }\n",
       "\n",
       "    .dataframe tbody tr th {\n",
       "        vertical-align: top;\n",
       "    }\n",
       "\n",
       "    .dataframe thead th {\n",
       "        text-align: right;\n",
       "    }\n",
       "</style>\n",
       "<table border=\"1\" class=\"dataframe\">\n",
       "  <thead>\n",
       "    <tr style=\"text-align: right;\">\n",
       "      <th></th>\n",
       "      <th>user_id</th>\n",
       "      <th>song</th>\n",
       "      <th>score</th>\n",
       "      <th>rank</th>\n",
       "    </tr>\n",
       "  </thead>\n",
       "  <tbody>\n",
       "    <tr>\n",
       "      <th>0</th>\n",
       "      <td></td>\n",
       "      <td>Pana Piremi.mp3</td>\n",
       "      <td>0.0</td>\n",
       "      <td>1</td>\n",
       "    </tr>\n",
       "    <tr>\n",
       "      <th>1</th>\n",
       "      <td></td>\n",
       "      <td>Photo.mp3</td>\n",
       "      <td>0.0</td>\n",
       "      <td>2</td>\n",
       "    </tr>\n",
       "    <tr>\n",
       "      <th>2</th>\n",
       "      <td></td>\n",
       "      <td>She Move It Like.mp3</td>\n",
       "      <td>0.0</td>\n",
       "      <td>3</td>\n",
       "    </tr>\n",
       "    <tr>\n",
       "      <th>3</th>\n",
       "      <td></td>\n",
       "      <td>Aap Agar In Dinon Yahan Hote.mp3</td>\n",
       "      <td>0.0</td>\n",
       "      <td>4</td>\n",
       "    </tr>\n",
       "    <tr>\n",
       "      <th>4</th>\n",
       "      <td></td>\n",
       "      <td>Kakh Harchi Hey Deedo.mp3</td>\n",
       "      <td>0.0</td>\n",
       "      <td>5</td>\n",
       "    </tr>\n",
       "    <tr>\n",
       "      <th>5</th>\n",
       "      <td></td>\n",
       "      <td>Aao Milo Chalo.mp3</td>\n",
       "      <td>0.0</td>\n",
       "      <td>6</td>\n",
       "    </tr>\n",
       "    <tr>\n",
       "      <th>6</th>\n",
       "      <td></td>\n",
       "      <td>Tu Ambar Ki Aankh Ka Tara.mp3</td>\n",
       "      <td>0.0</td>\n",
       "      <td>7</td>\n",
       "    </tr>\n",
       "    <tr>\n",
       "      <th>7</th>\n",
       "      <td></td>\n",
       "      <td>Rai Maasi Ko Phool.mp3</td>\n",
       "      <td>0.0</td>\n",
       "      <td>8</td>\n",
       "    </tr>\n",
       "    <tr>\n",
       "      <th>8</th>\n",
       "      <td></td>\n",
       "      <td>Mere Liye Tum Kaafi Ho (From Shubh Mangal Zyad...</td>\n",
       "      <td>0.0</td>\n",
       "      <td>9</td>\n",
       "    </tr>\n",
       "    <tr>\n",
       "      <th>9</th>\n",
       "      <td></td>\n",
       "      <td>Tujhe Kitna Chahne Lage (From Kabir Singh) (1)...</td>\n",
       "      <td>0.0</td>\n",
       "      <td>10</td>\n",
       "    </tr>\n",
       "  </tbody>\n",
       "</table>\n",
       "</div>"
      ],
      "text/plain": [
       "  user_id                                               song  score rank\n",
       "0                                            Pana Piremi.mp3    0.0    1\n",
       "1                                                  Photo.mp3    0.0    2\n",
       "2                                       She Move It Like.mp3    0.0    3\n",
       "3                           Aap Agar In Dinon Yahan Hote.mp3    0.0    4\n",
       "4                                  Kakh Harchi Hey Deedo.mp3    0.0    5\n",
       "5                                         Aao Milo Chalo.mp3    0.0    6\n",
       "6                              Tu Ambar Ki Aankh Ka Tara.mp3    0.0    7\n",
       "7                                     Rai Maasi Ko Phool.mp3    0.0    8\n",
       "8          Mere Liye Tum Kaafi Ho (From Shubh Mangal Zyad...    0.0    9\n",
       "9          Tujhe Kitna Chahne Lage (From Kabir Singh) (1)...    0.0   10"
      ]
     },
     "execution_count": 87,
     "metadata": {},
     "output_type": "execute_result"
    }
   ],
   "source": [
    "is_model.get_similar_items(['Kun Faya Kun'])"
   ]
  },
  {
   "cell_type": "code",
   "execution_count": null,
   "metadata": {},
   "outputs": [
    {
     "name": "stdout",
     "output_type": "stream",
     "text": [
      "no. of unique songs in the training set: 545\n",
      "Non zero values in cooccurence_matrix :30\n"
     ]
    },
    {
     "data": {
      "text/html": [
       "<div>\n",
       "<style scoped>\n",
       "    .dataframe tbody tr th:only-of-type {\n",
       "        vertical-align: middle;\n",
       "    }\n",
       "\n",
       "    .dataframe tbody tr th {\n",
       "        vertical-align: top;\n",
       "    }\n",
       "\n",
       "    .dataframe thead th {\n",
       "        text-align: right;\n",
       "    }\n",
       "</style>\n",
       "<table border=\"1\" class=\"dataframe\">\n",
       "  <thead>\n",
       "    <tr style=\"text-align: right;\">\n",
       "      <th></th>\n",
       "      <th>user_id</th>\n",
       "      <th>song</th>\n",
       "      <th>score</th>\n",
       "      <th>rank</th>\n",
       "    </tr>\n",
       "  </thead>\n",
       "  <tbody>\n",
       "    <tr>\n",
       "      <th>0</th>\n",
       "      <td></td>\n",
       "      <td>Jungli Sher.mp3</td>\n",
       "      <td>0.333333</td>\n",
       "      <td>1</td>\n",
       "    </tr>\n",
       "    <tr>\n",
       "      <th>1</th>\n",
       "      <td></td>\n",
       "      <td>Nazere Mili.mp3</td>\n",
       "      <td>0.250000</td>\n",
       "      <td>2</td>\n",
       "    </tr>\n",
       "    <tr>\n",
       "      <th>2</th>\n",
       "      <td></td>\n",
       "      <td>Ghungroo (From War).mp3</td>\n",
       "      <td>0.250000</td>\n",
       "      <td>3</td>\n",
       "    </tr>\n",
       "    <tr>\n",
       "      <th>3</th>\n",
       "      <td></td>\n",
       "      <td>Ve Maahi.mp3</td>\n",
       "      <td>0.250000</td>\n",
       "      <td>4</td>\n",
       "    </tr>\n",
       "    <tr>\n",
       "      <th>4</th>\n",
       "      <td></td>\n",
       "      <td>Proper Patola.mp3</td>\n",
       "      <td>0.250000</td>\n",
       "      <td>5</td>\n",
       "    </tr>\n",
       "    <tr>\n",
       "      <th>5</th>\n",
       "      <td></td>\n",
       "      <td>Dawood.mp3</td>\n",
       "      <td>0.200000</td>\n",
       "      <td>6</td>\n",
       "    </tr>\n",
       "    <tr>\n",
       "      <th>6</th>\n",
       "      <td></td>\n",
       "      <td>Lad Gail Najariya.mp3</td>\n",
       "      <td>0.200000</td>\n",
       "      <td>7</td>\n",
       "    </tr>\n",
       "    <tr>\n",
       "      <th>7</th>\n",
       "      <td></td>\n",
       "      <td>Surili Akhiyon Wale (From Veer).mp3</td>\n",
       "      <td>0.200000</td>\n",
       "      <td>8</td>\n",
       "    </tr>\n",
       "    <tr>\n",
       "      <th>8</th>\n",
       "      <td></td>\n",
       "      <td>Bijlee.mp3</td>\n",
       "      <td>0.200000</td>\n",
       "      <td>9</td>\n",
       "    </tr>\n",
       "    <tr>\n",
       "      <th>9</th>\n",
       "      <td></td>\n",
       "      <td>Ail Bade Saiya.mp3</td>\n",
       "      <td>0.200000</td>\n",
       "      <td>10</td>\n",
       "    </tr>\n",
       "  </tbody>\n",
       "</table>\n",
       "</div>"
      ],
      "text/plain": [
       "  user_id                                 song     score rank\n",
       "0                              Jungli Sher.mp3  0.333333    1\n",
       "1                              Nazere Mili.mp3  0.250000    2\n",
       "2                      Ghungroo (From War).mp3  0.250000    3\n",
       "3                                 Ve Maahi.mp3  0.250000    4\n",
       "4                            Proper Patola.mp3  0.250000    5\n",
       "5                                   Dawood.mp3  0.200000    6\n",
       "6                        Lad Gail Najariya.mp3  0.200000    7\n",
       "7          Surili Akhiyon Wale (From Veer).mp3  0.200000    8\n",
       "8                                   Bijlee.mp3  0.200000    9\n",
       "9                           Ail Bade Saiya.mp3  0.200000   10"
      ]
     },
     "execution_count": 88,
     "metadata": {},
     "output_type": "execute_result"
    }
   ],
   "source": [
    "is_model.get_similar_items(['Mere Gully Mein (feat Naezy).mp3'])"
   ]
  },
  {
   "cell_type": "markdown",
   "metadata": {},
   "source": [
    "## Quantitative comparison between the models¶\n",
    "We now formally compare the popularity and the personalized models using precision-recall curves.\n",
    "\n",
    "Class to calculate precision and recall (This can be used as a black box)"
   ]
  },
  {
   "cell_type": "code",
   "execution_count": null,
   "metadata": {},
   "outputs": [],
   "source": [
    "#Evaluation.precision_recall_calculator"
   ]
  },
  {
   "cell_type": "markdown",
   "metadata": {},
   "source": [
    "# Matrix Factorization based Recommender System"
   ]
  },
  {
   "cell_type": "markdown",
   "metadata": {},
   "source": [
    "Using SVD matrix factorization based collaborative filtering recommender system -------------------------------------------------------------------------------- The following code implements a Singular Value Decomposition (SVD) based matrix factorization collaborative filtering recommender system. The user ratings matrix used is a small matrix as follows: Item0 Item1 Item2 Item3 User0 3 1 2 3 User1 4 3 4 3 User2 3 2 1 5 User3 1 6 5 2 User4 0 0 5 0 As we can see in the above matrix, all users except user 4 rate all items. The code calculates predicted recommendations for user 4"
   ]
  },
  {
   "cell_type": "code",
   "execution_count": null,
   "metadata": {},
   "outputs": [],
   "source": [
    "\n",
    "#Code source written with help from: \n",
    "#http://antoinevastel.github.io/machine%20learning/python/2016/02/14/svd-recommender-system.html\n",
    "\n",
    "import math as mt\n",
    "import csv\n",
    "from sparsesvd import sparsesvd #used for matrix factorization\n",
    "import numpy as np\n",
    "from scipy.sparse import csc_matrix #used for sparse matrix\n",
    "from scipy.sparse.linalg import * #used for matrix multiplication\n",
    "\n",
    "#Note: You may need to install the library sparsesvd. Documentation for \n",
    "#sparsesvd method can be found here:\n",
    "#https://pypi.python.org/pypi/sparsesvd/"
   ]
  },
  {
   "cell_type": "code",
   "execution_count": null,
   "metadata": {},
   "outputs": [],
   "source": [
    "#constants defining the dimensions of our User Rating Matrix (URM)\n",
    "MAX_PID = 4\n",
    "MAX_UID = 5\n",
    "\n",
    "#Compute SVD of the user ratings matrix\n",
    "def computeSVD(urm, K):\n",
    "    U, s, Vt = sparsesvd(urm, K)\n",
    "\n",
    "    dim = (len(s), len(s))\n",
    "    S = np.zeros(dim, dtype=np.float32)\n",
    "    for i in range(0, len(s)):\n",
    "        S[i,i] = mt.sqrt(s[i])\n",
    "\n",
    "    U = csc_matrix(np.transpose(U), dtype=np.float32)\n",
    "    S = csc_matrix(S, dtype=np.float32)\n",
    "    Vt = csc_matrix(Vt, dtype=np.float32)\n",
    "    \n",
    "    return U, S, Vt\n",
    "\n",
    "#Compute estimated rating for the test user\n",
    "def computeEstimatedRatings(urm, U, S, Vt, uTest, K, test):\n",
    "    rightTerm = S*Vt \n",
    "\n",
    "    estimatedRatings = np.zeros(shape=(MAX_UID, MAX_PID), dtype=np.float16)\n",
    "    for userTest in uTest:\n",
    "        prod = U[userTest, :]*rightTerm\n",
    "        #we convert the vector to dense format in order to get the indices \n",
    "        #of the movies with the best estimated ratings \n",
    "        estimatedRatings[userTest, :] = prod.todense()\n",
    "        recom = (-estimatedRatings[userTest, :]).argsort()[:250]\n",
    "    return recom\n"
   ]
  },
  {
   "cell_type": "code",
   "execution_count": null,
   "metadata": {},
   "outputs": [
    {
     "name": "stdout",
     "output_type": "stream",
     "text": [
      "User id for whom recommendations are needed: 4\n",
      "Predictied ratings:\n",
      "[0 3 2 1]\n"
     ]
    }
   ],
   "source": [
    "#Used in SVD calculation (number of latent factors)\n",
    "K=2\n",
    "\n",
    "#Initialize a sample user rating matrix\n",
    "urm = np.array([[3, 1, 2, 3],[4, 3, 4, 3],[3, 2, 1, 5], [1, 6, 5, 2], [5, 0,0 , 0]])\n",
    "urm = csc_matrix(urm, dtype=np.float32)\n",
    "\n",
    "#Compute SVD of the input user ratings matrix\n",
    "U, S, Vt = computeSVD(urm, K)\n",
    "\n",
    "#Test user set as user_id 4 with ratings [0, 0, 5, 0]\n",
    "uTest = [4]\n",
    "print(\"User id for whom recommendations are needed: %d\" % uTest[0])\n",
    "\n",
    "#Get estimated rating for test user\n",
    "print(\"Predictied ratings:\")\n",
    "uTest_recommended_items = computeEstimatedRatings(urm, U, S, Vt, uTest, K, True)\n",
    "print(uTest_recommended_items)"
   ]
  },
  {
   "cell_type": "markdown",
   "metadata": {},
   "source": [
    "## Singular Value Decomposition (SVD) & Its Application In Recommender System"
   ]
  },
  {
   "cell_type": "code",
   "execution_count": null,
   "metadata": {},
   "outputs": [],
   "source": [
    "ratings_mat = np.ndarray(\n",
    "    shape=(np.max(df.song_id.values), np.max(df.user_id.values)),dtype=np.uint8)\n",
    "ratings_mat[df.song_id.values-1, df.user_id.values-1] = df.listen_count.values"
   ]
  },
  {
   "cell_type": "code",
   "execution_count": null,
   "metadata": {},
   "outputs": [
    {
     "data": {
      "text/plain": [
       "array([[ 80,  77,  34, ...,   0,   0,   0],\n",
       "       [ 76,   0,   0, ...,   0,   0,   0],\n",
       "       [  0,   0,   0, ...,  85,  85,  85],\n",
       "       ...,\n",
       "       [244,   1,   0, ...,   1,   0,   0],\n",
       "       [112,  75,  32, ...,  94,  31,  17],\n",
       "       [244,   1,   0, ...,   1,  44,   0]], dtype=uint8)"
      ]
     },
     "execution_count": 94,
     "metadata": {},
     "output_type": "execute_result"
    }
   ],
   "source": [
    "ratings_mat"
   ]
  },
  {
   "cell_type": "code",
   "execution_count": null,
   "metadata": {},
   "outputs": [],
   "source": [
    "normalised_mat = ratings_mat - np.asarray([(np.mean(ratings_mat, 1))]).T"
   ]
  },
  {
   "cell_type": "code",
   "execution_count": null,
   "metadata": {},
   "outputs": [],
   "source": [
    "A = normalised_mat.T / np.sqrt(ratings_mat.shape[0] - 1)\n",
    "U, S, V = np.linalg.svd(A)"
   ]
  },
  {
   "cell_type": "code",
   "execution_count": null,
   "metadata": {},
   "outputs": [],
   "source": [
    "def top_cosine_similarity(data, movie_id, top_n=10):\n",
    "    index = movie_id - 1 # Movie id starts from 1 in the dataset\n",
    "    movie_row = data[index, :]\n",
    "    magnitude = np.sqrt(np.einsum('ij, ij -> i', data, data))\n",
    "    similarity = np.dot(movie_row, data.T) / (magnitude[index] * magnitude)\n",
    "    sort_indexes = np.argsort(-similarity)\n",
    "    return sort_indexes[:top_n]"
   ]
  },
  {
   "cell_type": "code",
   "execution_count": null,
   "metadata": {},
   "outputs": [],
   "source": [
    "def print_similar_songs(song_df, song_id, top_indexes):\n",
    "    print('Recommendations for {0}: \\n'.format(song_df[song_df.song_id == song_id].name.values[0]))\n",
    "    for id in top_indexes + 1:\n",
    "        print(song_df[song_df.song_id == id].name.values[0])"
   ]
  },
  {
   "cell_type": "code",
   "execution_count": null,
   "metadata": {},
   "outputs": [],
   "source": [
    "k = 50\n",
    "song_id = 319 # (getting an id from movies.dat)\n",
    "top_n = 10\n",
    "sliced = V.T[:, :k] # representative data\n",
    "indexes = top_cosine_similarity(sliced, song_id, top_n)"
   ]
  },
  {
   "cell_type": "code",
   "execution_count": null,
   "metadata": {},
   "outputs": [
    {
     "name": "stdout",
     "output_type": "stream",
     "text": [
      "Recommendations for Illegal Weapon.mp3: \n",
      "\n",
      "Illegal Weapon.mp3\n",
      "Lae Dooba.mp3\n",
      "Tujhe Kitna Chahne Lage (From Kabir Singh) (1).mp3\n",
      "Faqeer.mp3\n",
      "Phooli Jaali Jaai.mp3\n",
      "Bhatar Bina Kuchh Na.mp3\n",
      "Gham Ka Khazana Tera Bhi Hai Mera Bhi.mp3\n",
      "Jiya Dhadak Dhadak Jaye.mp3\n",
      "Jaa Chal Gailu Bhulake.mp3\n",
      "Dehradun Ki Kaanchi.mp3\n"
     ]
    }
   ],
   "source": [
    "print_similar_songs(song_df, song_id, indexes)"
   ]
  },
  {
   "cell_type": "code",
   "execution_count": null,
   "metadata": {},
   "outputs": [],
   "source": []
  }
 ],
 "metadata": {
  "interpreter": {
   "hash": "73bbb9c085f789aab73e701da06153811d3598bebb97eb01ef09b634221f5432"
  },
  "kernelspec": {
   "display_name": "Python 3.9.1 64-bit",
   "name": "python3"
  },
  "language_info": {
   "codemirror_mode": {
    "name": "ipython",
    "version": 3
   },
   "file_extension": ".py",
   "mimetype": "text/x-python",
   "name": "python",
   "nbconvert_exporter": "python",
   "pygments_lexer": "ipython3",
   "version": "3.9.1"
  }
 },
 "nbformat": 4,
 "nbformat_minor": 5
}
