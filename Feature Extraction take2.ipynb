{
 "cells": [
  {
   "cell_type": "code",
   "execution_count": null,
   "metadata": {},
   "outputs": [],
   "source": [
    "import librosa\n",
    "from librosa import feature\n",
    "import numpy as np\n",
    "import os\n",
    "from getpass import getpass\n",
    "import urllib\n",
    "from glob import glob\n",
    "import pathlib\n"
   ]
  },
  {
   "cell_type": "code",
   "execution_count": null,
   "metadata": {},
   "outputs": [],
   "source": []
  }
 ],
 "metadata": {
  "kernelspec": {
   "display_name": "musicreco",
   "language": "python",
   "name": "musicreco"
  }
 },
 "nbformat": 4,
 "nbformat_minor": 4
}
