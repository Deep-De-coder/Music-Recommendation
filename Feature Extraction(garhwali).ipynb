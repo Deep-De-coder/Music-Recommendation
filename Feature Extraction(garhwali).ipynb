{
 "cells": [
  {
   "cell_type": "code",
   "execution_count": 1,
   "metadata": {},
   "outputs": [],
   "source": [
    "import librosa\n",
    "from librosa import feature\n",
    "import numpy as np\n",
    "import os\n",
    "from getpass import getpass\n",
    "import urllib\n",
    "from glob import glob\n",
    "import pathlib\n"
   ]
  },
  {
   "cell_type": "code",
   "execution_count": 2,
   "metadata": {},
   "outputs": [],
   "source": [
    "genre = 'Garhwali'\n",
    "\n",
    "#directories of the genre\n",
    "bhajan_dir =  \"Dataset/Garhwali/\"\n",
    "bhajan_audio_files = glob(bhajan_dir  + '*.mp3')\n",
    "for i in bhajan_audio_files:\n",
    "    i = pathlib.Path(i)"
   ]
  },
  {
   "cell_type": "code",
   "execution_count": 3,
   "metadata": {},
   "outputs": [
    {
     "data": {
      "text/plain": [
       "['Dataset/Garhwali\\\\Anil - Bikhoti Ka Mela.mp3',\n",
       " 'Dataset/Garhwali\\\\Anil - Chakdait Chhora.mp3',\n",
       " 'Dataset/Garhwali\\\\Anil - Jawa Pardesh.mp3',\n",
       " 'Dataset/Garhwali\\\\Anil - Kan Full Khilana.mp3',\n",
       " 'Dataset/Garhwali\\\\Anil - Latuli Teri Mukhdi.mp3',\n",
       " 'Dataset/Garhwali\\\\Anil - Nepal Ni Jaan.mp3',\n",
       " 'Dataset/Garhwali\\\\Anil - Pabo Bazaar.mp3',\n",
       " 'Dataset/Garhwali\\\\Anil - Pana Piremi.mp3',\n",
       " 'Dataset/Garhwali\\\\Anil - Thand Mathu Chaumaas.mp3',\n",
       " 'Dataset/Garhwali\\\\Anil Bist - Bedu Pako Barmasa.mp3',\n",
       " 'Dataset/Garhwali\\\\Anil Bist - Mera Baju Ranga.mp3',\n",
       " 'Dataset/Garhwali\\\\Anuradha Nirala - Na Tu Mero Lagadu.mp3',\n",
       " 'Dataset/Garhwali\\\\Dinesh Uniyal - Hey Dida Bou Na Maari.mp3',\n",
       " 'Dataset/Garhwali\\\\Dinesh Uniyal - Holu Ta Kya Holu.mp3',\n",
       " 'Dataset/Garhwali\\\\Dinesh Uniyal - Jai Ho Ma Chandra Badni.mp3',\n",
       " 'Dataset/Garhwali\\\\Dinesh Uniyal - Katha Laanu Mankhi Ki.mp3',\n",
       " 'Dataset/Garhwali\\\\Dinesh Uniyal - Sailya Ji Tum Dilhi.mp3',\n",
       " 'Dataset/Garhwali\\\\Gajendra Rana - Kya Dan Lagdi Tu.mp3',\n",
       " 'Dataset/Garhwali\\\\Gajendra Rana - Leela Ghasiyari.mp3',\n",
       " 'Dataset/Garhwali\\\\Gajendra Rana - Leela Ghasyari.mp3',\n",
       " 'Dataset/Garhwali\\\\Gajendra Rana - Pushpa Chori.mp3',\n",
       " 'Dataset/Garhwali\\\\Gajendra Rana - Rama Siranhi Ki Sundara.mp3',\n",
       " 'Dataset/Garhwali\\\\Himanshu Rawat Music - Bhola Naachigey.mp3',\n",
       " 'Dataset/Garhwali\\\\Himanshu Rawat Music - Bunkhaal Kaalinka.mp3',\n",
       " 'Dataset/Garhwali\\\\Himanshu Rawat Music - Dehradun Ki Kaanchi.mp3',\n",
       " 'Dataset/Garhwali\\\\Himanshu Rawat Music - Gaon Ku Baatu.mp3',\n",
       " 'Dataset/Garhwali\\\\Himanshu Rawat Music - Man Ki Baand.mp3',\n",
       " 'Dataset/Garhwali\\\\Himanshu Rawat Music - Mela Ki Chori.mp3',\n",
       " 'Dataset/Garhwali\\\\Himanshu Rawat Music - Sajeelo Garhwal.mp3',\n",
       " 'Dataset/Garhwali\\\\Jaspal Rana - Phoolon Ka Beech Mein Phyoli.mp3',\n",
       " 'Dataset/Garhwali\\\\Manglesh Dangwal - O Saiya Meri Kashimra.mp3',\n",
       " 'Dataset/Garhwali\\\\Narender Singh Negi - Aaj Va Dekhi Gari Maa.mp3',\n",
       " 'Dataset/Garhwali\\\\Narender Singh Negi - Aandi Gari.mp3',\n",
       " 'Dataset/Garhwali\\\\Narender Singh Negi - Baaji Jailu.mp3',\n",
       " 'Dataset/Garhwali\\\\Narender Singh Negi - Baith Basanti Baith Meri.mp3',\n",
       " 'Dataset/Garhwali\\\\Narender Singh Negi - Baithi Laali Motora Maa.mp3',\n",
       " 'Dataset/Garhwali\\\\Narender Singh Negi - Bavada Re Bavada Re.mp3',\n",
       " 'Dataset/Garhwali\\\\Narender Singh Negi - Chakhuli Meri Fur E.mp3',\n",
       " 'Dataset/Garhwali\\\\Narender Singh Negi - Chham Chham Ghunghuru Vaajala.mp3',\n",
       " 'Dataset/Garhwali\\\\Narender Singh Negi - GMO Ki Gari Syali.mp3',\n",
       " 'Dataset/Garhwali\\\\Narender Singh Negi - Gvirala Foole Foolege.mp3',\n",
       " 'Dataset/Garhwali\\\\Narender Singh Negi - Hai Teri Rumaala.mp3',\n",
       " 'Dataset/Garhwali\\\\Narender Singh Negi - Kajrani Aakhi Teri.mp3',\n",
       " 'Dataset/Garhwali\\\\Narender Singh Negi - Kakh Harchi Hey Deedo.mp3',\n",
       " 'Dataset/Garhwali\\\\Narender Singh Negi - Madhuri Madhvi Dekho Kiran.mp3',\n",
       " 'Dataset/Garhwali\\\\Narender Singh Negi - Main Ghas Katlu.mp3',\n",
       " 'Dataset/Garhwali\\\\Narender Singh Negi - Maini Janya Naipal.mp3',\n",
       " 'Dataset/Garhwali\\\\Narender Singh Negi - Maish Bheji Ki Lai Ni.mp3',\n",
       " 'Dataset/Garhwali\\\\Narender Singh Negi - Maluk Ratkyalu.mp3',\n",
       " 'Dataset/Garhwali\\\\Narender Singh Negi - Maya Judi Ge.mp3',\n",
       " 'Dataset/Garhwali\\\\Narender Singh Negi - Nach Meri Chhadcchheni Baand.mp3',\n",
       " 'Dataset/Garhwali\\\\Narender Singh Negi - Pahada Unchi Dandi.mp3',\n",
       " 'Dataset/Garhwali\\\\Narender Singh Negi - Sher Ka Bacha Jab.mp3',\n",
       " 'Dataset/Garhwali\\\\Narendra Singh Negi - Barkha He Barkha.mp3',\n",
       " 'Dataset/Garhwali\\\\Narendra Singh Negi - Bhandi Dinu Ma Dikhe.mp3',\n",
       " 'Dataset/Garhwali\\\\Narendra Singh Negi - Ghar Bati Chitthi Aegyayee.mp3',\n",
       " 'Dataset/Garhwali\\\\Narendra Singh Negi - Ghuguti Ghuron Laigi.mp3',\n",
       " 'Dataset/Garhwali\\\\Narendra Singh Negi - Goulama Baduli.mp3',\n",
       " 'Dataset/Garhwali\\\\Narendra Singh Negi - Hari Tori Kakhari.mp3',\n",
       " 'Dataset/Garhwali\\\\Narendra Singh Negi - Ini Holi Ke Uni Holi.mp3',\n",
       " 'Dataset/Garhwali\\\\Narendra Singh Negi - Jai Jai Bola.mp3',\n",
       " 'Dataset/Garhwali\\\\Narendra Singh Negi - Khojyali Min Khojyali.mp3',\n",
       " 'Dataset/Garhwali\\\\Narendra Singh Negi - Mor Moriki Maand Pelya.mp3',\n",
       " 'Dataset/Garhwali\\\\Narendra Singh Negi - Na Ukaal Na Udaar.mp3',\n",
       " 'Dataset/Garhwali\\\\Narendra Singh Negi - Naagni Baazar.mp3',\n",
       " 'Dataset/Garhwali\\\\Narendra Singh Negi - Nat Roop Ch Na Rang.mp3',\n",
       " 'Dataset/Garhwali\\\\Narendra Singh Negi - Otuwa Belena.mp3',\n",
       " 'Dataset/Garhwali\\\\Narendra Singh Negi - Parsi Dekhi Chhajjam Chhai.mp3',\n",
       " 'Dataset/Garhwali\\\\Narendra Singh Negi - Phooli Jaali Jaai.mp3',\n",
       " 'Dataset/Garhwali\\\\Narendra Singh Negi - Rai Maasi Ko Phool.mp3',\n",
       " 'Dataset/Garhwali\\\\Narendra Singh Negi - Saat Paanch Benyoma.mp3',\n",
       " 'Dataset/Garhwali\\\\Narendra Singh Negi - Saun Bhadogi.mp3',\n",
       " 'Dataset/Garhwali\\\\Narendra Singh Negi - Swee Sai Na Khabar Kai.mp3',\n",
       " 'Dataset/Garhwali\\\\Narendra Singh Negi - Teri Sainshan.mp3',\n",
       " 'Dataset/Garhwali\\\\Narendra Singh Negi - Thando Re Thando.mp3',\n",
       " 'Dataset/Garhwali\\\\Narendra Singh Negi - Titri Fase.mp3',\n",
       " 'Dataset/Garhwali\\\\Narendra Singh Negi - Tumari Maya Maa.mp3',\n",
       " 'Dataset/Garhwali\\\\Preetam Bhartwan - Baand Amrawati.mp3',\n",
       " 'Dataset/Garhwali\\\\Preetam Bhartwan - Dhaar Ma Ki Jon.mp3',\n",
       " 'Dataset/Garhwali\\\\Preetam Bhartwan - Gailya Dhanuli.mp3',\n",
       " 'Dataset/Garhwali\\\\Preetam Bhartwan - Gajiya.mp3',\n",
       " 'Dataset/Garhwali\\\\Preetam Bhartwan - Mijajiya Meri Saunjadiya.mp3',\n",
       " 'Dataset/Garhwali\\\\Preetam Bhartwan - Mohna Teri Murli Baji.mp3',\n",
       " 'Dataset/Garhwali\\\\Preetam Bhartwan - Rajuli Teri Sona Ki Latulyu Maa.mp3',\n",
       " 'Dataset/Garhwali\\\\Preetam Bhartwan - Runjhun Barkha Lagi Chaumasi.mp3',\n",
       " 'Dataset/Garhwali\\\\Preetam Bhartwan - Saruli Meru Jiya Lagige.mp3',\n",
       " 'Dataset/Garhwali\\\\Preetam Bhartwan - Sobni Tu Chhali Baachin.mp3',\n",
       " 'Dataset/Garhwali\\\\Preetam Bhartwan - Sundira Chhori.mp3',\n",
       " 'Dataset/Garhwali\\\\Preetam Bhartwan - Taunsa Bau.mp3',\n",
       " 'Dataset/Garhwali\\\\Preetam Bhartwan - Teri Dini Samaun.mp3']"
      ]
     },
     "execution_count": 3,
     "metadata": {},
     "output_type": "execute_result"
    }
   ],
   "source": [
    "bhajan_audio_files"
   ]
  },
  {
   "cell_type": "code",
   "execution_count": 4,
   "metadata": {
    "scrolled": true
   },
   "outputs": [
    {
     "name": "stdout",
     "output_type": "stream",
     "text": [
      "Number of audios : 90\n",
      "<class 'str'>\n"
     ]
    }
   ],
   "source": [
    "print(f'Number of audios : {len(bhajan_audio_files)}')\n",
    "print(type(bhajan_audio_files[0]))"
   ]
  },
  {
   "cell_type": "code",
   "execution_count": 5,
   "metadata": {},
   "outputs": [],
   "source": [
    "# Created list of all the functions\n",
    "fn_list_i = [\n",
    "    librosa.onset.onset_strength,              # it is spectral_flux\n",
    "    feature.chroma_stft,                       # chromagram from a waveform or power spectrogram\n",
    "    feature.chroma_cqt,\n",
    "    feature.chroma_cens,\n",
    "    feature.melspectrogram,\n",
    "    feature.mfcc,\n",
    "    feature.spectral_centroid,\n",
    "    feature.spectral_bandwidth,\n",
    "    feature.spectral_contrast,\n",
    "    feature.spectral_rolloff,\n",
    "    feature.tonnetz\n",
    "]\n",
    "\n",
    "fn_list_ii = [\n",
    "    feature.zero_crossing_rate\n",
    "]\n",
    "\n",
    "def get_feature_vector(y,sr): \n",
    "   feat_vect_i = [ np.mean(funct(y,sr)) for funct in fn_list_i]\n",
    "   feat_vect_ii = [ np.mean(funct(y)) for funct in fn_list_ii] \n",
    "   feature_vector = feat_vect_i + feat_vect_ii \n",
    "   return feature_vector"
   ]
  },
  {
   "cell_type": "code",
   "execution_count": 7,
   "metadata": {},
   "outputs": [
    {
     "name": "stdout",
     "output_type": "stream",
     "text": [
      "['Dataset/Garhwali\\\\Anil - Bikhoti Ka Mela.mp3', 1.3784913, 0.3564322, 0.5179294, 0.2607704642240079, 31.594006, 7.18987, 2747.194430133546, 3453.51726447474, 18.394085960420647, 5771.9979130190095, 0.02564885428070931, 0.05344527732616308]\n",
      "['Dataset/Garhwali\\\\Anil - Chakdait Chhora.mp3', 1.4934305, 0.43353412, 0.50819176, 0.25116204074407544, 20.61664, 5.164364, 2589.166147261709, 3218.1941687083586, 20.74521704369082, 5293.810418693701, 0.008363458157186338, 0.05737199708793666]\n",
      "['Dataset/Garhwali\\\\Anil - Jawa Pardesh.mp3', 1.4442822, 0.444801, 0.55944747, 0.2525752048671317, 0.8638816, -4.8312, 2967.061415893094, 3280.657884996353, 20.814285570176803, 6322.308961866194, 0.00020670880890048872, 0.06426397248674738]\n",
      "['Dataset/Garhwali\\\\Anil - Kan Full Khilana.mp3', 1.4292387, 0.360116, 0.4393863, 0.241782518061567, 0.66752726, -8.828872, 2630.5907920833242, 2885.579765038023, 20.74037368553705, 5318.858971812852, -0.010539116315912644, 0.057585835633183584]\n",
      "['Dataset/Garhwali\\\\Anil - Latuli Teri Mukhdi.mp3', 1.570555, 0.3626278, 0.48157516, 0.25312763897589075, 3.8023126, -3.007123, 4268.121438674055, 3354.2612765096487, 22.27916613627234, 8119.8292536587005, -0.015688429154393148, 0.12216049942797842]\n",
      "['Dataset/Garhwali\\\\Anil - Nepal Ni Jaan.mp3', 1.524486, 0.38318223, 0.51914656, 0.2601575963906747, 18.334099, 0.9972876, 3281.7449526032633, 3399.5728170919747, 20.603476566603685, 6818.556647976788, 2.1792190906418523e-05, 0.06941488413037607]\n",
      "['Dataset/Garhwali\\\\Anil - Pabo Bazaar.mp3', 1.4479604, 0.4396097, 0.5238495, 0.25806992678441465, 1.0505185, -3.1216369, 2266.8406008975567, 2796.011663953723, 21.115783345327255, 4866.88832735408, -0.01288095709102536, 0.044971369702649686]\n",
      "['Dataset/Garhwali\\\\Anil - Pana Piremi.mp3', 1.5794449, 0.3475052, 0.4559925, 0.24824834910444318, 2.384758, -4.596593, 4081.549148737873, 3371.0871485699877, 22.25987908580706, 7960.517237053392, 0.006052074234877789, 0.11136694691349384]\n",
      "['Dataset/Garhwali\\\\Anil - Thand Mathu Chaumaas.mp3', 1.5653156, 0.42761913, 0.55830544, 0.26434756329563774, 0.3351774, -5.965647, 1518.1593555535749, 2017.2597997073628, 20.0514313793112, 2988.345754636997, -0.005617767674232432, 0.03329506703590901]\n",
      "['Dataset/Garhwali\\\\Anil Bist - Bedu Pako Barmasa.mp3', 1.4755101, 0.34131032, 0.47371668, 0.2518707107178759, 6.405137, 0.13318102, 2442.6696528116177, 2620.6526097097208, 20.151182182440966, 4589.022715637413, 0.003095937011353187, 0.05809722852955145]\n",
      "['Dataset/Garhwali\\\\Anil Bist - Mera Baju Ranga.mp3', 1.2997056, 0.4213405, 0.5294989, 0.2594483817594906, 12.288458, 3.5963316, 2758.1650672736155, 3319.7730314797636, 22.050929028631362, 6099.004642656162, -0.013258492498463914, 0.054783548796250706]\n",
      "['Dataset/Garhwali\\\\Anuradha Nirala - Na Tu Mero Lagadu.mp3', 1.6715037, 0.27815044, 0.4105206, 0.239699778251783, 12.926718, -3.5937347, 1917.0188540800295, 2450.874241791577, 22.018346172275248, 3556.306572079076, -0.01727325390098573, 0.03853906004160188]\n",
      "['Dataset/Garhwali\\\\Dinesh Uniyal - Hey Dida Bou Na Maari.mp3', 1.568916, 0.31043038, 0.4750343, 0.2551429787407589, 1.344368, -6.5183525, 1746.8072316198072, 2321.911200839206, 20.55886162448714, 3128.4033415275553, 0.01625567642931981, 0.03830341042810047]\n",
      "['Dataset/Garhwali\\\\Dinesh Uniyal - Holu Ta Kya Holu.mp3', 1.4407204, 0.3578866, 0.51199335, 0.2578207584154091, 5.5442314, 1.3215581, 3009.728704261146, 3402.15546043185, 21.572644583485506, 6634.629249268228, -0.007509417140267169, 0.06083367202052289]\n",
      "['Dataset/Garhwali\\\\Dinesh Uniyal - Jai Ho Ma Chandra Badni.mp3', 1.3315324, 0.36801755, 0.48926958, 0.25080740386845357, 4.5251284, 0.3148693, 2721.206952557763, 3254.7244057741214, 21.990853245242857, 5985.9315561103185, -0.02489801425417752, 0.05523146651856475]\n",
      "['Dataset/Garhwali\\\\Dinesh Uniyal - Katha Laanu Mankhi Ki.mp3', 1.3357537, 0.26628155, 0.35274017, 0.2226006791037879, 1.527845, -8.280621, 1499.0864796141186, 2041.464985289127, 21.372171471248535, 2708.3027338678266, -0.038943228627178604, 0.03136171552099563]\n",
      "['Dataset/Garhwali\\\\Dinesh Uniyal - Sailya Ji Tum Dilhi.mp3', 1.3315324, 0.36801755, 0.48926958, 0.25080740386845357, 4.5251284, 0.3148693, 2721.206952557763, 3254.7244057741214, 21.990853245242857, 5985.9315561103185, -0.02489801425417752, 0.05523146651856475]\n",
      "['Dataset/Garhwali\\\\Gajendra Rana - Kya Dan Lagdi Tu.mp3', 1.4939327, 0.3615802, 0.49838182, 0.2541589117414368, 0.8161863, -4.5962415, 2368.904621062594, 2787.053858770085, 20.78695879886533, 4987.295600248864, -0.01240530918780202, 0.04993141590925485]\n",
      "['Dataset/Garhwali\\\\Gajendra Rana - Leela Ghasiyari.mp3', 1.4959505, 0.43455493, 0.60791516, 0.27522982353699355, 16.27505, 3.9342704, 3003.119544961403, 3302.723422468854, 19.363323460530733, 6578.2421015902555, -0.0015637010215410892, 0.06509865412472508]\n",
      "['Dataset/Garhwali\\\\Gajendra Rana - Leela Ghasyari.mp3', 1.4959505, 0.43455493, 0.60791516, 0.27522982353699355, 16.27505, 3.9342704, 3003.119544961403, 3302.723422468854, 19.363323460530733, 6578.2421015902555, -0.0015637010215410892, 0.06509865412472508]\n",
      "['Dataset/Garhwali\\\\Gajendra Rana - Pushpa Chori.mp3', 1.4810953, 0.35974637, 0.47737548, 0.2518423966158757, 0.7244502, -5.627386, 1950.5662192836821, 2531.878365364082, 21.37338614377541, 3898.3927233703535, 0.01313092940657517, 0.04021982956268282]\n",
      "['Dataset/Garhwali\\\\Gajendra Rana - Rama Siranhi Ki Sundara.mp3', 1.4346666, 0.35473314, 0.5200787, 0.2630541911075402, 0.030597033, -9.063407, 2764.7224569183472, 3768.801783245493, 19.254421219888837, 5439.137789193213, -0.014287786122249523, 0.051679140093286224]\n",
      "['Dataset/Garhwali\\\\Himanshu Rawat Music - Bhola Naachigey.mp3', 1.4927119, 0.44773546, 0.6428881, 0.26994373290276497, 8.146793, 1.1168866, 3521.1143144965417, 3827.5523185361217, 21.566805409267268, 7422.320294864559, 0.012466656457134873, 0.07254730982382196]\n",
      "['Dataset/Garhwali\\\\Himanshu Rawat Music - Bunkhaal Kaalinka.mp3', 1.3934877, 0.4415169, 0.55080414, 0.25653543549009894, 5.449845, -3.1165037, 3858.9399740889144, 3892.109457438431, 20.98270855749005, 7935.549619254316, 0.0021038664477710813, 0.08162720755657868]\n",
      "['Dataset/Garhwali\\\\Himanshu Rawat Music - Dehradun Ki Kaanchi.mp3', 1.3814721, 0.44388753, 0.59162205, 0.2613845032080063, 13.639844, 0.9765099, 2548.030237811375, 3418.7895274883103, 20.453212568212855, 5759.442324814406, -0.01567922074832544, 0.041175585114554075]\n",
      "['Dataset/Garhwali\\\\Himanshu Rawat Music - Gaon Ku Baatu.mp3', 1.4671752, 0.37348533, 0.4917649, 0.2560616842873034, 14.273732, 2.4975505, 2587.531306968338, 3077.82977954521, 21.29486669364932, 5716.297872661602, -0.004608499446664673, 0.05019328407007509]\n",
      "['Dataset/Garhwali\\\\Himanshu Rawat Music - Man Ki Baand.mp3', 1.4719734, 0.489308, 0.5003786, 0.2448165671342029, 8.4347, 0.21832015, 4775.070200783373, 4298.921275100779, 21.792069159652396, 9922.726743990492, 0.021046538391328903, 0.10139627240251368]\n",
      "['Dataset/Garhwali\\\\Himanshu Rawat Music - Mela Ki Chori.mp3', 1.4632446, 0.4689892, 0.55929846, 0.2598741684650868, 9.494381, 0.81318456, 3273.498690834675, 3457.689889658545, 20.969804995254243, 6941.326482377855, -0.024665633603013007, 0.06629455070936066]\n",
      "['Dataset/Garhwali\\\\Himanshu Rawat Music - Sajeelo Garhwal.mp3', 1.4925276, 0.41274038, 0.54597014, 0.2560494534784375, 3.8302095, -4.6385717, 4587.698719698887, 4262.169848275366, 20.382995220507755, 9332.227903318078, 0.012741858215500544, 0.1056908096923695]\n",
      "['Dataset/Garhwali\\\\Jaspal Rana - Phoolon Ka Beech Mein Phyoli.mp3', 1.6178166, 0.36432102, 0.48345363, 0.25169196712144415, 11.216146, 1.7836838, 2612.517135125199, 2794.5632254970005, 22.133087222093703, 4894.534819100572, 0.007192124052389519, 0.060491706280781314]\n",
      "['Dataset/Garhwali\\\\Manglesh Dangwal - O Saiya Meri Kashimra.mp3', 1.4064445, 0.41108182, 0.6018624, 0.2684012861615082, 4.6353493, 1.2283038, 2129.0721315041483, 2347.9436069656185, 20.44412812523985, 3916.391218979459, -0.018196886871864708, 0.0539210858714216]\n",
      "['Dataset/Garhwali\\\\Narender Singh Negi - Aaj Va Dekhi Gari Maa.mp3', 1.4482695, 0.34457558, 0.48273006, 0.25109267176101113, 8.634911, 2.263967, 2285.1068703920223, 2920.2302499779535, 21.616045645074777, 4652.775731580011, -0.0073015350236172085, 0.04611274017684761]\n",
      "['Dataset/Garhwali\\\\Narender Singh Negi - Aandi Gari.mp3', 1.3290741, 0.32358393, 0.4747762, 0.2539630025411752, 10.694418, 0.9464128, 3434.079851602078, 3598.5346549641627, 21.001188282400914, 7526.804689608369, -0.014532751483365584, 0.07025418653907974]\n",
      "['Dataset/Garhwali\\\\Narender Singh Negi - Baaji Jailu.mp3', 1.5748321, 0.38156912, 0.50653315, 0.25924871128422877, 0.24923053, -8.696568, 1858.7797026346277, 2329.103240621935, 20.194944950780027, 3413.931915532867, 0.005063547275760401, 0.0402436444729349]\n",
      "['Dataset/Garhwali\\\\Narender Singh Negi - Baith Basanti Baith Meri.mp3', 1.3768353, 0.3238486, 0.44634938, 0.2463395792028905, 4.470274, -1.7159263, 3047.4651834372644, 3666.17929714793, 21.888289427409173, 7100.692949671258, -0.021012988282622967, 0.053946451633643436]\n",
      "['Dataset/Garhwali\\\\Narender Singh Negi - Baithi Laali Motora Maa.mp3', 1.5385649, 0.39992768, 0.51852226, 0.2574804208184293, 3.0856853, -3.1283746, 2776.570563884995, 3034.8309920906668, 20.44951076316093, 5699.561934329615, 0.005619671264670026, 0.06605452511642286]\n",
      "['Dataset/Garhwali\\\\Narender Singh Negi - Bavada Re Bavada Re.mp3', 1.4658995, 0.34349725, 0.47531322, 0.25385223378440624, 10.464737, 2.0867608, 2137.4499594925655, 2400.937555577808, 21.370098987050138, 4130.352028160468, -0.021594073909143374, 0.05106764048260642]\n",
      "['Dataset/Garhwali\\\\Narender Singh Negi - Chakhuli Meri Fur E.mp3', 1.3697537, 0.35728502, 0.49625832, 0.2561635329190191, 7.2526164, 2.2295935, 3570.923304365296, 3898.169049297268, 20.971881109045196, 8129.034269451728, -0.021842039453090406, 0.07655028543819402]\n",
      "['Dataset/Garhwali\\\\Narender Singh Negi - Chham Chham Ghunghuru Vaajala.mp3', 1.5749832, 0.3572584, 0.5217555, 0.2620083834257946, 5.9319625, 1.7398028, 3736.571048577491, 3520.4348100359716, 21.480621130412217, 7752.23894431711, -0.013849038870597699, 0.0953737375918498]\n",
      "['Dataset/Garhwali\\\\Narender Singh Negi - GMO Ki Gari Syali.mp3', 1.4691663, 0.36656702, 0.4645017, 0.2515242311076648, 14.7187395, 1.4347073, 3535.935422496534, 3377.087929093584, 20.672545788623903, 7258.271277725844, -0.013610556359579317, 0.0872078736150357]\n",
      "['Dataset/Garhwali\\\\Narender Singh Negi - Gvirala Foole Foolege.mp3', 1.1334271, 0.33984604, 0.37402278, 0.21031606547040807, 6.4148655, -9.886108, 2727.1905163973775, 3150.314047394217, 20.546608421421162, 5733.108293163891, -0.05128881352265881, 0.05670720556483713]\n",
      "['Dataset/Garhwali\\\\Narender Singh Negi - Hai Teri Rumaala.mp3', 1.4062947, 0.32304907, 0.42941597, 0.24024226497088658, 4.002381, -3.5052078, 1340.8491295758777, 1567.855917016648, 21.212459855123175, 2414.370265151515, -0.0219914701551494, 0.03524571254378462]\n",
      "['Dataset/Garhwali\\\\Narender Singh Negi - Kajrani Aakhi Teri.mp3', 1.4062947, 0.32304907, 0.42941597, 0.24024226497088658, 4.002381, -3.5052078, 1340.8491295758777, 1567.855917016648, 21.212459855123175, 2414.370265151515, -0.0219914701551494, 0.03524571254378462]\n",
      "['Dataset/Garhwali\\\\Narender Singh Negi - Kakh Harchi Hey Deedo.mp3', 1.3261955, 0.27534762, 0.3958521, 0.2280601910484707, 15.4731245, -0.626817, 2668.009385742774, 2985.3160117283765, 20.048940933067747, 5446.748106400143, -0.016611176332210167, 0.056757074188137066]\n",
      "['Dataset/Garhwali\\\\Narender Singh Negi - Madhuri Madhvi Dekho Kiran.mp3', 1.4816891, 0.3544286, 0.45919636, 0.24879169344559474, 15.274687, 2.6931744, 3648.048657067342, 3249.834059028706, 20.95737768204723, 6992.802111167872, -0.00433087271447073, 0.09870785446670662]\n",
      "['Dataset/Garhwali\\\\Narender Singh Negi - Main Ghas Katlu.mp3', 1.4817677, 0.3259101, 0.4628286, 0.24981088921696207, 8.592488, 1.6154625, 2034.033034355875, 2285.365142086288, 22.584642253284642, 4412.142532336297, -0.011021147024702773, 0.04555804395889666]\n",
      "['Dataset/Garhwali\\\\Narender Singh Negi - Maini Janya Naipal.mp3', 1.524486, 0.38318223, 0.51914656, 0.2601575963906747, 18.334099, 0.9972876, 3281.7449526032633, 3399.5728170919747, 20.603476566603685, 6818.556647976788, 2.1792190906418523e-05, 0.06941488413037607]\n",
      "['Dataset/Garhwali\\\\Narender Singh Negi - Maish Bheji Ki Lai Ni.mp3', 1.4482695, 0.34457558, 0.48273006, 0.25109267176101113, 8.634911, 2.263967, 2285.1068703920223, 2920.2302499779535, 21.616045645074777, 4652.775731580011, -0.0073015350236172085, 0.04611274017684761]\n",
      "['Dataset/Garhwali\\\\Narender Singh Negi - Maluk Ratkyalu.mp3', 1.4103154, 0.43564674, 0.54340994, 0.2671164250649614, 16.643675, 6.762212, 2187.1653869013776, 2799.1453002558424, 20.060304219948662, 4633.997807412361, 0.0026257574101760813, 0.044052221743107176]\n",
      "['Dataset/Garhwali\\\\Narender Singh Negi - Maya Judi Ge.mp3', 1.4350302, 0.39773443, 0.41979578, 0.24010628293544542, 4.3216248, 0.5103797, 3606.4552791201095, 3991.4408931093203, 22.505949025311136, 8650.320543277585, -0.016202801867001095, 0.06502711000285079]\n",
      "['Dataset/Garhwali\\\\Narender Singh Negi - Nach Meri Chhadcchheni Baand.mp3', 1.4250917, 0.36778325, 0.4627724, 0.24805134709603407, 3.8085444, -1.0376883, 3118.2451695979644, 3529.288619165771, 21.820079233281668, 7063.332279245379, -0.029402576822153463, 0.06292877775323537]\n",
      "['Dataset/Garhwali\\\\Narender Singh Negi - Pahada Unchi Dandi.mp3', 1.5709542, 0.39075035, 0.53798246, 0.26467600485590576, 2.5984018, -0.67291266, 3568.1947618877825, 3655.3132211978186, 20.425153389855666, 7216.849561308739, -0.02195910200419216, 0.0887578056587761]\n",
      "['Dataset/Garhwali\\\\Narender Singh Negi - Sher Ka Bacha Jab.mp3', 1.2749735, 0.34370786, 0.4166534, 0.23335632134492487, 7.959155, -0.8426439, 1338.0105768104456, 1583.8861713000617, 21.82945076671551, 2615.0778361913794, -0.019078591191667896, 0.03176011200633383]\n",
      "['Dataset/Garhwali\\\\Narendra Singh Negi - Barkha He Barkha.mp3', 1.3818587, 0.31188643, 0.4354734, 0.23821895330921597, 9.211679, -2.2088015, 2471.0829690530177, 2738.908976528608, 20.15313359652108, 4532.139868740266, -0.03097025598353361, 0.06296730978382951]\n",
      "['Dataset/Garhwali\\\\Narendra Singh Negi - Bhandi Dinu Ma Dikhe.mp3', 1.3668505, 0.31263542, 0.3966692, 0.23520637728424307, 2.0016723, -5.0455728, 1879.5061657435128, 2462.1902062413164, 21.642657347808196, 3647.337506431144, 0.009145945975714593, 0.03665163051827874]\n",
      "['Dataset/Garhwali\\\\Narendra Singh Negi - Ghar Bati Chitthi Aegyayee.mp3', 1.3788617, 0.31767872, 0.4804713, 0.2562668676856108, 4.9808636, -4.5625386, 1536.0311357570276, 1318.877850091019, 20.610504831082164, 2725.8973425521085, -0.01285617061308804, 0.04865475825047916]\n",
      "['Dataset/Garhwali\\\\Narendra Singh Negi - Ghuguti Ghuron Laigi.mp3', 1.4679638, 0.2824044, 0.39512593, 0.23456875887495546, 3.3786714, -4.7135634, 2912.926362634394, 3478.976744480265, 22.301272433588196, 6548.485074222559, -0.00806400716507394, 0.051632404620173725]\n",
      "['Dataset/Garhwali\\\\Narendra Singh Negi - Goulama Baduli.mp3', 1.4179525, 0.30525374, 0.42945296, 0.24095523620282136, 0.7389646, -5.941116, 2455.905877598732, 3174.80457328042, 21.429940429900036, 4956.0443988904835, 0.029096623786156434, 0.04744857215960242]\n",
      "['Dataset/Garhwali\\\\Narendra Singh Negi - Hari Tori Kakhari.mp3', 1.4363633, 0.3227153, 0.44195032, 0.24731906112182891, 0.7644924, -6.2450914, 2467.6259161761627, 2788.3945894360722, 21.107838245812125, 4896.5331397026985, -0.01837593259522076, 0.05691606570512821]\n",
      "['Dataset/Garhwali\\\\Narendra Singh Negi - Ini Holi Ke Uni Holi.mp3', 1.5910312, 0.2806168, 0.37795776, 0.23521784319227595, 3.4724298, -6.0551567, 1875.9564860127678, 2019.798669324858, 22.046158255066484, 4023.6186470658436, 0.04192506032352877, 0.04228819978709892]\n",
      "['Dataset/Garhwali\\\\Narendra Singh Negi - Jai Jai Bola.mp3', 1.4416176, 0.35920054, 0.49744448, 0.25430633415564874, 1.3892064, -2.2677069, 1548.0834173971953, 1916.8167646267282, 21.399382285074093, 2906.9459416716154, -0.026128916355969395, 0.03891502844686798]\n",
      "['Dataset/Garhwali\\\\Narendra Singh Negi - Khojyali Min Khojyali.mp3', 1.3919544, 0.2727981, 0.40805903, 0.24082443299718734, 9.741804, -4.2072453, 1405.4077878600312, 1254.4803329118242, 21.268657508723678, 2411.6768246896277, -0.010878791883351667, 0.04382716942622814]\n",
      "['Dataset/Garhwali\\\\Narendra Singh Negi - Mor Moriki Maand Pelya.mp3', 1.2364255, 0.33724177, 0.45114195, 0.24076172702423437, 0.7790889, -6.0121, 2055.6587927357928, 2591.929147523569, 21.78683259109075, 4221.230580576384, 0.009013317740889846, 0.04454407494220588]\n",
      "['Dataset/Garhwali\\\\Narendra Singh Negi - Na Ukaal Na Udaar.mp3', 1.4566681, 0.38654706, 0.47607136, 0.2527000485921993, 2.6246114, -2.5877743, 1298.1983918276624, 1563.5638726099714, 20.74167754386232, 2484.296946702504, -0.006145942908259945, 0.032839606107414446]\n",
      "['Dataset/Garhwali\\\\Narendra Singh Negi - Naagni Baazar.mp3', 1.4338633, 0.30627745, 0.47347856, 0.2506059123513141, 0.4394857, -5.1092052, 2947.1276855156316, 3383.094628949626, 21.27189209311382, 6142.084097926133, -0.004375726938482908, 0.06161324681298303]\n",
      "['Dataset/Garhwali\\\\Narendra Singh Negi - Nat Roop Ch Na Rang.mp3', 1.3648487, 0.28364664, 0.44833124, 0.24826254913376417, 9.915457, -3.2315185, 1295.597725327449, 1208.2866000686815, 20.681133256854146, 2208.9777974793346, -0.03387181504977663, 0.03982791744268123]\n",
      "['Dataset/Garhwali\\\\Narendra Singh Negi - Otuwa Belena.mp3', 1.494064, 0.30893654, 0.47899392, 0.2531112265420367, 0.13350242, -12.587022, 2020.7555439554749, 2396.0156027014536, 20.67708019194361, 3748.50791936044, 0.022900127018604523, 0.04845729631398269]\n",
      "['Dataset/Garhwali\\\\Narendra Singh Negi - Parsi Dekhi Chhajjam Chhai.mp3', 1.4182734, 0.35222545, 0.4964414, 0.25438552684819216, 2.0321333, -2.935266, 2268.50338463472, 2683.114417748556, 21.119100934569882, 4671.712743455261, -0.024931859493329798, 0.048610687141204055]\n",
      "['Dataset/Garhwali\\\\Narendra Singh Negi - Phooli Jaali Jaai.mp3', 1.4273719, 0.3789168, 0.48642394, 0.24848458336578558, 7.4239264, 0.024467759, 2289.663371412616, 2653.3820876453374, 22.13734584692285, 4642.094072461765, -0.005776239783486696, 0.05324942309574811]\n",
      "['Dataset/Garhwali\\\\Narendra Singh Negi - Rai Maasi Ko Phool.mp3', 1.350987, 0.32419777, 0.48003605, 0.25131606150647584, 0.3138208, -7.76368, 1897.331195623567, 2263.781659906363, 20.62445465587948, 3545.0132039863142, 0.009456780614064611, 0.04527633170602971]\n",
      "['Dataset/Garhwali\\\\Narendra Singh Negi - Saat Paanch Benyoma.mp3', 1.3026756, 0.37845328, 0.43509176, 0.23217323153503092, 3.1940403, -0.6215875, 2514.3156960606857, 3170.2139790600168, 21.591795897566207, 5256.765699872823, 0.04107867543734473, 0.05058609496357845]\n",
      "['Dataset/Garhwali\\\\Narendra Singh Negi - Saun Bhadogi.mp3', 1.4236089, 0.3114752, 0.44504783, 0.24725561260749324, 1.1301202, -10.26442, 1944.4959111706821, 2239.0752688132397, 21.780220583202354, 3633.8904955110497, -0.02020093603554429, 0.04524971134754834]\n",
      "['Dataset/Garhwali\\\\Narendra Singh Negi - Swee Sai Na Khabar Kai.mp3', 1.4362915, 0.31040886, 0.4631099, 0.249453229514591, 1.0263811, -5.292554, 2489.989850811375, 2923.3153649374062, 20.79845959312953, 5043.959086301128, -0.017529491611150777, 0.055378743948710035]\n",
      "['Dataset/Garhwali\\\\Narendra Singh Negi - Teri Sainshan.mp3', 1.4993647, 0.29900548, 0.4504995, 0.250086735143042, 0.8118668, -5.4406447, 1454.2751575264385, 2118.739583121932, 21.498710555825973, 2395.5220191579688, -0.01645915785184787, 0.03557116099132686]\n",
      "['Dataset/Garhwali\\\\Narendra Singh Negi - Thando Re Thando.mp3', 1.4178354, 0.42015952, 0.43185285, 0.23428484300301286, 20.829498, 5.646552, 3321.356907597748, 3668.7856575845103, 20.3181598465649, 7289.041000279185, -0.02934709010807045, 0.0697696320494157]\n",
      "['Dataset/Garhwali\\\\Narendra Singh Negi - Titri Fase.mp3', 1.5217336, 0.31943405, 0.48388404, 0.2587900341309755, 0.8226848, -6.2631345, 2350.0954612076457, 2796.618808288015, 20.724494185001006, 4578.496532129429, -0.02224812153294132, 0.053093990774894614]\n",
      "['Dataset/Garhwali\\\\Narendra Singh Negi - Tumari Maya Maa.mp3', 1.4952136, 0.31051144, 0.45698354, 0.2516641446628009, 8.397891, -0.85867697, 1753.5341269964808, 2240.7906887040135, 22.18696618875817, 3459.914625569349, -0.007694709482498709, 0.03831245313569855]\n",
      "['Dataset/Garhwali\\\\Preetam Bhartwan - Baand Amrawati.mp3', 1.4151199, 0.31915042, 0.48266786, 0.2554696495762139, 0.78885764, -4.6554866, 2577.00733346984, 3058.3139118452573, 21.659350332027277, 5340.87375062918, -0.004457331072536107, 0.051716709847858394]\n",
      "['Dataset/Garhwali\\\\Preetam Bhartwan - Dhaar Ma Ki Jon.mp3', 1.5481735, 0.281809, 0.44471228, 0.25111064649193626, 0.80888975, -5.7382884, 3195.272845245178, 3713.4260460450582, 22.15377711177567, 7014.18927155631, -0.02054342966543327, 0.061630622395701405]\n",
      "['Dataset/Garhwali\\\\Preetam Bhartwan - Gailya Dhanuli.mp3', 1.4837438, 0.29074726, 0.42966038, 0.24335052888720574, 0.78033257, -5.8720284, 2423.4001652807256, 3071.372945325337, 21.522605938848166, 4730.775852934944, 0.027983542612441147, 0.047543821491797346]\n",
      "['Dataset/Garhwali\\\\Preetam Bhartwan - Gajiya.mp3', 1.4467655, 0.35939127, 0.4472855, 0.24292668691798075, 9.299308, 0.30359343, 3284.191047411462, 3419.3997068645444, 21.511116227400304, 6812.780165323244, -0.011709781420893496, 0.06617473341455557]\n",
      "['Dataset/Garhwali\\\\Preetam Bhartwan - Mijajiya Meri Saunjadiya.mp3', 1.4514517, 0.37061933, 0.54592496, 0.2680919150340037, 0.756529, -3.8635683, 3069.046354962864, 3529.712647773659, 21.24068308972467, 6621.144801980198, 0.0026209506166971317, 0.060191885399477445]\n",
      "['Dataset/Garhwali\\\\Preetam Bhartwan - Mohna Teri Murli Baji.mp3', 1.4250236, 0.30948305, 0.42648733, 0.23847078678744912, 0.5763411, -10.457153, 3027.235241668231, 3370.791409764816, 21.918515725462957, 6281.05102397991, 0.01582894354758308, 0.06803864336552137]\n",
      "['Dataset/Garhwali\\\\Preetam Bhartwan - Rajuli Teri Sona Ki Latulyu Maa.mp3', 1.4955723, 0.34373924, 0.5141132, 0.2600021637959564, 0.9806402, -4.2825365, 3653.763289989868, 3976.402241998965, 21.086881192228773, 8015.257903522752, -0.006913396922684537, 0.07527793604191856]\n",
      "['Dataset/Garhwali\\\\Preetam Bhartwan - Runjhun Barkha Lagi Chaumasi.mp3', 1.3761337, 0.28829336, 0.43525106, 0.24513877963506148, 3.284499, -5.9681015, 1916.877670506229, 2155.9176455958886, 22.322572155526597, 3425.4754503693553, -0.01943167222963952, 0.04766904685249605]\n",
      "['Dataset/Garhwali\\\\Preetam Bhartwan - Saruli Meru Jiya Lagige.mp3', 1.5070049, 0.27812743, 0.43461114, 0.2449381970462923, 0.8025375, -6.8948674, 2606.967192144908, 2991.304149583059, 22.0754253543085, 5174.959027391746, 0.002013085553753989, 0.057325064858321034]\n",
      "['Dataset/Garhwali\\\\Preetam Bhartwan - Sobni Tu Chhali Baachin.mp3', 1.4743565, 0.35975388, 0.48831874, 0.2530685681771612, 0.6813906, -4.6381755, 2784.651086071882, 3236.9642559237504, 20.977079133538226, 6124.494289366623, -0.019140357729670054, 0.05946384495517179]\n",
      "['Dataset/Garhwali\\\\Preetam Bhartwan - Sundira Chhori.mp3', 1.5012201, 0.3110766, 0.48918498, 0.25318575628217704, 0.72966236, -7.048211, 2326.9484923124396, 2843.477241116374, 20.977519551592884, 4478.249143939028, 0.00937501121277579, 0.05104935882241038]\n",
      "['Dataset/Garhwali\\\\Preetam Bhartwan - Taunsa Bau.mp3', 1.395556, 0.25476483, 0.39798075, 0.23449402167838557, 0.8093872, -8.739999, 1786.5896828812495, 2528.9615234993184, 22.020021519641922, 3044.1873532451955, 0.03501965615186055, 0.03981202623720681]\n",
      "['Dataset/Garhwali\\\\Preetam Bhartwan - Teri Dini Samaun.mp3', 1.4902836, 0.3227032, 0.4646565, 0.2527614869558003, 0.7618579, -5.587333, 2698.2884196548757, 3171.823438649605, 20.96597901766668, 5627.336921333765, 0.01683836854816762, 0.056772157616857305]\n"
     ]
    }
   ],
   "source": [
    "#build the matrix with genre audios featurized\n",
    "song_features = []\n",
    "\n",
    "for file in bhajan_audio_files:\n",
    "  '''\n",
    "  y is the time series array of the audio file, a 1D np.ndarray\n",
    "  sr is the sampling rate, a number\n",
    "  '''  \n",
    "  y,sr = librosa.load(file,sr=None)   \n",
    "  feature_vector = get_feature_vector(y, sr)\n",
    "\n",
    "  song_features.append([file] + feature_vector)  \n",
    "  print([file] + feature_vector) "
   ]
  },
  {
   "cell_type": "markdown",
   "metadata": {},
   "source": [
    "print(len(song_features))"
   ]
  },
  {
   "cell_type": "code",
   "execution_count": 9,
   "metadata": {},
   "outputs": [],
   "source": [
    "columns = [\"Song_Name\", \"onset_strength\", \"chroma_stft\", \"chroma_cqt\", \"chroma_cens\", \"melspectrogram\", \"mfcc\",\t\n",
    "           \"spectral_centroid\" ,\"spectral_bandwidth\", \"spectral_contrast\", \"spectral_rolloff\",\t\"tonnetz\", \"zero_crossing_rate\"]"
   ]
  },
  {
   "cell_type": "code",
   "execution_count": 10,
   "metadata": {},
   "outputs": [],
   "source": [
    "import pandas as pd\n",
    "df = pd.DataFrame(song_features, columns=columns)"
   ]
  },
  {
   "cell_type": "code",
   "execution_count": 2,
   "metadata": {},
   "outputs": [
    {
     "ename": "NameError",
     "evalue": "name 'genre' is not defined",
     "output_type": "error",
     "traceback": [
      "\u001b[1;31m---------------------------------------------------------------------------\u001b[0m",
      "\u001b[1;31mNameError\u001b[0m                                 Traceback (most recent call last)",
      "\u001b[1;32m<ipython-input-2-d885bb1587eb>\u001b[0m in \u001b[0;36m<module>\u001b[1;34m\u001b[0m\n\u001b[1;32m----> 1\u001b[1;33m \u001b[0mfile_name\u001b[0m \u001b[1;33m=\u001b[0m \u001b[0mgenre\u001b[0m \u001b[1;33m+\u001b[0m \u001b[1;34m'_featres.csv'\u001b[0m\u001b[1;33m\u001b[0m\u001b[1;33m\u001b[0m\u001b[0m\n\u001b[0m\u001b[0;32m      2\u001b[0m \u001b[0mdf\u001b[0m\u001b[1;33m.\u001b[0m\u001b[0mto_csv\u001b[0m\u001b[1;33m(\u001b[0m\u001b[0mfile_name\u001b[0m\u001b[1;33m)\u001b[0m\u001b[1;33m\u001b[0m\u001b[1;33m\u001b[0m\u001b[0m\n",
      "\u001b[1;31mNameError\u001b[0m: name 'genre' is not defined"
     ]
    }
   ],
   "source": [
    "file_name = genre + '_featres.csv'\n",
    "df.to_csv(file_name)   "
   ]
  },
  {
   "cell_type": "code",
   "execution_count": null,
   "metadata": {},
   "outputs": [],
   "source": []
  }
 ],
 "metadata": {
  "kernelspec": {
   "display_name": "Python 3",
   "language": "python",
   "name": "python3"
  },
  "language_info": {
   "codemirror_mode": {
    "name": "ipython",
    "version": 3
   },
   "file_extension": ".py",
   "mimetype": "text/x-python",
   "name": "python",
   "nbconvert_exporter": "python",
   "pygments_lexer": "ipython3",
   "version": "3.8.5"
  }
 },
 "nbformat": 4,
 "nbformat_minor": 4
}
