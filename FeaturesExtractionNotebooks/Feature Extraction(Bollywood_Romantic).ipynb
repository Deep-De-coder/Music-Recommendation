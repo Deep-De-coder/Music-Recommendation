{
 "cells": [
  {
   "cell_type": "code",
   "execution_count": 1,
   "id": "e6902658-a862-4f2b-821f-c6c5c731e995",
   "metadata": {},
   "outputs": [],
   "source": [
    "import librosa\n",
    "from librosa import feature\n",
    "import numpy as np\n",
    "import os\n",
    "from getpass import getpass\n",
    "import urllib\n",
    "from glob import glob\n",
    "import pathlib"
   ]
  },
  {
   "cell_type": "code",
   "execution_count": 2,
   "id": "ad31b19a-b654-4385-b80e-685dcfcd649f",
   "metadata": {},
   "outputs": [],
   "source": [
    "genre = 'Bollywood_Romantic'\n",
    "\n",
    "#directories of the genre\n",
    "romantic_dir =  \"Dataset/Bollywood_Romantic/\"\n",
    "romantic_audio_files = glob(romantic_dir  + '*.mp3')\n",
    "for i in romantic_audio_files:\n",
    "    i = pathlib.Path(i)"
   ]
  },
  {
   "cell_type": "code",
   "execution_count": 3,
   "id": "d7cf23d1-75ac-4fe0-a852-154d51406d00",
   "metadata": {},
   "outputs": [
    {
     "data": {
      "text/plain": [
       "['Dataset/Bollywood_Romantic\\\\Abhijeet Srivastava - Chashni (From Bharat) (1).mp3',\n",
       " 'Dataset/Bollywood_Romantic\\\\Akhil - Duniyaa (1).mp3',\n",
       " 'Dataset/Bollywood_Romantic\\\\Akhil - Duniyaa (From Luka Chuppi).mp3',\n",
       " 'Dataset/Bollywood_Romantic\\\\Akhil Sachdeva - Tera Ban Jaunga (From Kabir Singh).mp3',\n",
       " 'Dataset/Bollywood_Romantic\\\\Alka Yagnik - Agar Tum Saath Ho (From Tamasha).mp3',\n",
       " 'Dataset/Bollywood_Romantic\\\\Alka Yagnik - Agar Tum Saath Ho.mp3',\n",
       " 'Dataset/Bollywood_Romantic\\\\Amaal Mallik - Chale Aana (From De De Pyaar De).mp3',\n",
       " 'Dataset/Bollywood_Romantic\\\\Amaal Mallik - Soch Na Sake.mp3',\n",
       " 'Dataset/Bollywood_Romantic\\\\Ami Mishra - Hasi - Female Version.mp3',\n",
       " 'Dataset/Bollywood_Romantic\\\\AR Rahman - Enna Sona (From OK Jaanu).mp3',\n",
       " 'Dataset/Bollywood_Romantic\\\\AR Rahman - Enna Sona.mp3',\n",
       " 'Dataset/Bollywood_Romantic\\\\Arijit Singh - Gerua.mp3',\n",
       " 'Dataset/Bollywood_Romantic\\\\Arijit Singh - Ghungroo (From War).mp3',\n",
       " 'Dataset/Bollywood_Romantic\\\\Arijit Singh - Itni Si Baat Hain (From Azhar).mp3',\n",
       " 'Dataset/Bollywood_Romantic\\\\Arijit Singh - Kabhi Jo Baadal Barse.mp3',\n",
       " 'Dataset/Bollywood_Romantic\\\\Arijit Singh - Khairiyat.mp3',\n",
       " 'Dataset/Bollywood_Romantic\\\\Arijit Singh - Pal Pal Dil Ke Paas- Title Track.mp3',\n",
       " 'Dataset/Bollywood_Romantic\\\\Arijit Singh - Palat - Tera Hero Idhar Hai (From Main Tera Hero).mp3',\n",
       " 'Dataset/Bollywood_Romantic\\\\Arijit Singh - Raabta (Title Track) [From Raabta].mp3',\n",
       " 'Dataset/Bollywood_Romantic\\\\Arijit Singh - Tujhe Kitna Chahne Lage (From Kabir Singh).mp3',\n",
       " 'Dataset/Bollywood_Romantic\\\\Arijit Singh - Ve Maahi.mp3',\n",
       " 'Dataset/Bollywood_Romantic\\\\Arko - Dariya.mp3',\n",
       " 'Dataset/Bollywood_Romantic\\\\Arko - Nazm Nazm.mp3',\n",
       " 'Dataset/Bollywood_Romantic\\\\Ash King - Baarish.mp3',\n",
       " 'Dataset/Bollywood_Romantic\\\\Ash King - I Love You.mp3',\n",
       " 'Dataset/Bollywood_Romantic\\\\Ash King - Nazar Na Lag Jaaye (From Stree).mp3',\n",
       " 'Dataset/Bollywood_Romantic\\\\Atif Aslam - Dil Diyan Gallan.mp3',\n",
       " 'Dataset/Bollywood_Romantic\\\\Atif Aslam - Jeena Jeena (From Badlapur).mp3',\n",
       " 'Dataset/Bollywood_Romantic\\\\Atif Aslam - O Saathi.mp3',\n",
       " 'Dataset/Bollywood_Romantic\\\\Atif Aslam - Tere Sang Yaara.mp3',\n",
       " 'Dataset/Bollywood_Romantic\\\\Ayushmann Khurrana - Mere Liye Tum Kaafi Ho (From Shubh Mangal Zyada Saavdhan).mp3',\n",
       " 'Dataset/Bollywood_Romantic\\\\Ayushmann Khurrana - Nazm Nazm feat Ayushmann Khurana.mp3',\n",
       " 'Dataset/Bollywood_Romantic\\\\Badshah - Genda Phool (feat Payal Dev).mp3',\n",
       " 'Dataset/Bollywood_Romantic\\\\Dhvani Bhanushali - Vaaste.mp3',\n",
       " 'Dataset/Bollywood_Romantic\\\\Gajendra Verma - Tera Ghata.mp3',\n",
       " 'Dataset/Bollywood_Romantic\\\\Javed-Mohsin - Pal.mp3',\n",
       " 'Dataset/Bollywood_Romantic\\\\Jawad Ahmad - Samjhawan.mp3',\n",
       " 'Dataset/Bollywood_Romantic\\\\Jigar Saraiya - Gulabi.mp3',\n",
       " 'Dataset/Bollywood_Romantic\\\\Jubin Nautiyal - Humnava Mere.mp3',\n",
       " 'Dataset/Bollywood_Romantic\\\\Jubin Nautiyal - Tujhe Kitna Chahein Aur (Film Version) [From Kabir Singh].mp3',\n",
       " 'Dataset/Bollywood_Romantic\\\\Karan Sehmbi - Photo (From Luka Chuppi).mp3',\n",
       " 'Dataset/Bollywood_Romantic\\\\KK - Khuda Jaane.mp3',\n",
       " 'Dataset/Bollywood_Romantic\\\\Kumar Sanu - Tu Mile Dil Khile - Sad.mp3',\n",
       " 'Dataset/Bollywood_Romantic\\\\Lucky Ali - Aahista Aahista.mp3',\n",
       " 'Dataset/Bollywood_Romantic\\\\Meet Bros - Girl I Need You (From Baaghi) (feat Arijit Singh).mp3',\n",
       " 'Dataset/Bollywood_Romantic\\\\Meet Bros - Ik Mulaqaat.mp3',\n",
       " 'Dataset/Bollywood_Romantic\\\\Mohit Chauhan - Tum Se Hi.mp3',\n",
       " 'Dataset/Bollywood_Romantic\\\\Neha Kakkar - Bheegi Bheegi.mp3',\n",
       " 'Dataset/Bollywood_Romantic\\\\Neha Kakkar - Mile Ho Tum (Reprise).mp3',\n",
       " 'Dataset/Bollywood_Romantic\\\\Neha Kakkar - Oh Humsafar (From Oh Humsafar).mp3',\n",
       " 'Dataset/Bollywood_Romantic\\\\Palak Muchhal - Kaun Tujhe (From MSDhoni - The Untold Story).mp3',\n",
       " 'Dataset/Bollywood_Romantic\\\\Payal Dev - Tum Hi Aana (From Marjaavaan).mp3',\n",
       " 'Dataset/Bollywood_Romantic\\\\Pritam - Channa Mereya.mp3',\n",
       " 'Dataset/Bollywood_Romantic\\\\Pritam - Mehrama (From Love Aaj Kal).mp3',\n",
       " 'Dataset/Bollywood_Romantic\\\\Pritam - Mehrama - Extended.mp3',\n",
       " 'Dataset/Bollywood_Romantic\\\\Pritam - Mehrama.mp3',\n",
       " 'Dataset/Bollywood_Romantic\\\\Pritam - Shayad (From Love Aaj Kal).mp3',\n",
       " 'Dataset/Bollywood_Romantic\\\\Pritam - Shayad - Reprise.mp3',\n",
       " 'Dataset/Bollywood_Romantic\\\\Pritam - Shayad.mp3',\n",
       " 'Dataset/Bollywood_Romantic\\\\Priya Saraiya - Sun Saathiya.mp3',\n",
       " 'Dataset/Bollywood_Romantic\\\\Rahat Fateh Ali Khan - Ajj Din Chadheya (From Love Aaj Kal ).mp3',\n",
       " 'Dataset/Bollywood_Romantic\\\\Rahat Fateh Ali Khan - Tere Bin (From Simmba).mp3',\n",
       " 'Dataset/Bollywood_Romantic\\\\Rahat Fateh Ali Khan - Teri Ore.mp3',\n",
       " 'Dataset/Bollywood_Romantic\\\\Rochak Kohli - Tu Hi Yaar Mera (From Pati Patni Aur Woh).mp3',\n",
       " 'Dataset/Bollywood_Romantic\\\\Sachet Tandon - Mere Sohneya (From Kabir Singh).mp3',\n",
       " 'Dataset/Bollywood_Romantic\\\\Sanjay Leela Bhansali - Thode Badmash.mp3',\n",
       " 'Dataset/Bollywood_Romantic\\\\Shaan - Aao Milo Chalo.mp3',\n",
       " 'Dataset/Bollywood_Romantic\\\\Shaan - Chand Sifarish.mp3',\n",
       " 'Dataset/Bollywood_Romantic\\\\Shankar-Ehsaan-Loy - Sajdaa (From My Name Is Khan).mp3',\n",
       " 'Dataset/Bollywood_Romantic\\\\Shreya Ghoshal - Suna Suna.mp3',\n",
       " 'Dataset/Bollywood_Romantic\\\\Sonu Nigam - Saathiya.mp3',\n",
       " 'Dataset/Bollywood_Romantic\\\\Sreeram - Subhanallah.mp3',\n",
       " 'Dataset/Bollywood_Romantic\\\\Sunidhi Chauhan - Lae Dooba.mp3',\n",
       " 'Dataset/Bollywood_Romantic\\\\Tanishk-Bagchi - Makhna.mp3',\n",
       " 'Dataset/Bollywood_Romantic\\\\Tochi-Raina - Kabira.mp3',\n",
       " 'Dataset/Bollywood_Romantic\\\\Ved-Sharma - Malang-_Title-Track_-_From-Malang-Unleash-The-Madness_.mp3',\n",
       " 'Dataset/Bollywood_Romantic\\\\Vishal-Mishra - Kaise-Hua-_From-Kabir-Singh_.mp3',\n",
       " 'Dataset/Bollywood_Romantic\\\\Vishal-Mishra - Manjha.mp3',\n",
       " 'Dataset/Bollywood_Romantic\\\\Vishal-Mishra - Nai-Lagda-_From-Notebook_.mp3',\n",
       " 'Dataset/Bollywood_Romantic\\\\Vishal-Mishra - Sajna-Ve.mp3',\n",
       " 'Dataset/Bollywood_Romantic\\\\Vishal-Shekhar - Zehnaseeb.mp3']"
      ]
     },
     "execution_count": 3,
     "metadata": {},
     "output_type": "execute_result"
    }
   ],
   "source": [
    "romantic_audio_files"
   ]
  },
  {
   "cell_type": "code",
   "execution_count": 4,
   "id": "be4ebda5-48c9-4d6e-a013-bdf91e8ea1de",
   "metadata": {},
   "outputs": [
    {
     "name": "stdout",
     "output_type": "stream",
     "text": [
      "Number of audios : 81\n",
      "<class 'str'>\n"
     ]
    }
   ],
   "source": [
    "print(f'Number of audios : {len(romantic_audio_files)}')\n",
    "print(type(romantic_audio_files[0]))"
   ]
  },
  {
   "cell_type": "code",
   "execution_count": 5,
   "id": "170f4cdc-7eca-47f0-b956-55f5e7efaa79",
   "metadata": {},
   "outputs": [],
   "source": [
    "# Created list of all the functions\n",
    "fn_list_i = [\n",
    "    librosa.onset.onset_strength,              # it is spectral_flux\n",
    "    feature.chroma_stft,                       # chromagram from a waveform or power spectrogram\n",
    "    feature.chroma_cqt,\n",
    "    feature.chroma_cens,\n",
    "    feature.melspectrogram,\n",
    "    feature.mfcc,\n",
    "    feature.spectral_centroid,\n",
    "    feature.spectral_bandwidth,\n",
    "    feature.spectral_contrast,\n",
    "    feature.spectral_rolloff,\n",
    "    feature.tonnetz\n",
    "]\n",
    "\n",
    "fn_list_ii = [\n",
    "    feature.zero_crossing_rate\n",
    "]\n",
    "\n",
    "def get_feature_vector(y,sr): \n",
    "   feat_vect_i = [ np.mean(funct(y,sr)) for funct in fn_list_i]\n",
    "   feat_vect_ii = [ np.mean(funct(y)) for funct in fn_list_ii] \n",
    "   feature_vector = feat_vect_i + feat_vect_ii \n",
    "   return feature_vector"
   ]
  },
  {
   "cell_type": "code",
   "execution_count": 6,
   "id": "e9a8006b-9724-401e-ac55-569774f2412c",
   "metadata": {},
   "outputs": [
    {
     "name": "stderr",
     "output_type": "stream",
     "text": [
      "D:\\Softwares\\anaconda\\lib\\site-packages\\librosa\\core\\audio.py:165: UserWarning: PySoundFile failed. Trying audioread instead.\n",
      "  warnings.warn(\"PySoundFile failed. Trying audioread instead.\")\n"
     ]
    },
    {
     "name": "stdout",
     "output_type": "stream",
     "text": [
      "['Dataset/Bollywood_Romantic\\\\Abhijeet Srivastava - Chashni (From Bharat) (1).mp3', 1.328582, 0.39661926, 0.4364781, 0.23906492858310646, 10.287682, -0.61434036, 2528.87445705972, 3245.8516003672194, 21.11228467468489, 5739.7231622046065, -0.038839543790200604, 0.04366493053932658]\n"
     ]
    },
    {
     "name": "stderr",
     "output_type": "stream",
     "text": [
      "D:\\Softwares\\anaconda\\lib\\site-packages\\librosa\\core\\audio.py:165: UserWarning: PySoundFile failed. Trying audioread instead.\n",
      "  warnings.warn(\"PySoundFile failed. Trying audioread instead.\")\n"
     ]
    },
    {
     "name": "stdout",
     "output_type": "stream",
     "text": [
      "['Dataset/Bollywood_Romantic\\\\Akhil - Duniyaa (1).mp3', 1.2556055, 0.39608938, 0.38324824, 0.22445143736648093, 18.535606, 3.4081435, 1931.5510892987627, 2735.88417505049, 20.95783666362502, 4043.5012419200384, 0.02809911544842699, 0.033159615715525496]\n",
      "['Dataset/Bollywood_Romantic\\\\Akhil - Duniyaa (From Luka Chuppi).mp3', 1.2556055, 0.39608938, 0.38324824, 0.22445143736648093, 18.535606, 3.4081435, 1931.5510892987627, 2735.88417505049, 20.95783666362502, 4043.5012419200384, 0.02809911544842699, 0.033159615715525496]\n",
      "['Dataset/Bollywood_Romantic\\\\Akhil Sachdeva - Tera Ban Jaunga (From Kabir Singh).mp3', 1.2426344, 0.37417236, 0.40534297, 0.22582398293627806, 9.814268, 0.0002744827, 2391.425242339641, 2961.8908211351877, 21.250127319790618, 5223.653171944572, -0.010489923101838832, 0.04519294820362241]\n",
      "['Dataset/Bollywood_Romantic\\\\Alka Yagnik - Agar Tum Saath Ho (From Tamasha).mp3', 1.2199808, 0.34546527, 0.3396007, 0.19882553770182307, 7.8190928, -1.5233234, 1191.5122083511524, 1582.9394259905912, 20.94276484440178, 2385.840724620427, 0.013606294043784573, 0.024792002418727938]\n",
      "['Dataset/Bollywood_Romantic\\\\Alka Yagnik - Agar Tum Saath Ho.mp3', 1.2199808, 0.34546527, 0.3396007, 0.19882553770182307, 7.8190928, -1.5233234, 1191.5122083511524, 1582.9394259905912, 20.94276484440178, 2385.840724620427, 0.013606294043784573, 0.024792002418727938]\n",
      "['Dataset/Bollywood_Romantic\\\\Amaal Mallik - Chale Aana (From De De Pyaar De).mp3', 1.2394507, 0.37779567, 0.39458758, 0.22448046206946248, 11.47504, 2.0426261, 2724.1241878969295, 3487.854709694948, 21.411736434112456, 6573.476531766326, -0.029746986984827035, 0.04773757898554288]\n",
      "['Dataset/Bollywood_Romantic\\\\Amaal Mallik - Soch Na Sake.mp3', 1.2586975, 0.35920602, 0.4393675, 0.2372262389401749, 13.008163, 3.0538764, 2193.988054530164, 2918.8679234193164, 21.208040808518074, 4890.6411489435, -0.012958021411090585, 0.04013180677968535]\n",
      "['Dataset/Bollywood_Romantic\\\\Ami Mishra - Hasi - Female Version.mp3', 1.1946495, 0.27957794, 0.34230354, 0.21133255021587574, 11.363757, -1.7372767, 1811.634805852017, 2542.0148487909605, 22.14579694570842, 3479.971832774909, 0.048625465158576915, 0.033593165328394486]\n",
      "['Dataset/Bollywood_Romantic\\\\AR Rahman - Enna Sona (From OK Jaanu).mp3', 1.0846902, 0.3613393, 0.33472446, 0.1911248109389934, 5.495576, -2.863934, 1819.585781830067, 2743.264794366096, 20.087951802478962, 4056.682838559394, 0.016279151921987648, 0.027996876030409717]\n",
      "['Dataset/Bollywood_Romantic\\\\AR Rahman - Enna Sona.mp3', 1.1794512, 0.40971607, 0.39327425, 0.22238732173550638, 5.8092704, -0.8897705, 1937.0719410270167, 2954.1462416233317, 21.00096490385396, 4281.299863232277, 0.017850614285425826, 0.02961602194694552]\n",
      "['Dataset/Bollywood_Romantic\\\\Arijit Singh - Gerua.mp3', 1.2855043, 0.30578852, 0.43328694, 0.24321350514102846, 13.047802, 1.8792837, 2557.423722961771, 3361.7749049145596, 21.36124267039931, 5594.235395514472, -0.003958040048621695, 0.04713417974669457]\n",
      "['Dataset/Bollywood_Romantic\\\\Arijit Singh - Ghungroo (From War).mp3', 1.386575, 0.50083214, 0.53090763, 0.2558347911435187, 14.343007, 3.788704, 2618.7245884519957, 3316.9256541989475, 19.560353903130075, 5951.556338591069, -0.00271369897751616, 0.043668309292736865]\n",
      "['Dataset/Bollywood_Romantic\\\\Arijit Singh - Itni Si Baat Hain (From Azhar).mp3', 1.2994397, 0.3661572, 0.44436795, 0.2410967410653696, 2.237691, -3.7091649, 2850.6022658671923, 3505.8313466858526, 21.13095780257079, 6575.736464968153, 0.002981545177185007, 0.04881979572763379]\n",
      "['Dataset/Bollywood_Romantic\\\\Arijit Singh - Kabhi Jo Baadal Barse.mp3', 1.1741929, 0.32360154, 0.31346294, 0.2013513498590894, 6.9225135, 1.0355076, 3141.226119829588, 3560.9617433889157, 22.059516611603666, 7209.383718226906, 0.024425980003644075, 0.061792289858441825]\n",
      "['Dataset/Bollywood_Romantic\\\\Arijit Singh - Khairiyat.mp3', 1.2142391, 0.37276185, 0.404819, 0.22513166859801617, 11.341601, 0.589414, 2259.797040070619, 3300.2584977621236, 21.233596879683464, 5003.267919547216, 0.029190199689435026, 0.03597894251405455]\n",
      "['Dataset/Bollywood_Romantic\\\\Arijit Singh - Pal Pal Dil Ke Paas- Title Track.mp3', 1.3287077, 0.33710375, 0.376558, 0.22032190455705783, 7.475111, -1.7938017, 3466.9941688140484, 3824.0618783229024, 22.05800512889555, 7938.783215492794, -0.03200061559517346, 0.06664326776227614]\n",
      "['Dataset/Bollywood_Romantic\\\\Arijit Singh - Palat - Tera Hero Idhar Hai (From Main Tera Hero).mp3', 1.404439, 0.3826538, 0.48974887, 0.24942716859667705, 5.8816504, 0.8777282, 3825.131152738687, 4244.078182397603, 21.577672460647, 8891.70660435988, -0.011140903798891454, 0.07409013207823406]\n",
      "['Dataset/Bollywood_Romantic\\\\Arijit Singh - Raabta (Title Track) [From Raabta].mp3', 1.2508982, 0.33217117, 0.41736415, 0.23511287417962937, 7.7847996, -0.83859384, 2560.4816344679552, 3054.603785557394, 21.556739286957306, 5488.279287060302, 0.019900014478218053, 0.04819365732120424]\n",
      "['Dataset/Bollywood_Romantic\\\\Arijit Singh - Tujhe Kitna Chahne Lage (From Kabir Singh).mp3', 1.2050618, 0.36232403, 0.3477474, 0.21249182974213238, 15.150368, 2.8949115, 2137.6017033637986, 3160.3144602373504, 21.450006043212166, 5016.514898337452, -0.04418698667738275, 0.03121176903715457]\n",
      "['Dataset/Bollywood_Romantic\\\\Arijit Singh - Ve Maahi.mp3', 1.3803877, 0.35733005, 0.39190623, 0.2263683896355348, 7.864102, 1.7103441, 2620.011035276105, 3219.2994812632405, 21.26775707927939, 5876.966788416695, 0.08915979661600118, 0.05015447561479798]\n",
      "['Dataset/Bollywood_Romantic\\\\Arko - Dariya.mp3', 1.1826372, 0.34331763, 0.31949046, 0.20543995648552194, 7.5912685, -2.9714415, 2631.805418803431, 3261.907547216354, 21.972389497554502, 6120.872598931253, -0.023234484141740966, 0.047304114876696994]\n",
      "['Dataset/Bollywood_Romantic\\\\Arko - Nazm Nazm.mp3', 1.1759087, 0.36055586, 0.35596362, 0.20900230167297296, 10.394495, -0.1302549, 2384.891235726806, 3025.9495398317536, 20.48072153593547, 5379.997150911709, 0.054014731246286314, 0.04267274386968897]\n",
      "['Dataset/Bollywood_Romantic\\\\Ash King - Baarish.mp3', 1.167424, 0.34177706, 0.40089455, 0.22148419997381522, 13.715995, 0.86357504, 2597.482624851037, 3130.982829078878, 20.031149264924057, 6077.616987528591, 0.0450622945998813, 0.048535773183068294]\n",
      "['Dataset/Bollywood_Romantic\\\\Ash King - I Love You.mp3', 1.3468014, 0.4074975, 0.4557563, 0.2455102925470566, 14.822417, 2.6871848, 2409.499815297929, 2997.221482405144, 21.84344076085139, 5840.3910955537895, -0.012940983417798806, 0.04025307869620002]\n",
      "['Dataset/Bollywood_Romantic\\\\Ash King - Nazar Na Lag Jaaye (From Stree).mp3', 1.330731, 0.41045997, 0.44273782, 0.23621171143122774, 9.066492, 1.1400893, 2667.094636033576, 3523.8037043656204, 21.383897830865273, 6231.097900183668, 0.031559885094679586, 0.04322671077340586]\n",
      "['Dataset/Bollywood_Romantic\\\\Atif Aslam - Dil Diyan Gallan.mp3', 1.2789384, 0.4423789, 0.3782324, 0.2255541296481371, 12.228309, 3.132736, 1786.4549746338644, 2822.2023043231384, 21.071972614086945, 3670.0944951133206, 0.01684421807834495, 0.026809187141924342]\n",
      "['Dataset/Bollywood_Romantic\\\\Atif Aslam - Jeena Jeena (From Badlapur).mp3', 1.2542855, 0.38108233, 0.32402873, 0.20501696604116657, 9.190771, 1.8536345, 2360.3602455350124, 3340.077191571975, 21.77953655055766, 5314.579570612911, 0.0315676598800935, 0.03486055024324167]\n",
      "['Dataset/Bollywood_Romantic\\\\Atif Aslam - O Saathi.mp3', 1.2971503, 0.36708257, 0.3574445, 0.21693551968841052, 9.94628, 1.692952, 2682.4849938265543, 3546.2956528450113, 21.702925903382027, 6318.111828240253, 0.009112879046701635, 0.04799659592334036]\n",
      "['Dataset/Bollywood_Romantic\\\\Atif Aslam - Tere Sang Yaara.mp3', 1.2878366, 0.3597173, 0.3905029, 0.22683930648069925, 8.783587, -1.1637614, 2112.4525512470714, 2727.72104721096, 22.022472370677306, 4368.152538050072, -0.0033954122885031554, 0.039834422734917836]\n",
      "['Dataset/Bollywood_Romantic\\\\Ayushmann Khurrana - Mere Liye Tum Kaafi Ho (From Shubh Mangal Zyada Saavdhan).mp3', 1.4622241, 0.42089638, 0.46848264, 0.24774017928403674, 16.110132, 2.0995126, 2760.5008070592685, 3327.224543135648, 20.217040104807463, 6168.665352737144, -0.03298882347968906, 0.05324806321027262]\n",
      "['Dataset/Bollywood_Romantic\\\\Ayushmann Khurrana - Nazm Nazm feat Ayushmann Khurana.mp3', 1.2248255, 0.32221267, 0.3583037, 0.21237080260657848, 10.381872, 1.7937618, 2719.6923817416896, 3416.006038355464, 22.331587522398976, 6275.072173407776, -0.002549968988004428, 0.05025723084507984]\n",
      "['Dataset/Bollywood_Romantic\\\\Badshah - Genda Phool (feat Payal Dev).mp3', 1.5407122, 0.45117116, 0.4018311, 0.23687440715804903, 8.439812, -2.2223651, 2569.6761282073367, 3111.1157800804585, 19.805800003221812, 5744.740534917584, -0.016253033547673264, 0.051871654387814575]\n",
      "['Dataset/Bollywood_Romantic\\\\Dhvani Bhanushali - Vaaste.mp3', 1.3043056, 0.36283717, 0.33180898, 0.2078416044123265, 15.622118, 3.879305, 2983.650206334711, 3602.3629033577145, 21.433182193986493, 7046.071718595415, 0.012385164178688625, 0.05874344137957171]\n",
      "['Dataset/Bollywood_Romantic\\\\Gajendra Verma - Tera Ghata.mp3', 1.4230005, 0.42814088, 0.3746518, 0.22388483249001756, 13.721985, -0.3167958, 1740.71400408296, 2519.6517257061387, 20.745839746226515, 3518.2192431263784, -0.015367063329835293, 0.02904956837855043]\n",
      "['Dataset/Bollywood_Romantic\\\\Javed-Mohsin - Pal.mp3', 1.1576049, 0.29372987, 0.3775448, 0.21790945794985123, 10.413451, -1.289034, 2867.616687560964, 3793.0929991796984, 21.81254849588497, 6787.259457308077, 0.03417135435402148, 0.04978388941663587]\n",
      "['Dataset/Bollywood_Romantic\\\\Jawad Ahmad - Samjhawan.mp3', 1.2569063, 0.35012764, 0.36369056, 0.21586839271788413, 3.0941188, -0.9916851, 3064.993579204615, 3579.726012558528, 21.734316086815006, 6962.082341402897, -0.006693903115183313, 0.06476592950753263]\n",
      "['Dataset/Bollywood_Romantic\\\\Jigar Saraiya - Gulabi.mp3', 1.1708513, 0.41596055, 0.43319112, 0.23425280656812958, 6.0972915, 0.3425059, 3156.049940986137, 3811.5314378706153, 20.119588625315483, 7392.070055007935, -0.020454046818887385, 0.055823507763090585]\n",
      "['Dataset/Bollywood_Romantic\\\\Jubin Nautiyal - Humnava Mere.mp3', 1.1461272, 0.39117506, 0.39785042, 0.22203588135304875, 12.217031, 2.6384256, 2057.5333350737774, 2961.799647559347, 20.90639273892244, 4471.801981735179, 0.007952048825970807, 0.036597776584100426]\n",
      "['Dataset/Bollywood_Romantic\\\\Jubin Nautiyal - Tujhe Kitna Chahein Aur (Film Version) [From Kabir Singh].mp3', 1.1193236, 0.39817122, 0.3406195, 0.20252008907924735, 11.295051, 0.9178288, 2384.7549984207208, 3092.08389904369, 20.846026415720456, 5184.758991549774, -0.025126758477455113, 0.043747613172770844]\n",
      "['Dataset/Bollywood_Romantic\\\\Karan Sehmbi - Photo (From Luka Chuppi).mp3', 1.3674264, 0.3881318, 0.39578906, 0.232427813473121, 13.091389, 1.921135, 2358.0656394999073, 3046.582910836662, 20.582123731562454, 5145.880233219335, 0.027840711622693325, 0.04454510136102566]\n",
      "['Dataset/Bollywood_Romantic\\\\KK - Khuda Jaane.mp3', 1.4586866, 0.39016074, 0.40470824, 0.23713729436698658, 8.851106, 2.633979, 1722.2801393160148, 2140.7138267695327, 22.007249389322258, 3744.8645693135936, -0.012588011873637303, 0.0383394169319349]\n",
      "['Dataset/Bollywood_Romantic\\\\Kumar Sanu - Tu Mile Dil Khile - Sad.mp3', 1.302067, 0.31190434, 0.45063126, 0.24410840100952721, 0.29764223, -14.298929, 2465.45220428515, 2503.273843479782, 19.70292076247164, 4592.3694663817605, -0.007483201659739163, 0.06618468467830826]\n",
      "['Dataset/Bollywood_Romantic\\\\Lucky Ali - Aahista Aahista.mp3', 1.4339141, 0.4406182, 0.6092353, 0.26658032164616197, 10.914476, 4.3893757, 2395.1354737579722, 3227.3114063745475, 19.843908283976347, 5561.577728831908, 0.013495674056978501, 0.04028943095262938]\n",
      "['Dataset/Bollywood_Romantic\\\\Meet Bros - Girl I Need You (From Baaghi) (feat Arijit Singh).mp3', 1.2157116, 0.42249626, 0.37035415, 0.21605734769795032, 15.420224, 3.9773316, 2496.312438370916, 3477.417807737167, 21.50430393223877, 5775.737737148849, 0.057508209355833596, 0.04058642139948303]\n",
      "['Dataset/Bollywood_Romantic\\\\Meet Bros - Ik Mulaqaat.mp3', 1.3078542, 0.33443278, 0.4383812, 0.24044749654812192, 9.125259, 1.2880062, 3009.7863020288746, 3538.743873624578, 20.786255733977306, 6939.605348480303, -0.028801716883576627, 0.059704324038574105]\n",
      "['Dataset/Bollywood_Romantic\\\\Mohit Chauhan - Tum Se Hi.mp3', 1.2495484, 0.3661308, 0.38003, 0.21416909472174914, 5.1538053, -1.9593456, 1964.9161801514235, 2216.5358814481947, 19.952018256742715, 4400.063760167726, -0.04626355772029436, 0.04631780283701906]\n",
      "['Dataset/Bollywood_Romantic\\\\Neha Kakkar - Bheegi Bheegi.mp3', 1.1439284, 0.35296652, 0.40054432, 0.22885105631322225, 9.499194, -1.5249711, 2317.115246661265, 3029.1737776597643, 22.018565007562295, 5214.534416096102, -0.030841497466705014, 0.044279829059387835]\n",
      "['Dataset/Bollywood_Romantic\\\\Neha Kakkar - Mile Ho Tum (Reprise).mp3', 1.1491897, 0.30473888, 0.27111617, 0.18602127276365418, 8.031876, -1.5749129, 2259.211916625158, 2945.8297277112015, 22.874154365238407, 5119.248264695632, -0.001031859355935371, 0.041257468876839766]\n",
      "['Dataset/Bollywood_Romantic\\\\Neha Kakkar - Oh Humsafar (From Oh Humsafar).mp3', 1.2971529, 0.35424444, 0.33836004, 0.2105989230108172, 11.59352, 2.4821098, 2452.920766546222, 3176.190121239378, 21.7874877975387, 5575.561685540357, -0.004332808761091287, 0.04322281406442122]\n",
      "['Dataset/Bollywood_Romantic\\\\Palak Muchhal - Kaun Tujhe (From MSDhoni - The Untold Story).mp3', 1.1580242, 0.34660667, 0.39385587, 0.221724162708002, 11.186165, 2.507941, 1999.7879973969661, 2894.577121648618, 21.363853371020813, 4731.409160952714, 0.03534873438883053, 0.036088752801744915]\n",
      "['Dataset/Bollywood_Romantic\\\\Payal Dev - Tum Hi Aana (From Marjaavaan).mp3', 1.109481, 0.37889352, 0.34499896, 0.2066574399260203, 13.936522, 1.614098, 1597.5550272918636, 2330.9699253892563, 21.32203144713614, 3068.8353388247283, 0.05774036923136505, 0.03173008661684783]\n",
      "['Dataset/Bollywood_Romantic\\\\Pritam - Channa Mereya.mp3', 1.2622025, 0.39361763, 0.42190963, 0.23886686775742105, 14.720859, 3.6868093, 2334.3654472601634, 3200.8184151907813, 20.359436643982892, 4948.277067078093, 0.03648386822223604, 0.04289132193469597]\n",
      "['Dataset/Bollywood_Romantic\\\\Pritam - Mehrama (From Love Aaj Kal).mp3', 1.1484342, 0.3594481, 0.38167354, 0.21819816212898802, 10.419789, -2.3978918, 1748.1064077220096, 2442.026500350352, 20.256093475526594, 3216.0237198412965, 0.05640941123393277, 0.03723387305991698]\n",
      "['Dataset/Bollywood_Romantic\\\\Pritam - Mehrama - Extended.mp3', 1.2095085, 0.39694226, 0.42482382, 0.23094988494027183, 16.330791, 1.5507022, 1992.424829622262, 2692.7398941325823, 20.515544161615185, 3678.1736531506904, 0.04331736837754363, 0.04139698077270537]\n",
      "['Dataset/Bollywood_Romantic\\\\Pritam - Mehrama.mp3', 1.3010507, 0.39683464, 0.44949484, 0.23347804515257178, 11.927558, -0.52715856, 1851.5220791605786, 2472.9354871013834, 20.13306398845071, 3373.333544234155, 0.04562193693861131, 0.04151263047032193]\n",
      "['Dataset/Bollywood_Romantic\\\\Pritam - Shayad (From Love Aaj Kal).mp3', 1.1659747, 0.33171582, 0.35611376, 0.21467171325258086, 9.387888, -0.36374614, 2048.2869315572975, 2861.0578594675744, 20.813458931607897, 4083.9204761314118, 0.020531627586335952, 0.04062107510131009]\n",
      "['Dataset/Bollywood_Romantic\\\\Pritam - Shayad - Reprise.mp3', 1.1891279, 0.3848917, 0.4223873, 0.23017484711779396, 18.694239, 1.8758583, 2108.665178603852, 2720.7155723575947, 20.36385271529952, 3925.8027959292535, 0.012626626706466085, 0.04530327074308481]\n",
      "['Dataset/Bollywood_Romantic\\\\Pritam - Shayad.mp3', 1.2725277, 0.35607147, 0.41434067, 0.22585689567896666, 12.276142, 1.5108367, 2059.9411291627553, 2756.183120013611, 20.55353494250082, 4004.01499421783, 0.004854420995625177, 0.04371944648864592]\n",
      "['Dataset/Bollywood_Romantic\\\\Priya Saraiya - Sun Saathiya.mp3', 1.2026634, 0.35407197, 0.42467925, 0.22761923826914013, 10.28991, 1.2214444, 2555.4997939670916, 3414.2760663137406, 20.987539576120064, 5944.880618497557, 0.04997188746912316, 0.044283565377216574]\n",
      "['Dataset/Bollywood_Romantic\\\\Rahat Fateh Ali Khan - Ajj Din Chadheya (From Love Aaj Kal ).mp3', 1.5174369, 0.36178342, 0.48678404, 0.2578142784152387, 11.96761, 2.6145906, 1832.9031559300338, 2133.732456350457, 20.869572990230306, 3824.487045842672, -0.0025390971057112537, 0.047412107558545066]\n",
      "['Dataset/Bollywood_Romantic\\\\Rahat Fateh Ali Khan - Tere Bin (From Simmba).mp3', 1.3885229, 0.37664917, 0.44648474, 0.24331166009441588, 13.016954, 3.0865932, 2363.7544654914836, 2966.4027429147777, 21.066902804153052, 5143.688344216679, 0.03589996480827117, 0.0477941288924856]\n",
      "['Dataset/Bollywood_Romantic\\\\Rahat Fateh Ali Khan - Teri Ore.mp3', 1.3604742, 0.3487975, 0.4826125, 0.2562343737286901, 8.449775, 1.4295498, 2974.988885541898, 3460.936285993956, 20.902909115394845, 6391.6981967775255, 0.0044764549028322095, 0.06465571698678328]\n",
      "['Dataset/Bollywood_Romantic\\\\Rochak Kohli - Tu Hi Yaar Mera (From Pati Patni Aur Woh).mp3', 1.2759383, 0.39889327, 0.37028813, 0.2221620403970102, 10.65288, 0.034279153, 1970.198819860378, 2827.725505506725, 21.459400353799424, 4095.7837989091418, 0.059217304422720086, 0.030773507714449054]\n",
      "['Dataset/Bollywood_Romantic\\\\Sachet Tandon - Mere Sohneya (From Kabir Singh).mp3', 1.1899155, 0.3480471, 0.40727895, 0.23503098944457107, 15.457441, 1.6524681, 2848.8968348943877, 3407.3654537647467, 21.89250619784956, 6721.989785483079, -0.0032571642831223883, 0.053594116657545134]\n",
      "['Dataset/Bollywood_Romantic\\\\Sanjay Leela Bhansali - Thode Badmash.mp3', 1.1756324, 0.3206218, 0.44035894, 0.22886011175151721, 4.437613, -1.9935614, 1981.0803743618692, 2568.8357615585032, 21.103801406909575, 4021.285699590648, -0.0031277799233717044, 0.043893430181925604]\n",
      "['Dataset/Bollywood_Romantic\\\\Shaan - Aao Milo Chalo.mp3', 1.2520269, 0.39479938, 0.4254867, 0.2427189182412526, 12.497642, 2.52275, 2620.2960872545973, 3285.6312695757083, 20.789628540406234, 5848.019563460654, 0.023634676631761786, 0.046369822977091836]\n",
      "['Dataset/Bollywood_Romantic\\\\Shaan - Chand Sifarish.mp3', 1.4917436, 0.43692994, 0.48852137, 0.24813402760691736, 5.7392244, 1.5193015, 2072.121401855559, 2306.7667380201065, 19.81352883910754, 4474.492193692533, 0.0062640167324823255, 0.04992711388316424]\n",
      "['Dataset/Bollywood_Romantic\\\\Shankar-Ehsaan-Loy - Sajdaa (From My Name Is Khan).mp3', 1.4097723, 0.36849698, 0.43876493, 0.23871474173366417, 1.804976, -6.051204, 2214.399313595325, 2703.6010430502724, 20.88528253976721, 4510.397824125993, -0.005089006596606455, 0.04934439566843188]\n",
      "['Dataset/Bollywood_Romantic\\\\Shreya Ghoshal - Suna Suna.mp3', 1.3413719, 0.2840842, 0.33239362, 0.21025825046814225, 4.4389763, -13.008771, 2282.607798076627, 2638.2545843294024, 23.810826995297962, 4224.719437570369, -0.018612727847857037, 0.06060838301795432]\n",
      "['Dataset/Bollywood_Romantic\\\\Sonu Nigam - Saathiya.mp3', 1.3617249, 0.40543616, 0.5573773, 0.2619133175317152, 2.0137446, -1.0754918, 3546.7082301127693, 4076.9024194283043, 20.761396796665558, 8337.983809628442, -0.0157778233888318, 0.07178404238937365]\n",
      "['Dataset/Bollywood_Romantic\\\\Sreeram - Subhanallah.mp3', 1.2307584, 0.31638595, 0.3862653, 0.22753708274984027, 2.8720014, -1.745306, 2913.3865387110372, 3653.5338195476766, 21.953366042595192, 7076.487564523698, -0.008452259653050203, 0.05329767421398404]\n",
      "['Dataset/Bollywood_Romantic\\\\Sunidhi Chauhan - Lae Dooba.mp3', 1.0138011, 0.269153, 0.2561712, 0.172635989800029, 9.66492, -4.9236035, 2006.9481052095664, 2777.832004007433, 20.416357879627387, 4468.898773322825, -0.07443848189701388, 0.03404583065978704]\n",
      "['Dataset/Bollywood_Romantic\\\\Tanishk-Bagchi - Makhna.mp3', 1.236392, 0.39392143, 0.41183776, 0.22135660906068916, 8.280413, 0.16398107, 2937.6657460393644, 3584.393558116675, 20.658065791385493, 7193.678345190182, -0.02237568628594466, 0.04505852510664078]\n",
      "['Dataset/Bollywood_Romantic\\\\Tochi-Raina - Kabira.mp3', 1.3608643, 0.39437574, 0.3737227, 0.22692250336990288, 11.405413, 3.332158, 1649.8491657654074, 2062.657505805325, 21.33837753080248, 3516.104315942678, 0.018402175083975986, 0.035944832600947905]\n",
      "['Dataset/Bollywood_Romantic\\\\Ved-Sharma - Malang-_Title-Track_-_From-Malang-Unleash-The-Madness_.mp3', 1.2871649, 0.39520997, 0.4281799, 0.23576854304915407, 13.62572, 2.1093543, 2894.1255254781577, 3536.6028073925377, 20.503606940297537, 6635.387597671823, 0.011722407796779166, 0.050219886182427044]\n",
      "['Dataset/Bollywood_Romantic\\\\Vishal-Mishra - Kaise-Hua-_From-Kabir-Singh_.mp3', 1.1782911, 0.44685873, 0.35201725, 0.216152487725463, 10.726591, 3.634338, 2946.1832717804955, 4105.8184468661175, 20.024130893850167, 7118.812176342328, -0.0089075585979916, 0.042648796469008356]\n",
      "['Dataset/Bollywood_Romantic\\\\Vishal-Mishra - Manjha.mp3', 1.3067126, 0.45986763, 0.35103485, 0.21024232811482485, 11.713864, 2.6659544, 2206.689460922379, 2987.050847765222, 19.736664377794295, 4614.189540232569, -0.007130228005108909, 0.036362986270022886]\n",
      "['Dataset/Bollywood_Romantic\\\\Vishal-Mishra - Nai-Lagda-_From-Notebook_.mp3', 1.1791794, 0.3951706, 0.36363083, 0.220934001974453, 8.396515, 1.9691583, 2244.0072249359705, 3298.8249192491194, 20.556786245728127, 4713.930076877367, 0.000557973827538702, 0.03734783962294808]\n",
      "['Dataset/Bollywood_Romantic\\\\Vishal-Mishra - Sajna-Ve.mp3', 1.156198, 0.43403894, 0.37150306, 0.21537208209427042, 8.581651, 0.062348474, 2432.8122380439277, 3218.561348149785, 21.20498703966917, 5693.90125998004, -0.023362049672209423, 0.043230027575058214]\n",
      "['Dataset/Bollywood_Romantic\\\\Vishal-Shekhar - Zehnaseeb.mp3', 1.2559682, 0.41221467, 0.3660204, 0.2216565558704388, 8.43178, 1.0972289, 2182.7960199236554, 2902.0596737067817, 21.08519547386427, 4524.0594593100395, 0.032881919109356436, 0.038515742097277504]\n"
     ]
    }
   ],
   "source": [
    "#build the matrix with genre audios featurized\n",
    "song_features = []\n",
    "\n",
    "for file in romantic_audio_files:\n",
    "  '''\n",
    "  y is the time series array of the audio file, a 1D np.ndarray\n",
    "  sr is the sampling rate, a number\n",
    "  '''  \n",
    "  y,sr = librosa.load(file,sr=None)   \n",
    "  feature_vector = get_feature_vector(y, sr)\n",
    "\n",
    "  song_features.append([file] + feature_vector)  \n",
    "  print([file] + feature_vector) "
   ]
  },
  {
   "cell_type": "code",
   "execution_count": 7,
   "id": "851233e3-15e5-4ea7-9af3-820c5e5064a1",
   "metadata": {},
   "outputs": [
    {
     "name": "stdout",
     "output_type": "stream",
     "text": [
      "81\n"
     ]
    }
   ],
   "source": [
    "print(len(song_features))"
   ]
  },
  {
   "cell_type": "code",
   "execution_count": 8,
   "id": "91652fd1-da09-4743-a2a6-477a6dc1fc8f",
   "metadata": {},
   "outputs": [],
   "source": [
    "columns = [\"Song_Name\", \"onset_strength\", \"chroma_stft\", \"chroma_cqt\", \"chroma_cens\", \"melspectrogram\", \"mfcc\",\t\n",
    "           \"spectral_centroid\" ,\"spectral_bandwidth\", \"spectral_contrast\", \"spectral_rolloff\",\t\"tonnetz\", \"zero_crossing_rate\"]"
   ]
  },
  {
   "cell_type": "code",
   "execution_count": 9,
   "id": "15a65f70-a7d9-41f7-87c9-4ee4c2394044",
   "metadata": {},
   "outputs": [],
   "source": [
    "import pandas as pd\n",
    "df = pd.DataFrame(song_features, columns=columns)"
   ]
  },
  {
   "cell_type": "code",
   "execution_count": 10,
   "id": "ce3965ac-71f2-496c-8f37-1030cc5fd427",
   "metadata": {},
   "outputs": [],
   "source": [
    "file_name = genre + '_features.csv'\n",
    "df.to_csv(file_name)  "
   ]
  },
  {
   "cell_type": "code",
   "execution_count": null,
   "id": "1fc8d5d3-1430-4315-bcf5-035696e6344e",
   "metadata": {},
   "outputs": [],
   "source": []
  },
  {
   "cell_type": "code",
   "execution_count": null,
   "id": "52b56ccd-fe32-4b41-8363-d1c15ff34a05",
   "metadata": {},
   "outputs": [],
   "source": []
  },
  {
   "cell_type": "code",
   "execution_count": null,
   "id": "62394bd6-e13c-4d4c-9df4-60aaf139cb3c",
   "metadata": {},
   "outputs": [],
   "source": []
  },
  {
   "cell_type": "code",
   "execution_count": null,
   "id": "54c1c6ae-4f0d-4724-90ff-d9efd4efde0e",
   "metadata": {},
   "outputs": [],
   "source": []
  }
 ],
 "metadata": {
  "kernelspec": {
   "display_name": "Python 3",
   "language": "python",
   "name": "python3"
  },
  "language_info": {
   "codemirror_mode": {
    "name": "ipython",
    "version": 3
   },
   "file_extension": ".py",
   "mimetype": "text/x-python",
   "name": "python",
   "nbconvert_exporter": "python",
   "pygments_lexer": "ipython3",
   "version": "3.8.8"
  }
 },
 "nbformat": 4,
 "nbformat_minor": 5
}
