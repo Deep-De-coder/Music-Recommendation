{
 "cells": [
  {
   "cell_type": "code",
   "execution_count": 1,
   "id": "6dc025b5-c60d-4c0e-a356-df617423fdc0",
   "metadata": {},
   "outputs": [],
   "source": [
    "import librosa\n",
    "from librosa import feature\n",
    "import numpy as np\n",
    "import os\n",
    "from getpass import getpass\n",
    "import urllib\n",
    "from glob import glob\n",
    "import pathlib\n"
   ]
  },
  {
   "cell_type": "code",
   "execution_count": 2,
   "id": "7d4a3a61-d457-40c2-a175-2073fcfc1654",
   "metadata": {},
   "outputs": [],
   "source": [
    "genre = 'bhojpuri'\n",
    "\n",
    "#directories of the genre\n",
    "bhajan_dir =  \"Dataset/bhojpuri/\"\n",
    "bhajan_audio_files = glob(bhajan_dir  + '*.mp3')\n",
    "for i in bhajan_audio_files:\n",
    "    i = pathlib.Path(i)"
   ]
  },
  {
   "cell_type": "code",
   "execution_count": 3,
   "id": "855823a7-b5fb-45a5-9a3a-3d785a3dbbef",
   "metadata": {},
   "outputs": [
    {
     "data": {
      "text/plain": [
       "['Dataset/bhojpuri\\\\Aditya - Suna Suna Sanam.mp3',\n",
       " 'Dataset/bhojpuri\\\\Ajay Anand - Hamar Machhari.mp3',\n",
       " 'Dataset/bhojpuri\\\\Ajay Nishad - Bhatar Bina Kuchh Na.mp3',\n",
       " 'Dataset/bhojpuri\\\\Ankit Tiwari - Aj Fulawna Fat Jai.mp3',\n",
       " 'Dataset/bhojpuri\\\\Ankur Singh - Joban Duno.mp3',\n",
       " 'Dataset/bhojpuri\\\\Ankur Singh - Shikar Ho Jaibu.mp3',\n",
       " 'Dataset/bhojpuri\\\\Ankur Singh - Tohra Pe Raji Na.mp3',\n",
       " 'Dataset/bhojpuri\\\\Annu - Balam Ji Dihale.mp3',\n",
       " 'Dataset/bhojpuri\\\\Annu - Tohar Jhol Piya.mp3',\n",
       " 'Dataset/bhojpuri\\\\Arun Babua - Lad Gail Najariya.mp3',\n",
       " 'Dataset/bhojpuri\\\\Arun Babuwa - Gail Rahi Dekhe.mp3',\n",
       " 'Dataset/bhojpuri\\\\Ashok Sonkar - Dewareu.mp3',\n",
       " 'Dataset/bhojpuri\\\\Ashok Sonkar - Yadav Ji Se Pahile.mp3',\n",
       " 'Dataset/bhojpuri\\\\D K Dasrath - Tang Le Gail Gonda Ke Pardhan.mp3',\n",
       " 'Dataset/bhojpuri\\\\Khesari Lal Yadav - Bhatijwa Ke Mausi Jindabad.mp3',\n",
       " 'Dataset/bhojpuri\\\\Khesari Lal Yadav - Daal De Kewadi Mein Killi.mp3',\n",
       " 'Dataset/bhojpuri\\\\Khesari Lal Yadav - Laga Ke Fair Lovely.mp3',\n",
       " 'Dataset/bhojpuri\\\\Khesari Lal Yadav - Love Kala Sab Hoi.mp3',\n",
       " 'Dataset/bhojpuri\\\\Khesari Lal Yadav - Saiya Arab Gaile.mp3',\n",
       " 'Dataset/bhojpuri\\\\Khesari Lal Yadav - Thik Hai.mp3',\n",
       " 'Dataset/bhojpuri\\\\Lavkush Nishad - Hamar Saiya Aaj Ladan Se.mp3',\n",
       " 'Dataset/bhojpuri\\\\Lavkush Nishad - Jaa Chal Gailu Bhulake.mp3',\n",
       " 'Dataset/bhojpuri\\\\Lavkush Nishad - Sadhuwain.mp3',\n",
       " 'Dataset/bhojpuri\\\\Manish Sonkar - Awa Khala.mp3',\n",
       " 'Dataset/bhojpuri\\\\Mantu Singh - Maar Delu Ankhiya Dhasake.mp3',\n",
       " 'Dataset/bhojpuri\\\\Mantu Singh - Mar Karaibu Ka.mp3',\n",
       " 'Dataset/bhojpuri\\\\Om Prakash - Radha Ji Panghat Pe.mp3',\n",
       " 'Dataset/bhojpuri\\\\Om Prakash - Sadi Me Dag Raja.mp3',\n",
       " 'Dataset/bhojpuri\\\\Pawan Singh - Bhar Jata Dhodi.mp3',\n",
       " 'Dataset/bhojpuri\\\\Pawan Singh - Bin Biyahe Rajaji.mp3',\n",
       " 'Dataset/bhojpuri\\\\Pawan Singh - Chhalakata Hamro Jawaniya.mp3',\n",
       " 'Dataset/bhojpuri\\\\Pawan Singh - Dhibari Me Rahue Na Tel - From Crack Fighter.mp3',\n",
       " 'Dataset/bhojpuri\\\\Pawan Singh - Lollypop Lageli.mp3',\n",
       " 'Dataset/bhojpuri\\\\Pawan Singh - Luliya Ka Mangele.mp3',\n",
       " 'Dataset/bhojpuri\\\\Pawan Singh - Raate Diya Buta Ke Piya Kya Kya Kiya.mp3',\n",
       " 'Dataset/bhojpuri\\\\Pawan Singh - Sorry Sorry.mp3',\n",
       " 'Dataset/bhojpuri\\\\Pawan Yadav - Yadav Ji Ka Beta Hu.mp3',\n",
       " 'Dataset/bhojpuri\\\\Pintu Lal Yadav - Tikuli Satale Bani.mp3',\n",
       " 'Dataset/bhojpuri\\\\Pradum Lal - Kamkarat Naikhe.mp3',\n",
       " 'Dataset/bhojpuri\\\\Pradum Lal - Milal Bate Mauga Bhatar.mp3',\n",
       " 'Dataset/bhojpuri\\\\R K Dehati - Rowata Sajanwa.mp3',\n",
       " 'Dataset/bhojpuri\\\\R K Ji - Ail Bade Saiya.mp3',\n",
       " 'Dataset/bhojpuri\\\\Rahul Singh - Akhilesh Bhaiya.mp3',\n",
       " 'Dataset/bhojpuri\\\\Raju Bedradi - Kahan Bitawal Na.mp3',\n",
       " 'Dataset/bhojpuri\\\\Ramu Nishad - Gaila Kamye.mp3',\n",
       " 'Dataset/bhojpuri\\\\Ramu Nishad - Garmi Bate.mp3',\n",
       " 'Dataset/bhojpuri\\\\Ramu Nishad - Gawane Ke Raat.mp3',\n",
       " 'Dataset/bhojpuri\\\\Ramu Raja - Rowa Tate Kangna.mp3',\n",
       " 'Dataset/bhojpuri\\\\Ravi Diuwakar - Bhtar Jab Chhatiya Dabawe.mp3',\n",
       " 'Dataset/bhojpuri\\\\Ravi Kunwar - Ae Nando.mp3',\n",
       " 'Dataset/bhojpuri\\\\Ravi Kunwar - Manela Batiya Mor.mp3',\n",
       " 'Dataset/bhojpuri\\\\Ravi Raj Surender - Bihar Wala Chhauda.mp3',\n",
       " 'Dataset/bhojpuri\\\\Ritesh Pandey - Gori Tor Chunari.mp3',\n",
       " 'Dataset/bhojpuri\\\\Ritesh Pandey - Karua Tel.mp3',\n",
       " 'Dataset/bhojpuri\\\\Ritesh Pandey - Pandeyji Ka Beta Hoon With Dialogues.mp3',\n",
       " 'Dataset/bhojpuri\\\\Ritesh Pandey - Piyawa Se Pahile 2.mp3',\n",
       " 'Dataset/bhojpuri\\\\Ritesh Pandey - Piyawa Se Pahile.mp3',\n",
       " 'Dataset/bhojpuri\\\\S K Singh - Maugi Ke Bada Nakhra.mp3',\n",
       " 'Dataset/bhojpuri\\\\Sabi Diwana - Sarkela Seeena Se Odhaniya.mp3',\n",
       " 'Dataset/bhojpuri\\\\Samar Singh - Batawa Ae Gori Hamra Ganna Ke Rass.mp3',\n",
       " 'Dataset/bhojpuri\\\\Samresh Sagar - Ail Rahe Iyarwa.mp3',\n",
       " 'Dataset/bhojpuri\\\\Samresh Sagar - Babu Fasali.mp3',\n",
       " 'Dataset/bhojpuri\\\\Samresh Sagar - Sasaram Ke Golgappa.mp3',\n",
       " 'Dataset/bhojpuri\\\\Sandip Nishad - Jab Jab Bhatar Kare.mp3',\n",
       " 'Dataset/bhojpuri\\\\Sanjit Sharma - Lagake Facewash.mp3',\n",
       " 'Dataset/bhojpuri\\\\Sanjit Sharma - Sonwa Re Sonwa.mp3',\n",
       " 'Dataset/bhojpuri\\\\Sawan Singh - Phonewe Karbu Pyar.mp3',\n",
       " 'Dataset/bhojpuri\\\\Shubha Mishra - Baja Baji Ki Na.mp3',\n",
       " 'Dataset/bhojpuri\\\\Sonu Sawariya - Bhatar Khali Saya Sute.mp3',\n",
       " 'Dataset/bhojpuri\\\\Swan Singh - Jab Jab Saiya Kare.mp3',\n",
       " 'Dataset/bhojpuri\\\\Tinku Tufan - Saiya Kariya Milal Na.mp3',\n",
       " 'Dataset/bhojpuri\\\\Vijay Banaeras - Kahela Jalebi Baai.mp3',\n",
       " 'Dataset/bhojpuri\\\\Vijay Banaras Yadav - Chumma Chapkauwa.mp3',\n",
       " 'Dataset/bhojpuri\\\\Vijay Banaras Yadav - Kamar Lapalap Lapke.mp3',\n",
       " 'Dataset/bhojpuri\\\\Vinod Deewana - Satal Rahab Saiya Ke Kora Me.mp3']"
      ]
     },
     "execution_count": 3,
     "metadata": {},
     "output_type": "execute_result"
    }
   ],
   "source": [
    "bhajan_audio_files"
   ]
  },
  {
   "cell_type": "code",
   "execution_count": 4,
   "id": "30c23695-7747-41a3-9428-2022089ed9e1",
   "metadata": {},
   "outputs": [
    {
     "name": "stdout",
     "output_type": "stream",
     "text": [
      "Number of audios : 75\n",
      "<class 'str'>\n"
     ]
    }
   ],
   "source": [
    "print(f'Number of audios : {len(bhajan_audio_files)}')\n",
    "print(type(bhajan_audio_files[0]))"
   ]
  },
  {
   "cell_type": "code",
   "execution_count": 5,
   "id": "d9e7344a-518b-4d02-9918-7e87e0704838",
   "metadata": {},
   "outputs": [],
   "source": [
    "# Created list of all the functions\n",
    "fn_list_i = [\n",
    "    librosa.onset.onset_strength,              # it is spectral_flux\n",
    "    feature.chroma_stft,                       # chromagram from a waveform or power spectrogram\n",
    "    feature.chroma_cqt,\n",
    "    feature.chroma_cens,\n",
    "    feature.melspectrogram,\n",
    "    feature.mfcc,\n",
    "    feature.spectral_centroid,\n",
    "    feature.spectral_bandwidth,\n",
    "    feature.spectral_contrast,\n",
    "    feature.spectral_rolloff,\n",
    "    feature.tonnetz\n",
    "]\n",
    "\n",
    "fn_list_ii = [\n",
    "    feature.zero_crossing_rate\n",
    "]\n",
    "\n",
    "def get_feature_vector(y,sr): \n",
    "   feat_vect_i = [ np.mean(funct(y,sr)) for funct in fn_list_i]\n",
    "   feat_vect_ii = [ np.mean(funct(y)) for funct in fn_list_ii] \n",
    "   feature_vector = feat_vect_i + feat_vect_ii \n",
    "   return feature_vector"
   ]
  },
  {
   "cell_type": "code",
   "execution_count": 6,
   "id": "517d88bd-731c-4c96-aa5a-5a7e99e90d7c",
   "metadata": {},
   "outputs": [
    {
     "name": "stderr",
     "output_type": "stream",
     "text": [
      "D:\\Softwares\\anaconda\\lib\\site-packages\\librosa\\core\\audio.py:165: UserWarning: PySoundFile failed. Trying audioread instead.\n",
      "  warnings.warn(\"PySoundFile failed. Trying audioread instead.\")\n"
     ]
    },
    {
     "name": "stdout",
     "output_type": "stream",
     "text": [
      "['Dataset/bhojpuri\\\\Aditya - Suna Suna Sanam.mp3', 1.3608786, 0.36196494, 0.43441865, 0.24370933454429244, 6.219118, 0.36166927, 2319.4416607663115, 2010.4998261669568, 21.210967452805207, 4294.983469508086, 0.004725245019669014, 0.06644239399953672]\n"
     ]
    },
    {
     "name": "stderr",
     "output_type": "stream",
     "text": [
      "D:\\Softwares\\anaconda\\lib\\site-packages\\librosa\\core\\audio.py:165: UserWarning: PySoundFile failed. Trying audioread instead.\n",
      "  warnings.warn(\"PySoundFile failed. Trying audioread instead.\")\n"
     ]
    },
    {
     "name": "stdout",
     "output_type": "stream",
     "text": [
      "['Dataset/bhojpuri\\\\Ajay Anand - Hamar Machhari.mp3', 1.7646353, 0.3403681, 0.47006133, 0.25447786311831666, 12.16907, -0.0039419127, 2248.833614576386, 2515.081517563231, 22.31297560756813, 4188.137730280228, 0.004537903017977732, 0.049672114199532956]\n",
      "['Dataset/bhojpuri\\\\Ajay Nishad - Bhatar Bina Kuchh Na.mp3', 1.5738455, 0.3369453, 0.5290444, 0.2562305692742866, 17.335182, 0.5208714, 3640.167010327928, 3801.143378693096, 19.947537389663346, 7873.438551480484, -0.02405863938501017, 0.07816761529079097]\n",
      "['Dataset/bhojpuri\\\\Ankit Tiwari - Aj Fulawna Fat Jai.mp3', 1.5630691, 0.449603, 0.6026338, 0.27028426180007936, 23.569584, 6.6674047, 3055.0640410404317, 3685.290629525751, 18.91408954743999, 6546.772417069799, 0.02119260128015205, 0.05976318576303189]\n",
      "['Dataset/bhojpuri\\\\Ankur Singh - Joban Duno.mp3', 1.697463, 0.42615145, 0.5948106, 0.26783998026011485, 19.28844, 2.7240787, 3951.0677335467267, 3599.2639887179225, 20.261552181815926, 7834.1790894011565, -0.0032632310415615876, 0.09627509855339826]\n",
      "['Dataset/bhojpuri\\\\Ankur Singh - Shikar Ho Jaibu.mp3', 1.5476602, 0.38263673, 0.51171917, 0.25449216335808145, 15.722885, 3.9098177, 3568.0872026729294, 3847.4831395109773, 21.67421507173302, 7578.187418780382, -0.01781160689108625, 0.06993183004343745]\n",
      "['Dataset/bhojpuri\\\\Ankur Singh - Tohra Pe Raji Na.mp3', 1.6112257, 0.32958394, 0.56285745, 0.27125697768399615, 13.267436, 4.2454224, 4470.559952911529, 4227.435385030725, 20.655243928721692, 9655.32738485763, 0.0024649673762760418, 0.11353319120788774]\n",
      "['Dataset/bhojpuri\\\\Annu - Balam Ji Dihale.mp3', 1.4646046, 0.3561685, 0.45760185, 0.2517236205018595, 13.3709545, 2.311117, 2983.4750886905786, 3211.6867974640945, 20.32656473333946, 6171.632294505927, -0.008678613947668445, 0.0670974218826968]\n",
      "['Dataset/bhojpuri\\\\Annu - Tohar Jhol Piya.mp3', 1.6055839, 0.38013324, 0.59630597, 0.2666133244326218, 12.515565, 2.5659409, 3734.8987476318785, 4002.577126356563, 22.125459211943987, 8153.653594533692, -0.004933332532341657, 0.07947889171194665]\n",
      "['Dataset/bhojpuri\\\\Arun Babua - Lad Gail Najariya.mp3', 1.6575773, 0.40234005, 0.680643, 0.2795491300537521, 42.26793, 2.91417, 3171.785432996154, 3462.5276910309803, 18.441099084421907, 6686.533316022399, 0.00545666241415232, 0.06164059060157379]\n",
      "['Dataset/bhojpuri\\\\Arun Babuwa - Gail Rahi Dekhe.mp3', 1.5829434, 0.34589264, 0.5619297, 0.2724095464286394, 19.340458, 0.42805088, 3759.7180648035956, 3568.376507286844, 20.361726334661455, 7342.336688978608, 0.013537809382630028, 0.09133305738537092]\n",
      "['Dataset/bhojpuri\\\\Ashok Sonkar - Dewareu.mp3', 1.7070292, 0.3492988, 0.5617826, 0.27092645737025606, 7.304432, -3.4228482, 2969.2807047633646, 3193.578060149072, 21.070713820135392, 5965.7167866173895, -0.0071900809595666455, 0.06308050476560981]\n",
      "['Dataset/bhojpuri\\\\Ashok Sonkar - Yadav Ji Se Pahile.mp3', 1.400146, 0.34972766, 0.45831215, 0.2519163993381529, 13.284309, 2.2338562, 3802.494362190714, 3612.461323818234, 21.809261848389237, 7596.583776358113, -0.026709707559892135, 0.09906310380740707]\n",
      "['Dataset/bhojpuri\\\\D K Dasrath - Tang Le Gail Gonda Ke Pardhan.mp3', 1.7513361, 0.46400145, 0.69888264, 0.2787476338996664, 23.436138, 3.6915195, 2961.8388706572514, 3196.386320325712, 19.306445487128162, 6174.9337804328225, 0.01279295671875953, 0.05582965544691163]\n",
      "['Dataset/bhojpuri\\\\Khesari Lal Yadav - Bhatijwa Ke Mausi Jindabad.mp3', 1.5861611, 0.4007153, 0.6370367, 0.27366892693997896, 28.511717, 5.8000665, 3270.705668064726, 3675.0606530274545, 18.693962682753796, 7193.120435563266, 0.014955422634928828, 0.0615941854813085]\n",
      "['Dataset/bhojpuri\\\\Khesari Lal Yadav - Daal De Kewadi Mein Killi.mp3', 1.5257418, 0.44878072, 0.5889936, 0.2634673069083525, 11.520308, 3.9406004, 3169.735199712692, 3614.687239453083, 19.63850410985395, 6846.237084258708, -0.010323291954236728, 0.061471385200557935]\n",
      "['Dataset/bhojpuri\\\\Khesari Lal Yadav - Laga Ke Fair Lovely.mp3', 1.480652, 0.38289487, 0.56581366, 0.25599150808528925, 9.167842, 3.128987, 3035.0184002689307, 3380.8783279884556, 19.96846881609151, 6623.76856825197, -0.009201463214519355, 0.05755017822602754]\n",
      "['Dataset/bhojpuri\\\\Khesari Lal Yadav - Love Kala Sab Hoi.mp3', 1.4805084, 0.3883495, 0.6075018, 0.2664583155788054, 9.212909, 2.849391, 2991.350728629846, 3436.1782448103627, 21.001545043432884, 6531.114275634351, -0.010821806424097993, 0.05672839627747027]\n",
      "['Dataset/bhojpuri\\\\Khesari Lal Yadav - Saiya Arab Gaile.mp3', 1.4813082, 0.40890944, 0.5518021, 0.2652744720618077, 38.528065, 7.5335703, 3219.982100668266, 3304.64055776811, 17.779182548421044, 6678.8604842457125, -0.018415497836295012, 0.07079035864986809]\n",
      "['Dataset/bhojpuri\\\\Khesari Lal Yadav - Thik Hai.mp3', 1.5887898, 0.4032296, 0.53726965, 0.2555340677604322, 18.898527, 5.4606333, 3283.6751286795875, 3400.020994798583, 20.282092693733848, 7002.504870200937, -0.003978701682113098, 0.07526997722907455]\n",
      "['Dataset/bhojpuri\\\\Lavkush Nishad - Hamar Saiya Aaj Ladan Se.mp3', 1.467281, 0.3991459, 0.46088526, 0.2518714128322875, 10.497574, 2.9213507, 3311.2996421413654, 3644.777210488218, 20.940165724507352, 7255.482685340023, 0.009342970517119647, 0.0713691907051282]\n",
      "['Dataset/bhojpuri\\\\Lavkush Nishad - Jaa Chal Gailu Bhulake.mp3', 1.6656247, 0.37319103, 0.54716855, 0.26807439133065514, 9.639059, -0.576986, 3242.1613508761634, 3403.136875067824, 21.92659416622167, 6831.827534628513, 0.005161413507810483, 0.06855363326520082]\n",
      "['Dataset/bhojpuri\\\\Lavkush Nishad - Sadhuwain.mp3', 1.6297663, 0.39399636, 0.61603194, 0.2746468718276823, 11.4885645, 3.443294, 3477.3700929173847, 3665.2247277148053, 20.550320110022902, 7480.6944237641455, -0.009989747077377799, 0.07396341293180464]\n",
      "['Dataset/bhojpuri\\\\Manish Sonkar - Awa Khala.mp3', 1.5694091, 0.40042642, 0.5559648, 0.26794286167134657, 5.393295, 0.27199006, 3580.7138830852828, 3776.112500860493, 20.632136293889918, 8062.680730809674, -0.021539432895039862, 0.07171898275937609]\n",
      "['Dataset/bhojpuri\\\\Mantu Singh - Maar Delu Ankhiya Dhasake.mp3', 1.3965528, 0.3840461, 0.43849236, 0.23598944630282173, 12.150657, 0.19243558, 3640.518917365981, 3849.836858164083, 20.74728558031061, 7871.013490053511, -0.0056437914755416395, 0.07767567194967526]\n",
      "['Dataset/bhojpuri\\\\Mantu Singh - Mar Karaibu Ka.mp3', 1.8035779, 0.4514633, 0.657702, 0.2752194761616327, 7.457107, 1.2870486, 4127.945412582619, 4254.513379782312, 20.40384220447573, 8836.632857142857, 0.000491441723561006, 0.07806696428571429]\n",
      "['Dataset/bhojpuri\\\\Om Prakash - Radha Ji Panghat Pe.mp3', 1.378396, 0.29273742, 0.3727106, 0.2297029142643577, 1.6911659, -7.3559704, 2378.9165701625666, 2695.0640921617733, 21.140121253559737, 4312.904021114557, 0.027790521546597936, 0.0541814789928022]\n",
      "['Dataset/bhojpuri\\\\Om Prakash - Sadi Me Dag Raja.mp3', 1.3662347, 0.37686065, 0.52312225, 0.264565887985096, 5.774266, -2.0367548, 3083.361917730967, 3209.039689541444, 20.940146308462484, 6117.82233242134, -0.011180108384161192, 0.07540964859781121]\n",
      "['Dataset/bhojpuri\\\\Pawan Singh - Bhar Jata Dhodi.mp3', 1.4836544, 0.377617, 0.49595785, 0.26149906634006104, 26.665262, 6.501056, 3261.8106674202472, 3634.487252871468, 19.125808214396226, 7028.018342727948, -0.01926110489070001, 0.0637092703752168]\n",
      "['Dataset/bhojpuri\\\\Pawan Singh - Bin Biyahe Rajaji.mp3', 1.620202, 0.40797618, 0.6255934, 0.2668270838391209, 15.312483, 3.4923065, 3342.6698038986383, 3575.494123296536, 20.371095919502576, 7241.609487821621, -0.012417425639884351, 0.06549910855028984]\n",
      "['Dataset/bhojpuri\\\\Pawan Singh - Chhalakata Hamro Jawaniya.mp3', 1.5713348, 0.39312845, 0.60422385, 0.2704376323534939, 13.507722, 3.3046875, 2984.381323476068, 3343.0624450956266, 20.217639071614574, 6336.687612496786, 0.01232575788074295, 0.06187531639721008]\n",
      "['Dataset/bhojpuri\\\\Pawan Singh - Dhibari Me Rahue Na Tel - From Crack Fighter.mp3', 1.4725034, 0.35633597, 0.5518854, 0.27093181391391796, 12.411101, 4.115103, 3378.4052081128657, 3656.432267091103, 20.194079603832186, 7258.893882096974, 0.01021872451862993, 0.06892026102103191]\n",
      "['Dataset/bhojpuri\\\\Pawan Singh - Lollypop Lageli.mp3', 1.7554789, 0.4312664, 0.64737916, 0.270293455965189, 3.7863019, 1.3257046, 3220.7861909548383, 3395.5384172347335, 20.46793162928479, 6743.907987816471, -0.006357327649232986, 0.06802910941609366]\n",
      "['Dataset/bhojpuri\\\\Pawan Singh - Luliya Ka Mangele.mp3', 1.443644, 0.44317433, 0.58218306, 0.26526143709009814, 21.863852, 6.709002, 2736.369531077413, 3310.643744365496, 19.56276202789149, 6064.077107069822, -0.000874004358138079, 0.046452907035130005]\n",
      "['Dataset/bhojpuri\\\\Pawan Singh - Raate Diya Buta Ke Piya Kya Kya Kiya.mp3', 1.4502476, 0.3911064, 0.548007, 0.25691661826622064, 17.836475, 4.0245013, 2657.749277285002, 3145.8629699144763, 19.3030806086125, 5737.882379568304, -0.0014782126543970804, 0.051283211593784246]\n",
      "['Dataset/bhojpuri\\\\Pawan Singh - Sorry Sorry.mp3', 1.5094615, 0.39931712, 0.49979094, 0.2566918996630401, 12.316838, 2.414117, 3300.807868287176, 3750.6486339669755, 20.127700945604836, 7272.365991992882, -0.01787057148898545, 0.06277788589857651]\n",
      "['Dataset/bhojpuri\\\\Pawan Yadav - Yadav Ji Ka Beta Hu.mp3', 1.7402467, 0.43107477, 0.6367155, 0.2710622459878727, 1.6488652, -5.6095643, 2804.0829061447976, 3006.9749404231097, 20.592255448944716, 5736.761616724033, 0.007170201706732428, 0.05882061936879935]\n",
      "['Dataset/bhojpuri\\\\Pintu Lal Yadav - Tikuli Satale Bani.mp3', 1.7442605, 0.38814992, 0.6500358, 0.2780556730774307, 13.16257, -0.09862223, 3440.772743113253, 3432.8827886789227, 21.59493118135819, 7158.848977392124, 0.010919907064036633, 0.07182604627096845]\n",
      "['Dataset/bhojpuri\\\\Pradum Lal - Kamkarat Naikhe.mp3', 1.5378169, 0.34313074, 0.546528, 0.2588666045183948, 16.097775, -1.0821452, 3471.7978154977422, 3621.9443625607596, 21.078667949754227, 7499.830900174737, 0.007103078097954389, 0.06804360639725776]\n",
      "['Dataset/bhojpuri\\\\Pradum Lal - Milal Bate Mauga Bhatar.mp3', 1.7879133, 0.3523902, 0.5454477, 0.26528017048007035, 18.596357, -1.9965116, 3394.12581834144, 3072.2189755315817, 22.201743984962096, 6475.656900843722, 0.013737528505721809, 0.08640692697248403]\n",
      "['Dataset/bhojpuri\\\\R K Dehati - Rowata Sajanwa.mp3', 1.4920617, 0.31435964, 0.5566565, 0.27059918528486193, 5.861062, -0.29687992, 3229.345315357448, 3470.113492978262, 21.79855866279963, 6805.243529193539, -0.011456746090812151, 0.06750933478040637]\n",
      "['Dataset/bhojpuri\\\\R K Ji - Ail Bade Saiya.mp3', 1.4458138, 0.33746007, 0.48321006, 0.25302921700740116, 22.644526, 3.1423123, 2774.3988875638943, 3375.28492757129, 21.08305756947243, 5977.463397497885, -0.026836041441276662, 0.05069875822832306]\n",
      "['Dataset/bhojpuri\\\\Rahul Singh - Akhilesh Bhaiya.mp3', 1.5109231, 0.37851018, 0.5697451, 0.2697325933201863, 23.979942, 5.7620673, 2425.7635983833256, 2736.9847932403763, 19.3742239835247, 4735.681105929182, -0.0039899090707894245, 0.055304233565529944]\n",
      "['Dataset/bhojpuri\\\\Raju Bedradi - Kahan Bitawal Na.mp3', 1.5143044, 0.35790431, 0.65859056, 0.2794627338370538, 25.017216, 6.192271, 3435.9303996533727, 3617.018160075859, 18.461713977074016, 7182.325351911737, 0.0044360701240778915, 0.07527245109199639]\n",
      "['Dataset/bhojpuri\\\\Ramu Nishad - Gaila Kamye.mp3', 1.665215, 0.3800081, 0.5918805, 0.2729965849705526, 15.732437, -0.48224682, 3045.773304230665, 3244.4737505671487, 20.546921218029826, 6240.770347585755, 0.013642293047891954, 0.06403222710062509]\n",
      "['Dataset/bhojpuri\\\\Ramu Nishad - Garmi Bate.mp3', 1.6313778, 0.40092823, 0.65285933, 0.27968606010005664, 23.305698, 6.208776, 3287.1017432842414, 3493.2366372990496, 20.029337314016754, 6971.841403837016, 0.004277619196899202, 0.06463375077957947]\n",
      "['Dataset/bhojpuri\\\\Ramu Nishad - Gawane Ke Raat.mp3', 1.5649012, 0.36286858, 0.61144507, 0.27315082494278264, 7.4325633, 2.7616248, 2907.216310061725, 3312.4420936709043, 20.619626510943533, 6285.2496872274, 0.002851156510539292, 0.05668429479821863]\n",
      "['Dataset/bhojpuri\\\\Ramu Raja - Rowa Tate Kangna.mp3', 1.7667923, 0.36840948, 0.6200453, 0.27681858400443415, 12.995936, -0.44965562, 3426.4519023260495, 3236.5040054835417, 21.174660525948138, 6535.661393773422, -0.0028610287299020007, 0.08311425190076391]\n",
      "['Dataset/bhojpuri\\\\Ravi Diuwakar - Bhtar Jab Chhatiya Dabawe.mp3', 1.5201945, 0.40469816, 0.6043894, 0.27214394833310057, 2.9047556, 1.0038503, 3896.7461880403607, 4031.5122695087152, 21.03010995709733, 8504.808509329145, -0.0163537258333425, 0.084374180513396]\n",
      "['Dataset/bhojpuri\\\\Ravi Kunwar - Ae Nando.mp3', 1.6074917, 0.39689317, 0.6082689, 0.2750884297305672, 6.367831, 1.5387906, 4052.154844842083, 4331.508153244693, 20.5250952771224, 8674.855647064162, -0.0038799087194954537, 0.08198885755097256]\n",
      "['Dataset/bhojpuri\\\\Ravi Kunwar - Manela Batiya Mor.mp3', 1.4482695, 0.34457558, 0.48273006, 0.25109267176101113, 8.634911, 2.263967, 2285.1068703920223, 2920.2302499779535, 21.616045645074777, 4652.775731580011, -0.007301535065763143, 0.04611274017684761]\n",
      "['Dataset/bhojpuri\\\\Ravi Raj Surender - Bihar Wala Chhauda.mp3', 1.6755435, 0.356139, 0.5596805, 0.2695601696695904, 14.578047, -1.8956281, 2886.09791187624, 2802.185263569396, 21.621210430626242, 5500.465815913347, 0.0057341579610540264, 0.06828740683681733]\n",
      "['Dataset/bhojpuri\\\\Ritesh Pandey - Gori Tor Chunari.mp3', 1.4988722, 0.35960388, 0.55197316, 0.26383784349582634, 29.063902, 3.8697472, 2746.209541420102, 3107.0221225177715, 18.827042364495746, 5720.31421544551, -0.012893114352540083, 0.055315020124884436]\n",
      "['Dataset/bhojpuri\\\\Ritesh Pandey - Karua Tel.mp3', 1.5976514, 0.34858137, 0.58557475, 0.2745039620976572, 9.827902, 1.8302943, 3492.688948738789, 3518.432315932795, 21.429365963153284, 7217.999841412928, 0.009709431300063496, 0.07879901679492744]\n",
      "['Dataset/bhojpuri\\\\Ritesh Pandey - Pandeyji Ka Beta Hoon With Dialogues.mp3', 1.5746641, 0.41949618, 0.5427779, 0.2580413541504645, 6.8440704, 1.9100652, 3450.546020187052, 4032.586237609251, 20.755270048888658, 7654.765959142129, -0.02320107919040354, 0.06324075534755923]\n",
      "['Dataset/bhojpuri\\\\Ritesh Pandey - Piyawa Se Pahile 2.mp3', 1.5124835, 0.3840282, 0.50755703, 0.2518270127348216, 27.009094, 4.9856567, 2825.308829092357, 3238.9376933015324, 19.61665474767359, 6077.250159464604, -0.029210146322564384, 0.053277551307103516]\n",
      "['Dataset/bhojpuri\\\\Ritesh Pandey - Piyawa Se Pahile.mp3', 1.5866889, 0.37529004, 0.5912835, 0.2716283727706205, 26.463, 5.691095, 3196.7179730148728, 3701.3821279532044, 18.077866825888545, 6834.450879583746, -0.009714343804000608, 0.05926557743699561]\n",
      "['Dataset/bhojpuri\\\\S K Singh - Maugi Ke Bada Nakhra.mp3', 1.4855942, 0.37690067, 0.56288576, 0.2610503414062679, 18.459408, 5.1271963, 3494.570952814395, 3701.983227748602, 17.889664554099237, 7437.324041277292, 0.006193987993533104, 0.07331839142101977]\n",
      "['Dataset/bhojpuri\\\\Sabi Diwana - Sarkela Seeena Se Odhaniya.mp3', 1.5424304, 0.3565293, 0.64121324, 0.27724213430236294, 19.745356, 5.020038, 3194.5738729540244, 3468.466222278606, 19.448555669416823, 6641.739312450749, 0.004065896815586816, 0.06605103725456396]\n",
      "['Dataset/bhojpuri\\\\Samar Singh - Batawa Ae Gori Hamra Ganna Ke Rass.mp3', 1.7811755, 0.43715584, 0.6549501, 0.2779602400661175, 21.805897, 6.3988867, 5168.8777147252895, 4822.596811312841, 19.1308126285726, 10836.87912875483, 0.01608791150493216, 0.10440542116545141]\n",
      "['Dataset/bhojpuri\\\\Samresh Sagar - Ail Rahe Iyarwa.mp3', 1.5351777, 0.42549127, 0.65755624, 0.27775402991296905, 17.410854, 5.947945, 3386.683570721192, 3724.12734178544, 19.84404988234482, 7207.121369598313, 0.008237856540968348, 0.06366650365845923]\n",
      "['Dataset/bhojpuri\\\\Samresh Sagar - Babu Fasali.mp3', 1.6020942, 0.44441122, 0.60985976, 0.26836957184452076, 28.303076, 3.0728705, 2977.0371133036506, 3041.7259204447832, 18.98731574483256, 6122.293249309392, -0.006708826114877356, 0.06629200297824586]\n",
      "['Dataset/bhojpuri\\\\Samresh Sagar - Sasaram Ke Golgappa.mp3', 1.4572697, 0.3658615, 0.5954483, 0.27150106912059424, 19.153605, 4.7985163, 3455.195741778144, 3631.734806649995, 19.598406755702268, 7146.350380508859, -0.0017665933236876952, 0.07477477470209822]\n",
      "['Dataset/bhojpuri\\\\Sandip Nishad - Jab Jab Bhatar Kare.mp3', 1.5112087, 0.40882364, 0.59279066, 0.27409949359875474, 12.172786, 3.7435489, 3669.684366253117, 3571.3738766453644, 19.634162273178646, 7561.474977918741, -0.012546220308811314, 0.0868428629857877]\n",
      "['Dataset/bhojpuri\\\\Sanjit Sharma - Lagake Facewash.mp3', 1.5745338, 0.37181792, 0.58505785, 0.26998038106643585, 20.403385, 5.3853493, 4202.973577842644, 4220.894048554705, 19.563460507606223, 8847.179952427421, 0.01536139726903793, 0.08682903318644791]\n",
      "['Dataset/bhojpuri\\\\Sanjit Sharma - Sonwa Re Sonwa.mp3', 1.5429746, 0.37127188, 0.50404257, 0.2603485762710427, 17.780104, 3.553673, 3645.809897384342, 3925.1013209304742, 20.48813999586837, 7822.680944683908, 0.005365852972659951, 0.07006826943224101]\n",
      "['Dataset/bhojpuri\\\\Sawan Singh - Phonewe Karbu Pyar.mp3', 1.5794559, 0.35502177, 0.5321713, 0.266823141021278, 9.669893, 1.8131808, 3113.691193739129, 3540.7018454819063, 21.189361418172464, 6622.507373422907, -0.025309566045800473, 0.058834394329632965]\n",
      "['Dataset/bhojpuri\\\\Shubha Mishra - Baja Baji Ki Na.mp3', 1.5918431, 0.35320354, 0.5737932, 0.26819305611639815, 16.393908, 3.7529964, 4079.882443042369, 3851.7091796639565, 20.614140258442912, 8571.725241670094, -0.005259899571169687, 0.09657415768973673]\n",
      "['Dataset/bhojpuri\\\\Sonu Sawariya - Bhatar Khali Saya Sute.mp3', 1.5526873, 0.35334328, 0.5647076, 0.2716304522367954, 10.842716, 3.121597, 3088.8011003246093, 3310.786809410489, 20.165526332973947, 6432.261159361745, -0.00806797639287968, 0.07052875997273278]\n",
      "['Dataset/bhojpuri\\\\Swan Singh - Jab Jab Saiya Kare.mp3', 1.5015655, 0.41386807, 0.58827007, 0.2689477736680324, 7.724306, 2.6110852, 2729.381156325096, 3412.7747980686217, 21.223841915949198, 5771.473139948532, -0.005971510753065683, 0.049203119481027346]\n",
      "['Dataset/bhojpuri\\\\Tinku Tufan - Saiya Kariya Milal Na.mp3', 1.6667305, 0.30612123, 0.59525406, 0.2790195650649284, 12.181713, 3.2189975, 4127.514705994222, 4309.397206821297, 20.939479815055652, 9013.970769800604, -0.010958747740677732, 0.08731720575440613]\n",
      "['Dataset/bhojpuri\\\\Vijay Banaeras - Kahela Jalebi Baai.mp3', 1.7104943, 0.3534611, 0.5684312, 0.26948476080524225, 19.879545, -1.8432657, 2861.5119646380454, 3127.0286825354583, 21.141939195410785, 5623.292957304311, 0.01895141814307874, 0.05790578236186689]\n",
      "['Dataset/bhojpuri\\\\Vijay Banaras Yadav - Chumma Chapkauwa.mp3', 1.7876453, 0.3914719, 0.5782207, 0.2677064252463342, 2.7139192, -3.5279822, 2981.875563671789, 3131.268392945902, 20.942240217586082, 6191.7051568549305, 0.005853554960647321, 0.0640699652580088]\n",
      "['Dataset/bhojpuri\\\\Vijay Banaras Yadav - Kamar Lapalap Lapke.mp3', 1.445534, 0.3573841, 0.4892037, 0.24843789097030264, 15.580769, 1.070697, 2570.3179978529242, 2892.3521209922087, 20.75201156979559, 5046.681842562321, 0.04355738072775755, 0.056672277477842765]\n",
      "['Dataset/bhojpuri\\\\Vinod Deewana - Satal Rahab Saiya Ke Kora Me.mp3', 1.760651, 0.4059233, 0.68885034, 0.2804154571775348, 17.789864, 2.068448, 2702.734473417879, 2875.1003569367163, 20.726893904128882, 5544.028421526973, -0.001980372986469438, 0.05292806555378524]\n"
     ]
    }
   ],
   "source": [
    "#build the matrix with genre audios featurized\n",
    "song_features = []\n",
    "\n",
    "for file in bhajan_audio_files:\n",
    "  '''\n",
    "  y is the time series array of the audio file, a 1D np.ndarray\n",
    "  sr is the sampling rate, a number\n",
    "  '''  \n",
    "  y,sr = librosa.load(file,sr=None)   \n",
    "  feature_vector = get_feature_vector(y, sr)\n",
    "\n",
    "  song_features.append([file] + feature_vector)  \n",
    "  print([file] + feature_vector) "
   ]
  },
  {
   "cell_type": "code",
   "execution_count": 7,
   "id": "521262e0-221a-428a-8609-1a4200254aff",
   "metadata": {},
   "outputs": [],
   "source": [
    "columns = [\"Song_Name\", \"onset_strength\", \"chroma_stft\", \"chroma_cqt\", \"chroma_cens\", \"melspectrogram\", \"mfcc\",\t\n",
    "           \"spectral_centroid\" ,\"spectral_bandwidth\", \"spectral_contrast\", \"spectral_rolloff\",\t\"tonnetz\", \"zero_crossing_rate\"]"
   ]
  },
  {
   "cell_type": "code",
   "execution_count": 8,
   "id": "ce8459e6-1439-4cf8-8513-3893d16cb1f5",
   "metadata": {},
   "outputs": [],
   "source": [
    "import pandas as pd\n",
    "df = pd.DataFrame(song_features, columns=columns)"
   ]
  },
  {
   "cell_type": "code",
   "execution_count": 9,
   "id": "d928de2c-3e95-4369-b837-4dc10e3dd0bd",
   "metadata": {},
   "outputs": [],
   "source": [
    "file_name = genre + '_featres.csv'\n",
    "df.to_csv(file_name)   "
   ]
  },
  {
   "cell_type": "code",
   "execution_count": null,
   "id": "ad4ea0c3-b6bb-4cbd-a70b-4ec886109cad",
   "metadata": {},
   "outputs": [],
   "source": []
  },
  {
   "cell_type": "code",
   "execution_count": null,
   "id": "b9e5ce34-59c1-4569-ac11-018404ebf5ab",
   "metadata": {},
   "outputs": [],
   "source": []
  },
  {
   "cell_type": "code",
   "execution_count": null,
   "id": "b0e50b84-1615-46da-8e50-c3ce8b59c33b",
   "metadata": {},
   "outputs": [],
   "source": []
  },
  {
   "cell_type": "code",
   "execution_count": null,
   "id": "8692c0e0-d400-4f15-9d66-f981f2a0c952",
   "metadata": {},
   "outputs": [],
   "source": []
  },
  {
   "cell_type": "code",
   "execution_count": null,
   "id": "d115f951-343a-4b4e-aa56-fb66bbdb7e5c",
   "metadata": {},
   "outputs": [],
   "source": []
  },
  {
   "cell_type": "code",
   "execution_count": null,
   "id": "a5a6fc34-7442-45c5-8dcf-595fdd4103e9",
   "metadata": {},
   "outputs": [],
   "source": []
  }
 ],
 "metadata": {
  "kernelspec": {
   "display_name": "Python 3",
   "language": "python",
   "name": "python3"
  },
  "language_info": {
   "codemirror_mode": {
    "name": "ipython",
    "version": 3
   },
   "file_extension": ".py",
   "mimetype": "text/x-python",
   "name": "python",
   "nbconvert_exporter": "python",
   "pygments_lexer": "ipython3",
   "version": "3.8.8"
  }
 },
 "nbformat": 4,
 "nbformat_minor": 5
}
