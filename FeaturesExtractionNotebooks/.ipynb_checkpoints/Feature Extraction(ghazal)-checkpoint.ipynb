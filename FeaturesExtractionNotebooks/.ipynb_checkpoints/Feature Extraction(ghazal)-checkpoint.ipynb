{
 "cells": [
  {
   "cell_type": "code",
   "execution_count": 1,
   "metadata": {},
   "outputs": [],
   "source": [
    "import librosa\n",
    "from librosa import feature\n",
    "import numpy as np\n",
    "import os\n",
    "from getpass import getpass\n",
    "import urllib\n",
    "from glob import glob\n",
    "import pathlib\n"
   ]
  },
  {
   "cell_type": "code",
   "execution_count": 3,
   "metadata": {},
   "outputs": [],
   "source": [
    "genre = 'ghazal'\n",
    "\n",
    "#directories of the genre\n",
    "bhajan_dir =  \"Dataset/ghazal/\"\n",
    "bhajan_audio_files = glob(bhajan_dir  + '*.mp3')\n",
    "for i in bhajan_audio_files:\n",
    "    i = pathlib.Path(i)"
   ]
  },
  {
   "cell_type": "code",
   "execution_count": 4,
   "metadata": {},
   "outputs": [
    {
     "data": {
      "text/plain": [
       "['Dataset/ghazal\\\\Ghulam Ali - Chupke Chupke Raat Din.mp3',\n",
       " 'Dataset/ghazal\\\\Ghulam Ali - Hangama Hai Kiu Barbad.mp3',\n",
       " 'Dataset/ghazal\\\\Ghulam Ali - Koi Raat Aisi Bhi Aaye.mp3',\n",
       " 'Dataset/ghazal\\\\Ghulam Ali - Woh Nahi Mera Magar - Duet.mp3',\n",
       " 'Dataset/ghazal\\\\Ghulam Ali - Yeh Dil Pagal Dil Mera.mp3',\n",
       " 'Dataset/ghazal\\\\Gulzar - Baarish.mp3',\n",
       " 'Dataset/ghazal\\\\Gulzar - Haath Chute Bhi.mp3',\n",
       " 'Dataset/ghazal\\\\Gulzar - Mausam Ka Jhonka.mp3',\n",
       " 'Dataset/ghazal\\\\Gulzar - Mujhko Bhi.mp3',\n",
       " 'Dataset/ghazal\\\\Gulzar - Raat Chand Aur Main.mp3',\n",
       " 'Dataset/ghazal\\\\Jagjit Singh  Chitra Singh - Sarakti Jaye Hai.mp3',\n",
       " 'Dataset/ghazal\\\\Jagjit Singh - Aap Agar In Dinon Yahan Hote.mp3',\n",
       " 'Dataset/ghazal\\\\Jagjit Singh - Baat Niklegi To.mp3',\n",
       " 'Dataset/ghazal\\\\Jagjit Singh - Dairo-Haram.mp3',\n",
       " 'Dataset/ghazal\\\\Jagjit Singh - Dard Apna Likh Na Payee.mp3',\n",
       " 'Dataset/ghazal\\\\Jagjit Singh - Din Kuch Aise Guzarta Hai Koi.mp3',\n",
       " 'Dataset/ghazal\\\\Jagjit Singh - Gham Ka Khazana Tera Bhi Hai Mera Bhi.mp3',\n",
       " 'Dataset/ghazal\\\\Jagjit Singh - Haath Chhute Bhi To Rishtey Nahi Chhoda Karte (1).mp3',\n",
       " 'Dataset/ghazal\\\\Jagjit Singh - Haath Chhute Bhi To Rishtey Nahi Chhoda Karte.mp3',\n",
       " 'Dataset/ghazal\\\\Jagjit Singh - Hoshwalon Ko Khabar Kya (From Sarfarosh) (1).mp3',\n",
       " 'Dataset/ghazal\\\\Jagjit Singh - Hoshwalon Ko Khabar Kya (From Sarfarosh).mp3',\n",
       " 'Dataset/ghazal\\\\Jagjit Singh - Ishq Ki Dastaan Hai Pyare.mp3',\n",
       " 'Dataset/ghazal\\\\Jagjit Singh - Kabhi Yun Bhi To Ho.mp3',\n",
       " 'Dataset/ghazal\\\\Jagjit Singh - Kainat Chale.mp3',\n",
       " 'Dataset/ghazal\\\\Jagjit Singh - Kuch Na Kuch (From Visions - Vol 2).mp3',\n",
       " 'Dataset/ghazal\\\\Jagjit Singh - Main Nashe Mein Hoon - Live.mp3',\n",
       " 'Dataset/ghazal\\\\Jagjit Singh - Main Nashe Mein Hoon.mp3',\n",
       " 'Dataset/ghazal\\\\Jagjit Singh - Pratham Aa Chumban.mp3',\n",
       " 'Dataset/ghazal\\\\Jagjit Singh - Pyaar Ka Pehla Khat.mp3',\n",
       " 'Dataset/ghazal\\\\Jagjit Singh - Sajaye Payi Hain.mp3',\n",
       " 'Dataset/ghazal\\\\Jagjit Singh - Samne Hai Jo Use.mp3',\n",
       " 'Dataset/ghazal\\\\Jagjit Singh - Shaam Se Aankh Mein Nami Si Hai.mp3',\n",
       " 'Dataset/ghazal\\\\Jagjit Singh - Shayad Aa Jayega Saqi Ko.mp3',\n",
       " 'Dataset/ghazal\\\\Jagjit Singh - Shayad Main Zindagi Ki Sahar.mp3',\n",
       " 'Dataset/ghazal\\\\Jagjit Singh - Tera Chehra Kitna Suhana Lagta Hai (From Unique).mp3',\n",
       " 'Dataset/ghazal\\\\Jagjit Singh - Tera Chehra Kitna.mp3',\n",
       " 'Dataset/ghazal\\\\Jagjit Singh - Tere Qadmon Pe Sar Hoga.mp3',\n",
       " 'Dataset/ghazal\\\\Jagjit Singh - Tu Ambar Ki Aankh Ka Tara.mp3',\n",
       " 'Dataset/ghazal\\\\Jagjit Singh - Tum Itna Jo Muskura Rahe Ho - From Arth.mp3',\n",
       " 'Dataset/ghazal\\\\Jagjit Singh - Tum Ko Dekha To Yeh Khayal Aaya - From Saath Saath.mp3',\n",
       " 'Dataset/ghazal\\\\Jagjit Singh - Tumko Dekha To.mp3',\n",
       " 'Dataset/ghazal\\\\Jagjit Singh - Us Mod Se Shuroo Karen (1).mp3',\n",
       " 'Dataset/ghazal\\\\Jagjit Singh - Us Mod Se Shuroo Karen.mp3',\n",
       " 'Dataset/ghazal\\\\Jagjit Singh - Zindagi Kya Hai (From Koi Baat Chale).mp3',\n",
       " 'Dataset/ghazal\\\\Javed Hussain - Dil Ki Chalegi.mp3',\n",
       " 'Dataset/ghazal\\\\Kavita Krishnamurthy - Koi Chaahat Koi Hasrat.mp3',\n",
       " 'Dataset/ghazal\\\\Kavita Krishnamurthy - Woh Mere Aas Paas Tha.mp3',\n",
       " 'Dataset/ghazal\\\\Kirti Anuraag - Meri Ajab Hai Zindagi.mp3',\n",
       " 'Dataset/ghazal\\\\Lalitya Munshaw - Baat Dil Ki Dil Se.mp3',\n",
       " 'Dataset/ghazal\\\\Lalitya Munshaw - Kuch Aise Meri.mp3',\n",
       " 'Dataset/ghazal\\\\Mehdi Hassan - Main Khayal Hun.mp3',\n",
       " 'Dataset/ghazal\\\\Pankaj Udhas - Aap Jinke Kareeb Hote Hain.mp3',\n",
       " 'Dataset/ghazal\\\\Pankaj Udhas - Aap Ka Aitbaar.mp3',\n",
       " 'Dataset/ghazal\\\\Pankaj Udhas - Ahista.mp3',\n",
       " 'Dataset/ghazal\\\\Pankaj Udhas - Chandi Jaisa Rang - Live In India-1984.mp3',\n",
       " 'Dataset/ghazal\\\\Pankaj Udhas - Chandi Jaisa Rang - Live.mp3',\n",
       " 'Dataset/ghazal\\\\Pankaj Udhas - Chithhi Aayi Hai.mp3',\n",
       " 'Dataset/ghazal\\\\Pankaj Udhas - Deewaron Se Milkar Rona.mp3',\n",
       " 'Dataset/ghazal\\\\Pankaj Udhas - Dil Gaya Tumne Liya.mp3',\n",
       " 'Dataset/ghazal\\\\Pankaj Udhas - Ghazab Kiya.mp3',\n",
       " 'Dataset/ghazal\\\\Pankaj Udhas - Ghungroo Toot Gaye - Introduction - Ghungroo Toot Gaye - Live.mp3',\n",
       " 'Dataset/ghazal\\\\Pankaj Udhas - Introduction - Chandi Jaisa Rang - Live.mp3',\n",
       " 'Dataset/ghazal\\\\Pankaj Udhas - Jeeye to Jeeye Kaise (From Saajan).mp3',\n",
       " 'Dataset/ghazal\\\\Pankaj Udhas - Na Kajare Ki Dhar (From Mohra).mp3',\n",
       " 'Dataset/ghazal\\\\Pankaj Udhas - Sabko Maloom Hai Main Sharabi Nahin.mp3',\n",
       " 'Dataset/ghazal\\\\Pankaj Udhas - Sheeshon Ka Maseeha.mp3',\n",
       " 'Dataset/ghazal\\\\Pankaj Udhas - Suraj Ki Har Kiran Pe - Live.mp3',\n",
       " 'Dataset/ghazal\\\\Pankaj Udhas - Udke Shakhon Se Gulab.mp3',\n",
       " 'Dataset/ghazal\\\\Pankaj Udhas - Yun Sajaa Chand.mp3',\n",
       " 'Dataset/ghazal\\\\Talat Aziz - Aaj Jaane Ki Zid.mp3',\n",
       " 'Dataset/ghazal\\\\Talat Aziz - Aap Ko Mubarak Ho.mp3',\n",
       " 'Dataset/ghazal\\\\Talat Aziz - Ab Yahan Koi Nahin Aayega.mp3',\n",
       " 'Dataset/ghazal\\\\Talat Aziz - Ae jane Wafaa.mp3',\n",
       " 'Dataset/ghazal\\\\Talat Aziz - Bahut Yaad Aaye Bhulate Bhulate.mp3',\n",
       " 'Dataset/ghazal\\\\Talat Aziz - Chaahat Mein Kya.mp3',\n",
       " 'Dataset/ghazal\\\\Talat Aziz - Dulhan Bani Hai Raat.mp3',\n",
       " 'Dataset/ghazal\\\\Talat Aziz - Duniya Kisi Ke Pyar Mein Jannat.mp3',\n",
       " 'Dataset/ghazal\\\\Talat Aziz - Hamari Gali Mein Bhi Aate Raho.mp3',\n",
       " 'Dataset/ghazal\\\\Talat Aziz - Jahan Mein Tujhsa Haseen Kaun Doosra Hoga.mp3',\n",
       " 'Dataset/ghazal\\\\Talat Aziz - Kabhi Yun Bhi Aa.mp3',\n",
       " 'Dataset/ghazal\\\\Talat Aziz - Kahin Chand Rahon Mein (1).mp3',\n",
       " 'Dataset/ghazal\\\\Talat Aziz - Kahin Chand Rahon Mein.mp3',\n",
       " 'Dataset/ghazal\\\\Talat Aziz - Khubsurat Hai Aankhen.mp3',\n",
       " 'Dataset/ghazal\\\\Talat Aziz - Khuda Kare Ki Mohbbaat Main - Version 1.mp3',\n",
       " 'Dataset/ghazal\\\\Talat Aziz - Nawazish Karam Shukriya Meharbani - Original (1).mp3',\n",
       " 'Dataset/ghazal\\\\Talat Aziz - Nawazish Karam Shukriya Meharbani - Original.mp3',\n",
       " 'Dataset/ghazal\\\\Talat Aziz - Pathar Pe Gira Sheesha.mp3',\n",
       " 'Dataset/ghazal\\\\Talat Aziz - Pyar Karna To Ek Ibadat Hai (1).mp3',\n",
       " 'Dataset/ghazal\\\\Talat Aziz - Pyar Karna To Ek Ibadat Hai.mp3',\n",
       " 'Dataset/ghazal\\\\Talat Aziz - Sun Li Jo Khuda Ne (1).mp3',\n",
       " 'Dataset/ghazal\\\\Talat Aziz - Sun Li Jo Khuda Ne.mp3',\n",
       " 'Dataset/ghazal\\\\Talat Aziz - Ye Kehrahi Hai.mp3',\n",
       " 'Dataset/ghazal\\\\Talat Aziz - Yeh Milan Khwab Sa.mp3',\n",
       " 'Dataset/ghazal\\\\Talat Aziz - Zindagi Jab Bhi.mp3']"
      ]
     },
     "execution_count": 4,
     "metadata": {},
     "output_type": "execute_result"
    }
   ],
   "source": [
    "bhajan_audio_files"
   ]
  },
  {
   "cell_type": "code",
   "execution_count": 5,
   "metadata": {},
   "outputs": [
    {
     "name": "stdout",
     "output_type": "stream",
     "text": [
      "Number of audios : 94\n",
      "<class 'str'>\n"
     ]
    }
   ],
   "source": [
    "print(f'Number of audios : {len(bhajan_audio_files)}')\n",
    "print(type(bhajan_audio_files[0]))"
   ]
  },
  {
   "cell_type": "code",
   "execution_count": 6,
   "metadata": {},
   "outputs": [],
   "source": [
    "# Created list of all the functions\n",
    "fn_list_i = [\n",
    "    librosa.onset.onset_strength,              # it is spectral_flux\n",
    "    feature.chroma_stft,                       # chromagram from a waveform or power spectrogram\n",
    "    feature.chroma_cqt,\n",
    "    feature.chroma_cens,\n",
    "    feature.melspectrogram,\n",
    "    feature.mfcc,\n",
    "    feature.spectral_centroid,\n",
    "    feature.spectral_bandwidth,\n",
    "    feature.spectral_contrast,\n",
    "    feature.spectral_rolloff,\n",
    "    feature.tonnetz\n",
    "]\n",
    "\n",
    "fn_list_ii = [\n",
    "    feature.zero_crossing_rate\n",
    "]\n",
    "\n",
    "def get_feature_vector(y,sr): \n",
    "   feat_vect_i = [ np.mean(funct(y,sr)) for funct in fn_list_i]\n",
    "   feat_vect_ii = [ np.mean(funct(y)) for funct in fn_list_ii] \n",
    "   feature_vector = feat_vect_i + feat_vect_ii \n",
    "   return feature_vector"
   ]
  },
  {
   "cell_type": "code",
   "execution_count": 7,
   "metadata": {},
   "outputs": [
    {
     "name": "stderr",
     "output_type": "stream",
     "text": [
      "C:\\ProgramData\\Anaconda3\\lib\\site-packages\\librosa\\core\\audio.py:165: UserWarning: PySoundFile failed. Trying audioread instead.\n",
      "  warnings.warn(\"PySoundFile failed. Trying audioread instead.\")\n"
     ]
    },
    {
     "name": "stdout",
     "output_type": "stream",
     "text": [
      "['Dataset/ghazal\\\\Ghulam Ali - Chupke Chupke Raat Din.mp3', 1.3417838, 0.39156967, 0.40805033, 0.23732448572116485, 4.3161035, 1.9489748, 2515.133953059313, 3188.5338159242183, 20.550983646623276, 5314.307402608498, -0.008987804584623511, 0.04861567806816456]\n"
     ]
    },
    {
     "name": "stderr",
     "output_type": "stream",
     "text": [
      "C:\\ProgramData\\Anaconda3\\lib\\site-packages\\librosa\\core\\audio.py:165: UserWarning: PySoundFile failed. Trying audioread instead.\n",
      "  warnings.warn(\"PySoundFile failed. Trying audioread instead.\")\n"
     ]
    },
    {
     "name": "stdout",
     "output_type": "stream",
     "text": [
      "['Dataset/ghazal\\\\Ghulam Ali - Hangama Hai Kiu Barbad.mp3', 1.3521811, 0.334898, 0.40469718, 0.2314075818672926, 0.7369906, -6.433002, 1525.99068198986, 1638.8822383070562, 20.647740414253082, 2938.074159861809, 0.035097736824447175, 0.03573599026763592]\n",
      "['Dataset/ghazal\\\\Ghulam Ali - Koi Raat Aisi Bhi Aaye.mp3', 1.2968297, 0.35050026, 0.3489287, 0.2153377665800152, 1.9076477, -3.0838003, 2166.0936404922295, 2637.2559425893983, 21.19008423416994, 4357.404281399693, -0.05728198248285395, 0.05053114432071521]\n",
      "['Dataset/ghazal\\\\Ghulam Ali - Woh Nahi Mera Magar - Duet.mp3', 1.2658507, 0.362092, 0.36080176, 0.22103123476083295, 6.674773, 0.10418408, 2282.658267252181, 2906.5939996969273, 21.47860024343188, 5056.693279109589, 0.014993348112870425, 0.03866012949486301]\n",
      "['Dataset/ghazal\\\\Ghulam Ali - Yeh Dil Pagal Dil Mera.mp3', 1.3354491, 0.4500603, 0.47986364, 0.2503594715515579, 4.6646156, 0.41650236, 2420.5138087265577, 2354.068461324691, 21.222461112740362, 5028.0237757138475, -0.004198069809922541, 0.06226157765622944]\n",
      "['Dataset/ghazal\\\\Gulzar - Baarish.mp3', 1.3159131, 0.41914666, 0.44315237, 0.23167497837008977, 0.09023415, -13.296348, 1646.8519968151272, 2032.3166758611924, 19.634792865131196, 3144.1477638823803, -0.02518781722855611, 0.04136227265405342]\n",
      "['Dataset/ghazal\\\\Gulzar - Haath Chute Bhi.mp3', 1.3128772, 0.42777005, 0.43990713, 0.23712801933513755, 5.120662, 1.4581535, 3627.758335740965, 3649.9060274353214, 21.756479829301682, 7702.126461499576, 0.02892914041823018, 0.08472885182595721]\n",
      "['Dataset/ghazal\\\\Gulzar - Mausam Ka Jhonka.mp3', 1.2745631, 0.45070633, 0.41356075, 0.22596140586389668, 2.5861962, -4.155369, 2571.5170068565435, 2905.327504000448, 19.66193692649185, 5237.772835245608, -0.0049676640288802126, 0.06323075867246325]\n",
      "['Dataset/ghazal\\\\Gulzar - Mujhko Bhi.mp3', 0.95114493, 0.370954, 0.39835548, 0.2073471444234978, 0.48265424, -11.805501, 1493.9666375873037, 2154.411507725179, 17.010485904111945, 2913.066816482734, 0.009267818731959447, 0.028050966897694908]\n",
      "['Dataset/ghazal\\\\Gulzar - Raat Chand Aur Main.mp3', 1.2872552, 0.4816934, 0.31422365, 0.20287832398290395, 4.7056813, 2.2028246, 2696.794151754431, 3301.5019381342163, 21.450009514239724, 5942.49119793315, 0.05031855972759889, 0.050398144700045035]\n",
      "['Dataset/ghazal\\\\Jagjit Singh  Chitra Singh - Sarakti Jaye Hai.mp3', 1.216421, 0.3388329, 0.35204086, 0.212038488372399, 1.4143305, -7.675018, 1597.3704936580268, 2196.076488221018, 19.91877502479224, 3069.756614712359, 0.007481660619315467, 0.030894821199192585]\n",
      "['Dataset/ghazal\\\\Jagjit Singh - Aap Agar In Dinon Yahan Hote.mp3', 1.3400898, 0.37636986, 0.40572014, 0.23537736723036776, 10.05627, 2.3991199, 2316.2987520919824, 3364.550230392337, 21.31604064269338, 5240.449879895066, -0.04289370755199141, 0.03379101013089067]\n",
      "['Dataset/ghazal\\\\Jagjit Singh - Baat Niklegi To.mp3', 1.1251075, 0.35949355, 0.3082927, 0.20067522228796286, 2.358847, -4.2015, 1209.029460568201, 1825.1690658607977, 20.928239871950534, 2212.5687875707213, -0.0020332311574042953, 0.022646848686682285]\n",
      "['Dataset/ghazal\\\\Jagjit Singh - Dairo-Haram.mp3', 1.4311249, 0.43868294, 0.46836752, 0.2466783133661439, 6.114722, 0.7713471, 3353.721201997198, 3895.5924236070487, 20.577154990443834, 7365.4196116467565, 0.03690617347635547, 0.06576000367922445]\n",
      "['Dataset/ghazal\\\\Jagjit Singh - Dard Apna Likh Na Payee.mp3', 1.2315577, 0.3534379, 0.3667079, 0.21788526160903635, 12.638012, 2.8622622, 2710.08060344464, 3628.492801281991, 21.415348171774156, 6115.499490743631, 0.023115508837481875, 0.042925610766186936]\n",
      "['Dataset/ghazal\\\\Jagjit Singh - Din Kuch Aise Guzarta Hai Koi.mp3', 1.4194705, 0.38318923, 0.3994998, 0.23220803310011473, 8.248969, 0.64383554, 3462.9764354375134, 3724.036148373992, 21.05306621496802, 7746.681014325096, 0.03377893892538361, 0.07509128172073447]\n",
      "['Dataset/ghazal\\\\Jagjit Singh - Gham Ka Khazana Tera Bhi Hai Mera Bhi.mp3', 1.330592, 0.38840926, 0.397261, 0.22812472831715466, 5.016338, -1.2932327, 2895.7252127707766, 3383.9489005659693, 21.411655455092834, 6221.987276762219, 0.06398809717348315, 0.05563156295502789]\n",
      "['Dataset/ghazal\\\\Jagjit Singh - Haath Chhute Bhi To Rishtey Nahi Chhoda Karte (1).mp3', 1.31363, 0.31214407, 0.33486143, 0.20806001768385482, 1.0728018, -7.510302, 3989.47964792353, 3997.663972820607, 21.124521232066872, 9120.930597225133, -0.02184082126502094, 0.08717149639139635]\n",
      "['Dataset/ghazal\\\\Jagjit Singh - Haath Chhute Bhi To Rishtey Nahi Chhoda Karte.mp3', 1.31363, 0.31214407, 0.33486143, 0.20806001768385482, 1.0728018, -7.510302, 3989.47964792353, 3997.663972820607, 21.124521232066872, 9120.930597225133, -0.02184082126502094, 0.08717149639139635]\n",
      "['Dataset/ghazal\\\\Jagjit Singh - Hoshwalon Ko Khabar Kya (From Sarfarosh) (1).mp3', 1.2630596, 0.406755, 0.4043282, 0.2325165741027212, 1.460041, -2.018224, 3155.7133109652873, 3361.2650226134933, 20.66921950440211, 6448.281140133598, -0.04407449958385632, 0.07197252828061078]\n",
      "['Dataset/ghazal\\\\Jagjit Singh - Hoshwalon Ko Khabar Kya (From Sarfarosh).mp3', 1.2630596, 0.406755, 0.4043282, 0.2325165741027212, 1.460041, -2.018224, 3155.7133109652873, 3361.2650226134933, 20.66921950440211, 6448.281140133598, -0.04407449958385632, 0.07197252828061078]\n",
      "['Dataset/ghazal\\\\Jagjit Singh - Ishq Ki Dastaan Hai Pyare.mp3', 1.230844, 0.34601897, 0.36175406, 0.21588352101635597, 3.1911192, -3.9137218, 1437.422836707667, 2006.319113529309, 20.258423662320034, 2897.6217124981267, -0.04192095325387533, 0.026713982068597333]\n",
      "['Dataset/ghazal\\\\Jagjit Singh - Kabhi Yun Bhi To Ho.mp3', 1.2672955, 0.4210659, 0.31400067, 0.2050227477391481, 1.1623583, -1.4354392, 2295.2031365572707, 2649.131346943207, 21.812944867741898, 5008.565991221083, -0.03335197463405215, 0.049891298407414464]\n",
      "['Dataset/ghazal\\\\Jagjit Singh - Kainat Chale.mp3', 1.3327619, 0.37106356, 0.39206734, 0.23106031658346018, 11.141867, 3.7887282, 1774.210696056187, 2197.7727230422015, 22.062630954600404, 3843.9708505339677, 0.01888009785470424, 0.036494542888472585]\n",
      "['Dataset/ghazal\\\\Jagjit Singh - Kuch Na Kuch (From Visions - Vol 2).mp3', 1.2927, 0.37114766, 0.3729851, 0.22222072240065543, 0.5668922, -5.32603, 3034.0033719391763, 3586.5760105527274, 20.82817413307227, 6620.747447113952, 0.041961095448881276, 0.05779462408414367]\n",
      "['Dataset/ghazal\\\\Jagjit Singh - Main Nashe Mein Hoon - Live.mp3', 1.3259943, 0.40309107, 0.45198625, 0.24320502430748056, 1.5212928, -3.7405326, 1768.6254579009528, 2325.608964609566, 20.456977599678346, 3556.2657363420426, 0.004280051875873994, 0.03360928221496437]\n",
      "['Dataset/ghazal\\\\Jagjit Singh - Main Nashe Mein Hoon.mp3', 1.3259943, 0.40309107, 0.45198625, 0.24320502430748056, 1.5212928, -3.7405326, 1768.6254579009528, 2325.608964609566, 20.456977599678346, 3556.2657363420426, 0.004280051875873994, 0.03360928221496437]\n",
      "['Dataset/ghazal\\\\Jagjit Singh - Pratham Aa Chumban.mp3', 1.2743267, 0.38748145, 0.3778861, 0.2253227981051824, 4.5740533, -1.9382743, 2396.0900048750154, 3652.5516210719334, 21.856084940630172, 5220.514145394185, -0.04716994428638311, 0.03712073769781796]\n",
      "['Dataset/ghazal\\\\Jagjit Singh - Pyaar Ka Pehla Khat.mp3', 1.31854, 0.39535385, 0.36420673, 0.21849274506030344, 12.849895, 1.92305, 2397.064037420064, 2846.486246067848, 20.62096607174874, 5364.762799983785, -0.016595876423573006, 0.04737191148451435]\n",
      "['Dataset/ghazal\\\\Jagjit Singh - Sajaye Payi Hain.mp3', 1.2341897, 0.37934443, 0.3833829, 0.2147770315678828, 2.5696359, -0.15546592, 1626.1318020179024, 1959.225940152422, 21.187408170383492, 3255.606163229125, 0.0320447938195568, 0.036776510277510735]\n",
      "['Dataset/ghazal\\\\Jagjit Singh - Samne Hai Jo Use.mp3', 1.1366919, 0.3572372, 0.3008182, 0.19486994325037327, 1.2879285, -4.172871, 2202.461401345896, 3034.3084105822318, 21.427701291705603, 5062.684865326751, -0.06404496711733158, 0.037512013393378806]\n",
      "['Dataset/ghazal\\\\Jagjit Singh - Shaam Se Aankh Mein Nami Si Hai.mp3', 1.3636839, 0.38065305, 0.37582734, 0.21927742455940838, 5.081571, 0.6793011, 2651.696412057117, 3143.502988979468, 21.425547668647305, 5820.954033930501, 0.005895612113938832, 0.0530457817237984]\n",
      "['Dataset/ghazal\\\\Jagjit Singh - Shayad Aa Jayega Saqi Ko.mp3', 1.1555463, 0.36818132, 0.31498381, 0.2043415767999102, 1.3109434, -3.8238215, 1856.9462042359373, 2657.818860333867, 20.547781166407376, 3858.037607237945, -0.02658018517496643, 0.03172748378719431]\n"
     ]
    },
    {
     "name": "stdout",
     "output_type": "stream",
     "text": [
      "['Dataset/ghazal\\\\Jagjit Singh - Shayad Main Zindagi Ki Sahar.mp3', 1.4202751, 0.31676012, 0.41782385, 0.22809735914811333, 1.6314672, -5.1604, 1673.138479546163, 2375.4367742115655, 21.993978390141038, 3297.5085459077113, 0.017307080815383305, 0.03198406040268456]\n",
      "['Dataset/ghazal\\\\Jagjit Singh - Tera Chehra Kitna Suhana Lagta Hai (From Unique).mp3', 1.244977, 0.41924888, 0.4953451, 0.24925962613014677, 6.45405, 0.17567603, 2473.373646780468, 2932.6378332045615, 20.36610993186632, 5430.25779880187, -0.0017221220224415002, 0.05390037121931619]\n",
      "['Dataset/ghazal\\\\Jagjit Singh - Tera Chehra Kitna.mp3', 1.493737, 0.43166545, 0.48174602, 0.24945168320805772, 2.2280064, -2.77488, 2472.1862061867214, 2853.323367321117, 19.760632024023717, 5401.081544342392, 0.017789427765275947, 0.0531562314075782]\n",
      "['Dataset/ghazal\\\\Jagjit Singh - Tere Qadmon Pe Sar Hoga.mp3', 1.2933373, 0.40243933, 0.48560455, 0.2505727751001117, 0.8241485, -6.2488832, 2086.230118720765, 2706.205573152774, 19.95475845562145, 4209.311542436771, 0.008608008895228919, 0.03901233400970736]\n",
      "['Dataset/ghazal\\\\Jagjit Singh - Tu Ambar Ki Aankh Ka Tara.mp3', 1.3175594, 0.39617774, 0.47709483, 0.24738180473777496, 9.872602, -1.1783214, 1675.2063616561586, 2071.535948098244, 19.998140452818078, 3111.2070017268134, -0.007069687343775371, 0.03773389549261099]\n",
      "['Dataset/ghazal\\\\Jagjit Singh - Tum Itna Jo Muskura Rahe Ho - From Arth.mp3', 1.1502675, 0.39237785, 0.33934, 0.2079877527167643, 0.66766536, -7.6901484, 2536.7324813628284, 2474.303407020535, 21.514206392829294, 5303.900668535423, 0.009854419709514891, 0.06869137201184924]\n",
      "['Dataset/ghazal\\\\Jagjit Singh - Tum Ko Dekha To Yeh Khayal Aaya - From Saath Saath.mp3', 1.1411589, 0.32733297, 0.3248864, 0.2059515712614463, 3.3619416, -4.255471, 1346.233687539323, 1780.0747253344982, 21.21620876102008, 2470.9340004147657, -0.005266669533712381, 0.029705716880314186]\n",
      "['Dataset/ghazal\\\\Jagjit Singh - Tumko Dekha To.mp3', 1.1802859, 0.30753538, 0.32496348, 0.2058499606740393, 2.4909556, -5.452496, 1543.514973204456, 2109.942286198987, 21.101167876712147, 2921.0096206782646, -0.0037364005234555918, 0.03076155745912244]\n",
      "['Dataset/ghazal\\\\Jagjit Singh - Us Mod Se Shuroo Karen (1).mp3', 1.2689453, 0.2955804, 0.3813131, 0.2243378732274066, 4.1297197, -3.1522536, 1683.2397128101734, 2399.775952795556, 21.11153080416531, 3185.083097235701, 0.02840494024344663, 0.031183719829070533]\n",
      "['Dataset/ghazal\\\\Jagjit Singh - Us Mod Se Shuroo Karen.mp3', 1.2689453, 0.2955804, 0.3813131, 0.2243378732274066, 4.1297197, -3.1522536, 1683.2397128101734, 2399.775952795556, 21.11153080416531, 3185.083097235701, 0.02840494024344663, 0.031183719829070533]\n",
      "['Dataset/ghazal\\\\Jagjit Singh - Zindagi Kya Hai (From Koi Baat Chale).mp3', 1.2804649, 0.4257603, 0.4143274, 0.2305618459343916, 10.389351, 1.9239168, 2404.6304889147245, 3380.092441774196, 21.01801051307063, 5465.067384864845, 0.0429421377442442, 0.03594362518909885]\n",
      "['Dataset/ghazal\\\\Javed Hussain - Dil Ki Chalegi.mp3', 1.2658315, 0.37536985, 0.40636626, 0.22992057941463545, 2.4273412, -0.82219833, 2333.2883966336717, 3165.321144050927, 21.04666650784598, 5432.470986501645, -0.04284023497041275, 0.0381486685490122]\n",
      "['Dataset/ghazal\\\\Kavita Krishnamurthy - Koi Chaahat Koi Hasrat.mp3', 1.4220445, 0.31838524, 0.4101201, 0.23835729954050816, 11.05367, -0.20168833, 2547.7773447198038, 2921.6761047846094, 21.897468169733997, 5145.133751571415, 0.0005311048764766425, 0.04796249330134094]\n",
      "['Dataset/ghazal\\\\Kavita Krishnamurthy - Woh Mere Aas Paas Tha.mp3', 1.3741392, 0.3238019, 0.40039203, 0.23681407967933116, 10.296223, 0.9371637, 2458.1375441716928, 2759.9824793630196, 22.16219781094063, 5066.917257230416, 0.0023366346901884114, 0.05242402040736928]\n",
      "['Dataset/ghazal\\\\Kirti Anuraag - Meri Ajab Hai Zindagi.mp3', 1.2657735, 0.35949638, 0.37007546, 0.22151650497707542, 5.158378, -0.36567208, 2815.1248068220616, 3437.725795687582, 21.993994140071784, 5915.130159512573, 0.05952486636029297, 0.05429700757361497]\n",
      "['Dataset/ghazal\\\\Lalitya Munshaw - Baat Dil Ki Dil Se.mp3', 1.2999887, 0.3577992, 0.35158184, 0.2102867882567699, 6.9058456, 1.4020976, 2539.8168081377216, 3352.985324737824, 22.78992148168938, 5824.162800420791, 0.02794479680079622, 0.04248253656636906]\n",
      "['Dataset/ghazal\\\\Lalitya Munshaw - Kuch Aise Meri.mp3', 1.2612928, 0.36601096, 0.47546422, 0.23972497743792157, 0.6621727, -5.3813744, 3316.946424679003, 3709.7231649194237, 21.095608881993115, 7550.997183390783, 0.015115522885729168, 0.05917881894575301]\n",
      "['Dataset/ghazal\\\\Mehdi Hassan - Main Khayal Hun.mp3', 1.3013383, 0.38500088, 0.4465207, 0.24230633391003376, 8.173258, 0.4719863, 1550.127366320524, 1964.3998394867424, 20.864887076223166, 2997.662849663615, -0.02507731860671963, 0.033082411092914835]\n",
      "['Dataset/ghazal\\\\Pankaj Udhas - Aap Jinke Kareeb Hote Hain.mp3', 1.3459942, 0.34657016, 0.38198468, 0.22820940786452068, 2.6395838, -2.9641023, 2244.181489996385, 2586.2948495786, 21.446320526001752, 4504.54706641668, 0.03812121402693293, 0.0534500019018965]\n",
      "['Dataset/ghazal\\\\Pankaj Udhas - Aap Ka Aitbaar.mp3', 1.3264704, 0.41770712, 0.3790067, 0.22206846218717, 6.1550646, -0.14548992, 1435.4562424979322, 2069.579627857493, 21.342224634385424, 2782.216266003697, 0.02599867298646255, 0.0260240935339073]\n",
      "['Dataset/ghazal\\\\Pankaj Udhas - Ahista.mp3', 1.1673887, 0.35983032, 0.36280775, 0.21611885825501004, 0.57010764, -6.608127, 1251.4165051873847, 1764.3393333510803, 20.408965654571773, 2413.6292076132386, 0.019334519291121184, 0.025381671614377425]\n",
      "['Dataset/ghazal\\\\Pankaj Udhas - Chandi Jaisa Rang - Live In India-1984.mp3', 1.3583747, 0.36968064, 0.47818223, 0.25285426928666227, 2.7747269, -4.7265573, 2542.8456780922515, 2782.137644962765, 20.97874306450237, 4883.463023898521, -0.009517530852246372, 0.062360293210029956]\n",
      "['Dataset/ghazal\\\\Pankaj Udhas - Chandi Jaisa Rang - Live.mp3', 1.2672774, 0.3554752, 0.47388273, 0.24882265481652216, 2.9580388, -6.033227, 1431.0091746639287, 1686.7966900753463, 20.868675765665653, 2420.393179367812, 0.007930757787737325, 0.036196532941942194]\n",
      "['Dataset/ghazal\\\\Pankaj Udhas - Chithhi Aayi Hai.mp3', 1.3979048, 0.35076368, 0.47182497, 0.25196921198164274, 3.1866815, -2.6173348, 2500.195558224521, 2644.829425777529, 20.75421157368323, 5007.380024265081, 0.02276374633225574, 0.05774730210606975]\n",
      "['Dataset/ghazal\\\\Pankaj Udhas - Deewaron Se Milkar Rona.mp3', 1.3651916, 0.392744, 0.36269015, 0.22501443883405325, 0.7276278, -4.2118473, 2542.1857619527536, 2400.0185935150416, 21.72560996698415, 5164.938483361968, 0.023005816511944846, 0.06850808024007596]\n",
      "['Dataset/ghazal\\\\Pankaj Udhas - Dil Gaya Tumne Liya.mp3', 1.3163086, 0.40844497, 0.3464236, 0.21418210552936293, 6.788853, -1.2631209, 1335.4003003940181, 2002.5914548399958, 21.586045372009636, 2539.3837330060423, -0.03667267607508133, 0.023096558723564954]\n",
      "['Dataset/ghazal\\\\Pankaj Udhas - Ghazab Kiya.mp3', 1.2514836, 0.4014886, 0.35375383, 0.2144416162404699, 5.6768126, 0.18072745, 1304.4626403561806, 1977.32734924041, 21.091504216987424, 2438.6823546451174, -0.05674421068414467, 0.02379288530742149]\n",
      "['Dataset/ghazal\\\\Pankaj Udhas - Ghungroo Toot Gaye - Introduction - Ghungroo Toot Gaye - Live.mp3', 1.2470769, 0.35880193, 0.44193473, 0.24128316588796228, 1.762545, -7.9022284, 1496.9135949259041, 1785.3020392311805, 20.49061516729301, 2544.302516797924, -0.008355849768660984, 0.036450540020732426]\n",
      "['Dataset/ghazal\\\\Pankaj Udhas - Introduction - Chandi Jaisa Rang - Live.mp3', 1.388951, 0.37488332, 0.44513437, 0.24754115165363094, 2.7159438, -4.5321608, 3093.1875344726113, 3386.421860615841, 21.976315464350915, 6472.63902409688, -0.009269174430988745, 0.0782883264678231]\n",
      "['Dataset/ghazal\\\\Pankaj Udhas - Jeeye to Jeeye Kaise (From Saajan).mp3', 1.3261851, 0.36034274, 0.41821557, 0.23072739909848808, 10.113294, 1.2681559, 3608.409042795847, 3703.781994717117, 21.583768035861922, 7440.8358520194515, 0.02430501772186665, 0.07389709865651313]\n",
      "['Dataset/ghazal\\\\Pankaj Udhas - Na Kajare Ki Dhar (From Mohra).mp3', 1.3796191, 0.33045688, 0.43513876, 0.24697380492804594, 5.3967834, -2.980808, 2841.3164191022006, 2775.4866598042786, 21.512968300912895, 5609.627293392441, 0.018419067287862183, 0.0740137616186416]\n"
     ]
    },
    {
     "name": "stdout",
     "output_type": "stream",
     "text": [
      "['Dataset/ghazal\\\\Pankaj Udhas - Sabko Maloom Hai Main Sharabi Nahin.mp3', 1.4442631, 0.35212865, 0.46547118, 0.2448128101157586, 3.1271768, -4.5991797, 2444.9908490128087, 2356.7082780344413, 22.324902722989243, 5129.783272152979, 0.007740395122223981, 0.06444388514366713]\n",
      "['Dataset/ghazal\\\\Pankaj Udhas - Sheeshon Ka Maseeha.mp3', 0.9136946, 0.42304525, 0.31137377, 0.205420598931927, 6.710498, -0.3732077, 808.2141811199525, 957.6531817500119, 20.656036112414377, 1670.1589788921033, -0.03223419767626574, 0.018940487062595986]\n",
      "['Dataset/ghazal\\\\Pankaj Udhas - Suraj Ki Har Kiran Pe - Live.mp3', 1.1889992, 0.36404914, 0.41275278, 0.23375482849059612, 1.8925885, -7.6262646, 1343.577309143419, 1609.7572495617615, 20.352561494862666, 2284.61117369973, -0.012857506972686828, 0.03333273192293756]\n",
      "['Dataset/ghazal\\\\Pankaj Udhas - Udke Shakhon Se Gulab.mp3', 1.4162275, 0.37548503, 0.3867115, 0.23292249388243225, 0.7852911, -4.625022, 2816.3941664892504, 3065.0713516952765, 20.62874942074304, 5778.762950253541, 0.0311398296220397, 0.06535477615732646]\n",
      "['Dataset/ghazal\\\\Pankaj Udhas - Yun Sajaa Chand.mp3', 1.3493189, 0.292967, 0.33735558, 0.22213376163551543, 2.8203366, -6.1212373, 1856.6481291572165, 2121.8830171802115, 21.98267069364037, 3519.5993921718273, -0.009004759370671545, 0.04155613083637702]\n",
      "['Dataset/ghazal\\\\Talat Aziz - Aaj Jaane Ki Zid.mp3', 1.349107, 0.41110972, 0.44837004, 0.24110968214039982, 2.2102728, -2.850083, 1664.77821431323, 2453.1422369735374, 20.066997750199185, 3152.820452780189, 0.004634722101104844, 0.027512392606532036]\n",
      "['Dataset/ghazal\\\\Talat Aziz - Aap Ko Mubarak Ho.mp3', 1.222981, 0.3620599, 0.41674677, 0.23406834416674, 3.1091444, -3.7733383, 1659.2704470676808, 2156.1665935903525, 20.912330630105206, 3205.183903736024, -0.04791705995505622, 0.03350872576924825]\n",
      "['Dataset/ghazal\\\\Talat Aziz - Ab Yahan Koi Nahin Aayega.mp3', 1.2381485, 0.3471906, 0.373821, 0.22298517332976053, 1.6688774, -4.1023145, 1961.3967586721462, 2271.875724354674, 22.13258323764608, 3593.923063351046, -0.011757237436039857, 0.04841872119935237]\n",
      "['Dataset/ghazal\\\\Talat Aziz - Ae jane Wafaa.mp3', 1.3578594, 0.39481533, 0.40721202, 0.23073113046849136, 0.96858835, -3.9256203, 2801.7799370045796, 3080.667169280601, 20.85970028786587, 5726.192972994567, -0.010611211199066934, 0.05781499420325317]\n",
      "['Dataset/ghazal\\\\Talat Aziz - Bahut Yaad Aaye Bhulate Bhulate.mp3', 1.2364097, 0.31544673, 0.35367543, 0.22043900348324955, 3.102591, -4.519651, 1550.422354650033, 1833.5744657725863, 21.357140613068996, 2819.1580865583137, 0.030867091707435335, 0.03709710173767825]\n",
      "['Dataset/ghazal\\\\Talat Aziz - Chaahat Mein Kya.mp3', 1.3901641, 0.38561302, 0.3543648, 0.22105403665519954, 1.4687146, -3.2217047, 2536.888726007053, 2999.374508125871, 21.435678644951363, 5214.838529756778, 0.008294263299523671, 0.05021217098547055]\n",
      "['Dataset/ghazal\\\\Talat Aziz - Dulhan Bani Hai Raat.mp3', 1.2424648, 0.35325074, 0.44167382, 0.23964910854776847, 5.4623294, 0.5160968, 1729.6000872398167, 2212.077979163594, 20.733544788298364, 3185.263370186204, -0.013473569563301894, 0.03942352781377839]\n",
      "['Dataset/ghazal\\\\Talat Aziz - Duniya Kisi Ke Pyar Mein Jannat.mp3', 1.2944539, 0.31652775, 0.36869612, 0.2238179638523133, 1.8040835, -4.3539553, 2955.2325628243166, 3205.178371016651, 21.560232267778957, 5904.543594500218, 0.0711169050166423, 0.06751505267441438]\n",
      "['Dataset/ghazal\\\\Talat Aziz - Hamari Gali Mein Bhi Aate Raho.mp3', 1.3467494, 0.37174344, 0.43335623, 0.24409034956224376, 4.0387955, -0.6498663, 1898.9566487642865, 2447.8778096084393, 20.412102297624266, 3731.6195039303557, 0.008547719909152424, 0.038786344166681974]\n",
      "['Dataset/ghazal\\\\Talat Aziz - Jahan Mein Tujhsa Haseen Kaun Doosra Hoga.mp3', 1.348076, 0.37316927, 0.41430563, 0.23797290952594527, 2.8592374, -0.8883799, 2137.4185635380823, 2562.5310653320953, 21.130081263335907, 4317.972235804657, 0.0031471176979577993, 0.046478788162398386]\n",
      "['Dataset/ghazal\\\\Talat Aziz - Kabhi Yun Bhi Aa.mp3', 1.2872132, 0.3877189, 0.42092276, 0.2371946552207973, 2.769223, -3.686839, 1633.039618491513, 2087.9618205862585, 20.543771010562036, 3068.5812463138514, -0.02661070338740274, 0.03401559488146784]\n",
      "['Dataset/ghazal\\\\Talat Aziz - Kahin Chand Rahon Mein (1).mp3', 1.2399918, 0.34260955, 0.39779264, 0.22985595851177484, 2.8403032, -2.6017945, 2665.862909303129, 3260.3656392926564, 21.073045758799772, 5782.05872907218, 0.04760223978013595, 0.05024049135521205]\n",
      "['Dataset/ghazal\\\\Talat Aziz - Kahin Chand Rahon Mein.mp3', 1.2399918, 0.34260955, 0.39779264, 0.22985595851177484, 2.8403032, -2.6017945, 2665.862909303129, 3260.3656392926564, 21.073045758799772, 5782.05872907218, 0.04760223978013595, 0.05024049135521205]\n",
      "['Dataset/ghazal\\\\Talat Aziz - Khubsurat Hai Aankhen.mp3', 1.3338544, 0.39770964, 0.36715755, 0.22139027488746654, 8.053467, 0.9579812, 2566.2731074265516, 2884.2916941467606, 21.617335832966308, 5007.774067253964, 0.002326286552637697, 0.05540799649677165]\n",
      "['Dataset/ghazal\\\\Talat Aziz - Khuda Kare Ki Mohbbaat Main - Version 1.mp3', 1.3064457, 0.3426691, 0.3934794, 0.23243954587472127, 3.4715836, -2.2767296, 2792.6610578818527, 3162.044243964095, 20.830414455156088, 5803.483995156279, 0.011228744648467829, 0.06116155067629318]\n",
      "['Dataset/ghazal\\\\Talat Aziz - Nawazish Karam Shukriya Meharbani - Original (1).mp3', 1.2900835, 0.3380973, 0.3726036, 0.22746285439506547, 1.594499, -2.926757, 2067.117299659713, 2106.815148227826, 21.118964717360726, 3958.6070187184328, -0.025017323715005153, 0.05589883968092635]\n",
      "['Dataset/ghazal\\\\Talat Aziz - Nawazish Karam Shukriya Meharbani - Original.mp3', 1.2900835, 0.3380973, 0.3726036, 0.22746285439506547, 1.594499, -2.926757, 2067.117299659713, 2106.815148227826, 21.118964717360726, 3958.6070187184328, -0.025017323715005153, 0.05589883968092635]\n",
      "['Dataset/ghazal\\\\Talat Aziz - Pathar Pe Gira Sheesha.mp3', 1.2959487, 0.35356262, 0.3879864, 0.22967126879320438, 1.4696486, -2.620721, 3001.271741213372, 3831.6643544451217, 20.892106567395764, 6277.922016616314, -0.006481296444694489, 0.053959398265537334]\n",
      "['Dataset/ghazal\\\\Talat Aziz - Pyar Karna To Ek Ibadat Hai (1).mp3', 1.2386351, 0.36577475, 0.43576318, 0.23754005679218737, 2.8234684, -4.522131, 2150.220911564087, 2484.701780952092, 21.113471649792967, 4400.087420631269, -0.023667108136309734, 0.04659752696428024]\n",
      "['Dataset/ghazal\\\\Talat Aziz - Pyar Karna To Ek Ibadat Hai.mp3', 1.2386351, 0.36577475, 0.43576318, 0.23754005679218737, 2.8234684, -4.522131, 2150.220911564087, 2484.701780952092, 21.113471649792967, 4400.087420631269, -0.023667108136309734, 0.04659752696428024]\n",
      "['Dataset/ghazal\\\\Talat Aziz - Sun Li Jo Khuda Ne (1).mp3', 1.0781821, 0.3829779, 0.37281308, 0.22120561905053585, 4.8499036, -1.7178108, 968.9093172093067, 1078.9225573873675, 22.26774927720854, 2011.5609360266917, 0.01673732052509494, 0.02605279911556176]\n",
      "['Dataset/ghazal\\\\Talat Aziz - Sun Li Jo Khuda Ne.mp3', 1.0781821, 0.3829779, 0.37281308, 0.22120561905053585, 4.8499036, -1.7178108, 968.9093172093067, 1078.9225573873675, 22.26774927720854, 2011.5609360266917, 0.01673732052509494, 0.02605279911556176]\n",
      "['Dataset/ghazal\\\\Talat Aziz - Ye Kehrahi Hai.mp3', 1.3724674, 0.3376545, 0.43319604, 0.2405645795970628, 2.7777705, -2.7513225, 2123.424670471908, 2447.7378036121445, 21.609363116755876, 4390.811975243252, -0.003058567394873277, 0.04665748802132376]\n",
      "['Dataset/ghazal\\\\Talat Aziz - Yeh Milan Khwab Sa.mp3', 1.2904116, 0.29885224, 0.37933287, 0.22601722774039656, 2.120252, -3.7701378, 2168.2463575613947, 3025.0743757926916, 21.209850821689372, 4689.008642758121, 0.053204924043521555, 0.035656592515320266]\n",
      "['Dataset/ghazal\\\\Talat Aziz - Zindagi Jab Bhi.mp3', 1.2238505, 0.34501272, 0.3685912, 0.22358750365513178, 4.644299, -4.7220297, 1330.6031127162419, 1556.0732710449406, 20.479481820643866, 2639.9682971014495, -0.023694435782908443, 0.029910193265746933]\n"
     ]
    }
   ],
   "source": [
    "#build the matrix with genre audios featurized\n",
    "song_features = []\n",
    "\n",
    "for file in bhajan_audio_files:\n",
    "  '''\n",
    "  y is the time series array of the audio file, a 1D np.ndarray\n",
    "  sr is the sampling rate, a number\n",
    "  '''  \n",
    "  y,sr = librosa.load(file,sr=None)   \n",
    "  feature_vector = get_feature_vector(y, sr)\n",
    "\n",
    "  song_features.append([file] + feature_vector)  \n",
    "  print([file] + feature_vector) "
   ]
  },
  {
   "cell_type": "code",
   "execution_count": null,
   "metadata": {},
   "outputs": [],
   "source": [
    "print(len(song_features))"
   ]
  },
  {
   "cell_type": "code",
   "execution_count": null,
   "metadata": {},
   "outputs": [],
   "source": [
    "columns = [\"Song_Name\", \"onset_strength\", \"chroma_stft\", \"chroma_cqt\", \"chroma_cens\", \"melspectrogram\", \"mfcc\",\t\n",
    "           \"spectral_centroid\" ,\"spectral_bandwidth\", \"spectral_contrast\", \"spectral_rolloff\",\t\"tonnetz\", \"zero_crossing_rate\"]"
   ]
  },
  {
   "cell_type": "code",
   "execution_count": null,
   "metadata": {},
   "outputs": [],
   "source": [
    "import pandas as pd\n",
    "df = pd.DataFrame(song_features, columns=columns)"
   ]
  },
  {
   "cell_type": "code",
   "execution_count": null,
   "metadata": {},
   "outputs": [],
   "source": [
    "file_name = genre + '_features.csv'\n",
    "df.to_csv(file_name)   "
   ]
  }
 ],
 "metadata": {
  "kernelspec": {
   "display_name": "Python 3",
   "language": "python",
   "name": "python3"
  },
  "language_info": {
   "codemirror_mode": {
    "name": "ipython",
    "version": 3
   },
   "file_extension": ".py",
   "mimetype": "text/x-python",
   "name": "python",
   "nbconvert_exporter": "python",
   "pygments_lexer": "ipython3",
   "version": "3.8.5"
  }
 },
 "nbformat": 4,
 "nbformat_minor": 4
}
