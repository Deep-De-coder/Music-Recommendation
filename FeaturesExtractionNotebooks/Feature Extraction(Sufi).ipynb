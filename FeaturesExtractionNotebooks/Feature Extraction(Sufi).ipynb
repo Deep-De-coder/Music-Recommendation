{
 "cells": [
  {
   "cell_type": "code",
   "execution_count": 1,
   "id": "6f488f14-8b9f-44f7-bbe0-2d59070e741c",
   "metadata": {},
   "outputs": [],
   "source": [
    "import librosa\n",
    "from librosa import feature\n",
    "import numpy as np\n",
    "import os\n",
    "from getpass import getpass\n",
    "import urllib\n",
    "from glob import glob\n",
    "import pathlib"
   ]
  },
  {
   "cell_type": "code",
   "execution_count": 2,
   "id": "f2701852-8329-462b-a8f1-8825166214c0",
   "metadata": {},
   "outputs": [],
   "source": [
    "genre = 'sufi'\n",
    "\n",
    "#directories of the genre\n",
    "bhajan_dir =  \"Dataset/sufi/\"\n",
    "bhajan_audio_files = glob(bhajan_dir  + '*.mp3')\n",
    "for i in bhajan_audio_files:\n",
    "    i = pathlib.Path(i)"
   ]
  },
  {
   "cell_type": "code",
   "execution_count": 3,
   "id": "f8af155a-6ef9-4a46-a272-d2c135bbce83",
   "metadata": {},
   "outputs": [
    {
     "data": {
      "text/plain": [
       "['Dataset/sufi\\\\Abida Parveen - Aaqa-Coke Studio Season 9.mp3',\n",
       " 'Dataset/sufi\\\\Abida Parveen - Chaap Tilak.mp3',\n",
       " 'Dataset/sufi\\\\Abida Parveen - Dost.mp3',\n",
       " 'Dataset/sufi\\\\Adnan Sami - Bhar Do Jholi Meri.mp3',\n",
       " 'Dataset/sufi\\\\Ahmed Jehanzeb - Khakhi Banda.mp3',\n",
       " 'Dataset/sufi\\\\Akhil Sachdeva - Humsafar.mp3',\n",
       " 'Dataset/sufi\\\\Ali Sethi - Ranjish Hi Sahi.mp3',\n",
       " 'Dataset/sufi\\\\Amit Trivedi - Iktara.mp3',\n",
       " 'Dataset/sufi\\\\Amit Trivedi - Namo Namo.mp3',\n",
       " 'Dataset/sufi\\\\AR Rahman - Gurus of Peace (From Vande Mataram).mp3',\n",
       " 'Dataset/sufi\\\\AR Rahman - Kun Faya Kun.mp3',\n",
       " 'Dataset/sufi\\\\AR Rahman - Noor-Un-Ala-Noor (From Meenaxi).mp3',\n",
       " 'Dataset/sufi\\\\AR Rahman - Piya Milenge.mp3',\n",
       " 'Dataset/sufi\\\\Arijit Singh - Aayat (From Bajirao Mastani).mp3',\n",
       " 'Dataset/sufi\\\\Arijit Singh - Tujhe Kitna Chahne Lage (From Kabir Singh) (1).mp3',\n",
       " 'Dataset/sufi\\\\Arijit Singh - Tujhe Kitna Chahne Lage (From Kabir Singh).mp3',\n",
       " 'Dataset/sufi\\\\Atif Aslam - Jeena Jeena (From Badlapur).mp3',\n",
       " 'Dataset/sufi\\\\Atif Aslam - Woh Lamhe Woh Baatein.mp3',\n",
       " 'Dataset/sufi\\\\Bilal Khan - Khamoshi - From Khamoshi.mp3',\n",
       " 'Dataset/sufi\\\\Faisal Rafi - Jiya Dhadak Dhadak Jaye.mp3',\n",
       " 'Dataset/sufi\\\\Faiz Ali Faiz - Ya Ali.mp3',\n",
       " 'Dataset/sufi\\\\Farhan Saeed - Latthay Di Chaadar.mp3',\n",
       " 'Dataset/sufi\\\\Filmybox - Soniye (feat Rahat Fateh Ali Khan).mp3',\n",
       " 'Dataset/sufi\\\\Jabbar Abbas - Dam Mast Qalandar (1).mp3',\n",
       " 'Dataset/sufi\\\\Jabbar Abbas - Dam Mast Qalandar.mp3',\n",
       " 'Dataset/sufi\\\\Javed Ali - Arziyan.mp3',\n",
       " 'Dataset/sufi\\\\Javed Bashir - Man Kunto Maula.mp3',\n",
       " 'Dataset/sufi\\\\Kailash Kher - Allah Ke Bande.mp3',\n",
       " 'Dataset/sufi\\\\Kailash Kher - Saiyyan.mp3',\n",
       " 'Dataset/sufi\\\\Kavita Seth - Tidke Ghade.mp3',\n",
       " 'Dataset/sufi\\\\KK - Tu Jo Mila.mp3',\n",
       " 'Dataset/sufi\\\\Mithoon - Humnava (From Hamari Adhuri Kahani).mp3',\n",
       " 'Dataset/sufi\\\\Mohit Chauhan - Pee Loon.mp3',\n",
       " 'Dataset/sufi\\\\Mohsin Abbas Haider - Uddi Ja (Coke Studio Season 9).mp3',\n",
       " 'Dataset/sufi\\\\Momina Mustehsan - Tera Woh Pyar (Nawazishein Karam).mp3',\n",
       " 'Dataset/sufi\\\\Nusrat Fateh Ali Khan - Mere Rashke Qamar.mp3',\n",
       " 'Dataset/sufi\\\\Nusrat Fateh Ali Khan - Sanu Ek Pal Chain.mp3',\n",
       " 'Dataset/sufi\\\\Papon - Moh Moh Ke Dhaage (Male).mp3',\n",
       " 'Dataset/sufi\\\\Prateek Kuhad - Kasoor.mp3',\n",
       " 'Dataset/sufi\\\\Pritam - Hawayein (From Jab Harry Met Sejal).mp3',\n",
       " 'Dataset/sufi\\\\Pritam - Shayad (From Love Aaj Kal).mp3',\n",
       " 'Dataset/sufi\\\\Pritam - Tu Hi Mera (1).mp3',\n",
       " 'Dataset/sufi\\\\Pritam - Tu Hi Mera.mp3',\n",
       " 'Dataset/sufi\\\\Quratulain Balouch - Sammi Meri Waar.mp3',\n",
       " 'Dataset/sufi\\\\Quratulain Balouch - Woh Humsafar.mp3',\n",
       " 'Dataset/sufi\\\\Rahat Fateh Ali Khan - Aas Paas Khuda.mp3',\n",
       " 'Dataset/sufi\\\\Rahat Fateh Ali Khan - Afreen Afreen (Coke Studio Season 9).mp3',\n",
       " 'Dataset/sufi\\\\Rahat Fateh Ali Khan - Ajj Din Chadheya (From Love Aaj Kal ).mp3',\n",
       " 'Dataset/sufi\\\\Rahat Fateh Ali Khan - Jag Soona Soona Lage.mp3',\n",
       " 'Dataset/sufi\\\\Rahat Fateh Ali Khan - Kaisa Yeh Junoon.mp3',\n",
       " 'Dataset/sufi\\\\Rahat Fateh Ali Khan - Main Jahaan Rahoon (From Namastey London).mp3',\n",
       " 'Dataset/sufi\\\\Rahat Fateh Ali Khan - Main Tenu.mp3',\n",
       " 'Dataset/sufi\\\\Rahat Fateh Ali Khan - O Re Piya.mp3',\n",
       " 'Dataset/sufi\\\\Rahat Fateh Ali Khan - Rangrez.mp3',\n",
       " 'Dataset/sufi\\\\Rahat Fateh Ali Khan - Sanu Ek Pal Chain (From Raid).mp3',\n",
       " 'Dataset/sufi\\\\Rahat Fateh Ali Khan - Surili Akhiyon Wale (From Veer).mp3',\n",
       " 'Dataset/sufi\\\\Rahat Fateh Ali Khan - Tere Mast Mast Do Nain.mp3',\n",
       " 'Dataset/sufi\\\\Rahat Fateh Ali Khan - Zaroori Tha.mp3',\n",
       " 'Dataset/sufi\\\\Rashid Khan - Aaoge Jab Tum.mp3',\n",
       " 'Dataset/sufi\\\\Reshma - Duma dum mast qalandar.mp3',\n",
       " 'Dataset/sufi\\\\Roop Kumar Rathod - Maula Mere Maula.mp3',\n",
       " 'Dataset/sufi\\\\Saieen Zahoor & Noori - Aik Alif.mp3',\n",
       " 'Dataset/sufi\\\\SalimSulaiman - Ali Maula.mp3',\n",
       " 'Dataset/sufi\\\\SalimSulaiman - Saaiyaan.mp3',\n",
       " 'Dataset/sufi\\\\SalimSulaiman - Shukran Allah (From Kurbaan).mp3',\n",
       " 'Dataset/sufi\\\\Shafqat Amanat Ali - Aakhon ke Sagar.mp3',\n",
       " 'Dataset/sufi\\\\Shafqat Amanat Ali - Allahu Akbar.mp3',\n",
       " 'Dataset/sufi\\\\Shankar-Ehsaan-Loy - Kal Ho Naa Ho.mp3',\n",
       " 'Dataset/sufi\\\\Shankar-Ehsaan-Loy - Sajdaa.mp3',\n",
       " 'Dataset/sufi\\\\Shilpa Rao - Par Chanaa De (Coke Studio Season 9).mp3',\n",
       " 'Dataset/sufi\\\\Tochi Raina - Kabira.mp3',\n",
       " 'Dataset/sufi\\\\Udit Narayan - Agar Tum Mil Jao - Male Vocals.mp3',\n",
       " 'Dataset/sufi\\\\Vishal Mishra - Manjha.mp3',\n",
       " 'Dataset/sufi\\\\Zeb Bangash - Aaja Re Moray Saiyaan - Coke Studio Season 9.mp3']"
      ]
     },
     "execution_count": 3,
     "metadata": {},
     "output_type": "execute_result"
    }
   ],
   "source": [
    "bhajan_audio_files"
   ]
  },
  {
   "cell_type": "code",
   "execution_count": 4,
   "id": "e543c425-3ef1-4f94-a94c-eda5cd0cdd81",
   "metadata": {},
   "outputs": [
    {
     "name": "stdout",
     "output_type": "stream",
     "text": [
      "Number of audios : 74\n",
      "<class 'str'>\n"
     ]
    }
   ],
   "source": [
    "print(f'Number of audios : {len(bhajan_audio_files)}')\n",
    "print(type(bhajan_audio_files[0]))"
   ]
  },
  {
   "cell_type": "code",
   "execution_count": 5,
   "id": "a198cc8a-d8a1-41b4-8229-8212954b3529",
   "metadata": {},
   "outputs": [],
   "source": [
    "# Created list of all the functions\n",
    "fn_list_i = [\n",
    "    librosa.onset.onset_strength,              # it is spectral_flux\n",
    "    feature.chroma_stft,                       # chromagram from a waveform or power spectrogram\n",
    "    feature.chroma_cqt,\n",
    "    feature.chroma_cens,\n",
    "    feature.melspectrogram,\n",
    "    feature.mfcc,\n",
    "    feature.spectral_centroid,\n",
    "    feature.spectral_bandwidth,\n",
    "    feature.spectral_contrast,\n",
    "    feature.spectral_rolloff,\n",
    "    feature.tonnetz\n",
    "]\n",
    "\n",
    "fn_list_ii = [\n",
    "    feature.zero_crossing_rate\n",
    "]\n",
    "\n",
    "def get_feature_vector(y,sr): \n",
    "   feat_vect_i = [ np.mean(funct(y,sr)) for funct in fn_list_i]\n",
    "   feat_vect_ii = [ np.mean(funct(y)) for funct in fn_list_ii] \n",
    "   feature_vector = feat_vect_i + feat_vect_ii \n",
    "   return feature_vector"
   ]
  },
  {
   "cell_type": "code",
   "execution_count": 6,
   "id": "16409ad7-685b-42c7-a6a8-557a0ab7950d",
   "metadata": {},
   "outputs": [
    {
     "name": "stderr",
     "output_type": "stream",
     "text": [
      "D:\\Softwares\\anaconda\\lib\\site-packages\\librosa\\core\\audio.py:165: UserWarning: PySoundFile failed. Trying audioread instead.\n",
      "  warnings.warn(\"PySoundFile failed. Trying audioread instead.\")\n"
     ]
    },
    {
     "name": "stdout",
     "output_type": "stream",
     "text": [
      "['Dataset/sufi\\\\Abida Parveen - Aaqa-Coke Studio Season 9.mp3', 1.2510421, 0.39058506, 0.36450055, 0.21776501500431578, 9.428078, 1.3463618, 2620.5446624079373, 3288.9868533959248, 21.73523314698697, 6072.371896719053, 0.05862075894377129, 0.04516554174362908]\n"
     ]
    },
    {
     "name": "stderr",
     "output_type": "stream",
     "text": [
      "D:\\Softwares\\anaconda\\lib\\site-packages\\librosa\\core\\audio.py:165: UserWarning: PySoundFile failed. Trying audioread instead.\n",
      "  warnings.warn(\"PySoundFile failed. Trying audioread instead.\")\n"
     ]
    },
    {
     "name": "stdout",
     "output_type": "stream",
     "text": [
      "['Dataset/sufi\\\\Abida Parveen - Chaap Tilak.mp3', 1.2558157, 0.36084422, 0.42658275, 0.23216031578806867, 4.0587716, -1.8007448, 2603.2952421724076, 2932.5044964543604, 21.129470279046238, 5540.174223868265, -0.018676947698405073, 0.05451958097247634]\n",
      "['Dataset/sufi\\\\Abida Parveen - Dost.mp3', 1.229554, 0.39253807, 0.3935106, 0.22512821803968008, 4.3546534, -0.466711, 2412.372440261821, 3087.5195620427785, 20.98069461174785, 5366.2392116809415, 0.004400688263564305, 0.03903210910406048]\n",
      "['Dataset/sufi\\\\Adnan Sami - Bhar Do Jholi Meri.mp3', 1.3982103, 0.40784556, 0.47228503, 0.2515126053034044, 11.281993, 3.999861, 2905.0594032847766, 3775.0121644433802, 20.32598186374934, 6771.360094326529, -0.009060952606897725, 0.04793693247939443]\n",
      "['Dataset/sufi\\\\Ahmed Jehanzeb - Khakhi Banda.mp3', 1.1845939, 0.4027659, 0.39722958, 0.2275109803202581, 12.295783, 2.7449985, 2576.2124978306565, 3215.1168703109056, 21.134562024273553, 5919.319149098842, 0.021494509824403533, 0.04658962505479326]\n",
      "['Dataset/sufi\\\\Akhil Sachdeva - Humsafar.mp3', 1.0752215, 0.3265959, 0.34467146, 0.1971234082578516, 9.107344, -4.347269, 2389.9409402956126, 2930.8558183946643, 19.622756919640644, 5285.794978714495, 0.04324483642684204, 0.04670344218346535]\n",
      "['Dataset/sufi\\\\Ali Sethi - Ranjish Hi Sahi.mp3', 1.2352694, 0.45569876, 0.3235167, 0.20358019247147452, 5.367346, -0.08610024, 2236.9271430079766, 3040.8157522017245, 21.531941357984774, 4910.257925472747, -0.014423501882228554, 0.03784095113121722]\n",
      "['Dataset/sufi\\\\Amit Trivedi - Iktara.mp3', 1.2413912, 0.4248495, 0.3893679, 0.23181219015506085, 8.354032, 1.2718381, 2497.5123802354633, 3458.212747306005, 20.718946909370526, 5741.273060184823, 0.027990423517548237, 0.03718616978083972]\n",
      "['Dataset/sufi\\\\Amit Trivedi - Namo Namo.mp3', 1.2348431, 0.3954683, 0.39135447, 0.2228129685897242, 9.68449, 2.0186877, 2252.1619965634086, 3179.797646550019, 21.014624061431345, 4738.9227679442165, 0.014345792974586642, 0.03950160709641766]\n",
      "['Dataset/sufi\\\\AR Rahman - Gurus of Peace (From Vande Mataram).mp3', 1.4701544, 0.4312575, 0.45331413, 0.24909518287310536, 5.1549034, -2.4721596, 2845.7129891878208, 3461.946948892205, 20.467432748344443, 6433.583239910314, 0.0006768830561157668, 0.05111250221265046]\n",
      "['Dataset/sufi\\\\AR Rahman - Kun Faya Kun.mp3', 1.2612737, 0.38471, 0.4544429, 0.24125064932975807, 1.0113252, -6.3389482, 2894.097240866546, 3427.914854886401, 20.71833805468424, 6199.897502942248, -0.02069339102971893, 0.05524850282490823]\n",
      "['Dataset/sufi\\\\AR Rahman - Noor-Un-Ala-Noor (From Meenaxi).mp3', 1.3781685, 0.36596522, 0.4783051, 0.2561940895607077, 0.63815993, -4.038987, 1772.5950852799622, 2404.6342279716437, 19.57492927016444, 3386.349915695016, -0.021728280100087427, 0.035814864082028275]\n",
      "['Dataset/sufi\\\\AR Rahman - Piya Milenge.mp3', 1.5096402, 0.47346038, 0.54711145, 0.25878976094742645, 6.3365903, 3.191384, 3131.616957363437, 3577.0177962763705, 20.057869860596792, 6772.46423829068, 0.018793411109571185, 0.05999209165918488]\n",
      "['Dataset/sufi\\\\Arijit Singh - Aayat (From Bajirao Mastani).mp3', 1.2296358, 0.40005532, 0.41277304, 0.23767627081952025, 6.916373, 0.59665245, 3152.634288161955, 3801.9844805775133, 21.13333362950362, 7243.078917586507, -0.019098839681933467, 0.05707638205253421]\n",
      "['Dataset/sufi\\\\Arijit Singh - Tujhe Kitna Chahne Lage (From Kabir Singh) (1).mp3', 1.1723027, 0.36202174, 0.34766877, 0.21246826163788624, 15.7929, 3.0098898, 2187.61905315136, 3274.988794431224, 21.16047780161099, 5113.871005111211, -0.04443233597243256, 0.03076453442110387]\n",
      "['Dataset/sufi\\\\Arijit Singh - Tujhe Kitna Chahne Lage (From Kabir Singh).mp3', 1.1723027, 0.36202174, 0.34766877, 0.21246826163788624, 15.7929, 3.0098898, 2187.61905315136, 3274.988794431224, 21.16047780161099, 5113.871005111211, -0.04443233597243256, 0.03076453442110387]\n",
      "['Dataset/sufi\\\\Atif Aslam - Jeena Jeena (From Badlapur).mp3', 1.2310448, 0.3807853, 0.32269037, 0.2046694586223802, 9.583003, 1.9359031, 2346.4602327590187, 3339.6071981315804, 21.70660256967242, 5260.090523770683, 0.031489753219290595, 0.03428699330721277]\n",
      "['Dataset/sufi\\\\Atif Aslam - Woh Lamhe Woh Baatein.mp3', 1.2486275, 0.36500373, 0.42806768, 0.24345746066937896, 6.1585116, 0.85196644, 2988.913312155841, 2866.657050443443, 21.67535140585881, 6309.300249169435, -0.025494289828045146, 0.07615223019622093]\n",
      "['Dataset/sufi\\\\Bilal Khan - Khamoshi - From Khamoshi.mp3', 1.1972013, 0.38120815, 0.37543032, 0.2178375517814421, 4.767784, -0.09731076, 2758.3349591118476, 3406.5418800632183, 20.892890208028984, 6297.209111855646, 0.061058382864438016, 0.053041619438377624]\n",
      "['Dataset/sufi\\\\Faisal Rafi - Jiya Dhadak Dhadak Jaye.mp3', 1.6268032, 0.37882757, 0.45339954, 0.25158377869288595, 1.767746, -6.125956, 1704.0095435927274, 2118.5170817479684, 19.6319799897918, 3390.055887856713, 0.0059000376630185015, 0.033087311984144226]\n",
      "['Dataset/sufi\\\\Faiz Ali Faiz - Ya Ali.mp3', 1.4470403, 0.39624408, 0.47495115, 0.25469086118481393, 3.3292272, -2.1525009, 2151.345062778288, 2512.0223364675103, 21.04564254851434, 4663.148302590267, 0.03561263771499641, 0.05050959596579016]\n",
      "['Dataset/sufi\\\\Farhan Saeed - Latthay Di Chaadar.mp3', 1.2730538, 0.41040924, 0.39782014, 0.22492735374203907, 6.7757134, 0.9493477, 2110.289349081539, 3123.580527858475, 20.79275807071746, 4587.433474493346, 0.016319368894951912, 0.031623409656459295]\n",
      "['Dataset/sufi\\\\Filmybox - Soniye (feat Rahat Fateh Ali Khan).mp3', 1.2337096, 0.41405654, 0.41098326, 0.23355652828131804, 11.643496, 1.9858717, 2550.7451653381318, 3579.4567443862566, 20.090024692562682, 5535.906527279592, 0.03056470450296167, 0.041834263498206535]\n",
      "['Dataset/sufi\\\\Jabbar Abbas - Dam Mast Qalandar (1).mp3', 1.3130755, 0.4523813, 0.47442758, 0.24630444174909252, 8.477392, 2.05114, 3113.0965931258725, 3573.114739558636, 20.26050621028998, 6976.596247300216, -0.016614607813716348, 0.0575232273828808]\n",
      "['Dataset/sufi\\\\Jabbar Abbas - Dam Mast Qalandar.mp3', 1.3130755, 0.4523813, 0.47442758, 0.24630444174909252, 8.477392, 2.05114, 3113.0965931258725, 3573.114739558636, 20.26050621028998, 6976.596247300216, -0.016614607813716348, 0.0575232273828808]\n",
      "['Dataset/sufi\\\\Javed Ali - Arziyan.mp3', 1.3025653, 0.43875334, 0.3905108, 0.23587158034129804, 6.690362, 3.2887, 3227.9969745177186, 4358.126303424518, 21.346389883168822, 8108.062105029041, -0.0028297138874499314, 0.04906130086689095]\n",
      "['Dataset/sufi\\\\Javed Bashir - Man Kunto Maula.mp3', 1.2527812, 0.43686375, 0.47077942, 0.25002135279744614, 18.445423, 4.9882455, 2536.255926135271, 3254.293755048467, 20.372784450437035, 5862.735263865719, 0.045045759726101746, 0.041940459029587075]\n",
      "['Dataset/sufi\\\\Kailash Kher - Allah Ke Bande.mp3', 1.5782703, 0.38483438, 0.40175712, 0.2325922514075542, 4.9925504, -1.8165728, 1865.810346156011, 2361.8773539121125, 21.02482976698131, 4079.7780660173626, 0.03422150509732802, 0.04053225756381462]\n",
      "['Dataset/sufi\\\\Kailash Kher - Saiyyan.mp3', 1.1845268, 0.39088532, 0.3927632, 0.2228866453070595, 2.7924874, -3.9911146, 1603.0212783668371, 1887.5094069725046, 20.631788453274755, 3318.295791567041, 0.0637487701539153, 0.036085259635943535]\n",
      "['Dataset/sufi\\\\Kavita Seth - Tidke Ghade.mp3', 1.3356599, 0.41870055, 0.3836195, 0.22816219104489724, 9.344257, 3.8371482, 2742.6241098055107, 3686.981834660361, 21.73839377221736, 6162.515010778057, -0.009748317651107641, 0.04251300646789497]\n",
      "['Dataset/sufi\\\\KK - Tu Jo Mila.mp3', 1.1394538, 0.3697815, 0.443134, 0.23356009797242017, 9.946748, 0.29643145, 1951.4447412982195, 2937.0269516382054, 19.995158153251488, 3738.736893840105, 0.0638373015611709, 0.03436111310206422]\n",
      "['Dataset/sufi\\\\Mithoon - Humnava (From Hamari Adhuri Kahani).mp3', 1.1665258, 0.35990733, 0.3814965, 0.2195998280331895, 11.531385, 1.0751215, 1982.0947134937585, 2891.9007425398618, 21.547107491586143, 4128.6121554858155, 0.03695218773992271, 0.03417718411603175]\n",
      "['Dataset/sufi\\\\Mohit Chauhan - Pee Loon.mp3', 1.4339192, 0.4059209, 0.44449943, 0.23889594482915838, 7.952025, 0.09204238, 2789.16391266791, 3384.0776513982487, 20.52151507328154, 6165.793207068288, -0.02359939073672087, 0.051896706792931714]\n",
      "['Dataset/sufi\\\\Mohsin Abbas Haider - Uddi Ja (Coke Studio Season 9).mp3', 1.2464076, 0.39953476, 0.4032349, 0.233393911409507, 7.898674, 1.1926074, 2748.650460147736, 3503.227565798268, 21.561897260129722, 6412.509774068047, 0.00478400970758907, 0.049177244976287955]\n",
      "['Dataset/sufi\\\\Momina Mustehsan - Tera Woh Pyar (Nawazishein Karam).mp3', 1.2294735, 0.34375465, 0.37305003, 0.22029453444129624, 11.692852, 0.9595012, 2803.4711817885154, 3495.838588399776, 22.24745739884931, 6676.100574747087, -0.028436464678557438, 0.0493037760666383]\n",
      "['Dataset/sufi\\\\Nusrat Fateh Ali Khan - Mere Rashke Qamar.mp3', 1.447032, 0.3317032, 0.4170469, 0.23424724590705315, 2.8481972, -4.0777707, 2352.8982830441946, 2294.5723574957096, 21.371091932939947, 4571.019583458679, 0.0018614887254417214, 0.05966898018823327]\n",
      "['Dataset/sufi\\\\Nusrat Fateh Ali Khan - Sanu Ek Pal Chain.mp3', 1.4955992, 0.2936456, 0.42059067, 0.2364935711156279, 1.7440851, -8.120152, 2045.7558008366098, 2198.3932424106188, 23.224707342478773, 3738.9147205519043, 0.012724583159114192, 0.05150157466321727]\n",
      "['Dataset/sufi\\\\Papon - Moh Moh Ke Dhaage (Male).mp3', 1.204436, 0.37721577, 0.33939248, 0.211266589399325, 3.4940763, -2.3782682, 2279.516694147775, 3200.6236868386363, 21.30989279284183, 4860.4765309834, -0.00847729634896461, 0.03570176810706137]\n",
      "['Dataset/sufi\\\\Prateek Kuhad - Kasoor.mp3', 1.0688637, 0.35148215, 0.27904436, 0.1890460416150711, 0.3618756, -14.345863, 1087.6688814812564, 1777.7134565266135, 20.635642888064968, 1796.4450121408336, -0.09007866977542106, 0.018928185111354207]\n",
      "['Dataset/sufi\\\\Pritam - Hawayein (From Jab Harry Met Sejal).mp3', 1.1848174, 0.31318954, 0.35027236, 0.2146444687133352, 8.112704, -1.0968809, 2186.2148467027396, 3115.295493195433, 20.26135199082616, 4594.345257183171, 0.017675489128307898, 0.03760876900585465]\n",
      "['Dataset/sufi\\\\Pritam - Shayad (From Love Aaj Kal).mp3', 1.1800059, 0.34185427, 0.35624626, 0.21419379889376583, 9.192211, -0.2089987, 2076.0164253726675, 2911.604249736864, 20.80760479714102, 4161.831154146972, 0.020622175439917872, 0.03812721567143877]\n",
      "['Dataset/sufi\\\\Pritam - Tu Hi Mera (1).mp3', 1.2480147, 0.3962738, 0.5133928, 0.2534600379767205, 6.824566, 2.557776, 2713.946784636033, 3119.1803586824003, 20.446708884642, 5828.533657900443, 0.0375995175490061, 0.05538312195812452]\n",
      "['Dataset/sufi\\\\Pritam - Tu Hi Mera.mp3', 1.2480147, 0.3962738, 0.5133928, 0.2534600379767205, 6.824566, 2.557776, 2713.946784636033, 3119.1803586824003, 20.446708884642, 5828.533657900443, 0.0375995175490061, 0.05538312195812452]\n",
      "['Dataset/sufi\\\\Quratulain Balouch - Sammi Meri Waar.mp3', 1.201851, 0.4010882, 0.4091343, 0.22965607037116434, 7.6733866, 1.6738236, 2721.0950794222304, 3212.721311549362, 21.427161071839127, 6239.053416903353, -0.05058583563774432, 0.04861565467559658]\n",
      "['Dataset/sufi\\\\Quratulain Balouch - Woh Humsafar.mp3', 1.1685026, 0.31075674, 0.3355028, 0.20842074039777672, 6.3212814, 0.2595034, 1936.0641837980452, 2499.688371231696, 21.99844487397281, 3953.2859724390787, -0.04187510329560406, 0.04061605285123794]\n",
      "['Dataset/sufi\\\\Rahat Fateh Ali Khan - Aas Paas Khuda.mp3', 1.3494997, 0.42305163, 0.40198267, 0.2347881385122254, 13.285946, 2.2335515, 2619.131453801908, 3256.6800339642305, 20.169849999982887, 5508.268479789755, 0.011924281153127084, 0.04848683419084987]\n",
      "['Dataset/sufi\\\\Rahat Fateh Ali Khan - Afreen Afreen (Coke Studio Season 9).mp3', 1.2166702, 0.38586247, 0.33154613, 0.20659067208043294, 9.680837, 0.50516254, 2760.5746946772433, 3501.3123122234765, 22.46178172666331, 6419.382581594753, -0.008315251068807475, 0.04812546664674543]\n",
      "['Dataset/sufi\\\\Rahat Fateh Ali Khan - Ajj Din Chadheya (From Love Aaj Kal ).mp3', 1.5250738, 0.37283674, 0.48648503, 0.2573270953545898, 11.729712, 2.5921657, 1830.9445711400665, 2142.2082671970497, 20.6629454282379, 3815.1537503418335, -0.002480226562097229, 0.043837437962543586]\n",
      "['Dataset/sufi\\\\Rahat Fateh Ali Khan - Jag Soona Soona Lage.mp3', 1.3488183, 0.4402268, 0.45998746, 0.2431416978530736, 10.45009, 3.1024199, 2701.8501216588415, 3177.342159174947, 20.44222747483126, 5535.118888545066, 0.014819774018775737, 0.054642336594182515]\n",
      "['Dataset/sufi\\\\Rahat Fateh Ali Khan - Kaisa Yeh Junoon.mp3', 1.3213092, 0.38523242, 0.36516812, 0.21973641813786043, 4.6271067, -2.0026102, 2385.013444456336, 3227.6159018225803, 20.750064474593554, 5166.36044984751, 0.0030123825528777168, 0.042236328125]\n",
      "['Dataset/sufi\\\\Rahat Fateh Ali Khan - Main Jahaan Rahoon (From Namastey London).mp3', 1.3482127, 0.33675128, 0.48924765, 0.24873249981867923, 2.762778, -3.4413834, 2728.377855417925, 3013.129835326731, 21.612883558809834, 5474.382667089679, 0.014943064975380872, 0.06204088343379865]\n",
      "['Dataset/sufi\\\\Rahat Fateh Ali Khan - Main Tenu.mp3', 1.3100468, 0.38545427, 0.41160342, 0.23096569942465808, 1.8955514, -1.3708013, 2226.01044309217, 2861.1598078312386, 21.51473676897472, 4537.731617266485, 0.01604436125543335, 0.045533132159863356]\n",
      "['Dataset/sufi\\\\Rahat Fateh Ali Khan - O Re Piya.mp3', 1.341451, 0.3493913, 0.4157998, 0.23068889430094536, 7.093831, -0.079976946, 1902.8722651581147, 2778.091000495238, 21.05666086165112, 3676.834123348956, -0.01285503627305029, 0.034733128395291864]\n",
      "['Dataset/sufi\\\\Rahat Fateh Ali Khan - Rangrez.mp3', 1.2026258, 0.3702347, 0.41830692, 0.23196207828650459, 7.3399224, 1.0269636, 3335.450197780387, 3819.219886895865, 21.10277678738818, 7438.304763349514, 0.04955632342468117, 0.06484262173847087]\n",
      "['Dataset/sufi\\\\Rahat Fateh Ali Khan - Sanu Ek Pal Chain (From Raid).mp3', 1.3835815, 0.38893938, 0.49391714, 0.25263391782193473, 12.755049, 3.3539863, 2500.483160917091, 3464.143911051381, 20.629965139944943, 5533.217460861284, 0.03452337666816502, 0.04171515605401607]\n",
      "['Dataset/sufi\\\\Rahat Fateh Ali Khan - Surili Akhiyon Wale (From Veer).mp3', 1.334177, 0.34756136, 0.3963506, 0.22947819623259721, 3.1554756, -3.1936176, 2354.17177312941, 3008.350852177186, 20.95616863850873, 4695.948204007172, -0.010360991907539358, 0.045198244675518195]\n",
      "['Dataset/sufi\\\\Rahat Fateh Ali Khan - Tere Mast Mast Do Nain.mp3', 1.4188952, 0.45268977, 0.46391544, 0.24952046171657039, 8.978575, 2.8811955, 2749.339764525788, 3227.898492398961, 19.96083240343904, 6195.370552698847, 0.005782186485491928, 0.05180206316969593]\n",
      "['Dataset/sufi\\\\Rahat Fateh Ali Khan - Zaroori Tha.mp3', 1.2543396, 0.28749454, 0.33812192, 0.21564915931107556, 6.8200135, 0.9063961, 2098.8861936034705, 2761.747200808333, 21.352803194661085, 4174.331646557346, -0.029875123685152074, 0.040480667465410416]\n",
      "['Dataset/sufi\\\\Rashid Khan - Aaoge Jab Tum.mp3', 1.254889, 0.39778966, 0.3392303, 0.214343050515555, 6.134859, 0.93724096, 2574.680538460456, 3291.3993350501114, 21.725808847057934, 5855.328434339837, -0.060535936581471134, 0.041856628774391114]\n",
      "['Dataset/sufi\\\\Reshma - Duma dum mast qalandar.mp3', 1.4711934, 0.29560333, 0.40514034, 0.23620365386746786, 4.6315823, -4.79581, 1422.3938442766867, 1942.6971194455568, 21.627501643468147, 2447.35709815375, 0.014057866989865107, 0.029892647391976113]\n",
      "['Dataset/sufi\\\\Roop Kumar Rathod - Maula Mere Maula.mp3', 1.2678597, 0.37762874, 0.38425413, 0.22618004610712175, 7.465568, 0.2087996, 2079.8317884865955, 2686.1488161720786, 21.030884397734262, 4347.14352555543, 0.05467626376313146, 0.0432224487186772]\n",
      "['Dataset/sufi\\\\Saieen Zahoor & Noori - Aik Alif.mp3', 1.1624457, 0.35103533, 0.36062124, 0.2215899275941471, 1.0419536, -7.3454185, 2988.107070514515, 3446.083138681001, 20.731107453915836, 6461.209452267125, 0.020664424117521965, 0.05983280576927865]\n",
      "['Dataset/sufi\\\\SalimSulaiman - Ali Maula.mp3', 1.2731804, 0.49710754, 0.49117827, 0.24518171532837765, 2.8941655, -0.57138216, 2050.849983282448, 2972.906256422963, 19.507685417103314, 4395.84444656125, 0.00971522036532429, 0.03142036355139074]\n",
      "['Dataset/sufi\\\\SalimSulaiman - Saaiyaan.mp3', 1.270851, 0.36205047, 0.34804767, 0.21451494152768494, 16.655447, 3.9984612, 2133.638382887975, 2979.7661124230444, 21.274620547578397, 4322.783502134972, 0.005081023110023644, 0.03953400007810873]\n",
      "['Dataset/sufi\\\\SalimSulaiman - Shukran Allah (From Kurbaan).mp3', 1.2890234, 0.40659234, 0.4402539, 0.2422007143152941, 12.0551195, 3.1627107, 2226.4301473042706, 3230.692298105116, 20.019986772802255, 4881.712313810224, -0.0226125733914847, 0.03490009539352703]\n",
      "['Dataset/sufi\\\\Shafqat Amanat Ali - Aakhon ke Sagar.mp3', 1.3263048, 0.38095236, 0.47689638, 0.2535525820894127, 2.9239614, -0.44654188, 2191.5600456740717, 2611.817659328612, 21.3957386577484, 4888.4554454864265, -0.012662954085793071, 0.05051705799699408]\n",
      "['Dataset/sufi\\\\Shafqat Amanat Ali - Allahu Akbar.mp3', 1.1706716, 0.3744783, 0.35556296, 0.20917340399451584, 6.0228295, -0.79355425, 2602.004896517207, 3303.410161663884, 21.390874423032113, 6090.692569919637, -0.04089998108436151, 0.044022558298481264]\n",
      "['Dataset/sufi\\\\Shankar-Ehsaan-Loy - Kal Ho Naa Ho.mp3', 1.2457123, 0.39856392, 0.38604206, 0.22361738427722508, 9.3425255, 1.2089903, 2276.3554736163806, 2974.681358427401, 20.802484837816262, 5052.546113659156, 0.050176950603203936, 0.039869149150911394]\n",
      "['Dataset/sufi\\\\Shankar-Ehsaan-Loy - Sajdaa.mp3', 1.3997802, 0.3791406, 0.43791965, 0.2384213640102607, 1.7682754, -6.1494527, 2237.9958146524223, 2740.835151126997, 20.906863027674017, 4565.285065867799, -0.006297400081300478, 0.04642820711233112]\n",
      "['Dataset/sufi\\\\Shilpa Rao - Par Chanaa De (Coke Studio Season 9).mp3', 1.1502798, 0.41619292, 0.35572478, 0.2142854657529643, 10.927898, 3.2510726, 2324.8092230947746, 3018.9269514520465, 21.404517481690313, 5438.198625628578, 0.06936427909733278, 0.04033248063120671]\n",
      "['Dataset/sufi\\\\Tochi Raina - Kabira.mp3', 1.1367192, 0.3694802, 0.41845796, 0.2341649479909848, 1.9988214, -1.2043188, 2402.7543422657127, 3442.5490779415177, 20.473281499905738, 5208.641286463419, 0.009918432192692568, 0.03920578528379899]\n",
      "['Dataset/sufi\\\\Udit Narayan - Agar Tum Mil Jao - Male Vocals.mp3', 1.3654864, 0.3757903, 0.47005627, 0.24130398523956306, 5.117019, -0.11216542, 3173.819923616268, 3401.5984909824, 20.908568261505984, 6680.352835842713, 0.010219485013763513, 0.06999246557977634]\n",
      "['Dataset/sufi\\\\Vishal Mishra - Manjha.mp3', 1.3082014, 0.4597997, 0.35104126, 0.21023000521185076, 11.026039, 2.499525, 2191.155692821875, 2939.965351259498, 19.929679632378893, 4594.565436300379, -0.006796904974776952, 0.03655063239182973]\n",
      "['Dataset/sufi\\\\Zeb Bangash - Aaja Re Moray Saiyaan - Coke Studio Season 9.mp3', 1.1945599, 0.4167541, 0.40535802, 0.22840635786615104, 9.91283, 1.5112147, 2775.36265382746, 3478.4542159011376, 21.313085790472115, 6665.994296537713, 0.044979713952977014, 0.04673442228635825]\n"
     ]
    }
   ],
   "source": [
    "#build the matrix with genre audios featurized\n",
    "song_features = []\n",
    "\n",
    "for file in bhajan_audio_files:\n",
    "  '''\n",
    "  y is the time series array of the audio file, a 1D np.ndarray\n",
    "  sr is the sampling rate, a number\n",
    "  '''  \n",
    "  y,sr = librosa.load(file,sr=None)   \n",
    "  feature_vector = get_feature_vector(y, sr)\n",
    "\n",
    "  song_features.append([file] + feature_vector)  \n",
    "  print([file] + feature_vector) "
   ]
  },
  {
   "cell_type": "code",
   "execution_count": 7,
   "id": "4138d1c6-1b8c-499c-901d-3b1693c6271b",
   "metadata": {},
   "outputs": [
    {
     "name": "stdout",
     "output_type": "stream",
     "text": [
      "74\n"
     ]
    }
   ],
   "source": [
    "print(len(song_features))"
   ]
  },
  {
   "cell_type": "code",
   "execution_count": 8,
   "id": "396e0a5b-deee-4f0a-af28-8e179c6ea4fc",
   "metadata": {},
   "outputs": [],
   "source": [
    "columns = [\"Song_Name\", \"onset_strength\", \"chroma_stft\", \"chroma_cqt\", \"chroma_cens\", \"melspectrogram\", \"mfcc\",\t\n",
    "           \"spectral_centroid\" ,\"spectral_bandwidth\", \"spectral_contrast\", \"spectral_rolloff\",\t\"tonnetz\", \"zero_crossing_rate\"]"
   ]
  },
  {
   "cell_type": "code",
   "execution_count": 9,
   "id": "23e9065e-f795-4ed0-bbfa-4b657b740943",
   "metadata": {},
   "outputs": [],
   "source": [
    "import pandas as pd\n",
    "df = pd.DataFrame(song_features, columns=columns)"
   ]
  },
  {
   "cell_type": "code",
   "execution_count": 10,
   "id": "8ea76780-683c-4463-8975-9aa6ca7752ba",
   "metadata": {},
   "outputs": [],
   "source": [
    "file_name = genre + '_features.csv'\n",
    "df.to_csv(file_name)  "
   ]
  },
  {
   "cell_type": "code",
   "execution_count": null,
   "id": "cded2a52-3687-47a9-bbc8-097f28f14476",
   "metadata": {},
   "outputs": [],
   "source": []
  },
  {
   "cell_type": "code",
   "execution_count": null,
   "id": "48f626be-e5b0-4c3c-8167-47996f569757",
   "metadata": {},
   "outputs": [],
   "source": []
  },
  {
   "cell_type": "code",
   "execution_count": null,
   "id": "b0fa45e6-2040-4527-a61c-cfa7c94c04dc",
   "metadata": {},
   "outputs": [],
   "source": []
  },
  {
   "cell_type": "code",
   "execution_count": null,
   "id": "3d890864-e26b-494a-b888-5a752e67259a",
   "metadata": {},
   "outputs": [],
   "source": []
  }
 ],
 "metadata": {
  "kernelspec": {
   "display_name": "Python 3",
   "language": "python",
   "name": "python3"
  },
  "language_info": {
   "codemirror_mode": {
    "name": "ipython",
    "version": 3
   },
   "file_extension": ".py",
   "mimetype": "text/x-python",
   "name": "python",
   "nbconvert_exporter": "python",
   "pygments_lexer": "ipython3",
   "version": "3.8.8"
  }
 },
 "nbformat": 4,
 "nbformat_minor": 5
}
