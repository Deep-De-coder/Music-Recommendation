{
 "cells": [
  {
   "cell_type": "code",
   "execution_count": 1,
   "id": "cbb49fcf-5e62-487a-a8a9-175ba83d42a8",
   "metadata": {},
   "outputs": [],
   "source": [
    "import librosa\n",
    "from librosa import feature\n",
    "import numpy as np\n",
    "import os\n",
    "from getpass import getpass\n",
    "import urllib\n",
    "from glob import glob\n",
    "import pathlib\n"
   ]
  },
  {
   "cell_type": "code",
   "execution_count": 14,
   "id": "2c5899cc-e55f-46a2-bcb8-ee438e0bc006",
   "metadata": {},
   "outputs": [],
   "source": [
    "genre = 'bhajan'\n",
    "\n",
    "#directories of the genre\n",
    "bhajan_dir =  \"Dataset/bhajan/\"\n",
    "bhajan_audio_files = glob(bhajan_dir  + '*.mp3')\n",
    "for i in bhajan_audio_files:\n",
    "    i = pathlib.Path(i)"
   ]
  },
  {
   "cell_type": "code",
   "execution_count": 15,
   "id": "674a4312-e121-42b8-93e0-114fecbdd761",
   "metadata": {},
   "outputs": [
    {
     "data": {
      "text/plain": [
       "['Dataset/bhajan\\\\Anup Jalota - Ae Malik Tere Bande Hum.mp3',\n",
       " 'Dataset/bhajan\\\\Anup Jalota - Aisi Laagi Lagan.mp3',\n",
       " 'Dataset/bhajan\\\\Anup Jalota - Bol Pinjare Ka Tota Ram.mp3',\n",
       " 'Dataset/bhajan\\\\Anup Jalota - Hridaya Banalo Bhakto.mp3',\n",
       " 'Dataset/bhajan\\\\Anup Jalota - Kanha Teri Murli Ki (1).mp3',\n",
       " 'Dataset/bhajan\\\\Anup Jalota - Kanha Teri Murli Ki.mp3',\n",
       " 'Dataset/bhajan\\\\Anup Jalota - Payoji Maine Ram Ratan Dhan.mp3',\n",
       " 'Dataset/bhajan\\\\Anup Jalota - Sukhkarta Dukhharta (Siddhivinayakji Ki Aarti).mp3',\n",
       " 'Dataset/bhajan\\\\Anup Jalota - Thumak Chalat Ramchandra.mp3',\n",
       " 'Dataset/bhajan\\\\Anuradha Paudwal - Naam Hai Tera Taranhaar.mp3',\n",
       " 'Dataset/bhajan\\\\AR Rahman - O Paalanhaare.mp3',\n",
       " 'Dataset/bhajan\\\\Asha Bhosle - Sancha Naam Tera - From Julie - Soundtrack Version.mp3',\n",
       " 'Dataset/bhajan\\\\Bhaiya Krishan Das Ji - Mera Aapki Kripa Se.mp3',\n",
       " 'Dataset/bhajan\\\\Bhakti Marga - Sriman Narayana.mp3',\n",
       " 'Dataset/bhajan\\\\Bhimsen Joshi - Chalo Ri Murali Suniye.mp3',\n",
       " 'Dataset/bhajan\\\\Bhimsen Joshi - Jai Durge Durgati Pariharini.mp3',\n",
       " 'Dataset/bhajan\\\\Bipin Sachdeva - Jaise Suraj Ki.mp3',\n",
       " 'Dataset/bhajan\\\\Bipin Sachdeva - Sukh Ke Sab Sathi.mp3',\n",
       " 'Dataset/bhajan\\\\Hari Om Sharan - Ramji Ke Naam Ne To Pathar Bhi Tare.mp3',\n",
       " 'Dataset/bhajan\\\\Hariharan - Shiv Shankar Ko Jisne Pooja.mp3',\n",
       " 'Dataset/bhajan\\\\Hariharan - Subah Subah Le Shiv Ka Naam Kar Le Bande Ye Shubh Kaam.mp3',\n",
       " 'Dataset/bhajan\\\\Jagjit Singh - Hey Ram.mp3',\n",
       " 'Dataset/bhajan\\\\Kanhiya Mittal - Hara Hu Sath Nibhao Na Baba Haare Haare 3.mp3',\n",
       " 'Dataset/bhajan\\\\Kanhiya Mittal - Khatu Ji Jaane Ko Jee Lalchata Hai.mp3',\n",
       " 'Dataset/bhajan\\\\Kanhiya Mittal - Mera to Sahara Shyam Tu Hai.mp3',\n",
       " 'Dataset/bhajan\\\\Kanhiya Mittal - Rangli Rangli Chunariya Tere Naam Balaji (1).mp3',\n",
       " 'Dataset/bhajan\\\\Kanhiya Mittal - Rangli Rangli Chunariya Tere Naam Balaji.mp3',\n",
       " 'Dataset/bhajan\\\\Kanhiya Mittal - Subah Subah Jab Bhi Meri Aankhe Khulti Hai Bhajan.mp3',\n",
       " 'Dataset/bhajan\\\\Lata Mangeshkar - Tum Hi Ho Mata Pita Tumhi Ho (1).mp3',\n",
       " 'Dataset/bhajan\\\\Lata Mangeshkar - Tum Hi Ho Mata Pita Tumhi Ho.mp3',\n",
       " 'Dataset/bhajan\\\\Madhushree - Pal Pal Hai Bhaari (1).mp3',\n",
       " 'Dataset/bhajan\\\\Madhushree - Pal Pal Hai Bhaari.mp3',\n",
       " 'Dataset/bhajan\\\\Mahendra Kapoor - Ramchandra Kah Gaye.mp3',\n",
       " 'Dataset/bhajan\\\\Mohammed Rafi - Badi Der Bhai Nandlala.mp3',\n",
       " 'Dataset/bhajan\\\\Mukesh Bagda - Mera Apki Kripa Se.mp3',\n",
       " 'Dataset/bhajan\\\\Narendra Chanchal - Meri Maiya Ne.mp3',\n",
       " 'Dataset/bhajan\\\\Naresh Pawar Bikaneri - Kesar Chandan Tilak Lagao.mp3',\n",
       " 'Dataset/bhajan\\\\Naresh Pawar Bikaneri - Mila Mujhe Teri Kripa Se (1).mp3',\n",
       " 'Dataset/bhajan\\\\Naresh Pawar Bikaneri - Mila Mujhe Teri Kripa Se.mp3',\n",
       " 'Dataset/bhajan\\\\Nitin Mukesh - Jai Shiv Omkara.mp3',\n",
       " 'Dataset/bhajan\\\\Nitin Mukesh - Om Jai Jagdish Hare.mp3',\n",
       " 'Dataset/bhajan\\\\Pappu Sharma - Agar Hum Par Ho Jaya Kirpa Tumhari.mp3',\n",
       " 'Dataset/bhajan\\\\Pappu Sharma - Hum Jane Pahchane Hain Kanihya Tere (1).mp3',\n",
       " 'Dataset/bhajan\\\\Pappu Sharma - Hum Jane Pahchane Hain Kanihya Tere.mp3',\n",
       " 'Dataset/bhajan\\\\Pappu Sharma - Rang De Chunirya Shyam Naam Ki (1).mp3',\n",
       " 'Dataset/bhajan\\\\Pappu Sharma - Rang De Chunirya Shyam Naam Ki.mp3',\n",
       " 'Dataset/bhajan\\\\Pappu Sharma - Shyam Dhani Ke Male Main Jana.mp3',\n",
       " 'Dataset/bhajan\\\\Ravindra Jain - Jai Shiv Shankar Jai Mahadeva.mp3']"
      ]
     },
     "execution_count": 15,
     "metadata": {},
     "output_type": "execute_result"
    }
   ],
   "source": [
    "bhajan_audio_files"
   ]
  },
  {
   "cell_type": "code",
   "execution_count": 16,
   "id": "34de784b-a975-46d0-8b8e-7d5bf6e49c67",
   "metadata": {},
   "outputs": [
    {
     "name": "stdout",
     "output_type": "stream",
     "text": [
      "Number of audios : 48\n",
      "<class 'str'>\n"
     ]
    }
   ],
   "source": [
    "print(f'Number of audios : {len(bhajan_audio_files)}')\n",
    "print(type(bhajan_audio_files[0]))"
   ]
  },
  {
   "cell_type": "code",
   "execution_count": 17,
   "id": "eb76ef5c-dbc1-4c67-a352-3d272473dd98",
   "metadata": {},
   "outputs": [],
   "source": [
    "# Created list of all the functions\n",
    "fn_list_i = [\n",
    "    librosa.onset.onset_strength,              # it is spectral_flux\n",
    "    feature.chroma_stft,                       # chromagram from a waveform or power spectrogram\n",
    "    feature.chroma_cqt,\n",
    "    feature.chroma_cens,\n",
    "    feature.melspectrogram,\n",
    "    feature.mfcc,\n",
    "    feature.spectral_centroid,\n",
    "    feature.spectral_bandwidth,\n",
    "    feature.spectral_contrast,\n",
    "    feature.spectral_rolloff,\n",
    "    feature.tonnetz\n",
    "]\n",
    "\n",
    "fn_list_ii = [\n",
    "    feature.zero_crossing_rate\n",
    "]\n",
    "\n",
    "def get_feature_vector(y,sr): \n",
    "   feat_vect_i = [ np.mean(funct(y,sr)) for funct in fn_list_i]\n",
    "   feat_vect_ii = [ np.mean(funct(y)) for funct in fn_list_ii] \n",
    "   feature_vector = feat_vect_i + feat_vect_ii \n",
    "   return feature_vector"
   ]
  },
  {
   "cell_type": "code",
   "execution_count": 18,
   "id": "bc25c8f7-e444-484d-9cad-2ab7e8c4adbf",
   "metadata": {},
   "outputs": [
    {
     "name": "stderr",
     "output_type": "stream",
     "text": [
      "D:\\Softwares\\anaconda\\lib\\site-packages\\librosa\\core\\audio.py:165: UserWarning: PySoundFile failed. Trying audioread instead.\n",
      "  warnings.warn(\"PySoundFile failed. Trying audioread instead.\")\n"
     ]
    },
    {
     "name": "stdout",
     "output_type": "stream",
     "text": [
      "['Dataset/bhajan\\\\Anup Jalota - Ae Malik Tere Bande Hum.mp3', 1.328786, 0.36408594, 0.45517012, 0.23918957199146645, 10.937271, 2.3901787, 2900.150562788673, 3756.721747295903, 20.75060743037618, 6292.573851203501, 0.006288998593018963, 0.053945667553862986]\n"
     ]
    },
    {
     "name": "stderr",
     "output_type": "stream",
     "text": [
      "D:\\Softwares\\anaconda\\lib\\site-packages\\librosa\\core\\audio.py:165: UserWarning: PySoundFile failed. Trying audioread instead.\n",
      "  warnings.warn(\"PySoundFile failed. Trying audioread instead.\")\n"
     ]
    },
    {
     "name": "stdout",
     "output_type": "stream",
     "text": [
      "['Dataset/bhajan\\\\Anup Jalota - Aisi Laagi Lagan.mp3', 1.3471452, 0.37439203, 0.39704597, 0.23075534606134449, 6.2366743, -3.730755, 2094.4617763331703, 2174.652093081218, 22.10539835890742, 3856.137309388714, -0.021664007336277536, 0.05756259973846358]\n",
      "['Dataset/bhajan\\\\Anup Jalota - Bol Pinjare Ka Tota Ram.mp3', 1.4377344, 0.3496862, 0.44744575, 0.24345947542366536, 3.6874547, -1.8327248, 2987.7502328778423, 3087.7459552653745, 21.459267504963936, 6066.588346387486, 0.012001312487423338, 0.07345205467307137]\n",
      "['Dataset/bhajan\\\\Anup Jalota - Hridaya Banalo Bhakto.mp3', 1.4331586, 0.3336786, 0.43622375, 0.24144135346121737, 0.29643512, -8.927594, 2153.824651787026, 2156.3364646792256, 20.858720505358388, 4412.498834458796, -0.0031947510627920576, 0.05977361125765576]\n",
      "['Dataset/bhajan\\\\Anup Jalota - Kanha Teri Murli Ki (1).mp3', 1.468072, 0.32697466, 0.43036333, 0.24439189755484125, 0.41431373, -8.681396, 2073.7523316688003, 2093.348514778965, 20.457710268553654, 4240.431099108104, 0.02462267505106452, 0.05464482638621918]\n",
      "['Dataset/bhajan\\\\Anup Jalota - Kanha Teri Murli Ki.mp3', 1.468072, 0.32697466, 0.43036333, 0.24439189755484125, 0.41431373, -8.681396, 2073.7523316688003, 2093.348514778965, 20.457710268553654, 4240.431099108104, 0.02462267505106452, 0.05464482638621918]\n",
      "['Dataset/bhajan\\\\Anup Jalota - Payoji Maine Ram Ratan Dhan.mp3', 1.3371758, 0.37288532, 0.43046957, 0.23900620026711433, 1.3255706, -7.326196, 2285.9407936336734, 2833.093408357062, 21.159345798564946, 4569.952871104694, 0.029873009349380718, 0.04710290386863713]\n",
      "['Dataset/bhajan\\\\Anup Jalota - Sukhkarta Dukhharta (Siddhivinayakji Ki Aarti).mp3', 1.350022, 0.40685987, 0.4233611, 0.2393843238534692, 6.216128, 0.87908137, 2855.9694870711737, 3192.3700306282667, 20.696264760259552, 5853.629741885022, 0.029121231959073058, 0.0625850147878373]\n",
      "['Dataset/bhajan\\\\Anup Jalota - Thumak Chalat Ramchandra.mp3', 1.5439639, 0.4572393, 0.3538418, 0.2254442887501473, 4.2144637, 1.6476359, 2483.1850919114254, 3080.085639208138, 21.77596665455241, 5448.518704239086, -0.061143124569052146, 0.04349517091380697]\n",
      "['Dataset/bhajan\\\\Anuradha Paudwal - Naam Hai Tera Taranhaar.mp3', 1.5646639, 0.31800768, 0.45680505, 0.24798035924896264, 1.4605267, -5.671103, 2700.3960750367687, 2235.638136286839, 23.30766306457211, 5028.381759845863, 0.007118583081760644, 0.08250899450354321]\n",
      "['Dataset/bhajan\\\\AR Rahman - O Paalanhaare.mp3', 1.2142421, 0.30361658, 0.35107723, 0.20750279850051392, 2.7254224, -6.2412324, 2504.8454893747926, 3447.8228625813654, 21.27762390038812, 5442.264597039473, 0.017665699884889054, 0.04047227685141101]\n",
      "['Dataset/bhajan\\\\Asha Bhosle - Sancha Naam Tera - From Julie - Soundtrack Version.mp3', 1.3467095, 0.27173853, 0.39695343, 0.23879741923947498, 3.5371518, -5.0961094, 1528.3769952046812, 1616.2011094481988, 21.13632913838671, 2908.168227665706, -0.00440949237339059, 0.03912575141840778]\n",
      "['Dataset/bhajan\\\\Bhaiya Krishan Das Ji - Mera Aapki Kripa Se.mp3', 1.3524293, 0.37880018, 0.5164674, 0.25631223623882055, 1.2770598, -5.0996757, 2412.02156264137, 2522.4049257406323, 21.642730172518704, 4803.22799462312, -0.032230499167239225, 0.06557814094705268]\n",
      "['Dataset/bhajan\\\\Bhakti Marga - Sriman Narayana.mp3', 1.4112453, 0.32676443, 0.42551064, 0.23402147837432866, 1.3089259, -5.1303196, 2326.845545641193, 2860.1005381213768, 21.0693011347343, 4944.582040240727, 0.0026998223976454324, 0.05149579174999057]\n",
      "['Dataset/bhajan\\\\Bhimsen Joshi - Chalo Ri Murali Suniye.mp3', 1.3676354, 0.33915535, 0.41985315, 0.2397704872203105, 5.4047, 1.8877674, 3978.2450722591416, 4096.756338174975, 21.915492006270178, 8432.032768675368, -0.033764982604821914, 0.08766192876110802]\n",
      "['Dataset/bhajan\\\\Bhimsen Joshi - Jai Durge Durgati Pariharini.mp3', 1.2657199, 0.34580356, 0.40040627, 0.22940487318011793, 1.0376323, -2.975169, 2001.6280746722377, 2407.0574573835725, 20.68060047394428, 3975.142474076919, -0.006360840287880533, 0.042756005963851706]\n",
      "['Dataset/bhajan\\\\Bipin Sachdeva - Jaise Suraj Ki.mp3', 1.5031139, 0.37794334, 0.45429134, 0.2480757366827942, 8.6876955, -0.06501754, 2766.93161650667, 2795.6487662243812, 21.616672046514076, 5328.166203766716, 0.0062521885276181684, 0.07683379357497704]\n",
      "['Dataset/bhajan\\\\Bipin Sachdeva - Sukh Ke Sab Sathi.mp3', 1.4972161, 0.36910337, 0.4365293, 0.24119380481948816, 15.61485, 0.58443964, 2676.9986149716965, 2923.3749613252726, 21.948010026588776, 5384.4266775284195, 0.004047638502000377, 0.06909047359810619]\n",
      "['Dataset/bhajan\\\\Hari Om Sharan - Ramji Ke Naam Ne To Pathar Bhi Tare.mp3', 1.3724446, 0.3489848, 0.39442092, 0.23427505460747025, 1.7623495, -4.1711035, 2321.076846567342, 2624.6613913278306, 21.38601655671006, 4442.654376021038, 0.00810298436164442, 0.053562567861696615]\n",
      "['Dataset/bhajan\\\\Hariharan - Shiv Shankar Ko Jisne Pooja.mp3', 1.3995867, 0.29884624, 0.40409985, 0.23796418820111018, 4.6203127, -4.3231955, 1785.1418454655595, 2034.7575463355108, 20.889944145961664, 3227.439399099686, -0.0230544522314257, 0.04383063885454303]\n",
      "['Dataset/bhajan\\\\Hariharan - Subah Subah Le Shiv Ka Naam Kar Le Bande Ye Shubh Kaam.mp3', 1.2701713, 0.2991993, 0.3403282, 0.21687382058008733, 12.999119, -3.1992745, 1620.4371672076363, 1901.8731150450205, 22.29584449732952, 2866.078718558414, 0.03409318206277071, 0.038493729140405664]\n",
      "['Dataset/bhajan\\\\Jagjit Singh - Hey Ram.mp3', 1.22465, 0.3633097, 0.38136247, 0.2242783610643369, 0.73217523, -5.4180427, 2006.6978335145407, 2324.08510791219, 20.244919319057193, 3912.1265240730722, 0.041108372455412774, 0.04823642102258541]\n",
      "['Dataset/bhajan\\\\Kanhiya Mittal - Hara Hu Sath Nibhao Na Baba Haare Haare 3.mp3', 1.3387394, 0.3726257, 0.4712717, 0.24816383348401022, 3.8560405, 0.8166277, 2836.6540186979814, 3522.604988449269, 21.670757034857335, 6490.550489407097, -0.018497834140730023, 0.04972220459532677]\n",
      "['Dataset/bhajan\\\\Kanhiya Mittal - Khatu Ji Jaane Ko Jee Lalchata Hai.mp3', 1.4775034, 0.4523299, 0.46324727, 0.24672423911097316, 12.076837, 3.7212968, 2482.142711419291, 3339.531747002796, 21.46710307143618, 5598.45411263559, -0.0021269193938871635, 0.04185360883100821]\n",
      "['Dataset/bhajan\\\\Kanhiya Mittal - Mera to Sahara Shyam Tu Hai.mp3', 1.3864377, 0.39483577, 0.42540228, 0.2409933543366044, 6.251884, 1.4708097, 3501.5671246759134, 4069.0855501653996, 22.124322163120496, 7924.204268406164, 0.018960307161720393, 0.07123571978174086]\n",
      "['Dataset/bhajan\\\\Kanhiya Mittal - Rangli Rangli Chunariya Tere Naam Balaji (1).mp3', 1.5339098, 0.38901117, 0.46564224, 0.24608054163434484, 14.865773, 1.9910293, 3169.0837825235935, 3646.598902145796, 21.406984030969337, 7027.271476327058, -0.009787773672534993, 0.05837219489779429]\n",
      "['Dataset/bhajan\\\\Kanhiya Mittal - Rangli Rangli Chunariya Tere Naam Balaji.mp3', 1.5339098, 0.38901117, 0.46564224, 0.24608054163434484, 14.865773, 1.9910293, 3169.0837825235935, 3646.598902145796, 21.406984030969337, 7027.271476327058, -0.009787773672534993, 0.05837219489779429]\n",
      "['Dataset/bhajan\\\\Kanhiya Mittal - Subah Subah Jab Bhi Meri Aankhe Khulti Hai Bhajan.mp3', 1.4769415, 0.38751048, 0.37067506, 0.2238189149449681, 8.236992, 2.4308107, 2355.313638983505, 3203.207712187868, 21.16619370922258, 5069.499497355211, -0.019567689588074286, 0.039835008007738704]\n",
      "['Dataset/bhajan\\\\Lata Mangeshkar - Tum Hi Ho Mata Pita Tumhi Ho (1).mp3', 1.2878054, 0.27075797, 0.3541761, 0.2252313705961471, 3.199766, -8.295131, 1648.9309838544452, 1629.9149243122606, 21.022087883188554, 2925.322165847803, -0.018632853970945766, 0.04863865737186645]\n",
      "['Dataset/bhajan\\\\Lata Mangeshkar - Tum Hi Ho Mata Pita Tumhi Ho.mp3', 1.2878054, 0.27075797, 0.3541761, 0.2252313705961471, 3.199766, -8.295131, 1648.9309838544452, 1629.9149243122606, 21.022087883188554, 2925.322165847803, -0.018632853970945766, 0.04863865737186645]\n",
      "['Dataset/bhajan\\\\Madhushree - Pal Pal Hai Bhaari (1).mp3', 1.3213887, 0.3485568, 0.41074207, 0.23451661863364184, 6.885684, -2.2647507, 3079.585365682603, 3466.0857233754787, 20.971253187178032, 6182.222124005178, 0.010594021912745057, 0.06611807557352095]\n",
      "['Dataset/bhajan\\\\Madhushree - Pal Pal Hai Bhaari.mp3', 1.3213887, 0.3485568, 0.41074207, 0.23451661863364184, 6.885684, -2.2647507, 3079.585365682603, 3466.0857233754787, 20.971253187178032, 6182.222124005178, 0.010594021912745057, 0.06611807557352095]\n",
      "['Dataset/bhajan\\\\Mahendra Kapoor - Ramchandra Kah Gaye.mp3', 1.355348, 0.31092843, 0.42255247, 0.24742018097948887, 2.5250592, -4.9442835, 2187.011134411465, 1990.241466993337, 21.335688984016965, 4540.775904127221, -0.006593151847563603, 0.05914452951994408]\n",
      "['Dataset/bhajan\\\\Mohammed Rafi - Badi Der Bhai Nandlala.mp3', 1.3524365, 0.30962443, 0.4456733, 0.24845727592926606, 6.4618254, -7.3711, 1959.2989837198568, 1364.9360339452578, 20.158253316340343, 3186.4052534763973, -0.024886215237841267, 0.07125570040089654]\n",
      "['Dataset/bhajan\\\\Mukesh Bagda - Mera Apki Kripa Se.mp3', 1.4682741, 0.37310305, 0.40566775, 0.23752493855429457, 5.516778, 0.8929975, 3035.6042132454404, 3218.30228045356, 22.009954526011672, 5972.495051090814, 0.0035247134407612826, 0.0697982774048413]\n",
      "['Dataset/bhajan\\\\Narendra Chanchal - Meri Maiya Ne.mp3', 1.4029267, 0.399914, 0.48909754, 0.2526187836747732, 7.7369123, -2.1698549, 1809.1658915646267, 2409.148771571892, 20.10587550262289, 3366.561271173624, 0.01812825718612028, 0.04078088765376084]\n",
      "['Dataset/bhajan\\\\Naresh Pawar Bikaneri - Kesar Chandan Tilak Lagao.mp3', 1.3773353, 0.3821462, 0.3548949, 0.2271026117082759, 5.2352443, 3.4169657, 2228.3817989835034, 2460.35085019594, 22.0703103955562, 4481.189856486726, -0.024141847767320913, 0.05310971881464562]\n",
      "['Dataset/bhajan\\\\Naresh Pawar Bikaneri - Mila Mujhe Teri Kripa Se (1).mp3', 1.3353959, 0.33990806, 0.41280553, 0.23620994491741837, 4.8839083, 0.32559362, 2130.0508531852934, 2507.078730291225, 21.727226035345385, 4343.16257137358, -0.028913348251305256, 0.04997591642875473]\n",
      "['Dataset/bhajan\\\\Naresh Pawar Bikaneri - Mila Mujhe Teri Kripa Se.mp3', 1.3353959, 0.33990806, 0.41280553, 0.23620994491741837, 4.8839083, 0.32559362, 2130.0508531852934, 2507.078730291225, 21.727226035345385, 4343.16257137358, -0.028913348251305256, 0.04997591642875473]\n",
      "['Dataset/bhajan\\\\Nitin Mukesh - Jai Shiv Omkara.mp3', 1.299749, 0.3681273, 0.42485666, 0.23870012218665893, 3.0373812, -2.3633945, 2584.3181444354173, 2769.6320308422114, 21.66694360795293, 5160.169767499017, 0.005947352645220999, 0.06043330112686787]\n",
      "['Dataset/bhajan\\\\Nitin Mukesh - Om Jai Jagdish Hare.mp3', 1.4203647, 0.3917358, 0.40891927, 0.23463949523926264, 1.0413419, -4.6086907, 1453.3966567150492, 1754.827671530345, 21.951998984877413, 2759.5476988714245, -0.007836698385356404, 0.03416985985261697]\n",
      "['Dataset/bhajan\\\\Pappu Sharma - Agar Hum Par Ho Jaya Kirpa Tumhari.mp3', 1.4822615, 0.41367555, 0.5616769, 0.267591617985913, 13.874438, 5.267844, 3445.238584743503, 3702.9579227430745, 21.176734289954876, 7445.408417474515, 0.019332242457640217, 0.07823381587924641]\n",
      "['Dataset/bhajan\\\\Pappu Sharma - Hum Jane Pahchane Hain Kanihya Tere (1).mp3', 1.4751534, 0.36288166, 0.50938296, 0.2569154896991988, 1.3818948, -2.0023422, 3146.0867023846195, 3538.771234302877, 20.866950655853184, 6641.544562897693, -0.012819145005967777, 0.07001784862378564]\n",
      "['Dataset/bhajan\\\\Pappu Sharma - Hum Jane Pahchane Hain Kanihya Tere.mp3', 1.4751534, 0.36288166, 0.50938296, 0.2569154896991988, 1.3818948, -2.0023422, 3146.0867023846195, 3538.771234302877, 20.866950655853184, 6641.544562897693, -0.012819145005967777, 0.07001784862378564]\n",
      "['Dataset/bhajan\\\\Pappu Sharma - Rang De Chunirya Shyam Naam Ki (1).mp3', 1.359238, 0.35557416, 0.3967414, 0.2329072980301435, 7.7304573, 3.0934806, 2924.4289759633657, 3298.6387745664088, 22.057364714607022, 5976.599228007471, -0.006823203371843327, 0.06812306423275695]\n",
      "['Dataset/bhajan\\\\Pappu Sharma - Rang De Chunirya Shyam Naam Ki.mp3', 1.359238, 0.35557416, 0.3967414, 0.2329072980301435, 7.7304573, 3.0934806, 2924.4289759633657, 3298.6387745664088, 22.057364714607022, 5976.599228007471, -0.006823203371843327, 0.06812306423275695]\n",
      "['Dataset/bhajan\\\\Pappu Sharma - Shyam Dhani Ke Male Main Jana.mp3', 1.4822615, 0.41367555, 0.5616769, 0.267591617985913, 13.874438, 5.267844, 3445.238584743503, 3702.9579227430745, 21.176734289954876, 7445.408417474515, 0.019332242457640217, 0.07823381587924641]\n",
      "['Dataset/bhajan\\\\Ravindra Jain - Jai Shiv Shankar Jai Mahadeva.mp3', 1.3589215, 0.33216223, 0.38489124, 0.23304402372450742, 3.1995988, -1.7681928, 3059.2850405525583, 3529.1569694118057, 22.45608560453919, 6781.86476374247, 0.027702893149322786, 0.062111440616733765]\n"
     ]
    }
   ],
   "source": [
    "#build the matrix with genre audios featurized\n",
    "song_features = []\n",
    "\n",
    "for file in bhajan_audio_files:\n",
    "  '''\n",
    "  y is the time series array of the audio file, a 1D np.ndarray\n",
    "  sr is the sampling rate, a number\n",
    "  '''  \n",
    "  y,sr = librosa.load(file,sr=None)   \n",
    "  feature_vector = get_feature_vector(y, sr)\n",
    "\n",
    "  song_features.append([file] + feature_vector)  \n",
    "  print([file] + feature_vector) "
   ]
  },
  {
   "cell_type": "code",
   "execution_count": 19,
   "id": "4f780af9-d78b-40ed-99bc-4c54c81f7ecc",
   "metadata": {},
   "outputs": [],
   "source": [
    "columns = [\"Song_Name\", \"onset_strength\", \"chroma_stft\", \"chroma_cqt\", \"chroma_cens\", \"melspectrogram\", \"mfcc\",\t\n",
    "           \"spectral_centroid\" ,\"spectral_bandwidth\", \"spectral_contrast\", \"spectral_rolloff\",\t\"tonnetz\", \"zero_crossing_rate\"]"
   ]
  },
  {
   "cell_type": "code",
   "execution_count": 20,
   "id": "77bf46f4-e156-495b-b79e-bbac867040d0",
   "metadata": {},
   "outputs": [],
   "source": [
    "import pandas as pd\n",
    "df = pd.DataFrame(song_features, columns=columns)"
   ]
  },
  {
   "cell_type": "code",
   "execution_count": 21,
   "id": "3e5256d2-71b5-4a10-9544-a3dbf5a5fd2e",
   "metadata": {},
   "outputs": [],
   "source": [
    "file_name = genre + '_featres.csv'\n",
    "df.to_csv(file_name)   "
   ]
  },
  {
   "cell_type": "code",
   "execution_count": null,
   "id": "558c97ec-3266-4db4-a2b8-99b33821f95e",
   "metadata": {},
   "outputs": [],
   "source": []
  }
 ],
 "metadata": {
  "kernelspec": {
   "display_name": "Python 3",
   "language": "python",
   "name": "python3"
  },
  "language_info": {
   "codemirror_mode": {
    "name": "ipython",
    "version": 3
   },
   "file_extension": ".py",
   "mimetype": "text/x-python",
   "name": "python",
   "nbconvert_exporter": "python",
   "pygments_lexer": "ipython3",
   "version": "3.8.8"
  }
 },
 "nbformat": 4,
 "nbformat_minor": 5
}
