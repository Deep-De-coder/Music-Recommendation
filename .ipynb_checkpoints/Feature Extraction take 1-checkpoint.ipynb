{
 "cells": [
  {
   "cell_type": "code",
   "execution_count": 28,
   "metadata": {},
   "outputs": [],
   "source": [
    "import librosa\n",
    "from librosa import feature\n",
    "import numpy as np\n",
    "import os\n",
    "from getpass import getpass\n",
    "import urllib\n",
    "from glob import glob\n",
    "import pathlib\n"
   ]
  },
  {
   "cell_type": "code",
   "execution_count": 29,
   "metadata": {},
   "outputs": [],
   "source": [
    "genre = 'Garhwali'\n",
    "\n",
    "#directories of the genre\n",
    "bhajan_dir =  \"Dataset/Garhwali\"\n",
    "bhajan_audio_files = glob(bhajan_dir  + '*.mp3')\n",
    "for i in bhajan_audio_files:\n",
    "    i = pathlib.Path(i)"
   ]
  },
  {
   "cell_type": "code",
   "execution_count": 30,
   "metadata": {},
   "outputs": [
    {
     "data": {
      "text/plain": [
       "['Dataset/Garhwali\\\\Anil - Bikhoti Ka Mela.mp3',\n",
       " 'Dataset/Garhwali\\\\Anil - Chakdait Chhora.mp3',\n",
       " 'Dataset/Garhwali\\\\Anil - Jawa Pardesh.mp3',\n",
       " 'Dataset/Garhwali\\\\Anil - Kan Full Khilana.mp3',\n",
       " 'Dataset/Garhwali\\\\Anil - Latuli Teri Mukhdi.mp3',\n",
       " 'Dataset/Garhwali\\\\Anil - Nepal Ni Jaan.mp3',\n",
       " 'Dataset/Garhwali\\\\Anil - Pabo Bazaar.mp3',\n",
       " 'Dataset/Garhwali\\\\Anil - Pana Piremi.mp3',\n",
       " 'Dataset/Garhwali\\\\Anil - Thand Mathu Chaumaas.mp3',\n",
       " 'Dataset/Garhwali\\\\Anil Bist - Bedu Pako Barmasa.mp3',\n",
       " 'Dataset/Garhwali\\\\Anil Bist - Mera Baju Ranga.mp3',\n",
       " 'Dataset/Garhwali\\\\Anuradha Nirala - Na Tu Mero Lagadu.mp3',\n",
       " 'Dataset/Garhwali\\\\Dinesh Uniyal - Hey Dida Bou Na Maari.mp3',\n",
       " 'Dataset/Garhwali\\\\Dinesh Uniyal - Holu Ta Kya Holu.mp3',\n",
       " 'Dataset/Garhwali\\\\Dinesh Uniyal - Jai Ho Ma Chandra Badni.mp3',\n",
       " 'Dataset/Garhwali\\\\Dinesh Uniyal - Katha Laanu Mankhi Ki.mp3',\n",
       " 'Dataset/Garhwali\\\\Dinesh Uniyal - Sailya Ji Tum Dilhi.mp3',\n",
       " 'Dataset/Garhwali\\\\Gajendra Rana - Kya Dan Lagdi Tu.mp3',\n",
       " 'Dataset/Garhwali\\\\Gajendra Rana - Leela Ghasiyari.mp3',\n",
       " 'Dataset/Garhwali\\\\Gajendra Rana - Leela Ghasyari.mp3',\n",
       " 'Dataset/Garhwali\\\\Gajendra Rana - Pushpa Chori.mp3',\n",
       " 'Dataset/Garhwali\\\\Gajendra Rana - Rama Siranhi Ki Sundara.mp3',\n",
       " 'Dataset/Garhwali\\\\Himanshu Rawat Music - Bhola Naachigey.mp3',\n",
       " 'Dataset/Garhwali\\\\Himanshu Rawat Music - Bunkhaal Kaalinka.mp3',\n",
       " 'Dataset/Garhwali\\\\Himanshu Rawat Music - Dehradun Ki Kaanchi.mp3',\n",
       " 'Dataset/Garhwali\\\\Himanshu Rawat Music - Gaon Ku Baatu.mp3',\n",
       " 'Dataset/Garhwali\\\\Himanshu Rawat Music - Man Ki Baand.mp3',\n",
       " 'Dataset/Garhwali\\\\Himanshu Rawat Music - Mela Ki Chori.mp3',\n",
       " 'Dataset/Garhwali\\\\Himanshu Rawat Music - Sajeelo Garhwal.mp3',\n",
       " 'Dataset/Garhwali\\\\Jaspal Rana - Phoolon Ka Beech Mein Phyoli.mp3',\n",
       " 'Dataset/Garhwali\\\\Manglesh Dangwal - O Saiya Meri Kashimra.mp3',\n",
       " 'Dataset/Garhwali\\\\Narender Singh Negi - Aaj Va Dekhi Gari Maa.mp3',\n",
       " 'Dataset/Garhwali\\\\Narender Singh Negi - Aandi Gari.mp3',\n",
       " 'Dataset/Garhwali\\\\Narender Singh Negi - Baaji Jailu.mp3',\n",
       " 'Dataset/Garhwali\\\\Narender Singh Negi - Baith Basanti Baith Meri.mp3',\n",
       " 'Dataset/Garhwali\\\\Narender Singh Negi - Baithi Laali Motora Maa.mp3',\n",
       " 'Dataset/Garhwali\\\\Narender Singh Negi - Bavada Re Bavada Re.mp3',\n",
       " 'Dataset/Garhwali\\\\Narender Singh Negi - Chakhuli Meri Fur E.mp3',\n",
       " 'Dataset/Garhwali\\\\Narender Singh Negi - Chham Chham Ghunghuru Vaajala.mp3',\n",
       " 'Dataset/Garhwali\\\\Narender Singh Negi - GMO Ki Gari Syali.mp3',\n",
       " 'Dataset/Garhwali\\\\Narender Singh Negi - Gvirala Foole Foolege.mp3',\n",
       " 'Dataset/Garhwali\\\\Narender Singh Negi - Hai Teri Rumaala.mp3',\n",
       " 'Dataset/Garhwali\\\\Narender Singh Negi - Kajrani Aakhi Teri.mp3',\n",
       " 'Dataset/Garhwali\\\\Narender Singh Negi - Kakh Harchi Hey Deedo.mp3',\n",
       " 'Dataset/Garhwali\\\\Narender Singh Negi - Madhuri Madhvi Dekho Kiran.mp3',\n",
       " 'Dataset/Garhwali\\\\Narender Singh Negi - Main Ghas Katlu.mp3',\n",
       " 'Dataset/Garhwali\\\\Narender Singh Negi - Maini Janya Naipal.mp3',\n",
       " 'Dataset/Garhwali\\\\Narender Singh Negi - Maish Bheji Ki Lai Ni.mp3',\n",
       " 'Dataset/Garhwali\\\\Narender Singh Negi - Maluk Ratkyalu.mp3',\n",
       " 'Dataset/Garhwali\\\\Narender Singh Negi - Maya Judi Ge.mp3',\n",
       " 'Dataset/Garhwali\\\\Narender Singh Negi - Nach Meri Chhadcchheni Baand.mp3',\n",
       " 'Dataset/Garhwali\\\\Narender Singh Negi - Pahada Unchi Dandi.mp3',\n",
       " 'Dataset/Garhwali\\\\Narender Singh Negi - Sher Ka Bacha Jab.mp3',\n",
       " 'Dataset/Garhwali\\\\Narendra Singh Negi - Barkha He Barkha.mp3',\n",
       " 'Dataset/Garhwali\\\\Narendra Singh Negi - Bhandi Dinu Ma Dikhe.mp3',\n",
       " 'Dataset/Garhwali\\\\Narendra Singh Negi - Ghar Bati Chitthi Aegyayee.mp3',\n",
       " 'Dataset/Garhwali\\\\Narendra Singh Negi - Ghuguti Ghuron Laigi.mp3',\n",
       " 'Dataset/Garhwali\\\\Narendra Singh Negi - Goulama Baduli.mp3',\n",
       " 'Dataset/Garhwali\\\\Narendra Singh Negi - Hari Tori Kakhari.mp3',\n",
       " 'Dataset/Garhwali\\\\Narendra Singh Negi - Ini Holi Ke Uni Holi.mp3',\n",
       " 'Dataset/Garhwali\\\\Narendra Singh Negi - Jai Jai Bola.mp3',\n",
       " 'Dataset/Garhwali\\\\Narendra Singh Negi - Khojyali Min Khojyali.mp3',\n",
       " 'Dataset/Garhwali\\\\Narendra Singh Negi - Mor Moriki Maand Pelya.mp3',\n",
       " 'Dataset/Garhwali\\\\Narendra Singh Negi - Na Ukaal Na Udaar.mp3',\n",
       " 'Dataset/Garhwali\\\\Narendra Singh Negi - Naagni Baazar.mp3',\n",
       " 'Dataset/Garhwali\\\\Narendra Singh Negi - Nat Roop Ch Na Rang.mp3',\n",
       " 'Dataset/Garhwali\\\\Narendra Singh Negi - Otuwa Belena.mp3',\n",
       " 'Dataset/Garhwali\\\\Narendra Singh Negi - Parsi Dekhi Chhajjam Chhai.mp3',\n",
       " 'Dataset/Garhwali\\\\Narendra Singh Negi - Phooli Jaali Jaai.mp3',\n",
       " 'Dataset/Garhwali\\\\Narendra Singh Negi - Rai Maasi Ko Phool.mp3',\n",
       " 'Dataset/Garhwali\\\\Narendra Singh Negi - Saat Paanch Benyoma.mp3',\n",
       " 'Dataset/Garhwali\\\\Narendra Singh Negi - Saun Bhadogi.mp3',\n",
       " 'Dataset/Garhwali\\\\Narendra Singh Negi - Swee Sai Na Khabar Kai.mp3',\n",
       " 'Dataset/Garhwali\\\\Narendra Singh Negi - Teri Sainshan.mp3',\n",
       " 'Dataset/Garhwali\\\\Narendra Singh Negi - Thando Re Thando.mp3',\n",
       " 'Dataset/Garhwali\\\\Narendra Singh Negi - Titri Fase.mp3',\n",
       " 'Dataset/Garhwali\\\\Narendra Singh Negi - Tumari Maya Maa.mp3',\n",
       " 'Dataset/Garhwali\\\\Preetam Bhartwan - Baand Amrawati.mp3',\n",
       " 'Dataset/Garhwali\\\\Preetam Bhartwan - Dhaar Ma Ki Jon.mp3',\n",
       " 'Dataset/Garhwali\\\\Preetam Bhartwan - Gailya Dhanuli.mp3',\n",
       " 'Dataset/Garhwali\\\\Preetam Bhartwan - Gajiya.mp3',\n",
       " 'Dataset/Garhwali\\\\Preetam Bhartwan - Mijajiya Meri Saunjadiya.mp3',\n",
       " 'Dataset/Garhwali\\\\Preetam Bhartwan - Mohna Teri Murli Baji.mp3',\n",
       " 'Dataset/Garhwali\\\\Preetam Bhartwan - Rajuli Teri Sona Ki Latulyu Maa.mp3',\n",
       " 'Dataset/Garhwali\\\\Preetam Bhartwan - Runjhun Barkha Lagi Chaumasi.mp3',\n",
       " 'Dataset/Garhwali\\\\Preetam Bhartwan - Saruli Meru Jiya Lagige.mp3',\n",
       " 'Dataset/Garhwali\\\\Preetam Bhartwan - Sobni Tu Chhali Baachin.mp3',\n",
       " 'Dataset/Garhwali\\\\Preetam Bhartwan - Sundira Chhori.mp3',\n",
       " 'Dataset/Garhwali\\\\Preetam Bhartwan - Taunsa Bau.mp3',\n",
       " 'Dataset/Garhwali\\\\Preetam Bhartwan - Teri Dini Samaun.mp3']"
      ]
     },
     "execution_count": 30,
     "metadata": {},
     "output_type": "execute_result"
    }
   ],
   "source": [
    "bhajan_audio_files"
   ]
  },
  {
   "cell_type": "code",
   "execution_count": 31,
   "metadata": {
    "scrolled": true
   },
   "outputs": [
    {
     "name": "stdout",
     "output_type": "stream",
     "text": [
      "Number of audios : 90\n",
      "<class 'str'>\n"
     ]
    }
   ],
   "source": [
    "print(f'Number of audios : {len(bhajan_audio_files)}')\n",
    "print(type(bhajan_audio_files[0]))"
   ]
  },
  {
   "cell_type": "code",
   "execution_count": 32,
   "metadata": {},
   "outputs": [],
   "source": [
    "# Created list of all the functions\n",
    "fn_list_i = [\n",
    "    librosa.onset.onset_strength,              # it is spectral_flux\n",
    "    feature.chroma_stft,                       # chromagram from a waveform or power spectrogram\n",
    "    feature.chroma_cqt,\n",
    "    feature.chroma_cens,\n",
    "    feature.melspectrogram,\n",
    "    feature.mfcc,\n",
    "    feature.spectral_centroid,\n",
    "    feature.spectral_bandwidth,\n",
    "    feature.spectral_contrast,\n",
    "    feature.spectral_rolloff,\n",
    "    feature.tonnetz\n",
    "]\n",
    "\n",
    "fn_list_ii = [\n",
    "    feature.zero_crossing_rate\n",
    "]\n",
    "\n",
    "def get_feature_vector(y,sr): \n",
    "   feat_vect_i = [ np.mean(funct(y,sr)) for funct in fn_list_i]\n",
    "   feat_vect_ii = [ np.mean(funct(y)) for funct in fn_list_ii] \n",
    "   feature_vector = feat_vect_i + feat_vect_ii \n",
    "   return feature_vector"
   ]
  },
  {
   "cell_type": "code",
   "execution_count": 33,
   "metadata": {},
   "outputs": [
    {
     "ename": "NoBackendError",
     "evalue": "",
     "output_type": "error",
     "traceback": [
      "\u001b[1;31m---------------------------------------------------------------------------\u001b[0m",
      "\u001b[1;31mRuntimeError\u001b[0m                              Traceback (most recent call last)",
      "\u001b[1;32mC:\\ProgramData\\Anaconda3\\lib\\site-packages\\librosa\\core\\audio.py\u001b[0m in \u001b[0;36mload\u001b[1;34m(path, sr, mono, offset, duration, dtype, res_type)\u001b[0m\n\u001b[0;32m    148\u001b[0m     \u001b[1;32mtry\u001b[0m\u001b[1;33m:\u001b[0m\u001b[1;33m\u001b[0m\u001b[1;33m\u001b[0m\u001b[0m\n\u001b[1;32m--> 149\u001b[1;33m         \u001b[1;32mwith\u001b[0m \u001b[0msf\u001b[0m\u001b[1;33m.\u001b[0m\u001b[0mSoundFile\u001b[0m\u001b[1;33m(\u001b[0m\u001b[0mpath\u001b[0m\u001b[1;33m)\u001b[0m \u001b[1;32mas\u001b[0m \u001b[0msf_desc\u001b[0m\u001b[1;33m:\u001b[0m\u001b[1;33m\u001b[0m\u001b[1;33m\u001b[0m\u001b[0m\n\u001b[0m\u001b[0;32m    150\u001b[0m             \u001b[0msr_native\u001b[0m \u001b[1;33m=\u001b[0m \u001b[0msf_desc\u001b[0m\u001b[1;33m.\u001b[0m\u001b[0msamplerate\u001b[0m\u001b[1;33m\u001b[0m\u001b[1;33m\u001b[0m\u001b[0m\n",
      "\u001b[1;32mC:\\ProgramData\\Anaconda3\\lib\\site-packages\\soundfile.py\u001b[0m in \u001b[0;36m__init__\u001b[1;34m(self, file, mode, samplerate, channels, subtype, endian, format, closefd)\u001b[0m\n\u001b[0;32m    628\u001b[0m                                          format, subtype, endian)\n\u001b[1;32m--> 629\u001b[1;33m         \u001b[0mself\u001b[0m\u001b[1;33m.\u001b[0m\u001b[0m_file\u001b[0m \u001b[1;33m=\u001b[0m \u001b[0mself\u001b[0m\u001b[1;33m.\u001b[0m\u001b[0m_open\u001b[0m\u001b[1;33m(\u001b[0m\u001b[0mfile\u001b[0m\u001b[1;33m,\u001b[0m \u001b[0mmode_int\u001b[0m\u001b[1;33m,\u001b[0m \u001b[0mclosefd\u001b[0m\u001b[1;33m)\u001b[0m\u001b[1;33m\u001b[0m\u001b[1;33m\u001b[0m\u001b[0m\n\u001b[0m\u001b[0;32m    630\u001b[0m         \u001b[1;32mif\u001b[0m \u001b[0mset\u001b[0m\u001b[1;33m(\u001b[0m\u001b[0mmode\u001b[0m\u001b[1;33m)\u001b[0m\u001b[1;33m.\u001b[0m\u001b[0missuperset\u001b[0m\u001b[1;33m(\u001b[0m\u001b[1;34m'r+'\u001b[0m\u001b[1;33m)\u001b[0m \u001b[1;32mand\u001b[0m \u001b[0mself\u001b[0m\u001b[1;33m.\u001b[0m\u001b[0mseekable\u001b[0m\u001b[1;33m(\u001b[0m\u001b[1;33m)\u001b[0m\u001b[1;33m:\u001b[0m\u001b[1;33m\u001b[0m\u001b[1;33m\u001b[0m\u001b[0m\n",
      "\u001b[1;32mC:\\ProgramData\\Anaconda3\\lib\\site-packages\\soundfile.py\u001b[0m in \u001b[0;36m_open\u001b[1;34m(self, file, mode_int, closefd)\u001b[0m\n\u001b[0;32m   1182\u001b[0m             \u001b[1;32mraise\u001b[0m \u001b[0mTypeError\u001b[0m\u001b[1;33m(\u001b[0m\u001b[1;34m\"Invalid file: {0!r}\"\u001b[0m\u001b[1;33m.\u001b[0m\u001b[0mformat\u001b[0m\u001b[1;33m(\u001b[0m\u001b[0mself\u001b[0m\u001b[1;33m.\u001b[0m\u001b[0mname\u001b[0m\u001b[1;33m)\u001b[0m\u001b[1;33m)\u001b[0m\u001b[1;33m\u001b[0m\u001b[1;33m\u001b[0m\u001b[0m\n\u001b[1;32m-> 1183\u001b[1;33m         _error_check(_snd.sf_error(file_ptr),\n\u001b[0m\u001b[0;32m   1184\u001b[0m                      \"Error opening {0!r}: \".format(self.name))\n",
      "\u001b[1;32mC:\\ProgramData\\Anaconda3\\lib\\site-packages\\soundfile.py\u001b[0m in \u001b[0;36m_error_check\u001b[1;34m(err, prefix)\u001b[0m\n\u001b[0;32m   1356\u001b[0m         \u001b[0merr_str\u001b[0m \u001b[1;33m=\u001b[0m \u001b[0m_snd\u001b[0m\u001b[1;33m.\u001b[0m\u001b[0msf_error_number\u001b[0m\u001b[1;33m(\u001b[0m\u001b[0merr\u001b[0m\u001b[1;33m)\u001b[0m\u001b[1;33m\u001b[0m\u001b[1;33m\u001b[0m\u001b[0m\n\u001b[1;32m-> 1357\u001b[1;33m         \u001b[1;32mraise\u001b[0m \u001b[0mRuntimeError\u001b[0m\u001b[1;33m(\u001b[0m\u001b[0mprefix\u001b[0m \u001b[1;33m+\u001b[0m \u001b[0m_ffi\u001b[0m\u001b[1;33m.\u001b[0m\u001b[0mstring\u001b[0m\u001b[1;33m(\u001b[0m\u001b[0merr_str\u001b[0m\u001b[1;33m)\u001b[0m\u001b[1;33m.\u001b[0m\u001b[0mdecode\u001b[0m\u001b[1;33m(\u001b[0m\u001b[1;34m'utf-8'\u001b[0m\u001b[1;33m,\u001b[0m \u001b[1;34m'replace'\u001b[0m\u001b[1;33m)\u001b[0m\u001b[1;33m)\u001b[0m\u001b[1;33m\u001b[0m\u001b[1;33m\u001b[0m\u001b[0m\n\u001b[0m\u001b[0;32m   1358\u001b[0m \u001b[1;33m\u001b[0m\u001b[0m\n",
      "\u001b[1;31mRuntimeError\u001b[0m: Error opening 'Dataset/Garhwali\\\\Anil - Bikhoti Ka Mela.mp3': File contains data in an unknown format.",
      "\nDuring handling of the above exception, another exception occurred:\n",
      "\u001b[1;31mNoBackendError\u001b[0m                            Traceback (most recent call last)",
      "\u001b[1;32m<ipython-input-33-47d0d439c71c>\u001b[0m in \u001b[0;36m<module>\u001b[1;34m\u001b[0m\n\u001b[0;32m      7\u001b[0m   \u001b[0msr\u001b[0m \u001b[1;32mis\u001b[0m \u001b[0mthe\u001b[0m \u001b[0msampling\u001b[0m \u001b[0mrate\u001b[0m\u001b[1;33m,\u001b[0m \u001b[0ma\u001b[0m \u001b[0mnumber\u001b[0m\u001b[1;33m\u001b[0m\u001b[1;33m\u001b[0m\u001b[0m\n\u001b[0;32m      8\u001b[0m   '''  \n\u001b[1;32m----> 9\u001b[1;33m   \u001b[0my\u001b[0m\u001b[1;33m,\u001b[0m\u001b[0msr\u001b[0m \u001b[1;33m=\u001b[0m \u001b[0mlibrosa\u001b[0m\u001b[1;33m.\u001b[0m\u001b[0mload\u001b[0m\u001b[1;33m(\u001b[0m\u001b[0mfile\u001b[0m\u001b[1;33m,\u001b[0m\u001b[0msr\u001b[0m\u001b[1;33m=\u001b[0m\u001b[1;32mNone\u001b[0m\u001b[1;33m)\u001b[0m\u001b[1;33m\u001b[0m\u001b[1;33m\u001b[0m\u001b[0m\n\u001b[0m\u001b[0;32m     10\u001b[0m   \u001b[0mfeature_vector\u001b[0m \u001b[1;33m=\u001b[0m \u001b[0mget_feature_vector\u001b[0m\u001b[1;33m(\u001b[0m\u001b[0my\u001b[0m\u001b[1;33m,\u001b[0m \u001b[0msr\u001b[0m\u001b[1;33m)\u001b[0m\u001b[1;33m\u001b[0m\u001b[1;33m\u001b[0m\u001b[0m\n\u001b[0;32m     11\u001b[0m \u001b[1;33m\u001b[0m\u001b[0m\n",
      "\u001b[1;32mC:\\ProgramData\\Anaconda3\\lib\\site-packages\\librosa\\core\\audio.py\u001b[0m in \u001b[0;36mload\u001b[1;34m(path, sr, mono, offset, duration, dtype, res_type)\u001b[0m\n\u001b[0;32m    164\u001b[0m         \u001b[1;32mif\u001b[0m \u001b[0misinstance\u001b[0m\u001b[1;33m(\u001b[0m\u001b[0mpath\u001b[0m\u001b[1;33m,\u001b[0m \u001b[1;33m(\u001b[0m\u001b[0mstr\u001b[0m\u001b[1;33m,\u001b[0m \u001b[0mpathlib\u001b[0m\u001b[1;33m.\u001b[0m\u001b[0mPurePath\u001b[0m\u001b[1;33m)\u001b[0m\u001b[1;33m)\u001b[0m\u001b[1;33m:\u001b[0m\u001b[1;33m\u001b[0m\u001b[1;33m\u001b[0m\u001b[0m\n\u001b[0;32m    165\u001b[0m             \u001b[0mwarnings\u001b[0m\u001b[1;33m.\u001b[0m\u001b[0mwarn\u001b[0m\u001b[1;33m(\u001b[0m\u001b[1;34m\"PySoundFile failed. Trying audioread instead.\"\u001b[0m\u001b[1;33m)\u001b[0m\u001b[1;33m\u001b[0m\u001b[1;33m\u001b[0m\u001b[0m\n\u001b[1;32m--> 166\u001b[1;33m             \u001b[0my\u001b[0m\u001b[1;33m,\u001b[0m \u001b[0msr_native\u001b[0m \u001b[1;33m=\u001b[0m \u001b[0m__audioread_load\u001b[0m\u001b[1;33m(\u001b[0m\u001b[0mpath\u001b[0m\u001b[1;33m,\u001b[0m \u001b[0moffset\u001b[0m\u001b[1;33m,\u001b[0m \u001b[0mduration\u001b[0m\u001b[1;33m,\u001b[0m \u001b[0mdtype\u001b[0m\u001b[1;33m)\u001b[0m\u001b[1;33m\u001b[0m\u001b[1;33m\u001b[0m\u001b[0m\n\u001b[0m\u001b[0;32m    167\u001b[0m         \u001b[1;32melse\u001b[0m\u001b[1;33m:\u001b[0m\u001b[1;33m\u001b[0m\u001b[1;33m\u001b[0m\u001b[0m\n\u001b[0;32m    168\u001b[0m             \u001b[1;32mraise\u001b[0m \u001b[1;33m(\u001b[0m\u001b[0mexc\u001b[0m\u001b[1;33m)\u001b[0m\u001b[1;33m\u001b[0m\u001b[1;33m\u001b[0m\u001b[0m\n",
      "\u001b[1;32mC:\\ProgramData\\Anaconda3\\lib\\site-packages\\librosa\\core\\audio.py\u001b[0m in \u001b[0;36m__audioread_load\u001b[1;34m(path, offset, duration, dtype)\u001b[0m\n\u001b[0;32m    188\u001b[0m \u001b[1;33m\u001b[0m\u001b[0m\n\u001b[0;32m    189\u001b[0m     \u001b[0my\u001b[0m \u001b[1;33m=\u001b[0m \u001b[1;33m[\u001b[0m\u001b[1;33m]\u001b[0m\u001b[1;33m\u001b[0m\u001b[1;33m\u001b[0m\u001b[0m\n\u001b[1;32m--> 190\u001b[1;33m     \u001b[1;32mwith\u001b[0m \u001b[0maudioread\u001b[0m\u001b[1;33m.\u001b[0m\u001b[0maudio_open\u001b[0m\u001b[1;33m(\u001b[0m\u001b[0mpath\u001b[0m\u001b[1;33m)\u001b[0m \u001b[1;32mas\u001b[0m \u001b[0minput_file\u001b[0m\u001b[1;33m:\u001b[0m\u001b[1;33m\u001b[0m\u001b[1;33m\u001b[0m\u001b[0m\n\u001b[0m\u001b[0;32m    191\u001b[0m         \u001b[0msr_native\u001b[0m \u001b[1;33m=\u001b[0m \u001b[0minput_file\u001b[0m\u001b[1;33m.\u001b[0m\u001b[0msamplerate\u001b[0m\u001b[1;33m\u001b[0m\u001b[1;33m\u001b[0m\u001b[0m\n\u001b[0;32m    192\u001b[0m         \u001b[0mn_channels\u001b[0m \u001b[1;33m=\u001b[0m \u001b[0minput_file\u001b[0m\u001b[1;33m.\u001b[0m\u001b[0mchannels\u001b[0m\u001b[1;33m\u001b[0m\u001b[1;33m\u001b[0m\u001b[0m\n",
      "\u001b[1;32mC:\\ProgramData\\Anaconda3\\lib\\site-packages\\audioread\\__init__.py\u001b[0m in \u001b[0;36maudio_open\u001b[1;34m(path, backends)\u001b[0m\n\u001b[0;32m    114\u001b[0m \u001b[1;33m\u001b[0m\u001b[0m\n\u001b[0;32m    115\u001b[0m     \u001b[1;31m# All backends failed!\u001b[0m\u001b[1;33m\u001b[0m\u001b[1;33m\u001b[0m\u001b[1;33m\u001b[0m\u001b[0m\n\u001b[1;32m--> 116\u001b[1;33m     \u001b[1;32mraise\u001b[0m \u001b[0mNoBackendError\u001b[0m\u001b[1;33m(\u001b[0m\u001b[1;33m)\u001b[0m\u001b[1;33m\u001b[0m\u001b[1;33m\u001b[0m\u001b[0m\n\u001b[0m",
      "\u001b[1;31mNoBackendError\u001b[0m: "
     ]
    }
   ],
   "source": [
    "#build the matrix with genre audios featurized\n",
    "song_features = []\n",
    "\n",
    "for file in bhajan_audio_files:\n",
    "  '''\n",
    "  y is the time series array of the audio file, a 1D np.ndarray\n",
    "  sr is the sampling rate, a number\n",
    "  '''  \n",
    "  y,sr = librosa.load(file,sr=None)   \n",
    "  feature_vector = get_feature_vector(y, sr)\n",
    "\n",
    "  song_features.append([file] + feature_vector)  \n",
    "  print([file] + feature_vector)"
   ]
  },
  {
   "cell_type": "code",
   "execution_count": null,
   "metadata": {},
   "outputs": [],
   "source": [
    "import librosa\n",
    "audio_path = 'Dataset/\"Garhwali/Anil - Bikhoti Ka Mela.mp3'\n",
    "x , sr = librosa.load(audio_path)\n",
    "print(type(x), type(sr))"
   ]
  },
  {
   "cell_type": "code",
   "execution_count": null,
   "metadata": {},
   "outputs": [],
   "source": []
  }
 ],
 "metadata": {
  "kernelspec": {
   "display_name": "Python 3",
   "language": "python",
   "name": "python3"
  },
  "language_info": {
   "codemirror_mode": {
    "name": "ipython",
    "version": 3
   },
   "file_extension": ".py",
   "mimetype": "text/x-python",
   "name": "python",
   "nbconvert_exporter": "python",
   "pygments_lexer": "ipython3",
   "version": "3.8.5"
  }
 },
 "nbformat": 4,
 "nbformat_minor": 4
}
