{
 "cells": [
  {
   "cell_type": "code",
   "execution_count": 1,
   "metadata": {},
   "outputs": [],
   "source": [
    "import librosa\n",
    "from librosa import feature\n",
    "import numpy as np\n",
    "import os\n",
    "from getpass import getpass\n",
    "import urllib\n",
    "from glob import glob\n",
    "import pathlib\n"
   ]
  },
  {
   "cell_type": "code",
   "execution_count": 2,
   "metadata": {},
   "outputs": [],
   "source": [
    "genre = 'Bollywood_Rap'\n",
    "\n",
    "#directories of the genre\n",
    "bhajan_dir =  \"Dataset/Bollywood_Rap/\"\n",
    "bhajan_audio_files = glob(bhajan_dir  + '*.mp3')\n",
    "for i in bhajan_audio_files:\n",
    "    i = pathlib.Path(i)"
   ]
  },
  {
   "cell_type": "code",
   "execution_count": 3,
   "metadata": {},
   "outputs": [
    {
     "data": {
      "text/plain": [
       "['Dataset/Bollywood_Rap\\\\Aditi Singh Sharma - High Rated Gabru (Female Version).mp3',\n",
       " 'Dataset/Bollywood_Rap\\\\Amaal Mallik - Zero Hour Mashup 2015(Remix By Dj Kiran Kamath).mp3',\n",
       " 'Dataset/Bollywood_Rap\\\\Anirudh Ravichander - Pori Pathi Vizhum.mp3',\n",
       " 'Dataset/Bollywood_Rap\\\\Badshah - Proper Patola.mp3',\n",
       " 'Dataset/Bollywood_Rap\\\\Badshah - She Move It Like.mp3',\n",
       " 'Dataset/Bollywood_Rap\\\\Badshah - Tere Naal Nachna.mp3',\n",
       " 'Dataset/Bollywood_Rap\\\\Big Dhillon - Stand Up - Spoken Word.mp3',\n",
       " 'Dataset/Bollywood_Rap\\\\Bohemia - Aja Ni Aja.mp3',\n",
       " 'Dataset/Bollywood_Rap\\\\Bohemia - Beparwah.mp3',\n",
       " 'Dataset/Bollywood_Rap\\\\Bohemia - Bijlee.mp3',\n",
       " 'Dataset/Bollywood_Rap\\\\Bohemia - Bumpin My Song.mp3',\n",
       " 'Dataset/Bollywood_Rap\\\\Bohemia - Cadillac.mp3',\n",
       " 'Dataset/Bollywood_Rap\\\\Bohemia - Charso Bees (420).mp3',\n",
       " 'Dataset/Bollywood_Rap\\\\Bohemia - Dada.mp3',\n",
       " 'Dataset/Bollywood_Rap\\\\Bohemia - Desi Munde.mp3',\n",
       " 'Dataset/Bollywood_Rap\\\\Bohemia - Desi Put Javaan.mp3',\n",
       " 'Dataset/Bollywood_Rap\\\\Bohemia - Dil Acapella.mp3',\n",
       " 'Dataset/Bollywood_Rap\\\\Bohemia - Dil.mp3',\n",
       " 'Dataset/Bollywood_Rap\\\\Bohemia - Diwana.mp3',\n",
       " 'Dataset/Bollywood_Rap\\\\Bohemia - Eitbaar (Trust Me).mp3',\n",
       " 'Dataset/Bollywood_Rap\\\\Bohemia - Ek Tera Pyar (Love Groove Mix).mp3',\n",
       " 'Dataset/Bollywood_Rap\\\\Bohemia - Ek Tera Pyar.mp3',\n",
       " 'Dataset/Bollywood_Rap\\\\Bohemia - Faqeer.mp3',\n",
       " 'Dataset/Bollywood_Rap\\\\Bohemia - Gol Gol.mp3',\n",
       " 'Dataset/Bollywood_Rap\\\\Bohemia - Guess Whos Back Album Introduction.mp3',\n",
       " 'Dataset/Bollywood_Rap\\\\Bohemia - Gunagaar (Sinner).mp3',\n",
       " 'Dataset/Bollywood_Rap\\\\Bohemia - Ishq.mp3',\n",
       " 'Dataset/Bollywood_Rap\\\\Bohemia - Koi Ni.mp3',\n",
       " 'Dataset/Bollywood_Rap\\\\Bohemia - Lak Da Hulara.mp3',\n",
       " 'Dataset/Bollywood_Rap\\\\Bohemia - Lela.mp3',\n",
       " 'Dataset/Bollywood_Rap\\\\Bohemia - Meri Jeet.mp3',\n",
       " 'Dataset/Bollywood_Rap\\\\Bohemia - Na Suno.mp3',\n",
       " 'Dataset/Bollywood_Rap\\\\Bohemia - Nazere Mili.mp3',\n",
       " 'Dataset/Bollywood_Rap\\\\Bohemia - Photo.mp3',\n",
       " 'Dataset/Bollywood_Rap\\\\Bohemia - Punjabi Rap Star (Extended Mix).mp3',\n",
       " 'Dataset/Bollywood_Rap\\\\Bohemia - Punjabi Rap Star.mp3',\n",
       " 'Dataset/Bollywood_Rap\\\\Bohemia - Sahara Lab De.mp3',\n",
       " 'Dataset/Bollywood_Rap\\\\Bohemia - Tittli.mp3',\n",
       " 'Dataset/Bollywood_Rap\\\\Bohemia - Zamana Jali.mp3',\n",
       " 'Dataset/Bollywood_Rap\\\\DIVINE - Farak.mp3',\n",
       " 'Dataset/Bollywood_Rap\\\\DIVINE - Jungli Sher.mp3',\n",
       " 'Dataset/Bollywood_Rap\\\\DIVINE - Junoon.mp3',\n",
       " 'Dataset/Bollywood_Rap\\\\DIVINE - Kaam 25 - Sacred Games.mp3',\n",
       " 'Dataset/Bollywood_Rap\\\\DIVINE - Mere Gully Mein (feat Naezy).mp3',\n",
       " 'Dataset/Bollywood_Rap\\\\DIVINE - One Side.mp3',\n",
       " 'Dataset/Bollywood_Rap\\\\DIVINE - Paintra.mp3',\n",
       " 'Dataset/Bollywood_Rap\\\\DIVINE - Roots (feat Raja Kumari).mp3',\n",
       " 'Dataset/Bollywood_Rap\\\\DIVINE - Teesri Manzil.mp3',\n",
       " 'Dataset/Bollywood_Rap\\\\Emiway Bantai - Emiway (Out of Sampark).mp3',\n",
       " 'Dataset/Bollywood_Rap\\\\Emiway Bantai - Emiway-Samajh Mein Aaya Kya.mp3',\n",
       " 'Dataset/Bollywood_Rap\\\\Emiway Bantai - Kadak Ban.mp3',\n",
       " 'Dataset/Bollywood_Rap\\\\Fateh - Fame.mp3',\n",
       " 'Dataset/Bollywood_Rap\\\\Garry Sandhu - Banda Ban Ja.mp3',\n",
       " 'Dataset/Bollywood_Rap\\\\Garry Sandhu - Din Gaye - Acoustic Version.mp3',\n",
       " 'Dataset/Bollywood_Rap\\\\Garry Sandhu - Din Gaye.mp3',\n",
       " 'Dataset/Bollywood_Rap\\\\Garry Sandhu - Do Botalaan.mp3',\n",
       " 'Dataset/Bollywood_Rap\\\\Garry Sandhu - Driver.mp3',\n",
       " 'Dataset/Bollywood_Rap\\\\Garry Sandhu - Ego.mp3',\n",
       " 'Dataset/Bollywood_Rap\\\\Garry Sandhu - Gidde Vich.mp3',\n",
       " 'Dataset/Bollywood_Rap\\\\Garry Sandhu - Illegal Daru.mp3',\n",
       " 'Dataset/Bollywood_Rap\\\\Garry Sandhu - Illegal Weapon.mp3',\n",
       " 'Dataset/Bollywood_Rap\\\\Gurinder Seagal - Mummy Kasam.mp3',\n",
       " 'Dataset/Bollywood_Rap\\\\Guru Randhawa - Daaru Wargi (From Cheat India).mp3',\n",
       " 'Dataset/Bollywood_Rap\\\\Guru Randhawa - High Rated Gabru (From Nawabzaade).mp3',\n",
       " 'Dataset/Bollywood_Rap\\\\Guru Randhawa - High Rated Gabru.mp3',\n",
       " 'Dataset/Bollywood_Rap\\\\Guru Randhawa - Lahore - Remix(Remix By Dj Shadow Dubai).mp3',\n",
       " 'Dataset/Bollywood_Rap\\\\Guru Randhawa - Made In India.mp3',\n",
       " 'Dataset/Bollywood_Rap\\\\Guru Randhawa - Patola (From Blackmail).mp3',\n",
       " 'Dataset/Bollywood_Rap\\\\Harrdy Sandhu - Kya Baat Ay.mp3',\n",
       " 'Dataset/Bollywood_Rap\\\\Harrdy Sandhu - Naah.mp3',\n",
       " 'Dataset/Bollywood_Rap\\\\Imran Khan - Knightridah.mp3',\n",
       " 'Dataset/Bollywood_Rap\\\\Mamta Sharma - Rajj Rajj Ankhiyan Roiyan.mp3',\n",
       " 'Dataset/Bollywood_Rap\\\\Mika Singh - Lagi Hawa Dil Ko.mp3',\n",
       " 'Dataset/Bollywood_Rap\\\\Nindy Kaur - BBM.mp3',\n",
       " 'Dataset/Bollywood_Rap\\\\Raftaar - All Black.mp3',\n",
       " 'Dataset/Bollywood_Rap\\\\Raftaar - Swag Mera Desi.mp3',\n",
       " 'Dataset/Bollywood_Rap\\\\Raftaar - Toh Dishoom.mp3',\n",
       " 'Dataset/Bollywood_Rap\\\\RDB - We Doin It BIG.mp3',\n",
       " 'Dataset/Bollywood_Rap\\\\Roach Killer - Desi Hip Hop-Spoken Word.mp3',\n",
       " 'Dataset/Bollywood_Rap\\\\Sidhu Moose Wala - Badfella.mp3',\n",
       " 'Dataset/Bollywood_Rap\\\\Sidhu Moose Wala - Boss.mp3',\n",
       " 'Dataset/Bollywood_Rap\\\\Sidhu Moose Wala - Dawood.mp3',\n",
       " 'Dataset/Bollywood_Rap\\\\Sidhu Moose Wala - Death Route.mp3',\n",
       " 'Dataset/Bollywood_Rap\\\\Sidhu Moose Wala - Devil - Skit.mp3',\n",
       " 'Dataset/Bollywood_Rap\\\\Sidhu Moose Wala - Devil.mp3',\n",
       " 'Dataset/Bollywood_Rap\\\\Sidhu Moose Wala - Dollar - Remix.mp3',\n",
       " 'Dataset/Bollywood_Rap\\\\Sidhu Moose Wala - Im Better Now - Skit.mp3',\n",
       " 'Dataset/Bollywood_Rap\\\\Sidhu Moose Wala - Im Better Now.mp3',\n",
       " 'Dataset/Bollywood_Rap\\\\Sidhu Moose Wala - Intro.mp3',\n",
       " 'Dataset/Bollywood_Rap\\\\Sidhu Moose Wala - Issa Jatt.mp3',\n",
       " 'Dataset/Bollywood_Rap\\\\Sidhu Moose Wala - Jaat Da Muqabala.mp3',\n",
       " 'Dataset/Bollywood_Rap\\\\Sidhu Moose Wala - Kala Chashma - Skit.mp3',\n",
       " 'Dataset/Bollywood_Rap\\\\Sidhu Moose Wala - Outlaw.mp3',\n",
       " 'Dataset/Bollywood_Rap\\\\Sidhu Moose Wala - Outro.mp3',\n",
       " 'Dataset/Bollywood_Rap\\\\Sidhu Moose Wala - Selfmade.mp3',\n",
       " 'Dataset/Bollywood_Rap\\\\Sidhu Moose Wala - So High.mp3',\n",
       " 'Dataset/Bollywood_Rap\\\\Sidhu-Moose-Wala - Tochan.mp3',\n",
       " 'Dataset/Bollywood_Rap\\\\Sidhu-Moose-Wala - Trend.mp3',\n",
       " 'Dataset/Bollywood_Rap\\\\Wizard - Drop-Low.mp3',\n",
       " 'Dataset/Bollywood_Rap\\\\Zack-Knight - Bom-Diggy.mp3']"
      ]
     },
     "execution_count": 3,
     "metadata": {},
     "output_type": "execute_result"
    }
   ],
   "source": [
    "bhajan_audio_files"
   ]
  },
  {
   "cell_type": "code",
   "execution_count": 4,
   "metadata": {},
   "outputs": [
    {
     "name": "stdout",
     "output_type": "stream",
     "text": [
      "Number of audios : 100\n",
      "<class 'str'>\n"
     ]
    }
   ],
   "source": [
    "print(f'Number of audios : {len(bhajan_audio_files)}')\n",
    "print(type(bhajan_audio_files[0]))"
   ]
  },
  {
   "cell_type": "code",
   "execution_count": 5,
   "metadata": {},
   "outputs": [],
   "source": [
    "# Created list of all the functions\n",
    "fn_list_i = [\n",
    "    librosa.onset.onset_strength,              # it is spectral_flux\n",
    "    feature.chroma_stft,                       # chromagram from a waveform or power spectrogram\n",
    "    feature.chroma_cqt,\n",
    "    feature.chroma_cens,\n",
    "    feature.melspectrogram,\n",
    "    feature.mfcc,\n",
    "    feature.spectral_centroid,\n",
    "    feature.spectral_bandwidth,\n",
    "    feature.spectral_contrast,\n",
    "    feature.spectral_rolloff,\n",
    "    feature.tonnetz\n",
    "]\n",
    "\n",
    "fn_list_ii = [\n",
    "    feature.zero_crossing_rate\n",
    "]\n",
    "\n",
    "def get_feature_vector(y,sr): \n",
    "   feat_vect_i = [ np.mean(funct(y,sr)) for funct in fn_list_i]\n",
    "   feat_vect_ii = [ np.mean(funct(y)) for funct in fn_list_ii] \n",
    "   feature_vector = feat_vect_i + feat_vect_ii \n",
    "   return feature_vector"
   ]
  },
  {
   "cell_type": "code",
   "execution_count": 6,
   "metadata": {},
   "outputs": [
    {
     "name": "stderr",
     "output_type": "stream",
     "text": [
      "C:\\ProgramData\\Anaconda3\\lib\\site-packages\\librosa\\core\\audio.py:165: UserWarning: PySoundFile failed. Trying audioread instead.\n",
      "  warnings.warn(\"PySoundFile failed. Trying audioread instead.\")\n"
     ]
    },
    {
     "name": "stdout",
     "output_type": "stream",
     "text": [
      "['Dataset/Bollywood_Rap\\\\Aditi Singh Sharma - High Rated Gabru (Female Version).mp3', 1.5484107, 0.39956677, 0.4976629, 0.24897384345633433, 6.3680882, -2.0720165, 2534.6724007679686, 2779.914639649255, 21.5178052001565, 5237.502029220779, 0.01413736323265643, 0.05459478997564935]\n"
     ]
    },
    {
     "name": "stderr",
     "output_type": "stream",
     "text": [
      "C:\\ProgramData\\Anaconda3\\lib\\site-packages\\librosa\\core\\audio.py:165: UserWarning: PySoundFile failed. Trying audioread instead.\n",
      "  warnings.warn(\"PySoundFile failed. Trying audioread instead.\")\n"
     ]
    },
    {
     "name": "stdout",
     "output_type": "stream",
     "text": [
      "['Dataset/Bollywood_Rap\\\\Amaal Mallik - Zero Hour Mashup 2015(Remix By Dj Kiran Kamath).mp3', 1.3217796, 0.42337218, 0.47426674, 0.24148642899448167, 17.11304, 4.1369166, 2695.751490982802, 3554.9718530400078, 20.75156115108796, 6223.854714161454, 0.01481815328905694, 0.04327543262691083]\n",
      "['Dataset/Bollywood_Rap\\\\Anirudh Ravichander - Pori Pathi Vizhum.mp3', 1.4464595, 0.41080356, 0.4909693, 0.2499724965614832, 7.1243334, 0.28149822, 3440.8985030671797, 3692.01587697742, 20.331870528591306, 7711.693718085405, 0.010028612807775245, 0.0683973776987122]\n",
      "['Dataset/Bollywood_Rap\\\\Badshah - Proper Patola.mp3', 1.5705292, 0.42516026, 0.48469463, 0.2522734135712138, 11.305251, -1.3147242, 3283.321828054424, 3618.5405023732037, 20.807283694895645, 7386.792014760269, -0.014556251154864258, 0.06668953825658763]\n",
      "['Dataset/Bollywood_Rap\\\\Badshah - She Move It Like.mp3', 1.5868278, 0.4834765, 0.36520645, 0.22326990593802737, 13.471093, 0.7651221, 2851.5253860500316, 3128.245555149033, 21.4470877634636, 6239.336256117455, 0.05097166040580605, 0.055793134431076676]\n",
      "['Dataset/Bollywood_Rap\\\\Badshah - Tere Naal Nachna.mp3', 1.7282741, 0.4838964, 0.52240205, 0.25266626784085844, 21.820297, 1.7806311, 2782.8943105026196, 3237.0571817143423, 20.397714084943356, 6048.4270106889135, -0.002698998905868297, 0.0511869470198136]\n",
      "['Dataset/Bollywood_Rap\\\\Big Dhillon - Stand Up - Spoken Word.mp3', 1.6235698, 0.5281873, 0.45379704, 0.2453199243015523, 7.9492807, 2.7138634, 3783.8433186467087, 3617.8789358412346, 19.407229291139384, 7719.994357794065, 0.024031577486570557, 0.08241336164677929]\n",
      "['Dataset/Bollywood_Rap\\\\Bohemia - Aja Ni Aja.mp3', 1.5563332, 0.66042507, 0.58109826, 0.26040349121729695, 20.248835, 6.569024, 4450.728078584311, 4227.477379502734, 18.30859617027144, 9385.905514843791, 0.00593627416057231, 0.08178973904466534]\n",
      "['Dataset/Bollywood_Rap\\\\Bohemia - Beparwah.mp3', 1.3871236, 0.48357445, 0.528643, 0.2562128572926324, 4.8678603, 0.95110625, 3826.1471383885973, 3882.3309069781594, 20.185456039924933, 8436.444078508908, 0.027334580169749517, 0.08275637162882658]\n",
      "['Dataset/Bollywood_Rap\\\\Bohemia - Bijlee.mp3', 1.4072455, 0.5761957, 0.45388684, 0.2337446913697034, 2.467631, -1.0648996, 2294.1409864531083, 2695.1759528993093, 18.84961727191648, 5074.2019288277515, -0.00018419211685628307, 0.044313759585398155]\n",
      "['Dataset/Bollywood_Rap\\\\Bohemia - Bumpin My Song.mp3', 1.6796205, 0.599146, 0.5161442, 0.25116960611966904, 10.1661825, 4.617091, 2897.346023028692, 3267.1431698732895, 19.52834058741757, 6325.086745013252, -0.0061112094851003005, 0.04968290665539127]\n",
      "['Dataset/Bollywood_Rap\\\\Bohemia - Cadillac.mp3', 1.5273114, 0.50114226, 0.45947114, 0.2456812635050131, 14.371103, 2.136595, 3204.3822015205287, 3716.6154874789218, 19.89103923155616, 7096.911804899866, 0.010668697380522608, 0.06492400836418526]\n",
      "['Dataset/Bollywood_Rap\\\\Bohemia - Charso Bees (420).mp3', 1.442863, 0.5157782, 0.42060822, 0.2445801127141585, 13.127324, 4.2265415, 3153.5648224663905, 3216.8195962525947, 20.25594297978461, 6565.374401480706, -0.027880096761185, 0.07214218432508147]\n",
      "['Dataset/Bollywood_Rap\\\\Bohemia - Dada.mp3', 1.381714, 0.50538826, 0.43172535, 0.23838957841466918, 11.051217, -0.14221965, 3283.6257679539112, 3555.582844710108, 19.767775772131273, 7032.942715002817, -0.029085674020538948, 0.06556266867124673]\n",
      "['Dataset/Bollywood_Rap\\\\Bohemia - Desi Munde.mp3', 1.6020398, 0.50192493, 0.4283437, 0.23150307419059948, 12.233878, 2.8030035, 3660.3874104510514, 3569.363025805124, 19.78511237803171, 7591.917431842421, -0.010286595495477462, 0.0878177831497467]\n",
      "['Dataset/Bollywood_Rap\\\\Bohemia - Desi Put Javaan.mp3', 1.5315266, 0.6128224, 0.41616893, 0.24115447252472613, 20.268963, 4.4266896, 2064.5616868782754, 3027.724359503407, 18.905720348115732, 4728.759695489802, -0.016457604575735734, 0.02543417895809394]\n",
      "['Dataset/Bollywood_Rap\\\\Bohemia - Dil Acapella.mp3', 1.4489949, 0.5926583, 0.52669585, 0.2639614783043946, 16.191, 4.5149655, 2268.7769052843887, 3114.8634245716007, 20.43932772506101, 5388.026598261149, 0.0172595843316418, 0.041513791474006495]\n",
      "['Dataset/Bollywood_Rap\\\\Bohemia - Dil.mp3', 1.448937, 0.5885657, 0.52664, 0.26395475999519413, 16.190384, 4.514875, 2268.738881632961, 3114.807975707226, 20.443232370086257, 5387.643323544114, 0.017260706525584212, 0.041525646769111295]\n",
      "['Dataset/Bollywood_Rap\\\\Bohemia - Diwana.mp3', 1.4439342, 0.58093673, 0.45057955, 0.23339694746123288, 7.804911, 3.2089305, 2480.6078804379677, 2862.7075253550415, 20.069284040167155, 5674.504670534384, -0.00043177908951816716, 0.04744486937029842]\n",
      "['Dataset/Bollywood_Rap\\\\Bohemia - Eitbaar (Trust Me).mp3', 1.608823, 0.64066887, 0.4073355, 0.2314436911529134, 18.887955, 5.842376, 2677.8115995105263, 3344.856111145256, 19.995107145028214, 5964.5346777175255, 0.027431122711807965, 0.04204877853863692]\n",
      "['Dataset/Bollywood_Rap\\\\Bohemia - Ek Tera Pyar (Love Groove Mix).mp3', 1.4365067, 0.49718854, 0.3997587, 0.2354621848596854, 10.411285, 1.4407347, 2723.960088732663, 2663.534384592839, 20.595952379717993, 5182.751881978121, -0.020571509758932932, 0.06825098430862561]\n",
      "['Dataset/Bollywood_Rap\\\\Bohemia - Ek Tera Pyar.mp3', 1.4539131, 0.52872556, 0.47686642, 0.260862270861501, 8.709035, 4.2332635, 2516.2782461868187, 2529.760530521095, 20.39080484655125, 5132.777558772936, -0.015239124235016617, 0.06067019587992164]\n",
      "['Dataset/Bollywood_Rap\\\\Bohemia - Faqeer.mp3', 1.460205, 0.59469515, 0.32447022, 0.21209016057125546, 17.200571, 5.5047874, 1678.8755146617173, 2312.187284750113, 19.741231516549618, 3541.9787781827426, -0.017021432678289258, 0.027167773404390576]\n",
      "['Dataset/Bollywood_Rap\\\\Bohemia - Gol Gol.mp3', 1.572384, 0.5646862, 0.47019956, 0.2402278654750433, 19.602354, 3.1712976, 2677.8668832842964, 3384.1279384540817, 19.400367355268465, 6000.472978698441, 0.01726242603311505, 0.0396274977023257]\n",
      "['Dataset/Bollywood_Rap\\\\Bohemia - Guess Whos Back Album Introduction.mp3', 1.2483479, 0.39956543, 0.49964616, 0.2277559324610259, 6.336927, -2.998036, 2974.0488315755, 2869.94682346702, 18.376630891082087, 6032.493205960155, 0.008033924789362849, 0.07638620693663718]\n",
      "['Dataset/Bollywood_Rap\\\\Bohemia - Gunagaar (Sinner).mp3', 1.5483638, 0.50965965, 0.45735762, 0.25018132014718625, 13.808646, 2.891689, 3136.7965354910148, 3164.7987891542175, 19.427458512258706, 6362.1496883364725, -0.0221378603461249, 0.06445329442444483]\n",
      "['Dataset/Bollywood_Rap\\\\Bohemia - Ishq.mp3', 1.6401423, 0.608935, 0.49647298, 0.25455012115799663, 16.054451, 6.481269, 2342.750666175216, 2950.7157945038857, 19.381483617230483, 5080.651517624021, -0.002126770560260765, 0.03734642726011749]\n",
      "['Dataset/Bollywood_Rap\\\\Bohemia - Koi Ni.mp3', 1.5635475, 0.5586041, 0.44328067, 0.24027989700386865, 19.147425, 2.9306417, 4147.511347513813, 3925.2343633039236, 19.138890154317647, 8591.334049170617, 0.007340787158649584, 0.09442090460851106]\n",
      "['Dataset/Bollywood_Rap\\\\Bohemia - Lak Da Hulara.mp3', 1.6074313, 0.5311803, 0.47750813, 0.2531110185653159, 19.668024, 3.9512506, 2617.3108009300736, 3328.463056100072, 18.656562906038808, 5494.86343503937, -0.005645422416334686, 0.041373798214081936]\n",
      "['Dataset/Bollywood_Rap\\\\Bohemia - Lela.mp3', 1.5513034, 0.5705526, 0.45016262, 0.23631522373604988, 19.31616, 5.2446623, 3490.517932364049, 3930.2486944590455, 19.53236622512729, 7938.935749197549, 0.00242427617874635, 0.06429209334877443]\n",
      "['Dataset/Bollywood_Rap\\\\Bohemia - Meri Jeet.mp3', 1.4136748, 0.43501937, 0.3761748, 0.21680727335043617, 12.200058, 2.0833752, 2967.975134826043, 3599.4970330869864, 19.984121955111686, 6401.313631939743, -0.02692252737736412, 0.05515259863479604]\n",
      "['Dataset/Bollywood_Rap\\\\Bohemia - Na Suno.mp3', 1.3586752, 0.60918844, 0.37317973, 0.21669005764045285, 7.90008, 1.4138157, 2450.0232550230876, 3209.6599414460843, 19.31184577653612, 5575.766884609391, 0.04446365105397257, 0.034484520885817056]\n",
      "['Dataset/Bollywood_Rap\\\\Bohemia - Nazere Mili.mp3', 1.2526782, 0.568522, 0.3703729, 0.20524048910646944, 21.345125, 4.897957, 1808.845252308169, 2531.957145330718, 19.261308745909744, 3878.81762295082, 0.01761746527886948, 0.026094134221311474]\n",
      "['Dataset/Bollywood_Rap\\\\Bohemia - Photo.mp3', 1.621433, 0.49730802, 0.3600226, 0.21410711873419871, 21.554169, 3.821027, 2575.057299511581, 3289.071550083097, 19.747768454678294, 5662.193749555192, -0.0014685181078756282, 0.03640835032871326]\n",
      "['Dataset/Bollywood_Rap\\\\Bohemia - Punjabi Rap Star (Extended Mix).mp3', 1.5735457, 0.59190315, 0.4639601, 0.2458960534694589, 17.512075, 4.4278607, 2185.8077743824956, 2918.524946104439, 20.875464513861267, 4727.649924740553, -0.029993087669429333, 0.038543814799869285]\n",
      "['Dataset/Bollywood_Rap\\\\Bohemia - Punjabi Rap Star.mp3', 1.5959626, 0.5967524, 0.4809181, 0.25180662491884287, 16.466536, 5.218431, 2108.381065152418, 2848.0385096169207, 20.251454582955862, 4672.946322856682, -0.026588874055059757, 0.03570300096536785]\n",
      "['Dataset/Bollywood_Rap\\\\Bohemia - Sahara Lab De.mp3', 1.3850473, 0.49560615, 0.47959465, 0.25156854531345846, 15.399134, 5.042222, 2270.357689556085, 2765.711145421691, 20.29896340910114, 4640.338650451422, -0.019831401967140533, 0.04315899172674392]\n",
      "['Dataset/Bollywood_Rap\\\\Bohemia - Tittli.mp3', 1.3850452, 0.48437405, 0.4023479, 0.22836714168725095, 7.8363376, -1.5061474, 3088.993713332292, 3337.796950173891, 19.91061075813374, 6966.473735196795, -0.04890424085722711, 0.06260295120747707]\n",
      "['Dataset/Bollywood_Rap\\\\Bohemia - Zamana Jali.mp3', 1.5095642, 0.5489419, 0.34917372, 0.21950503763513973, 12.050412, 5.2623215, 2471.9160096199807, 3026.3379209772456, 19.46812590033108, 5429.402131516153, -0.008321440826666434, 0.042787018793211576]\n",
      "['Dataset/Bollywood_Rap\\\\DIVINE - Farak.mp3', 1.4724694, 0.44877404, 0.42529947, 0.2310529000181962, 3.2259996, -2.2304235, 3237.872591684437, 3561.248866393903, 20.161804805329805, 6926.626567057438, -0.025762495186482076, 0.06362936265109659]\n",
      "['Dataset/Bollywood_Rap\\\\DIVINE - Jungli Sher.mp3', 1.4758534, 0.5544718, 0.47859338, 0.25293686117784636, 12.472202, 3.8980446, 3091.048303448042, 3645.8980592054254, 19.045366579937134, 6761.057677190114, 0.005693327491691923, 0.058538169277875605]\n",
      "['Dataset/Bollywood_Rap\\\\DIVINE - Junoon.mp3', 1.2127465, 0.3881096, 0.24036086, 0.15889950453526638, 4.8512354, -6.306931, 2075.408863168897, 2773.7637636998043, 19.86947321052381, 4500.005276339487, 0.09786174161092434, 0.03442635637100405]\n",
      "['Dataset/Bollywood_Rap\\\\DIVINE - Kaam 25 - Sacred Games.mp3', 1.4796736, 0.47301355, 0.45246997, 0.23151080275405872, 15.370782, -0.55805856, 2850.250876149451, 2925.883093727026, 19.664774986740973, 5923.619633700207, 0.027773527070036386, 0.07023930819484397]\n",
      "['Dataset/Bollywood_Rap\\\\DIVINE - Mere Gully Mein (feat Naezy).mp3', 1.581182, 0.62440753, 0.3298645, 0.22379703313062058, 26.302713, 3.2545798, 2902.122711971144, 3482.72724718554, 19.36030833007291, 6120.6327777935985, 0.05011471138953843, 0.04198857224982914]\n",
      "['Dataset/Bollywood_Rap\\\\DIVINE - One Side.mp3', 1.5291468, 0.44442478, 0.46374837, 0.24450741718292993, 5.1756444, -1.5629803, 3025.0038430186337, 3245.573396204839, 20.47253109698284, 6360.4515197926485, -0.014626415761600283, 0.061330518084354385]\n",
      "['Dataset/Bollywood_Rap\\\\DIVINE - Paintra.mp3', 1.4999846, 0.45765135, 0.48660824, 0.24580598136392692, 0.41667753, -8.008303, 4776.9399840155, 4081.0972813714234, 18.704568368047383, 9573.767482186173, -0.0037006775731342955, 0.1206273436907785]\n",
      "['Dataset/Bollywood_Rap\\\\DIVINE - Roots (feat Raja Kumari).mp3', 1.6420958, 0.63343596, 0.3872935, 0.2341787790624678, 23.208124, 6.13357, 2524.0979087347996, 3236.7439626435525, 18.565590378118024, 5483.53663989334, 0.050151509070634606, 0.034986228029884235]\n",
      "['Dataset/Bollywood_Rap\\\\DIVINE - Teesri Manzil.mp3', 1.4782995, 0.46059725, 0.51463467, 0.2578301506713466, 15.605751, 3.9276106, 2516.788685865073, 3096.941812680228, 19.173690867339616, 5440.534781320694, 0.02104666010881292, 0.04712561036471238]\n",
      "['Dataset/Bollywood_Rap\\\\Emiway Bantai - Emiway (Out of Sampark).mp3', 1.5233008, 0.5238472, 0.4226354, 0.23151775317410275, 5.2507377, 0.5032932, 4368.68263238921, 4103.74485382705, 21.773543855578254, 9270.988643163459, 0.0127552627046779, 0.08698693702783734]\n",
      "['Dataset/Bollywood_Rap\\\\Emiway Bantai - Emiway-Samajh Mein Aaya Kya.mp3', 1.6606004, 0.38065717, 0.46076173, 0.23549937483136174, 2.1640284, -4.2853556, 3808.081746924416, 4121.593084795591, 20.844206080226474, 8349.38532317671, 0.03125224299728867, 0.06812317046440154]\n",
      "['Dataset/Bollywood_Rap\\\\Emiway Bantai - Kadak Ban.mp3', 1.5804182, 0.45205763, 0.46541828, 0.2461497345259584, 4.60107, -2.8116415, 4069.6609953673997, 3762.6104481094353, 20.537195097573274, 8232.557760320036, -0.009699038142930676, 0.0957462402796701]\n",
      "['Dataset/Bollywood_Rap\\\\Fateh - Fame.mp3', 1.4160984, 0.44816923, 0.28241578, 0.19827459600066868, 16.148912, 4.636024, 2107.3197254060005, 2470.7952555465627, 21.029978627231486, 4269.23411208455, 0.040882933072635914, 0.043000052691732724]\n",
      "['Dataset/Bollywood_Rap\\\\Garry Sandhu - Banda Ban Ja.mp3', 1.2963432, 0.45457828, 0.41952196, 0.23574220057046763, 9.804379, 0.8873652, 3362.8861319577572, 3649.925076034389, 20.40724543480743, 7254.152831818972, -0.0245637714453982, 0.05519032227496522]\n",
      "['Dataset/Bollywood_Rap\\\\Garry Sandhu - Din Gaye - Acoustic Version.mp3', 1.2192295, 0.3951278, 0.43530363, 0.23716643585876293, 8.852808, 3.4533935, 2698.404100878801, 3541.961842434267, 20.754127649738308, 6058.425985302783, -0.036067162985781616, 0.043708238235077475]\n",
      "['Dataset/Bollywood_Rap\\\\Garry Sandhu - Din Gaye.mp3', 1.2718502, 0.41105822, 0.432656, 0.23843150058772022, 13.4579935, 4.192118, 2783.0188053575316, 3330.6430314328, 20.97270739557462, 6094.793022314627, -0.026351776034748947, 0.046650233154916836]\n",
      "['Dataset/Bollywood_Rap\\\\Garry Sandhu - Do Botalaan.mp3', 1.6553077, 0.4432271, 0.55626094, 0.25938928291831, 14.23114, 3.1651392, 2722.0834951487686, 3052.9772982459963, 19.43505485448322, 5577.264883364204, -0.022564685675267548, 0.05305171824351702]\n",
      "['Dataset/Bollywood_Rap\\\\Garry Sandhu - Driver.mp3', 1.6976945, 0.43310863, 0.5778178, 0.2679584570519949, 14.511231, 3.5212955, 3443.41407360593, 3640.202901658954, 19.92094376256799, 7191.510204081633, 0.010960988847819727, 0.06902808779761904]\n",
      "['Dataset/Bollywood_Rap\\\\Garry Sandhu - Ego.mp3', 1.4536873, 0.37175116, 0.49883303, 0.25104008455567745, 12.5692835, -0.9888015, 3011.879239270096, 3047.3554977261024, 20.317624220989103, 6139.066293118049, 0.007185765593944461, 0.06880922887674307]\n",
      "['Dataset/Bollywood_Rap\\\\Garry Sandhu - Gidde Vich.mp3', 1.5644165, 0.42761013, 0.47579655, 0.2520994882734619, 5.698899, -0.11263597, 3250.6558914720727, 3515.9347314768556, 20.816252280883862, 7064.930998834369, -0.013576109951872398, 0.06171161116334092]\n",
      "['Dataset/Bollywood_Rap\\\\Garry Sandhu - Illegal Daru.mp3', 1.5532678, 0.48080778, 0.5483106, 0.2581849727937829, 10.328556, 1.660992, 3618.8241226455757, 3531.3368949663372, 20.08546475635186, 7506.514023545707, -0.012693391692217254, 0.07599252293975069]\n",
      "['Dataset/Bollywood_Rap\\\\Garry Sandhu - Illegal Weapon.mp3', 1.6243659, 0.38216335, 0.42712182, 0.24019550394726175, 12.136304, -3.0216696, 2981.077151781236, 3207.4305475300403, 21.908578418719813, 6345.916883124447, -0.01895842236541893, 0.05275082318262824]\n",
      "['Dataset/Bollywood_Rap\\\\Gurinder Seagal - Mummy Kasam.mp3', 1.42803, 0.45571974, 0.49996668, 0.2527176325163725, 9.416902, 4.0069323, 3247.7632777066456, 3645.033886353334, 19.54731227773572, 7356.38003768021, 0.0024122427338371328, 0.06309311293055783]\n",
      "['Dataset/Bollywood_Rap\\\\Guru Randhawa - Daaru Wargi (From Cheat India).mp3', 1.5640509, 0.48316178, 0.55425656, 0.257786063553307, 15.117384, 3.8413935, 2671.8492356457855, 3219.083205129119, 19.615791283293287, 5896.592707999359, -0.012311849116968372, 0.04697187871546703]\n",
      "['Dataset/Bollywood_Rap\\\\Guru Randhawa - High Rated Gabru (From Nawabzaade).mp3', 1.5098704, 0.4006136, 0.48158446, 0.25002177210967497, 20.952692, 4.4080615, 2830.6398182905186, 3128.7511642423215, 19.587859822870954, 6165.430489764145, 0.01222480916147722, 0.055568437789850274]\n",
      "['Dataset/Bollywood_Rap\\\\Guru Randhawa - High Rated Gabru.mp3', 1.5181127, 0.36407438, 0.47400805, 0.24312205811126272, 14.154937, 0.39565906, 2840.5850701842255, 3161.876759591556, 20.75475013087673, 6052.087290451448, 0.023215683640347266, 0.05510259052099162]\n",
      "['Dataset/Bollywood_Rap\\\\Guru Randhawa - Lahore - Remix(Remix By Dj Shadow Dubai).mp3', 1.5132276, 0.49613118, 0.4889368, 0.25094644589599857, 15.339475, 1.7704265, 3588.34363685809, 3646.4765643749956, 19.18458198472245, 7576.463374951793, -0.008432101037790182, 0.07915226428425087]\n",
      "['Dataset/Bollywood_Rap\\\\Guru Randhawa - Made In India.mp3', 1.5808607, 0.48025706, 0.41439402, 0.2438129243504774, 6.011136, 1.9974248, 2874.8211221277716, 3048.506899527444, 20.266303458880493, 6218.808690254109, 0.008680945142880982, 0.061102684507978726]\n",
      "['Dataset/Bollywood_Rap\\\\Guru Randhawa - Patola (From Blackmail).mp3', 1.4791971, 0.38938814, 0.504138, 0.26067178679659975, 18.551659, 2.5932643, 3115.1329901224235, 3428.280527790135, 19.415823834811714, 6744.702197447663, -0.017536904825307235, 0.06322977532621164]\n",
      "['Dataset/Bollywood_Rap\\\\Harrdy Sandhu - Kya Baat Ay.mp3', 1.4980499, 0.42273587, 0.41855547, 0.2344173222469524, 3.5976696, -1.9050105, 2390.754420067592, 2964.042573650337, 21.46283620794524, 5311.188040708699, -0.011145581406698168, 0.043175103512384454]\n",
      "['Dataset/Bollywood_Rap\\\\Harrdy Sandhu - Naah.mp3', 1.4143382, 0.38566062, 0.427535, 0.23829906856913702, 11.443014, 1.2820642, 3099.128523731067, 3356.905438440583, 20.354212736448154, 6710.834515267812, 0.00759136736697306, 0.06699344221904723]\n",
      "['Dataset/Bollywood_Rap\\\\Imran Khan - Knightridah.mp3', 1.5702921, 0.39604643, 0.3357911, 0.22506462049680373, 14.026635, -2.7527082, 3413.077719550628, 3483.520095444034, 21.7303337276804, 7091.326649609861, 0.08098294943791946, 0.06518516035812225]\n",
      "['Dataset/Bollywood_Rap\\\\Mamta Sharma - Rajj Rajj Ankhiyan Roiyan.mp3', 1.38959, 0.394137, 0.33345512, 0.2058538103763957, 15.444754, 0.8557184, 2743.424160650356, 3513.3548885371556, 22.09310560303238, 5901.849618678728, 0.018721812635011888, 0.04185338339929269]\n",
      "['Dataset/Bollywood_Rap\\\\Mika Singh - Lagi Hawa Dil Ko.mp3', 1.3084645, 0.36905488, 0.43528312, 0.2279262996389675, 11.392432, -0.30342695, 2882.291234228888, 3423.5333511777026, 20.96091790536156, 6583.317944472746, -0.027758702868167978, 0.054385311199906604]\n",
      "['Dataset/Bollywood_Rap\\\\Nindy Kaur - BBM.mp3', 1.493565, 0.5288159, 0.5654801, 0.2612570591187698, 9.9743595, 3.1861215, 3850.5542840700277, 3920.839253997369, 19.227683861226083, 8324.536868720254, -0.012316534712185736, 0.08201358391035386]\n",
      "['Dataset/Bollywood_Rap\\\\Raftaar - All Black.mp3', 1.4809247, 0.48369563, 0.38238776, 0.22474305852058674, 14.07928, 0.22802114, 2630.8752949570826, 3239.449196094384, 20.760262873710953, 5829.235028000185, -0.024798150277894105, 0.041952414509765355]\n",
      "['Dataset/Bollywood_Rap\\\\Raftaar - Swag Mera Desi.mp3', 1.6153562, 0.51872593, 0.47436956, 0.23408741794833127, 8.128425, 2.5783668, 3584.302450915669, 3520.117541535294, 20.364471508594445, 7602.055502374433, -0.006914411528652889, 0.07245687231940404]\n",
      "['Dataset/Bollywood_Rap\\\\Raftaar - Toh Dishoom.mp3', 1.5047494, 0.49096373, 0.4182166, 0.23372454484140567, 13.600153, 3.8012717, 3027.675697975064, 3695.29117942483, 19.837653647091287, 6575.44688478431, -0.0030807021857671133, 0.0502774471986976]\n",
      "['Dataset/Bollywood_Rap\\\\RDB - We Doin It BIG.mp3', 1.298136, 0.40585488, 0.41883403, 0.21903048242440956, 10.880657, -3.26126, 3084.544691126653, 3038.2912472135963, 18.24566245525035, 6227.647371185822, -0.01913225424942265, 0.07078579289809063]\n",
      "['Dataset/Bollywood_Rap\\\\Roach Killer - Desi Hip Hop-Spoken Word.mp3', 1.6866539, 0.50510275, 0.4743769, 0.25250850677130665, 2.1966486, -2.0000162, 3685.3413141725314, 3731.5971028497343, 19.896335154085047, 7499.27770044114, 0.0322625499108779, 0.07174658516434786]\n",
      "['Dataset/Bollywood_Rap\\\\Sidhu Moose Wala - Badfella.mp3', 1.4450115, 0.4116544, 0.51687914, 0.2546876670228315, 14.068326, 2.0085511, 2698.2652942655577, 2766.4060622079514, 19.430564890451038, 5572.684271879483, -0.00198791579619942, 0.05982834730691057]\n",
      "['Dataset/Bollywood_Rap\\\\Sidhu Moose Wala - Boss.mp3', 1.4986463, 0.45402774, 0.35837466, 0.21759004340657573, 12.034107, 1.169603, 2928.12232435003, 3308.477749829109, 20.30421554302952, 6136.844588926175, -0.06586575015433911, 0.054315363054040826]\n",
      "['Dataset/Bollywood_Rap\\\\Sidhu Moose Wala - Dawood.mp3', 1.4971737, 0.3876715, 0.4596851, 0.24506833042800363, 15.406655, 3.5406125, 2827.1506648834165, 2905.36087329956, 19.69256701128365, 5863.079887701451, -0.006560670538414151, 0.06452107361377014]\n",
      "['Dataset/Bollywood_Rap\\\\Sidhu Moose Wala - Death Route.mp3', 1.4842595, 0.46152157, 0.43882042, 0.23462575364162352, 9.1004505, -0.6796545, 2938.7491850521883, 3072.9969479348315, 21.048054677767563, 6109.635171077449, 0.03627591257891755, 0.06354903050586468]\n",
      "['Dataset/Bollywood_Rap\\\\Sidhu Moose Wala - Devil - Skit.mp3', 1.4143168, 0.4251971, 0.49404985, 0.2429849222082803, 11.153507, 0.7045075, 2372.9579074916064, 2676.3325261946866, 20.13033325160882, 4847.768701851602, -0.015018728406583054, 0.049365152983792855]\n",
      "['Dataset/Bollywood_Rap\\\\Sidhu Moose Wala - Devil.mp3', 1.4143168, 0.4251971, 0.49404985, 0.2429849222082803, 11.153507, 0.7045075, 2372.9579074916064, 2676.3325261946866, 20.13033325160882, 4847.768701851602, -0.015018728406583054, 0.049365152983792855]\n",
      "['Dataset/Bollywood_Rap\\\\Sidhu Moose Wala - Dollar - Remix.mp3', 1.4113044, 0.35095167, 0.42001987, 0.24383231651280074, 12.095275, -1.1648587, 3210.31000938206, 3296.9084195601513, 20.56187168188773, 6757.866840022973, 0.02647704589418316, 0.0664877911927286]\n",
      "['Dataset/Bollywood_Rap\\\\Sidhu Moose Wala - Im Better Now - Skit.mp3', 1.3278825, 0.39746356, 0.3758879, 0.21910092341137574, 17.495699, 1.6174583, 2304.5942641833885, 2937.1543898215996, 20.603194960449155, 4938.28380389944, -0.04077112919769908, 0.04231146293440613]\n",
      "['Dataset/Bollywood_Rap\\\\Sidhu Moose Wala - Im Better Now.mp3', 1.4139568, 0.4087978, 0.3805557, 0.22310306061034782, 20.932438, 2.5293093, 2174.1132216847227, 2721.811525389144, 20.46760424504932, 4602.79224537037, -0.04234955677911794, 0.04265542045271328]\n",
      "['Dataset/Bollywood_Rap\\\\Sidhu Moose Wala - Intro.mp3', 1.5448513, 0.42649487, 0.47577405, 0.251068846822019, 8.437733, 1.1262391, 2642.8378582114897, 2942.3314126773557, 20.406025638609435, 5502.686562219686, 0.0013126785502577823, 0.0559899085090822]\n",
      "['Dataset/Bollywood_Rap\\\\Sidhu Moose Wala - Issa Jatt.mp3', 1.558513, 0.48584956, 0.44509053, 0.24104497529625898, 9.184061, -1.416378, 3011.6641711991733, 3290.893264827443, 19.7986846670136, 6208.509907145464, -0.011821042152369603, 0.06269566006285363]\n",
      "['Dataset/Bollywood_Rap\\\\Sidhu Moose Wala - Jaat Da Muqabala.mp3', 1.5361516, 0.44966137, 0.49873087, 0.2558280919444623, 7.108549, 0.02870671, 3066.096675675928, 3235.825338792874, 20.646592053925858, 6556.99508907269, 0.022771898176717178, 0.07110077611374]\n",
      "['Dataset/Bollywood_Rap\\\\Sidhu Moose Wala - Kala Chashma - Skit.mp3', 1.6033971, 0.4102867, 0.5392275, 0.2710671472070893, 3.8428493, -18.502552, 2233.5168895212423, 1985.269366274173, 18.97405004062348, 3823.8380561440677, 0.006843740374013075, 0.06227199748411017]\n",
      "['Dataset/Bollywood_Rap\\\\Sidhu Moose Wala - Outlaw.mp3', 1.3664525, 0.4016508, 0.33913016, 0.21001206600192712, 18.045347, 3.363143, 2198.40909244314, 2806.4285685617047, 20.943033386324547, 4828.370837545811, -0.08564923192577764, 0.039693353451203714]\n",
      "['Dataset/Bollywood_Rap\\\\Sidhu Moose Wala - Outro.mp3', 1.6226074, 0.42181543, 0.54827935, 0.27177711455903575, 3.7934763, -18.36014, 2055.3465036856724, 1925.6858464381644, 18.889757665942497, 3455.3045648179086, 0.0011013060634068365, 0.056647313784246575]\n",
      "['Dataset/Bollywood_Rap\\\\Sidhu Moose Wala - Selfmade.mp3', 1.4828244, 0.40649983, 0.42047608, 0.23352207631682073, 13.620809, 1.521873, 2093.1421460871506, 2611.7366283553865, 20.815854838618343, 4248.3551168376725, 0.055813492921557926, 0.03859970285533183]\n",
      "['Dataset/Bollywood_Rap\\\\Sidhu Moose Wala - So High.mp3', 1.536089, 0.42852855, 0.5475674, 0.26364140133394215, 10.556958, -0.88081396, 2403.9831724783785, 2765.761931792268, 20.54084125914469, 5056.2789485538715, -0.017684630346017142, 0.04694915359770606]\n",
      "['Dataset/Bollywood_Rap\\\\Sidhu-Moose-Wala - Tochan.mp3', 1.5057273, 0.40408725, 0.4869185, 0.25088318282582855, 10.395299, 0.15910837, 3078.4236403410314, 3426.825088847882, 20.62688175319809, 6341.276029135791, 0.04144159894595937, 0.05963168246559523]\n",
      "['Dataset/Bollywood_Rap\\\\Sidhu-Moose-Wala - Trend.mp3', 1.6725805, 0.45301738, 0.48144698, 0.24895615774823768, 12.869621, 1.1060264, 3526.4933303199186, 3452.66482801893, 20.74425642673692, 7510.3395562770565, 0.031170301372111308, 0.07607760078463204]\n",
      "['Dataset/Bollywood_Rap\\\\Wizard - Drop-Low.mp3', 1.5121852, 0.5086447, 0.5437966, 0.25494289819598226, 10.95971, 4.34813, 3020.5725223933473, 3746.72826791687, 18.637426453686146, 6649.506326687117, 0.011201256983971073, 0.05061142498242587]\n",
      "['Dataset/Bollywood_Rap\\\\Zack-Knight - Bom-Diggy.mp3', 1.5115098, 0.45942947, 0.51593417, 0.2542633743737658, 13.147597, 3.6812785, 3687.145114335901, 3906.015947489246, 20.396525850890797, 8120.117788461538, 0.012275719875455688, 0.07593777544070512]\n"
     ]
    }
   ],
   "source": [
    "#build the matrix with genre audios featurized\n",
    "song_features = []\n",
    "\n",
    "for file in bhajan_audio_files:\n",
    "  '''\n",
    "  y is the time series array of the audio file, a 1D np.ndarray\n",
    "  sr is the sampling rate, a number\n",
    "  '''  \n",
    "  y,sr = librosa.load(file,sr=None)   \n",
    "  feature_vector = get_feature_vector(y, sr)\n",
    "\n",
    "  song_features.append([file] + feature_vector)  \n",
    "  print([file] + feature_vector) "
   ]
  },
  {
   "cell_type": "code",
   "execution_count": 7,
   "metadata": {},
   "outputs": [
    {
     "name": "stdout",
     "output_type": "stream",
     "text": [
      "100\n"
     ]
    }
   ],
   "source": [
    "print(len(song_features))"
   ]
  },
  {
   "cell_type": "code",
   "execution_count": 8,
   "metadata": {},
   "outputs": [],
   "source": [
    "columns = [\"Song_Name\", \"onset_strength\", \"chroma_stft\", \"chroma_cqt\", \"chroma_cens\", \"melspectrogram\", \"mfcc\",\t\n",
    "           \"spectral_centroid\" ,\"spectral_bandwidth\", \"spectral_contrast\", \"spectral_rolloff\",\t\"tonnetz\", \"zero_crossing_rate\"]"
   ]
  },
  {
   "cell_type": "code",
   "execution_count": 9,
   "metadata": {},
   "outputs": [],
   "source": [
    "import pandas as pd\n",
    "df = pd.DataFrame(song_features, columns=columns)"
   ]
  },
  {
   "cell_type": "code",
   "execution_count": 10,
   "metadata": {},
   "outputs": [],
   "source": [
    "file_name = genre + '_featres.csv'\n",
    "df.to_csv(file_name)   "
   ]
  },
  {
   "cell_type": "code",
   "execution_count": null,
   "metadata": {},
   "outputs": [],
   "source": []
  }
 ],
 "metadata": {
  "kernelspec": {
   "display_name": "Python 3",
   "language": "python",
   "name": "python3"
  },
  "language_info": {
   "codemirror_mode": {
    "name": "ipython",
    "version": 3
   },
   "file_extension": ".py",
   "mimetype": "text/x-python",
   "name": "python",
   "nbconvert_exporter": "python",
   "pygments_lexer": "ipython3",
   "version": "3.8.8"
  }
 },
 "nbformat": 4,
 "nbformat_minor": 4
}
